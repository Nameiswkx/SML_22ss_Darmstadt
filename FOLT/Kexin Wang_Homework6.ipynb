{
 "cells": [
  {
   "cell_type": "code",
   "execution_count": 2,
   "metadata": {},
   "outputs": [],
   "source": [
    "import nltk\n",
    "from nltk.corpus import gutenberg\n",
    "from nltk import word_tokenize\n",
    "from nltk.util import ngrams\n",
    "import re"
   ]
  },
  {
   "cell_type": "code",
   "execution_count": 2,
   "metadata": {},
   "outputs": [],
   "source": [
    "path = nltk.data.find('corpora/gutenberg/austen-persuasion.txt')\n",
    "raw = open(path).read()"
   ]
  },
  {
   "cell_type": "code",
   "execution_count": 4,
   "metadata": {},
   "outputs": [
    {
     "name": "stdout",
     "output_type": "stream",
     "text": [
      "[('the', 'beginning', 'and'), ('the', 'blessing', 'of'), ('the', 'blessing', 'of'), ('the', 'neighbouring', 'market'), ('an', 'obliging', 'landlord'), ('a', 'throwing', 'away'), ('the', 'beginning', 'and'), ('the', 'morning', 'appointed'), ('the', 'arranging', 'of'), ('the', 'preceding', 'month'), ('the', 'intervening', 'time'), ('a', 'projecting', 'tooth'), ('a', 'degrading', 'match'), ('the', 'morning', 'is'), ('an', 'evening', 'asunder'), ('the', 'evening', 'from'), ('the', 'evening', 'of'), ('the', 'evening', 'by'), ('the', 'beginning', 'of'), ('the', 'making', 'of'), ('the', 'dancing', 'being'), ('the', 'existing', 'connection'), ('the', 'declining', 'year'), ('the', 'meaning', 'of'), ('a', 'gleaning', 'of'), ('an', 'adjoining', 'hedge'), ('a', 'thing', 'that'), ('a', 'withdrawing', 'on'), ('a', 'relenting', 'on'), ('the', 'morning', 'and'), ('the', 'resembling', 'scenes'), ('the', 'preceding', 'summer'), ('a', 'pleasing', 'face'), ('a', 'thing', 'of'), ('a', 'bewitching', 'charm'), ('an', 'increasing', 'acquaintance'), ('a', 'something', 'more'), ('the', 'sitting', 'down'), ('the', 'engaging', 'mildness'), ('the', 'evening', 'was'), ('the', 'flowing', 'of'), ('an', 'adjoining', 'apartment'), ('the', 'preceding', 'evening'), ('an', 'increasing', 'degree'), ('a', 'mortifying', 'reception'), ('the', 'governing', 'principle'), ('the', 'distressing', 'communication'), ('the', 'lingering', 'and'), ('the', 'prevailing', 'topic'), ('a', 'roaring', 'Christmas'), ('the', 'bawling', 'of'), ('a', 'sinking', 'heart'), ('the', 'footing', 'of'), ('a', 'liking', 'formerly'), ('the', 'spring', 'months'), ('a', 'liking', 'to'), ('a', 'charming', 'woman'), ('a', 'charming', 'woman'), ('the', 'meeting', 'had'), ('the', 'interesting', 'charm'), ('the', 'blessing', 'of'), ('a', 'passing', 'emotion'), ('the', 'evening', 'with'), ('an', 'evening', 'could'), ('the', 'remaining', 'restraints'), ('the', 'following', 'autumn'), ('the', 'beginning', 'of'), ('the', 'evening', 'we'), ('a', 'thing', 'into'), ('an', 'interesting', 'state'), ('the', 'meeting', 'took'), ('a', 'thing', 'here'), ('the', 'thing', 'is'), ('a', 'something', 'between'), ('the', 'evening', 'with'), ('a', 'foreboding', 'that'), ('a', 'whispering', 'between'), ('a', 'reading', 'man'), ('the', 'rejoicing', 'sound'), ('the', 'evening', 'were'), ('the', 'meaning', 'of'), ('the', 'meaning', 'as'), ('an', 'interesting', 'sound'), ('the', 'evening', 'than'), ('the', 'feeling', 'of'), ('a', 'penetrating', 'glance'), ('a', 'thing', 'of'), ('a', 'something', 'in'), ('the', 'overflowing', 'spirits'), ('a', 'footing', 'in'), ('an', 'amusing', 'idea'), ('the', 'beginning', 'of'), ('the', 'concluding', 'arrangements'), ('the', 'morning', 'in'), ('a', 'living', 'for'), ('a', 'blessing', 'to'), ('the', 'morning', 'in'), ('an', 'evening', 'party'), ('the', 'reigning', 'power'), ('the', 'rising', 'sun'), ('the', 'evening', 'parties'), ('the', 'remaining', 'dues'), ('the', 'following', 'morning'), ('the', 'evening', 'chiefly'), ('a', 'gnawing', 'solicitude'), ('the', 'morning', 'closed'), ('a', 'quivering', 'lip'), ('a', 'faltering', 'voice'), ('the', 'writing', 'table'), ('the', 'following', 'words'), ('a', 'something', 'of'), ('a', 'blessing', 'indeed'), ('the', 'retarding', 'weight'), ('the', 'astonishing', 'and'), ('the', 'morning', 'dissipated'), ('an', 'evening', 'shorter'), ('the', 'beginning', 'was')]\n"
     ]
    }
   ],
   "source": [
    "wordlist = nltk.corpus.gutenberg.words('austen-persuasion.txt')\n",
    "trigrams = []\n",
    "tokens = iter(wordlist)\n",
    "for w in tokens:\n",
    "    if re.search(r'\\ban\\b|\\bthe\\b|\\ba\\b',w):\n",
    "        b = next(tokens)\n",
    "        if re.search(r'ing$',b):\n",
    "            c = next(tokens)\n",
    "            if c.isalpha():\n",
    "                trigrams.append((w,b,c))\n",
    "print(trigrams)"
   ]
  },
  {
   "cell_type": "code",
   "execution_count": 8,
   "metadata": {},
   "outputs": [
    {
     "name": "stdout",
     "output_type": "stream",
     "text": [
      "[('the', 'beginning', 'and'), ('the', 'blessing', 'of'), ('the', 'blessing', 'of'), ('the', 'neighbouring', 'market'), ('an', 'obliging', 'landlord'), ('a', 'throwing', 'away'), ('the', 'beginning', 'and'), ('the', 'arranging', 'of'), ('the', 'preceding', 'month'), ('the', 'intervening', 'time'), ('a', 'projecting', 'tooth'), ('a', 'degrading', 'match'), ('the', 'beginning', 'of'), ('the', 'making', 'of'), ('the', 'dancing', 'being'), ('the', 'existing', 'connection'), ('the', 'declining', 'year'), ('the', 'meaning', 'of'), ('a', 'gleaning', 'of'), ('an', 'adjoining', 'hedge'), ('a', 'withdrawing', 'on'), ('a', 'relenting', 'on'), ('the', 'resembling', 'scenes'), ('the', 'preceding', 'summer'), ('a', 'pleasing', 'face'), ('a', 'bewitching', 'charm'), ('an', 'increasing', 'acquaintance'), ('the', 'sitting', 'down'), ('the', 'engaging', 'mildness'), ('the', 'flowing', 'of'), ('an', 'adjoining', 'apartment'), ('the', 'preceding', 'evening'), ('an', 'increasing', 'degree'), ('a', 'mortifying', 'reception'), ('the', 'governing', 'principle'), ('the', 'distressing', 'communication'), ('the', 'lingering', 'and'), ('the', 'prevailing', 'topic'), ('a', 'roaring', 'Christmas'), ('the', 'bawling', 'of'), ('a', 'sinking', 'heart'), ('the', 'footing', 'of'), ('a', 'liking', 'formerly'), ('the', 'spring', 'months'), ('a', 'liking', 'to'), ('a', 'charming', 'woman'), ('a', 'charming', 'woman'), ('the', 'meeting', 'had'), ('the', 'interesting', 'charm'), ('the', 'blessing', 'of'), ('a', 'passing', 'emotion'), ('the', 'remaining', 'restraints'), ('the', 'following', 'autumn'), ('the', 'beginning', 'of'), ('an', 'interesting', 'state'), ('the', 'meeting', 'took'), ('a', 'foreboding', 'that'), ('a', 'whispering', 'between'), ('a', 'reading', 'man'), ('the', 'rejoicing', 'sound'), ('the', 'meaning', 'of'), ('the', 'meaning', 'as'), ('an', 'interesting', 'sound'), ('the', 'feeling', 'of'), ('a', 'penetrating', 'glance'), ('the', 'overflowing', 'spirits'), ('a', 'footing', 'in'), ('an', 'amusing', 'idea'), ('the', 'beginning', 'of'), ('the', 'concluding', 'arrangements'), ('a', 'living', 'for'), ('a', 'blessing', 'to'), ('the', 'reigning', 'power'), ('the', 'rising', 'sun'), ('the', 'remaining', 'dues'), ('the', 'following', 'morning'), ('a', 'gnawing', 'solicitude'), ('a', 'quivering', 'lip'), ('a', 'faltering', 'voice'), ('the', 'writing', 'table'), ('the', 'following', 'words'), ('a', 'blessing', 'indeed'), ('the', 'retarding', 'weight'), ('the', 'astonishing', 'and'), ('the', 'beginning', 'was')]\n"
     ]
    }
   ],
   "source": [
    "\n",
    "wordlist = nltk.corpus.gutenberg.words('austen-persuasion.txt')\n",
    "trigrams = []\n",
    "tokens = iter(wordlist)\n",
    "for w in tokens:\n",
    "    if re.search(r'\\ban\\b|\\bthe\\b|\\ba\\b',w):\n",
    "        b = next(tokens)\n",
    "        if re.search(r'ing$',b):\n",
    "            if b not in ['morning','evening','something','thing']:\n",
    "                c = next(tokens)\n",
    "                if c.isalpha():\n",
    "                    trigrams.append((w,b,c))\n",
    "print(trigrams)"
   ]
  },
  {
   "cell_type": "markdown",
   "metadata": {},
   "source": [
    "I obseeved the above result. There are some noun words end with \"ing\", for example 'morning','evening','something','thing'.so i just add a condition to remove these noun words with \"ing\"."
   ]
  },
  {
   "cell_type": "markdown",
   "metadata": {},
   "source": [
    "## 6.2"
   ]
  },
  {
   "cell_type": "markdown",
   "metadata": {},
   "source": [
    "### a)"
   ]
  },
  {
   "cell_type": "code",
   "execution_count": 97,
   "metadata": {},
   "outputs": [
    {
     "name": "stdout",
     "output_type": "stream",
     "text": [
      "adventure: 4.0841684990890705\n",
      "belles_lettres: 10.987652885621749\n",
      "editorial: 9.471025332953673\n",
      "fiction: 4.9104735321302115\n",
      "government: 12.08430349501021\n",
      "hobbies: 8.922356393630267\n",
      "humor: 7.887805248319808\n",
      "learned: 11.926007043317348\n",
      "lore: 10.254756197101155\n",
      "mystery: 3.8335518942055167\n",
      "news: 10.176684595052684\n",
      "religion: 10.203109907301261\n",
      "reviews: 10.769699888473433\n",
      "romance: 4.34922419804213\n",
      "science_fiction: 4.978058336905399\n"
     ]
    }
   ],
   "source": [
    "from nltk.corpus import brown\n",
    "def ARI(text,category):\n",
    "    sent_num = len(text.sents(categories=category))\n",
    "    word_num = len(text.words(categories=category))\n",
    "    us=word_num / sent_num\n",
    "    \n",
    "    new_text = ''.join(text.words(categories=category))\n",
    "    letters_len = len(new_text)\n",
    "    uw = letters_len / word_num\n",
    "    \n",
    "    ari = (4.71 * uw ) + ( 0.5 * us ) - 21.43\n",
    "    return ari\n",
    "for category in brown.categories():\n",
    "    print(category + ': ' + str(ARI(brown, category)))"
   ]
  },
  {
   "cell_type": "markdown",
   "metadata": {},
   "source": [
    "As the above results shown, the easiest one to understand is mystery, and the most difficult one is government."
   ]
  },
  {
   "cell_type": "markdown",
   "metadata": {},
   "source": [
    "### b)"
   ]
  },
  {
   "cell_type": "code",
   "execution_count": 92,
   "metadata": {},
   "outputs": [
    {
     "name": "stderr",
     "output_type": "stream",
     "text": [
      "[nltk_data] Downloading package europarl_raw to\n",
      "[nltk_data]     C:\\Users\\xixi\\AppData\\Roaming\\nltk_data...\n",
      "[nltk_data]   Package europarl_raw is already up-to-date!\n"
     ]
    },
    {
     "data": {
      "text/plain": [
       "True"
      ]
     },
     "execution_count": 92,
     "metadata": {},
     "output_type": "execute_result"
    }
   ],
   "source": [
    "from nltk.corpus.europarl_raw import english\n",
    "nltk.download('europarl_raw')"
   ]
  },
  {
   "cell_type": "code",
   "execution_count": 104,
   "metadata": {},
   "outputs": [
    {
     "name": "stdout",
     "output_type": "stream",
     "text": [
      "The ARI of speeches is:  13.744030503190167\n",
      "The ARI of news is:  10.176684595052684\n"
     ]
    }
   ],
   "source": [
    "sent_num = len(english.sents())\n",
    "word_num = len(english.words())\n",
    "us=word_num / sent_num\n",
    "    \n",
    "new_text = ''.join(english.words())\n",
    "letters_len = len(new_text)\n",
    "uw = letters_len / word_num\n",
    "speeches_ari = (4.71 * uw ) + ( 0.5 * us ) - 21.43\n",
    "\n",
    "print(\"The ARI of speeches is: \" ,speeches_ari)\n",
    "print(\"The ARI of news is: \",ARI(brown, category='news'))"
   ]
  },
  {
   "cell_type": "markdown",
   "metadata": {},
   "source": [
    "As the above results shown, we can observe that speeches are not easier to understand than the news. "
   ]
  },
  {
   "cell_type": "markdown",
   "metadata": {},
   "source": [
    "## 6.3"
   ]
  },
  {
   "cell_type": "markdown",
   "metadata": {},
   "source": [
    "### a).\n",
    "I choose Brown Corpus for general converage and Chat Corpus for speical items used in SMS. The reasons are first the corpus should be big enough and the corpus should cover the words which are used frequently in SMS."
   ]
  },
  {
   "cell_type": "markdown",
   "metadata": {},
   "source": [
    "### b)"
   ]
  },
  {
   "cell_type": "code",
   "execution_count": 4,
   "metadata": {},
   "outputs": [],
   "source": [
    "charactertodigit = {\n",
    "    'a': '2','b':'2','c':'2',\n",
    "    'd':'3','e':'3','f':'3',\n",
    "    'g':'4','h':'4','i':'4',\n",
    "    'j':'5','k':'5','l':'5',\n",
    "    'm':'6','n':'6','o':'6',\n",
    "    'p':'7','q':'7','r':'7','s':'7',\n",
    "    't':'8','u':'8','v':'8',\n",
    "    'w':'9','x':'9','y':'9','z':'9'\n",
    "}"
   ]
  },
  {
   "cell_type": "markdown",
   "metadata": {},
   "source": [
    "### c)+d)"
   ]
  },
  {
   "cell_type": "code",
   "execution_count": 5,
   "metadata": {},
   "outputs": [
    {
     "name": "stdout",
     "output_type": "stream",
     "text": [
      "world\n",
      "breakfast\n",
      "sunshine\n",
      "learn\n",
      "None\n",
      "['good', 'morning', 'how', 'was', 'your', 'class']\n",
      "['are', 'you', 'find']\n"
     ]
    }
   ],
   "source": [
    "#I looked for several documents to find how T9 system work. \n",
    "#\\cite{Bird S, Klein E, Loper E. Natural language processing with Python: analyzing text with the natural language toolkit[M]. \" O'Reilly Media, Inc.\", 2009.}\n",
    "#\\cite{The lectures and exercises slides from FOLT}\n",
    "\n",
    "\n",
    "\n",
    "def get_digits(word):\n",
    "    digits = ''\n",
    "    for character in word:\n",
    "        if character in charactertodigit:\n",
    "            digits +=charactertodigit[character]\n",
    "        else:return \n",
    "    return digits\n",
    "\n",
    "\n",
    "def get_t9_word(digits,dic):\n",
    "    words = []\n",
    "    if digits in dic:\n",
    "        words = dic[digits]\n",
    "    else: \n",
    "        return\n",
    "    \n",
    "    max_fre = 0\n",
    "    max_fre_word = ''\n",
    "    for w in words:\n",
    "        if freq_dist[w]>max_fre:\n",
    "            max_fre = freq_dist[w]\n",
    "            max_fre_word = w\n",
    "    return max_fre_word\n",
    "\n",
    "\n",
    "freq_dist = nltk.FreqDist(w.lower() for w in nltk.corpus.brown.words())\n",
    "setword = set(freq_dist.keys())\n",
    "dic = nltk.defaultdict(list)\n",
    "for w in setword:\n",
    "    digits = get_digits(w)\n",
    "    dic[digits].append(w)\n",
    "\n",
    "print(get_t9_word('96753',dic))\n",
    "print(get_t9_word('273253278',dic))\n",
    "print(get_t9_word('78674463',dic))\n",
    "print(get_t9_word('53276',dic))\n",
    "print(get_t9_word('33333',dic))\n",
    "print([get_t9_word('4663',dic),get_t9_word('6676464',dic),get_t9_word('469',dic),get_t9_word('927',dic),get_t9_word('9687',dic),get_t9_word('25277',dic)])\n",
    "print([get_t9_word('273',dic),get_t9_word('968',dic),get_t9_word('3463',dic)])\n"
   ]
  },
  {
   "cell_type": "markdown",
   "metadata": {},
   "source": [
    "The '3465' is also can be represented as 'fine'. So it may be wrong with 'find'."
   ]
  }
 ],
 "metadata": {
  "kernelspec": {
   "display_name": "Python 3",
   "language": "python",
   "name": "python3"
  },
  "language_info": {
   "codemirror_mode": {
    "name": "ipython",
    "version": 3
   },
   "file_extension": ".py",
   "mimetype": "text/x-python",
   "name": "python",
   "nbconvert_exporter": "python",
   "pygments_lexer": "ipython3",
   "version": "3.8.3"
  }
 },
 "nbformat": 4,
 "nbformat_minor": 4
}
