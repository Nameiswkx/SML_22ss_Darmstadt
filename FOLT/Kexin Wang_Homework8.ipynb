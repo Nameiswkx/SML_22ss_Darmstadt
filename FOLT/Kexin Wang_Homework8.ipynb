{
 "cells": [
  {
   "cell_type": "markdown",
   "id": "d3952ff0",
   "metadata": {},
   "source": [
    "## 8.1"
   ]
  },
  {
   "cell_type": "code",
   "execution_count": 8,
   "id": "12b33be8",
   "metadata": {},
   "outputs": [],
   "source": [
    "from nltk.corpus import brown\n",
    "from nltk import UnigramTagger\n",
    "import nltk"
   ]
  },
  {
   "cell_type": "code",
   "execution_count": 90,
   "id": "552f5773",
   "metadata": {},
   "outputs": [],
   "source": [
    "def unigram_tagger(genre:str, tag:str) -> float:\n",
    "    tagged_sentences = brown.tagged_sents(categories=genre)\n",
    "    tagged_tokens=list(word[0] for sent in tagged_sentences for word in sent)\n",
    "    \n",
    "    m = int(len(tagged_sentences)*0.6)\n",
    "    n = int(len(tagged_sentences)*0.2)\n",
    "    \n",
    "    train_sentences = tagged_sentences[:m]\n",
    "    dev_sentences = tagged_sentences[m:n+m]\n",
    "    dev_token = tagged_tokens[m:n+m]\n",
    "    test_sentences = tagged_sentences[n+m:]\n",
    " \n",
    "    default_tagger=nltk.DefaultTagger(tag)\n",
    "    unigram_tagger=nltk.UnigramTagger(train_sentences,backoff=default_tagger)\n",
    "    accuracy = unigram_tagger.evaluate(dev_sentences)\n",
    "    return accuracy"
   ]
  },
  {
   "cell_type": "code",
   "execution_count": 91,
   "id": "d0b92417",
   "metadata": {},
   "outputs": [
    {
     "name": "stdout",
     "output_type": "stream",
     "text": [
      "0.81278748850046\n",
      "0.8340123537915626\n",
      "0.8020764883690367\n"
     ]
    }
   ],
   "source": [
    "print(unigram_tagger(\"adventure\", \"NNS\"))\n",
    "print(unigram_tagger(\"adventure\", \"NN\"))\n",
    "print(unigram_tagger(\"adventure\", \"VB\"))"
   ]
  },
  {
   "cell_type": "markdown",
   "id": "ce369f93",
   "metadata": {},
   "source": [
    "## 8.2"
   ]
  },
  {
   "cell_type": "code",
   "execution_count": 11,
   "id": "5a0d0c0d",
   "metadata": {},
   "outputs": [],
   "source": [
    "def unigram_tagger(genre:str, train_size:float) -> float:\n",
    "    tagged_sentences = brown.tagged_sents(categories=genre)\n",
    "    tagged_tokens=list(word[0] for sent in tagged_sentences for word in sent)\n",
    "    \n",
    "    m = int(len(tagged_sentences)*train_size)\n",
    "    n = int(len(tagged_sentences)*0.2)\n",
    "    \n",
    "    train_sentences = tagged_sentences[:m]\n",
    "    dev_sentences = tagged_sentences[m:1-n-m]\n",
    "    dev_token = tagged_tokens[m:1-n-m]\n",
    "    test_sentences = tagged_sentences[-n:]\n",
    " \n",
    "    default_tagger=nltk.DefaultTagger('NN')\n",
    "    unigram_tagger=nltk.UnigramTagger(train_sentences,backoff=default_tagger)\n",
    "    accuracy = unigram_tagger.evaluate(test_sentences)\n",
    "    return accuracy"
   ]
  },
  {
   "cell_type": "code",
   "execution_count": 12,
   "id": "d4968905",
   "metadata": {},
   "outputs": [
    {
     "name": "stdout",
     "output_type": "stream",
     "text": [
      "0.8064403464654931\n",
      "0.8172673931265717\n",
      "0.8246018440905281\n",
      "0.8413663034367141\n"
     ]
    }
   ],
   "source": [
    "print(unigram_tagger(\"adventure\", 0.4))\n",
    "print(unigram_tagger(\"adventure\", 0.5))\n",
    "print(unigram_tagger(\"adventure\", 0.6))\n",
    "print(unigram_tagger(\"adventure\", 0.8))"
   ]
  },
  {
   "cell_type": "markdown",
   "id": "2020a686",
   "metadata": {},
   "source": [
    "## 8.3\n"
   ]
  },
  {
   "cell_type": "code",
   "execution_count": 6,
   "id": "89176348",
   "metadata": {},
   "outputs": [],
   "source": [
    "def bigram_tagger(genre:str, train_size:float) -> float:\n",
    "    tagged_sentences = brown.tagged_sents(categories=genre)\n",
    "    tagged_tokens=list(word[0] for sent in tagged_sentences for word in sent)\n",
    "    \n",
    "    m = int(len(tagged_sentences)*train_size)\n",
    "    n = int(len(tagged_sentences)*0.2)\n",
    "    \n",
    "    train_sentences = tagged_sentences[:m]\n",
    "    dev_sentences = tagged_sentences[m:1-n-m]\n",
    "    dev_token = tagged_tokens[m:1-n-m]\n",
    "    test_sentences = tagged_sentences[-n:]\n",
    " \n",
    "    default_tagger=nltk.DefaultTagger('NN')\n",
    "    unigram_tagger=nltk.UnigramTagger(train_sentences,backoff=default_tagger)\n",
    "    bigram_tagger=nltk.BigramTagger(train_sentences, backoff=unigram_tagger)\n",
    "    accuracy = bigram_tagger.evaluate(test_sentences)\n",
    "    return accuracy"
   ]
  },
  {
   "cell_type": "code",
   "execution_count": 7,
   "id": "1ef917b0",
   "metadata": {},
   "outputs": [
    {
     "name": "stdout",
     "output_type": "stream",
     "text": [
      "0.815982660980214\n",
      "0.8278682793819478\n",
      "0.8352793120324408\n",
      "0.8514996853806893\n"
     ]
    }
   ],
   "source": [
    "print(bigram_tagger(\"adventure\", 0.4))\n",
    "print(bigram_tagger(\"adventure\", 0.5))\n",
    "print(bigram_tagger(\"adventure\", 0.6))\n",
    "print(bigram_tagger(\"adventure\", 0.8))"
   ]
  },
  {
   "cell_type": "markdown",
   "id": "0907aced",
   "metadata": {},
   "source": [
    "## 8.4"
   ]
  },
  {
   "cell_type": "code",
   "execution_count": 3,
   "id": "cad76e72",
   "metadata": {},
   "outputs": [],
   "source": [
    "from sklearn import metrics"
   ]
  },
  {
   "cell_type": "code",
   "execution_count": 93,
   "id": "0923525e",
   "metadata": {},
   "outputs": [
    {
     "name": "stdout",
     "output_type": "stream",
     "text": [
      "[(('NN', 'NP'), 363), (('NN', 'JJ'), 289)]\n",
      "[(('NN', 'NP'), 362), (('NN', 'JJ'), 269)]\n",
      "[(('NN', 'NP'), 338), (('NN', 'JJ'), 254)]\n",
      "[(('NN', 'NP'), 299), (('NN', 'JJ'), 228)]\n"
     ]
    }
   ],
   "source": [
    "def unigram_tag_errors(genre:str, train_size:float) -> list:\n",
    "  \n",
    "    brown_tagged_Sents=brown.tagged_sents(categories=genre)\n",
    "    tagged_sentences = brown.tagged_sents(categories=genre)\n",
    "    \n",
    "    m = int(len(tagged_sentences)*train_size)\n",
    "    n = int(len(tagged_sentences)*0.2)\n",
    "    \n",
    "    train_sentences = tagged_sentences[:m]\n",
    "    test_sentences = tagged_sentences[-n:]\n",
    "    \n",
    "    test_sents=[]\n",
    "    for sent in test_sentences:\n",
    "        w=[]\n",
    "        for element in sent:\n",
    "            w.append(element[0])\n",
    "        test_sents.append(w)\n",
    "    \n",
    "    default_tagger=nltk.DefaultTagger('NN')\n",
    "    unigram_tagger=nltk.UnigramTagger(train_sentences,backoff=default_tagger)\n",
    "    test_tag=unigram_tagger.tag_sents(test_sents)\n",
    "    \n",
    "    gold_tag=tagged_sentences[-n:]\n",
    "    \n",
    "    \n",
    "    correctlist = []\n",
    "    wronglist = []\n",
    "\n",
    "    for index_sent,sent in enumerate(gold_tag):\n",
    "        for index_word,word in enumerate(sent):\n",
    "            testword = test_tag[index_sent][index_word]\n",
    "            if testword[0]==word[0]:\n",
    "                if testword[1]==word[1]:\n",
    "                    correctlist.append((testword[1],word[1]))\n",
    "                else:\n",
    "                    wronglist.append((testword[1],word[1]))\n",
    "                    \n",
    "    freq=nltk.FreqDist(wronglist)\n",
    "    return freq.most_common(2)\n",
    "               \n",
    "print(unigram_tag_errors(\"adventure\", 0.4))\n",
    "print(unigram_tag_errors(\"adventure\", 0.5))\n",
    "print(unigram_tag_errors(\"adventure\", 0.6))\n",
    "print(unigram_tag_errors(\"adventure\", 0.8))"
   ]
  }
 ],
 "metadata": {
  "kernelspec": {
   "display_name": "Python 3 (ipykernel)",
   "language": "python",
   "name": "python3"
  },
  "language_info": {
   "codemirror_mode": {
    "name": "ipython",
    "version": 3
   },
   "file_extension": ".py",
   "mimetype": "text/x-python",
   "name": "python",
   "nbconvert_exporter": "python",
   "pygments_lexer": "ipython3",
   "version": "3.9.7"
  }
 },
 "nbformat": 4,
 "nbformat_minor": 5
}
