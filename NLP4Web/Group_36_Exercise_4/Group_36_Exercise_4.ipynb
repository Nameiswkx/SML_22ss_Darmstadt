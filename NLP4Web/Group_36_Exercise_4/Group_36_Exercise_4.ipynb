{
 "cells": [
  {
   "cell_type": "markdown",
   "metadata": {},
   "source": [
    "# NLP and the Web: Home Exercise 4"
   ]
  },
  {
   "cell_type": "markdown",
   "metadata": {},
   "source": [
    "__Regarding type hints:__\n",
    "\n",
    "_We tried to make the description of the parameters as clear as possible. However, if you believe that something is missing, please reach out to us in Moodle and we will try to help you out. We provide type hints for function parameters and return values of functions that you have to implement in the tasks. These are suggestions only, and you may use different types if you prefer. As long as you produce the required output in a coherent and understandable way, you can get full points. We use the term 'array-like object' to loosely refer to collection types like lists, arrays, maps, dataframes, etc._"
   ]
  },
  {
   "cell_type": "markdown",
   "metadata": {},
   "source": [
    "__Regarding Documentation__:\n",
    "\n",
    "<i>Please use comments where appropriate to help tutors understand your code. This is especially important for the more extensive exercises later on. We also strongly encourage you to use type hints.</i>"
   ]
  },
  {
   "cell_type": "markdown",
   "metadata": {},
   "source": [
    "__Regarding Output of Results__:\n",
    "\n",
    "Please pay attention to output results (e.g. with `print()` or `display()`) when we ask you to in a task. It is your choice how you output results, but for dataframes we recommend the use of `display(df)`."
   ]
  },
  {
   "cell_type": "code",
   "execution_count": 2,
   "metadata": {},
   "outputs": [],
   "source": [
    "# for type-hinting\n",
    "from numpy import ndarray\n",
    "from typing import Union, List, Dict, DefaultDict, Set\n",
    "# Bunch is a subtype of Dict, so the type-hints are comparable to Dict type-hints: Bunch[key, value]\n",
    "from sklearn.utils import Bunch\n",
    "from sklearn.datasets import fetch_20newsgroups"
   ]
  },
  {
   "cell_type": "markdown",
   "metadata": {},
   "source": [
    "## Task 1: Inverted Index / Boolean Retrieval (5 Points)"
   ]
  },
  {
   "cell_type": "markdown",
   "metadata": {},
   "source": [
    "__a)__ Next to many useful machine learning tools, __sklearn__ includes a collection of various datasets. In the ungraded practice notebook, you have already seen some examples on how to work with _20newsgroups_ ([dataset](https://scikit-learn.org/stable/datasets/real_world.html#newsgroups-dataset), [loader](https://scikit-learn.org/stable/modules/generated/sklearn.datasets.fetch_20newsgroups.html)) which is a useful text corpus with numerous documents for a total of 20 different topics. For this notebook, we will use a selection of documents from the _20newsgroups_ dataset as our example corpus. Fetch all documents from _20newsgroups_ that adhere to the following parameters: \n",
    "- Include only documents of the 'test' subset and from the provided categories\n",
    "- The documents should be shuffled with a random seed of 42\n",
    "- Headers, footers and quotes should be removed  \n",
    "\n",
    "To save some processing time in the following tasks, we want to further reduce our corpus. For this purpose, keep only the first 300 documents of the fetched result as your final corpus. Additionally, store the corresponding 300 target labels (categories) in a separate variable. "
   ]
  },
  {
   "cell_type": "code",
   "execution_count": 4,
   "metadata": {},
   "outputs": [],
   "source": [
    "categories: list[str] = ['alt.atheism', 'rec.sport.hockey']\n",
    "newsgroups: Bunch[str, Union[list[str], ndarray, str]] = fetch_20newsgroups(subset='test',categories=categories,random_state=42,remove=('headers','footers','quotes'))\n",
    "new_list=[]\n",
    "new_list=newsgroups.data[:300]\n",
    "news_targets: ndarray = newsgroups.target[:300]\n",
    "#print(new_list[0])\n",
    "\n"
   ]
  },
  {
   "cell_type": "markdown",
   "metadata": {},
   "source": [
    "__b)__ Implement a function `inverted_index` that receives a list of documents and returns an inverted index. An inverted index is a key-value mapping where each key is a unique word from the vocabulary of a given corpus of documents. Each key maps to a postings list that contains the indices of all documents in which the key word occurs in at least once. The index should cover only lemmatized tokens that fully consist of alphabetic characters. For lemmas/keys that are not covered by the corpus vocabulary, the resulting index should return an empty list (_hint_: defaultdict). You are also allowed to return an empty list for pronouns.\n",
    "\n",
    "Use your function to create an inverted index for the corpus from task 1a) and output the postings lists for the terms \"skate\", \"faith\" and \"pizza\".\n",
    "Only use __spaCy__ for tokenization, lemmatization and detection of alphabetic tokens!"
   ]
  },
  {
   "cell_type": "code",
   "execution_count": 5,
   "metadata": {},
   "outputs": [
    {
     "name": "stdout",
     "output_type": "stream",
     "text": [
      "Collecting en-core-web-sm==3.1.0\n",
      "  Downloading https://github.com/explosion/spacy-models/releases/download/en_core_web_sm-3.1.0/en_core_web_sm-3.1.0-py3-none-any.whl (13.6 MB)\n",
      "     |████████████████████████████████| 13.6 MB 11.3 MB/s            \n",
      "\u001b[?25hRequirement already satisfied: spacy<3.2.0,>=3.1.0 in /opt/conda/lib/python3.9/site-packages (from en-core-web-sm==3.1.0) (3.1.3)\n",
      "Requirement already satisfied: catalogue<2.1.0,>=2.0.6 in /opt/conda/lib/python3.9/site-packages (from spacy<3.2.0,>=3.1.0->en-core-web-sm==3.1.0) (2.0.6)\n",
      "Requirement already satisfied: numpy>=1.15.0 in /opt/conda/lib/python3.9/site-packages (from spacy<3.2.0,>=3.1.0->en-core-web-sm==3.1.0) (1.21.2)\n",
      "Requirement already satisfied: requests<3.0.0,>=2.13.0 in /opt/conda/lib/python3.9/site-packages (from spacy<3.2.0,>=3.1.0->en-core-web-sm==3.1.0) (2.26.0)\n",
      "Requirement already satisfied: pathy>=0.3.5 in /opt/conda/lib/python3.9/site-packages (from spacy<3.2.0,>=3.1.0->en-core-web-sm==3.1.0) (0.6.1)\n",
      "Requirement already satisfied: wasabi<1.1.0,>=0.8.1 in /opt/conda/lib/python3.9/site-packages (from spacy<3.2.0,>=3.1.0->en-core-web-sm==3.1.0) (0.9.0)\n",
      "Requirement already satisfied: pydantic!=1.8,!=1.8.1,<1.9.0,>=1.7.4 in /opt/conda/lib/python3.9/site-packages (from spacy<3.2.0,>=3.1.0->en-core-web-sm==3.1.0) (1.8.2)\n",
      "Requirement already satisfied: packaging>=20.0 in /opt/conda/lib/python3.9/site-packages (from spacy<3.2.0,>=3.1.0->en-core-web-sm==3.1.0) (21.3)\n",
      "Requirement already satisfied: thinc<8.1.0,>=8.0.9 in /opt/conda/lib/python3.9/site-packages (from spacy<3.2.0,>=3.1.0->en-core-web-sm==3.1.0) (8.0.13)\n",
      "Requirement already satisfied: setuptools in /opt/conda/lib/python3.9/site-packages (from spacy<3.2.0,>=3.1.0->en-core-web-sm==3.1.0) (60.1.0)\n",
      "Requirement already satisfied: preshed<3.1.0,>=3.0.2 in /opt/conda/lib/python3.9/site-packages (from spacy<3.2.0,>=3.1.0->en-core-web-sm==3.1.0) (3.0.6)\n",
      "Requirement already satisfied: jinja2 in /opt/conda/lib/python3.9/site-packages (from spacy<3.2.0,>=3.1.0->en-core-web-sm==3.1.0) (3.0.3)\n",
      "Requirement already satisfied: murmurhash<1.1.0,>=0.28.0 in /opt/conda/lib/python3.9/site-packages (from spacy<3.2.0,>=3.1.0->en-core-web-sm==3.1.0) (1.0.6)\n",
      "Requirement already satisfied: blis<0.8.0,>=0.4.0 in /opt/conda/lib/python3.9/site-packages (from spacy<3.2.0,>=3.1.0->en-core-web-sm==3.1.0) (0.7.5)\n",
      "Requirement already satisfied: srsly<3.0.0,>=2.4.1 in /opt/conda/lib/python3.9/site-packages (from spacy<3.2.0,>=3.1.0->en-core-web-sm==3.1.0) (2.4.2)\n",
      "Requirement already satisfied: tqdm<5.0.0,>=4.38.0 in /opt/conda/lib/python3.9/site-packages (from spacy<3.2.0,>=3.1.0->en-core-web-sm==3.1.0) (4.62.3)\n",
      "Requirement already satisfied: typer<0.5.0,>=0.3.0 in /opt/conda/lib/python3.9/site-packages (from spacy<3.2.0,>=3.1.0->en-core-web-sm==3.1.0) (0.4.0)\n",
      "Requirement already satisfied: spacy-legacy<3.1.0,>=3.0.8 in /opt/conda/lib/python3.9/site-packages (from spacy<3.2.0,>=3.1.0->en-core-web-sm==3.1.0) (3.0.8)\n",
      "Requirement already satisfied: cymem<2.1.0,>=2.0.2 in /opt/conda/lib/python3.9/site-packages (from spacy<3.2.0,>=3.1.0->en-core-web-sm==3.1.0) (2.0.6)\n",
      "Requirement already satisfied: pyparsing!=3.0.5,>=2.0.2 in /opt/conda/lib/python3.9/site-packages (from packaging>=20.0->spacy<3.2.0,>=3.1.0->en-core-web-sm==3.1.0) (3.0.6)\n",
      "Requirement already satisfied: smart-open<6.0.0,>=5.0.0 in /opt/conda/lib/python3.9/site-packages (from pathy>=0.3.5->spacy<3.2.0,>=3.1.0->en-core-web-sm==3.1.0) (5.2.1)\n",
      "Requirement already satisfied: typing-extensions>=3.7.4.3 in /opt/conda/lib/python3.9/site-packages (from pydantic!=1.8,!=1.8.1,<1.9.0,>=1.7.4->spacy<3.2.0,>=3.1.0->en-core-web-sm==3.1.0) (4.0.1)\n",
      "Requirement already satisfied: urllib3<1.27,>=1.21.1 in /opt/conda/lib/python3.9/site-packages (from requests<3.0.0,>=2.13.0->spacy<3.2.0,>=3.1.0->en-core-web-sm==3.1.0) (1.26.7)\n",
      "Requirement already satisfied: certifi>=2017.4.17 in /opt/conda/lib/python3.9/site-packages (from requests<3.0.0,>=2.13.0->spacy<3.2.0,>=3.1.0->en-core-web-sm==3.1.0) (2021.10.8)\n",
      "Requirement already satisfied: idna<4,>=2.5 in /opt/conda/lib/python3.9/site-packages (from requests<3.0.0,>=2.13.0->spacy<3.2.0,>=3.1.0->en-core-web-sm==3.1.0) (3.1)\n",
      "Requirement already satisfied: charset-normalizer~=2.0.0 in /opt/conda/lib/python3.9/site-packages (from requests<3.0.0,>=2.13.0->spacy<3.2.0,>=3.1.0->en-core-web-sm==3.1.0) (2.0.9)\n",
      "Requirement already satisfied: click<9.0.0,>=7.1.1 in /opt/conda/lib/python3.9/site-packages (from typer<0.5.0,>=0.3.0->spacy<3.2.0,>=3.1.0->en-core-web-sm==3.1.0) (8.0.3)\n",
      "Requirement already satisfied: MarkupSafe>=2.0 in /opt/conda/lib/python3.9/site-packages (from jinja2->spacy<3.2.0,>=3.1.0->en-core-web-sm==3.1.0) (2.0.1)\n",
      "\u001b[38;5;2m✔ Download and installation successful\u001b[0m\n",
      "You can now load the package via spacy.load('en_core_web_sm')\n"
     ]
    }
   ],
   "source": [
    "\n",
    "!python -m spacy download en_core_web_sm"
   ]
  },
  {
   "cell_type": "code",
   "execution_count": 6,
   "metadata": {},
   "outputs": [],
   "source": [
    "import spacy\n",
    "from collections import defaultdict\n",
    "nlp: spacy.Language = spacy.load(\"en_core_web_sm\")"
   ]
  },
  {
   "cell_type": "code",
   "execution_count": null,
   "metadata": {},
   "outputs": [],
   "source": [
    "\n",
    "\n"
   ]
  },
  {
   "cell_type": "code",
   "execution_count": 7,
   "metadata": {},
   "outputs": [
    {
     "name": "stdout",
     "output_type": "stream",
     "text": [
      "5953\n"
     ]
    }
   ],
   "source": [
    "def inverted_index(docs: Union[List[str], List[spacy.tokens.Doc]]) -> DefaultDict[str, List[int]]:\n",
    "    \"\"\"Create an inverted index for a given corpus of documents\n",
    "    \n",
    "    :param docs: array-like object containing documents\n",
    "                 (List[spacy.tokens.Doc] or List[str] are only suggestions \n",
    "                  - you may choose either of both or another suitable type)\n",
    "    :return: inverted index \n",
    "    \"\"\"\n",
    "    post_list=defaultdict(list)\n",
    "    for i in range(len(docs)):\n",
    "        doc=nlp(docs[i])\n",
    "        doc_lemma=[]\n",
    "        for token in doc:\n",
    "            lemma=token.lemma_\n",
    "            if lemma.isalpha() and lemma not in doc_lemma:\n",
    "                doc_lemma.append(lemma)\n",
    "                post_list[lemma].append(i)\n",
    "\n",
    "    return post_list\n",
    "        \n",
    "posting_list=inverted_index(new_list)\n",
    "print(len(posting_list))\n",
    "        \n",
    "        "
   ]
  },
  {
   "cell_type": "markdown",
   "metadata": {},
   "source": [
    "__c)__ Implement the optimized intersection function `intersect([t1, ..., tn])` for multiple AND queries from the lecture (slide 52). Try to keep the implementation as close as possible to the given pseudocode (see picture in the cell below).\n",
    "\n",
    "Afterwards, create a function `boolean_retrieval` that takes a list of terms and interprets them as an AND query (e.g., the input [\"best\", \"pizza\", \"pie\"] should be interpreted as \"best AND pizza AND pie\"). The return value of the function should be a list of all document indices that contain all of the query tokens. \n",
    "\n",
    "Apply the function `boolean_retrieval` for the following queries and output the number of retrieved documents for each query:  \n",
    "\n",
    "- best AND goals\n",
    "- best AND goals AND overtime\n",
    "- religions \n",
    "- most AND common AND religions\n",
    "\n",
    "_Hints_: \n",
    "\n",
    "* Use the inverted index from the previous exercise to access the postings in lines 2 and 5 of the pseudocode. The function `intersect_(postings1, postings2)` that is used in line 5 of the pseudocode is already implemented for you. \n",
    "* You should pre-process the query within the function `boolean_retrieval`."
   ]
  },
  {
   "attachments": {
    "3ca301f7-bdf3-4be6-9bdf-d2d9a7efb048.png": {
     "image/png": "[encoded data removed]"
    }
   },
   "cell_type": "markdown",
   "metadata": {},
   "source": [
    "![download.png](attachment:3ca301f7-bdf3-4be6-9bdf-d2d9a7efb048.png)<img width=\"500\" align=left src=\"data:image/png;base64,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\"/>"
   ]
  },
  {
   "cell_type": "code",
   "execution_count": null,
   "metadata": {},
   "outputs": [],
   "source": [
    "\n",
    "\n"
   ]
  },
  {
   "cell_type": "code",
   "execution_count": 8,
   "metadata": {
    "scrolled": true
   },
   "outputs": [
    {
     "name": "stdout",
     "output_type": "stream",
     "text": [
      "boolean retrieval: [0, 282]\n"
     ]
    }
   ],
   "source": [
    "def intersect(terms: List[str]) -> List[int]:\n",
    "    \"\"\"Intersect the postings lists for multiple query terms as shown in the above pseudocode\n",
    "    \n",
    "    :param terms: array-like object containing terms, e.g. ['good', 'pizza', 'darmstadt']  \n",
    "    :return: array-like object containing indices of documents in which all query terms occur \n",
    "    \"\"\"\n",
    "    sort_terms=sort_by_increasing_frequency(terms)\n",
    "    result=posting_list[sort_terms[0]]\n",
    "    del sort_terms[0]\n",
    "    while len(sort_terms) !=0 and len(result)!=0:\n",
    "        result=intersect_(result,posting_list[sort_terms[0]])\n",
    "        del sort_terms[0]\n",
    "    return result\n",
    "\n",
    "        \n",
    "\n",
    "def sort_by_increasing_frequency(terms: List[str]) -> List[str]:\n",
    "    \"\"\"Sort terms by the length of their postings lists. Used in line 1 of the pseudocode\n",
    "    \n",
    "    :param terms: array-like object containing terms\n",
    "    :return: array-like object containing terms, ordered increasingly by their document frequency\n",
    "    \"\"\"\n",
    "    sort={}\n",
    "    result=[]\n",
    "    for term in terms:\n",
    "        sort[term]=len(posting_list[term])\n",
    "    sort_list=sorted(sort.items(),key=lambda x:x[1])\n",
    "    for i in range(len(sort_list)):\n",
    "        result.append(sort_list[i][0])\n",
    "    return result\n",
    "    \n",
    "\n",
    "def intersect_(postings1: List[int], postings2: List[int]) -> List[int]:\n",
    "    \"\"\"Intersect two (sub)lists containing postings. Used in line 5 of the pseudocode\n",
    "    \n",
    "    This function is already implemented and ready to use.\n",
    "    \n",
    "    :param postings1: array-like object containing the postings list of a term\n",
    "    :param postings2: array-like object containing the postings list of a term\n",
    "    :return: array-like object containing intersection of postings1 and postings2\n",
    "    \"\"\"\n",
    "    return list(set(postings1) & set(postings2))\n",
    "\n",
    "def boolean_retrieval(query: List[str]) -> List[int]:\n",
    "    \"\"\"Perform Boolean retrieval for a given query to determine all relevant documents\n",
    "    \n",
    "    :param query: array-like object containing query terms, e.g. [\"my\", \"query\"]\n",
    "    :return: any object containing document indices that fulfill the conjunction of all query terms\n",
    "    \"\"\"\n",
    "    lemma=[]\n",
    "    for q in query:\n",
    "        doc=nlp(q)\n",
    "        lemma.append(doc[0].lemma_)\n",
    "    terms_intersect=intersect(lemma)\n",
    "    \n",
    "    return terms_intersect\n",
    "    \n",
    "\n",
    "                    \n",
    "    \n",
    "\n",
    "terms=[\"attacks\", \"person\", \"personal\"]\n",
    "boolean_list=boolean_retrieval(terms)\n",
    "print(\"boolean retrieval:\",boolean_list)"
   ]
  },
  {
   "cell_type": "markdown",
   "metadata": {},
   "source": [
    "## Task 2: tf-idf (4 Points)"
   ]
  },
  {
   "cell_type": "markdown",
   "metadata": {},
   "source": [
    "In the previous task you regarded a document as relevant for a query if it contained each of the queries' words at least once. However, this is not sufficient: Some word's might be more indicative of a document's content and some less (such as stop words). The former is the case for words that are \n",
    "\n",
    "* rare across the document collection and occur only in a few documents (--> high Inverse Document Frequency)\n",
    "* frequent in the document at hand (--> high Term Frequency)\n",
    "\n",
    "A method you learned in the lecture as well as in the ungraded tutorial notebook that leverages these ideas is tf-idf. It allows to reflect how important a specific word is to a document in a corpus. For doing so, it requires the transformation of documents into vector representations.\n",
    "\n",
    "In this task, you will create the functionality to calculate tf-idf weights from scratch, turn the documents of our examplary corpus into tf-idf vector representations and use them to apply a simple text classification. As long as not stated otherwise, please do not use any other tools or libraries other than __math__, __numpy__ and __spaCy__ in task 2."
   ]
  },
  {
   "cell_type": "code",
   "execution_count": 9,
   "metadata": {},
   "outputs": [],
   "source": [
    "# useful imports for this task\n",
    "import math\n",
    "import numpy as np"
   ]
  },
  {
   "cell_type": "markdown",
   "metadata": {},
   "source": [
    "__a)__ Implement a function `tf_weight(term, doc)`. For a given term and a document, the function should return the term frequency weight that is calculated with the following formula: \n",
    "\n",
    "&emsp;&emsp;&emsp;&emsp; $\\text{tf-weight}_{\\text{term,doc}} = 1 + \\log_{10}(\\text{tf}_{\\text{term,doc}})$ &emsp;&emsp; $\\text{if tf}_{\\text{t,d}} > 0\\text{, else }  0$\n",
    "\n",
    "Implement a second function `idf_weights(docs)` that receives the corpus of documents and returns the idf weights for all words from the corpus vocabulary. Similar to task 1b), this vocabulary shall cover only the lemmas of alphabetic words (_hint:_ your inverted index function from the previous task can be very useful here). You do not need to remove stopwords. The idf weight for one term can be calculated like this: \n",
    "\n",
    "&emsp;&emsp;&emsp;&emsp; $\\text{idf-weight}_{\\text{term}} = \\log_{10}(\\frac{\\text{#docs}}{\\text{df}_{\\text{term}}})$"
   ]
  },
  {
   "cell_type": "code",
   "execution_count": 10,
   "metadata": {},
   "outputs": [
    {
     "name": "stdout",
     "output_type": "stream",
     "text": [
      "tf_weight: 1.3010299956639813\n",
      "{'personal': 1.4357285695614372, 'attack': 1.6989700043360185, 'deliberate': 2.477121254719662, 'misinterpretation': 2.477121254719662, 'of': 0.18045606445813128, 'a': 0.15697496860860838, 'person': 1.3979400086720375, 'statement': 1.2218487496163564, 'by': 0.5686362358410126, 'cut': 1.5740312677277186, 'out': 0.625862906000587, 'the': 0.08092190762392613, 'part': 1.1760912590556811, 'he': 0.5180798623985687, 'try': 1.0299632233774432, 'to': 0.13667713987954405, 'blunt': 2.477121254719662, 'thrust': 2.477121254719662, 'sentence': 1.8750612633916997, 'never': 0.9719712763997563, 'address': 1.7781512503836434, 'issue': 1.4771212547196624, 'extreemist': 2.477121254719662, 'peace': 1.7781512503836434, 'people': 0.7528453851188733, 'not': 0.380211241711606, 'hold': 1.1983676537668333, 'true': 1.154901959985743, 'their': 0.6320232147054056, 'ideal': 2.477121254719662, 'ignore': 1.3979400086720375, 'challenge': 2.176091259055681, 'that': 0.21230343171012592, 'for': 0.29814430742649295, 'tend': 1.8750612633916997, 'be': 0.06888128940781287, 'quite': 1.1760912590556811, 'insistent': 2.477121254719662, 'everyone': 1.5228787452803374, 'accept': 1.5228787452803374, 'world': 1.301029995663981, 'and': 0.17392519729917358, 'have': 0.23408320603336794, 'even': 0.7367585652254185, 'turn': 1.3979400086720375, 'violent': 2.0, 'Witness': 2.477121254719662, 'Chicago': 1.3979400086720375, 'summer': 2.176091259055681, 'Paranoia': 2.477121254719662, 'assume': 1.1760912590556811, 'anyone': 1.1346985738974562, 'who': 0.596307662438871, 'argue': 1.6320232147054052, 'against': 1.0299632233774432, 'his': 0.6917914197088953, 'viewpoint': 1.8750612633916997, 'must': 1.0621479067488442, 'masturbate': 2.477121254719662, 'over': 0.9330532103693867, 'fire': 1.5740312677277186, 'up': 0.6575773191777937, 'Oven': 2.477121254719662, 'it': 0.2649336503157046, 'hot': 2.0, 'enough': 1.1983676537668333, 'unfortunately': 1.3979400086720375, 'way': 0.7528453851188733, 'league': 1.3631779024128254, 'head': 1.3979400086720375, 'you': 0.3767507096020995, 'ca': 0.9456423376774072, 'fight': 1.5740312677277186, 'so': 0.5906305295471805, 'only': 0.7367585652254185, 'retaliate': 2.0, 'someone': 0.9857595608853896, 'with': 0.4518153894548921, 'cheap': 1.6989700043360185, 'shot': 1.3631779024128254, 'when': 0.6320232147054056, 'ref': 1.6989700043360185, 'look': 0.9456423376774072, 'Ulf': 1.7781512503836434, 'bring': 1.1983676537668333, 'this': 0.3217852172546006, 'high': 1.3631779024128254, 'level': 1.3309932190414244, 'player': 0.9208187539523751, 'stick': 1.3309932190414244, 'in': 0.1893195247894364, 'past': 1.4357285695614372, 'like': 0.6777807052660807, 'neely': 2.0, 'prefer': 1.6989700043360185, 'at': 0.5039934011199637, 'disadvantage': 2.176091259055681, 'new': 1.2730012720637376, 'system': 1.3631779024128254, 'let': 1.0621479067488442, 'face': 1.2218487496163564, 'sticking': 2.176091259055681, 'very': 0.9456423376774072, 'effective': 2.176091259055681, 'method': 1.8750612633916997, 'easy': 1.3979400086720375, 'hide': 1.7781512503836434, 'from': 0.5477023290053696, 'well': 0.5633074023359457, 'chance': 1.3631779024128254, 'cause': 1.1760912590556811, 'injury': 1.4771212547196624, 'can': 0.5740312677277188, 'draw': 1.5740312677277186, 'into': 0.9089195306526673, 'I': 0.15905791975690087, 'do': 0.2596373105057561, 'but': 0.405239247413537, 'go': 0.585026652029182, 'there': 0.5376020021010438, 'rather': 1.2218487496163564, 'good': 0.7781512503836435, 'hit': 1.3309932190414244, 'last': 0.8643373979999268, 'Penguin': 2.477121254719662, 'devil': 1.4357285695614372, 'game': 0.5228787452803376, 'manage': 1.6989700043360185, 'NJ': 1.5228787452803374, 'legal': 1.8750612633916997, 'after': 0.8973376581028522, 'all': 0.5376020021010438, 'clean': 2.0, 'allow': 1.3979400086720375, 'thing': 0.8643373979999268, 'any': 0.769551078621726, 'ex': 2.176091259055681, 'NHL': 1.0969100130080565, 'hockey': 1.0791812460476247, 'might': 1.1153934187020693, 'care': 1.6320232147054052, 'comment': 1.4357285695614372, 'on': 0.2952776667748898, 'end': 1.3309932190414244, 'ridiculously': 2.477121254719662, 'long': 1.1346985738974562, 'discussion': 1.3979400086720375, 'while': 1.0299632233774432, 'watch': 1.1153934187020693, 'Penguins': 1.3979400086720375, 'Devils': 1.3631779024128254, 'night': 1.0621479067488442, 'see': 0.6020599913279623, 'slash': 1.8750612633916997, 'Barrasso': 1.5228787452803374, 'take': 0.8436527991400757, 'neck': 2.0, 'mind': 1.2218487496163564, 'goaltender': 2.0, 'jugular': 2.477121254719662, 'vein': 2.176091259055681, 'skate': 1.6320232147054052, 'think': 0.5633074023359457, 'Sabre': 2.0, 'positive': 1.8750612633916997, 'remember': 1.2466723333413885, 'know': 0.638272163982407, 'name': 1.2730012720637376, 'what': 0.585026652029182, 'happen': 1.2730012720637376, 'since': 0.833668578233475, 'about': 0.6020599913279623, 'whose': 1.8750612633916997, 'goalie': 1.3309932190414244, 'Name': 2.176091259055681, 'info': 2.176091259055681, 'ever': 1.1760912590556811, 'before': 1.0299632233774432, 'thank': 1.2466723333413885, 'John': 1.1983676537668333, 'Girash': 2.477121254719662, 'write': 1.1760912590556811, 'get': 0.5686362358410126, 'wjr': 2.477121254719662, 'away': 1.1760912590556811, 'problem': 1.2466723333413885, 'because': 0.7869251746911488, 'those': 0.9089195306526673, 'beloved': 2.176091259055681, 'contractual': 1.7781512503836434, 'obligation': 1.6989700043360185, 'WJR': 2.477121254719662, 'will': 0.6847295652214085, 'Tiger': 2.477121254719662, 'baseball': 1.4357285695614372, 'instead': 1.4771212547196624, 'Wings': 1.5740312677277186, 'playoff': 0.9456423376774072, 'probably': 1.1346985738974562, 'half': 1.5740312677277186, 'could': 0.7212463990471709, 'play': 0.7781512503836435, 'series': 1.0791812460476247, 'tonight': 1.8750612633916997, 'believe': 0.8538719643217619, 'if': 0.405239247413537, 'necessay': 2.477121254719662, 'bump': 2.477121254719662, 'Ron': 1.5228787452803374, 'help': 1.1983676537668333, 'here': 0.8538719643217619, 'computer': 1.7781512503836434, 'New': 1.3979400086720375, 'Jersey': 1.6320232147054052, 'no': 0.6078895349886863, 'access': 1.6989700043360185, 'radio': 1.6989700043360185, 'or': 0.4814860601221125, 'tv': 1.7781512503836434, 'kindly': 2.477121254719662, 'post': 0.9719712763997563, 'score': 1.2218487496163564, 'Canucks': 1.6989700043360185, 'Jets': 2.0, 'advance': 1.8750612633916997, 'ESPN': 1.1983676537668333, 'piss': 1.5740312677277186, 'off': 1.1153934187020693, 'call': 1.0621479067488442, 'they': 0.33099321904142437, 'respond': 1.8750612633916997, 'say': 0.6320232147054056, 'we': 0.619788758288394, 'sudden': 2.477121254719662, 'death': 1.4771212547196624, 'overtime': 1.3631779024128254, 'BUffalo': 2.477121254719662, 'apparently': 1.5228787452803374, 'receive': 1.6320232147054052, 'wait': 1.6989700043360185, 'finish': 1.6989700043360185, 'phone': 1.8750612633916997, 'number': 1.2218487496163564, 'as': 0.47279988093701986, 'Rangers': 1.6320232147054052, 'find': 1.0791812460476247, 'year': 0.7958800173440752, 'too': 0.8973376581028522, 'late': 1.4357285695614372, 'line': 1.3309932190414244, 'juggling': 2.477121254719662, 'point': 0.8750612633916999, 'gld': 2.176091259055681, 'Roger': 1.5228787452803374, 'now': 0.7136932611567252, 'spew': 2.477121254719662, 'expertise': 2.176091259055681, 'dickhead': 2.477121254719662, 'guess': 1.2218487496163564, 'afraid': 1.6320232147054052, 'anything': 1.154901959985743, 'expect': 1.2730012720637376, 'same': 0.9719712763997563, 'sentiment': 2.176091259055681, 'Bart': 2.477121254719662, 'realistically': 2.477121254719662, 'town': 1.7781512503836434, 'want': 0.9330532103693867, 'pay': 1.2466723333413885, 'quality': 2.176091259055681, 'hence': 2.176091259055681, 'loose': 2.176091259055681, 'these': 0.8973376581028522, 'leave': 1.2218487496163564, 'right': 0.8973376581028522, 'center': 1.6989700043360185, 'Labour': 2.477121254719662, 'also': 0.8538719643217619, 'responsible': 1.8750612633916997, 'boycott': 2.176091259055681, 'Pocklington': 1.7781512503836434, 'movement': 2.176091259055681, 'would': 0.5633074023359457, 'Oilers': 1.6989700043360185, 'stay': 1.4771212547196624, 'give': 0.7958800173440752, 'situation': 1.5228787452803374, 'bye': 2.0, 'oiler': 2.477121254719662, 'RAPTURE': 2.477121254719662, 'OCTOBER': 2.477121254719662, 'case': 1.2466723333413885, 'miss': 1.4357285695614372, 'rapture': 2.477121254719662, 'STAY': 2.477121254719662, 'CALM': 2.477121254719662, 'PANIC': 2.477121254719662, 'your': 0.7869251746911488, 'natural': 1.8750612633916997, 'reaction': 1.6989700043360185, 'once': 1.1346985738974562, 'realize': 1.3631779024128254, 'just': 0.619788758288394, 'occur': 2.0, 'panic': 2.477121254719662, 'absolutely': 1.5228787452803374, 'useless': 2.176091259055681, 'God': 1.1346985738974562, 'choose': 1.6989700043360185, 'earth': 2.176091259055681, 'endure': 2.477121254719662, 'tribulation': 2.477121254719662, 'shall': 1.7781512503836434, 'unto': 2.176091259055681, 'save': 1.4357285695614372, 'Matthew': 2.0, 'II': 2.477121254719662, 'live': 1.4771212547196624, 'during': 1.0791812460476247, 'great': 1.0299632233774432, 'Great': 2.176091259055681, 'seven': 1.8750612633916997, 'period': 1.154901959985743, 'start': 1.0969100130080565, 'time': 0.6777807052660807, 'until': 1.1983676537668333, 'Christ': 2.176091259055681, 'second': 1.0299632233774432, 'coming': 2.477121254719662, 'Jacob': 2.477121254719662, 'Israel': 2.0, 'trouble': 2.176091259055681, 'Jere': 2.477121254719662, 'Daniel': 2.477121254719662, 'Seventieth': 2.477121254719662, 'Week': 2.477121254719662, 'Dan': 1.6320232147054052, 'unparalleled': 2.477121254719662, 'horror': 1.7781512503836434, 'iii': 2.477121254719662, 'GATHER': 2.477121254719662, 'many': 0.8750612633916999, 'bible': 2.176091259055681, 'HIDE': 2.477121254719662, 'soon': 1.5740312677277186, 'antichrist': 2.176091259055681, 'become': 1.6320232147054052, 'leader': 1.7781512503836434, 'European': 2.477121254719662, 'Community': 2.477121254719662, 'revive': 2.477121254719662, 'Roman': 2.477121254719662, 'Empire': 2.477121254719662, 'confiscate': 2.477121254719662, 'own': 1.0299632233774432, 'Bible': 1.5228787452803374, 'tantamount': 2.477121254719662, 'treason': 2.176091259055681, 'however': 1.0147232568207063, 'most': 1.0621479067488442, 'valuable': 1.8750612633916997, 'possession': 2.176091259055681, 'IV': 2.477121254719662, 'READ': 2.477121254719662, 'BIBLE': 2.477121254719662, 'life': 1.3631779024128254, 'may': 1.0147232568207063, 'careful': 2.176091259055681, 'imperative': 2.176091259055681, 'read': 1.0, 'Word': 2.477121254719662, 'memorize': 2.477121254719662, 'whole': 1.4771212547196624, 'passage': 2.176091259055681, 'quote': 1.6320232147054052, 'especially': 1.1983676537668333, 'important': 1.6320232147054052, 'Luke': 2.176091259055681, 'Revelation': 2.477121254719662, 'Amos': 2.477121254719662, 'book': 1.154901959985743, 'describe': 1.6320232147054052, 'event': 1.8750612633916997, 'unfold': 2.477121254719662, 'PRAY': 2.477121254719662, 'pray': 2.0, 'power': 1.3631779024128254, 'come': 0.8143634230380883, 'strongly': 1.8750612633916997, 'upon': 1.6989700043360185, 'gain': 1.7781512503836434, 'spiritual': 2.176091259055681, 'strength': 2.477121254719662, 'able': 1.4771212547196624, 'withstand': 2.477121254719662, 'torture': 2.0, 'sake': 2.0, 'VI': 2.477121254719662, 'MARK': 2.477121254719662, 'cost': 1.6989700043360185, 'fit': 2.0, 'means': 2.477121254719662, 'LOVED': 2.477121254719662, 'ONES': 2.477121254719662, 'DIE': 2.477121254719662, 'AS': 2.477121254719662, 'MARTYRS': 2.477121254719662, 'Antichrist': 2.477121254719662, 'institute': 2.477121254719662, 'economic': 2.477121254719662, 'design': 2.0, 'buy': 1.5228787452803374, 'sell': 1.5740312677277186, 'eat': 1.7781512503836434, 'unless': 1.4357285695614372, 'mark': 2.176091259055681, 'money': 1.301029995663981, 'both': 1.0791812460476247, 'small': 1.5228787452803374, 'rich': 2.176091259055681, 'poor': 1.7781512503836434, 'free': 1.5740312677277186, 'slave': 2.477121254719662, 'hand': 1.2466723333413885, 'forehead': 2.477121254719662, 'one': 0.5326385825694937, 'except': 1.4357285695614372, 'beast': 2.477121254719662, 'wisdom': 2.477121254719662, 'understand': 1.2466723333413885, 'calculate': 2.0, 'man': 1.301029995663981, 'revelation': 1.8750612633916997, 'implement': 2.176091259055681, 'slaughter': 2.477121254719662, 'humanity': 1.7781512503836434, 'various': 1.5740312677277186, 'kill': 1.4771212547196624, 'such': 0.9456423376774072, 'Holocaust': 2.176091259055681, 'maybe': 1.3309932190414244, 'crusade': 2.176091259055681, 'imagine': 1.4771212547196624, 'place': 1.4357285695614372, 'under': 1.5740312677277186, 'rule': 1.5740312677277186, 'much': 0.8050233967839449, 'bad': 1.2730012720637376, 'than': 0.7212463990471709, 'history': 1.6989700043360185, 'Matt': 2.0, 'altar': 2.477121254719662, 'soul': 1.7781512503836434, 'slay': 2.477121254719662, 'word': 1.3309932190414244, 'testimony': 2.176091259055681, 'which': 0.769551078621726, 'white': 2.0, 'robe': 2.176091259055681, 'each': 1.2466723333413885, 'should': 0.8860566476931632, 'rest': 1.3631779024128254, 'little': 1.0621479067488442, 'fellow': 2.176091259055681, 'servant': 2.176091259055681, 'brother': 2.0, 'complete': 1.7781512503836434, 'target': 2.0, 'Jews': 2.176091259055681, 'Christians': 1.6320232147054052, 'worship': 2.477121254719662, 'image': 2.477121254719662, 'behead': 2.477121254719662, 'witness': 2.0, 'Jesus': 1.4357285695614372, 'use': 0.9089195306526673, 'every': 1.1760912590556811, 'form': 1.301029995663981, 'humiliation': 2.477121254719662, 'order': 1.6320232147054052, 'force': 1.4357285695614372, 'renounce': 2.477121254719662, 'nor': 1.7781512503836434, 'hesitate': 2.477121254719662, 'love': 1.5228787452803374, 'child': 1.8750612633916997, 'front': 1.7781512503836434, 'tempt': 2.477121254719662, 'consign': 2.477121254719662, 'Lake': 2.477121254719662, 'Fire': 2.477121254719662, 'Sung': 2.477121254719662, 'eloquently': 2.477121254719662, 'Johnny': 2.477121254719662, 'Cash': 2.477121254719662, 'redeem': 2.477121254719662, 'short': 1.4771212547196624, 'eternal': 2.176091259055681, 'then': 0.7781512503836435, 'sic': 2.477121254719662, 'torment': 2.477121254719662, 'Beast': 2.477121254719662, 'himself': 1.6989700043360185, 'drink': 2.477121254719662, 'wine': 2.176091259055681, 'wrath': 2.477121254719662, 'pour': 2.477121254719662, 'full': 1.4357285695614372, 'cup': 1.6989700043360185, 'indignation': 2.176091259055681, 'an': 0.5580431623435884, 'brimstone': 2.477121254719662, 'presence': 2.0, 'holy': 2.176091259055681, 'angel': 2.176091259055681, 'Lamb': 2.477121254719662, 'season': 1.1760912590556811, 'ticket': 1.8750612633916997, 'holder': 2.176091259055681, 'special': 1.6989700043360185, 'hat': 2.477121254719662, 'first': 0.8239087409443187, 'stadium': 1.8750612633916997, 'VII': 2.477121254719662, 'set': 1.3631779024128254, 'plan': 1.6320232147054052, 'motion': 2.477121254719662, 'SURVIVAL': 2.477121254719662, 'although': 1.301029995663981, 'government': 2.0, 'hiding': 2.477121254719662, 'growth': 2.176091259055681, 'strengthening': 2.477121254719662, 'extremely': 1.7781512503836434, 'strong': 1.4357285695614372, 'suffer': 2.0, 'die': 1.4771212547196624, 'move': 1.3309932190414244, 'city': 1.6320232147054052, 'rural': 2.477121254719662, 'mountainous': 2.477121254719662, 'area': 1.3631779024128254, 'control': 1.5740312677277186, 'least': 1.0, 'populated': 2.477121254719662, 'attuned': 2.477121254719662, 'discern': 2.477121254719662, 'schedule': 1.5740312677277186, 'weather': 2.176091259055681, 'map': 2.477121254719662, 'heavy': 2.176091259055681, 'current': 1.6989700043360185, 'sweep': 1.8750612633916997, 'our': 1.1346985738974562, 'daybreak': 2.477121254719662, 'delay': 1.6989700043360185, 'outbound': 2.477121254719662, 'perhaps': 1.1760912590556811, 'school': 1.6320232147054052, 'closing': 2.477121254719662, 'Store': 2.477121254719662, 'water': 2.0, 'food': 2.477121254719662, 'purchase': 1.7781512503836434, 'without': 1.2218487496163564, 'Water': 2.477121254719662, 'lake': 2.477121254719662, 'stream': 2.477121254719662, 'pollute': 2.477121254719662, 'radioactive': 2.477121254719662, 'waste': 2.176091259055681, 'nuclear': 2.176091259055681, 'warfare': 2.477121254719662, 'eventually': 1.6320232147054052, 'blood': 2.0, 'filter': 2.477121254719662, 'different': 1.1153934187020693, 'type': 1.6989700043360185, 'clothing': 2.477121254719662, 'flashlight': 2.477121254719662, 'battery': 2.477121254719662, 'generator': 2.176091259055681, 'First': 1.8750612633916997, 'Aid': 2.477121254719662, 'supply': 2.0, 'learn': 1.5228787452803374, 'how': 0.7528453851188733, 'survive': 1.6320232147054052, 'land': 2.0, 'pioneer': 2.477121254719662, 'VIII': 2.477121254719662, 'TRUST': 2.477121254719662, 'ONE': 2.477121254719662, 'secret': 2.176091259055681, 'agent': 2.176091259055681, 'everywhere': 2.477121254719662, 'spy': 2.477121254719662, 'lookout': 2.477121254719662, 'perot': 2.477121254719662, 'supporter': 2.0, 'note': 1.1983676537668333, 'ix': 2.477121254719662, 'deceive': 2.477121254719662, 'prosperity': 2.477121254719662, 'hungry': 2.176091259055681, 'infer': 2.477121254719662, 'certain': 1.7781512503836434, 'characteristic': 2.477121254719662, 'Popular': 2.477121254719662, 'three': 1.4357285695614372, 'dominate': 1.6989700043360185, 'airwave': 2.477121254719662, 'physically': 2.176091259055681, 'appealing': 2.477121254719662, 'highly': 1.8750612633916997, 'intelligent': 2.176091259055681, 'charisma': 2.477121254719662, 'personality': 2.477121254719662, 'international': 2.477121254719662, 'politician': 2.176091259055681, 'military': 1.8750612633916997, 'tactician': 2.477121254719662, 'expert': 2.0, 'make': 0.6020599913279623, 'treaty': 2.176091259055681, 'break': 1.5228787452803374, 'supernatural': 2.0, 'mortal': 2.477121254719662, 'wound': 2.477121254719662, 'heal': 2.477121254719662, 'elect': 1.8750612633916997, 'Howard': 2.477121254719662, 'Stern': 2.176091259055681, 'Rush': 2.0, 'Limbaugh': 2.477121254719662, 'companion': 2.477121254719662, 'False': 2.477121254719662, 'Prohphet': 2.477121254719662, 'likeness': 2.477121254719662, 'speak': 1.3309932190414244, 'refuse': 1.4771212547196624, 'worhsip': 2.477121254719662, 'final': 1.301029995663981, 'insane': 2.0, 'demonized': 2.477121254719662, 'spirit': 1.8750612633916997, 'hope': 1.1760912590556811, 'triumphant': 2.477121254719662, 'return': 1.5740312677277186, 'defeat': 2.477121254719662, 'steadfast': 2.477121254719662, 'reward': 2.176091259055681, 'greatly': 2.176091259055681, 'Heaven': 2.477121254719662, 'Start': 2.477121254719662, 'fervently': 2.477121254719662, 'salvation': 2.477121254719662, 'sould': 2.477121254719662, 'depend': 1.5740312677277186, 'determine': 2.477121254719662, 'still': 0.958607314841775, 'remain': 1.5228787452803374, 'faithful': 2.477121254719662, 'ready': 1.8750612633916997, 'hour': 1.6989700043360185, 'glorious': 2.477121254719662, 'Mike': 1.3979400086720375, 'Cluff': 2.477121254719662, 'christianity': 2.477121254719662, 'Stupid': 2.477121254719662, 'UB': 2.477121254719662, 'Language': 2.477121254719662, 'Perception': 2.477121254719662, 'Laboratory': 2.477121254719662, 'Bob': 1.3979400086720375, 'Beauchaine': 1.7781512503836434, 'Queens': 1.7781512503836434, 'blow': 1.6989700043360185, 'Bronx': 1.7781512503836434, 'sink': 1.7781512503836434, 'Manhattan': 1.7781512503836434, 'sea': 1.6320232147054052, 'agree': 1.0621479067488442, 'thouroughly': 2.477121254719662, 'screw': 1.8750612633916997, 'damn': 1.6989700043360185, 'agreement': 2.477121254719662, 'show': 0.8860566476931632, 'exciting': 1.7781512503836434, 'lose': 1.1983676537668333, 'fan': 0.9857595608853896, 'quickly': 1.7781512503836434, 'decision': 1.6989700043360185, 'my': 0.6320232147054056, 'ask': 1.0969100130080565, 'roster': 2.176091259055681, 'college': 1.7781512503836434, 'senior': 2.477121254719662, 'star': 2.0, 'shrine': 2.477121254719662, 'Orono': 2.477121254719662, 'Maine': 2.477121254719662, 'early': 1.2730012720637376, 'month': 1.6989700043360185, 'WEST': 2.477121254719662, 'Derek': 2.477121254719662, 'Plante': 2.176091259055681, 'MINN': 2.477121254719662, 'DULUTH': 2.477121254719662, 'west': 2.176091259055681, 'MVP': 2.176091259055681, 'Greg': 1.8750612633916997, 'Johnson': 2.477121254719662, 'N': 2.176091259055681, 'dakota': 2.477121254719662, 'Bryan': 1.8750612633916997, 'Smolinski': 2.176091259055681, 'MICH': 2.477121254719662, 'ST': 2.0, 'Fred': 2.176091259055681, 'Knipscheer': 2.477121254719662, 'CLOUD': 2.477121254719662, 'STATE': 2.477121254719662, 'Chris': 1.8750612633916997, 'Campbell': 2.176091259055681, 'WISCONSIN': 2.477121254719662, 'SUPERIOR': 2.477121254719662, 'Glenn': 2.0, 'Lang': 2.477121254719662, 'UW': 2.477121254719662, 'Bergeron': 2.477121254719662, 'MIAMI': 2.477121254719662, 'Joe': 1.8750612633916997, 'Cook': 2.477121254719662, 'Jamie': 2.176091259055681, 'Erb': 2.477121254719662, 'BEMIDIJI': 2.477121254719662, 'Brett': 1.8750612633916997, 'Harkins': 2.176091259055681, 'bowling': 2.477121254719662, 'green': 2.176091259055681, 'David': 1.7781512503836434, 'Roberts': 2.176091259055681, 'MICHIGAN': 2.477121254719662, 'Todd': 2.0, 'Trettier': 2.477121254719662, 'STEVENS': 2.477121254719662, 'POINT': 2.477121254719662, 'Young': 2.0, 'TECH': 2.477121254719662, 'Hauer': 2.477121254719662, 'Pat': 1.7781512503836434, 'Neaton': 2.477121254719662, 'Barry': 2.477121254719662, 'Richter': 2.0, 'Smith': 1.7781512503836434, 'LSSU': 2.477121254719662, 'Valicevic': 2.477121254719662, 'MARY': 2.477121254719662, 'Shaun': 2.477121254719662, 'Gravistin': 2.477121254719662, 'AK': 2.477121254719662, 'ANCHORAGE': 2.477121254719662, 'Tom': 2.0, 'Newman': 2.477121254719662, 'MINNESOTA': 2.477121254719662, 'Schoen': 2.477121254719662, 'DENVER': 2.477121254719662, 'Mason': 2.477121254719662, 'coach': 1.4771212547196624, 'Steve': 1.6320232147054052, 'Nelson': 1.8750612633916997, 'Jim': 1.8750612633916997, 'Knapp': 2.477121254719662, 'duluth': 2.477121254719662, 'EAST': 2.176091259055681, 'Jack': 2.176091259055681, 'Duffy': 2.477121254719662, 'YALE': 2.477121254719662, 'Foy': 2.477121254719662, 'Scott': 1.7781512503836434, 'Meehan': 2.477121254719662, 'MASS': 2.477121254719662, 'LOWELL': 2.477121254719662, 'Aaron': 2.477121254719662, 'Miller': 1.7781512503836434, 'VERMONT': 2.477121254719662, 'Kevin': 1.5740312677277186, 'BU': 2.477121254719662, 'Potter': 2.477121254719662, 'CONNECTICUT': 2.477121254719662, 'Ray': 1.7781512503836434, 'Alcindor': 2.477121254719662, 'MIDDLEBURY': 2.477121254719662, 'Carvel': 2.477121254719662, 'LAWRENCE': 2.477121254719662, 'Cowan': 2.477121254719662, 'PROVIDENCE': 2.0, 'Dubinksy': 2.477121254719662, 'CLARKSON': 2.477121254719662, 'Gravelle': 2.477121254719662, 'MERRIMACK': 2.477121254719662, 'Ryan': 2.176091259055681, 'Hughes': 2.477121254719662, 'CORNELL': 2.477121254719662, 'Mark': 1.6320232147054052, 'Kauffman': 2.477121254719662, 'Mallgrave': 2.477121254719662, 'HARVARD': 2.477121254719662, 'McGee': 2.477121254719662, 'BABSON': 2.477121254719662, 'McNair': 2.477121254719662, 'RIT': 2.477121254719662, 'Montgomery': 2.477121254719662, 'MAINE': 2.477121254719662, 'Sacco': 2.176091259055681, 'Rogles': 2.477121254719662, 'East': 2.176091259055681, 'Garth': 2.176091259055681, 'Snow': 2.477121254719662, 'Grant': 1.5740312677277186, 'Wood': 1.6989700043360185, 'HAMILTON': 2.477121254719662, 'Brian': 1.6989700043360185, 'Durocher': 2.477121254719662, 'BROWN': 2.477121254719662, 'Shawn': 2.176091259055681, 'Walsh': 2.477121254719662, 'Bruce': 2.477121254719662, 'Marshalll': 2.477121254719662, 'original': 1.5228787452803374, 'few': 1.1760912590556811, 'change': 1.0969100130080565, 'actual': 2.477121254719662, 'guy': 1.0969100130080565, 'participate': 2.176091259055681, 'whatever': 1.5228787452803374, 'Paddock': 2.477121254719662, 'slag': 2.477121254719662, 'Sandlak': 2.477121254719662, 'put': 1.1760912590556811, 'physical': 1.7781512503836434, 'wake': 2.477121254719662, 'real': 1.1760912590556811, 'mistake': 1.5740312677277186, 'Sandbag': 2.477121254719662, 'anyways': 2.176091259055681, 'mean': 1.0299632233774432, 'Momesso': 2.477121254719662, 'artist': 2.477121254719662, 'more': 0.6575773191777937, 'sense': 1.3979400086720375, 'Deletia': 2.477121254719662, 'anybody': 1.6989700043360185, 'notice': 1.6989700043360185, 'Frank': 1.8750612633916997, 'debate': 2.176091259055681, 'objective': 1.6989700043360185, 'morality': 1.5228787452803374, 'seemingly': 2.0, 'semantic': 2.176091259055681, 'non': 1.5228787452803374, 'native': 2.176091259055681, 'english': 2.176091259055681, 'speaker': 2.477121254719662, 'misunderstood': 2.0, 'usage': 2.176091259055681, 'something': 0.8750612633916999, 'assert': 1.7781512503836434, 'apology': 2.176091259055681, 'loss': 1.5740312677277186, 'really': 0.8239087409443187, 'though': 1.0969100130080565, 'wrong': 1.2466723333413885, 'age': 2.176091259055681, 'universe': 2.0, 'direct': 2.477121254719662, 'effect': 1.8750612633916997, 'moral': 1.5228787452803374, 'society': 1.6320232147054052, 'Universe': 2.477121254719662, 'evidence': 1.3309932190414244, 'cosmology': 2.477121254719662, 'astronomy': 2.477121254719662, 'independent': 1.7781512503836434, 'opinion': 1.1346985738974562, 'lot': 1.0791812460476247, 'matter': 1.3309932190414244, 'yet': 1.154901959985743, 'empirical': 2.477121254719662, 'test': 1.4357285695614372, 'consistently': 2.176091259055681, 'seem': 0.8973376581028522, 'roughly': 2.477121254719662, 'result': 1.3979400086720375, 'creationist': 2.0, 'task': 2.0, 'perform': 1.8750612633916997, 'calculation': 2.477121254719662, 'blatant': 2.477121254719662, 'error': 2.0, 'measure': 2.0, 'logically': 2.477121254719662, 'consistent': 2.176091259055681, 'contradict': 2.0, 'mine': 1.7781512503836434, 'conduct': 2.0, 'identical': 2.176091259055681, 'manner': 2.477121254719662, 'some': 0.6642078980768068, 'validity': 2.0, 'beyond': 1.7781512503836434, 'Map': 2.477121254719662, 'activity': 2.0, 'nerve': 2.176091259055681, 'neural': 2.176091259055681, 'pain': 1.5740312677277186, 'sharp': 1.8750612633916997, 'quantify': 2.176091259055681, 'hypothesis': 2.0, 'ultimate': 2.176091259055681, 'towards': 2.176091259055681, 'gravitate': 2.477121254719662, 'imaginable': 2.176091259055681, 'produce': 1.8750612633916997, 'suitable': 2.477121254719662, 'purpose': 1.4771212547196624, 'almost': 1.6989700043360185, 'always': 1.3979400086720375, 'define': 1.5740312677277186, 'context': 1.5740312677277186, 'prediction': 2.176091259055681, 'correct': 1.7781512503836434, 'within': 1.6320232147054052, 'need': 1.0791812460476247, 'definition': 1.5228787452803374, 'wish': 1.7781512503836434, 'luck': 2.0, 'objectively': 2.477121254719662, 'besides': 1.3979400086720375, 'exactly': 1.4771212547196624, 'provably': 2.477121254719662, 'claim': 1.0791812460476247, 'suddenly': 2.0, 'lend': 2.0, 'credence': 2.477121254719662, 'ponder': 2.176091259055681, 'individual': 1.6320232147054052, 'fully': 2.176091259055681, 'functional': 2.477121254719662, 'human': 1.3631779024128254, 'being': 1.6320232147054052, 'member': 2.477121254719662, 'wildly': 2.477121254719662, 'code': 2.0, 'base': 1.5228787452803374, 'hir': 2.477121254719662, 'incorrect': 2.477121254719662, 'function': 1.8750612633916997, 'fine': 1.5740312677277186, 'pick': 1.1760912590556811, 'islamic': 1.8750612633916997, 'polynesian': 2.477121254719662, 'matrilineal': 2.477121254719662, 'example': 1.2730012720637376, 'exist': 1.2466723333413885, 'deletia': 2.477121254719662, 'testing': 2.477121254719662, 'football': 1.7781512503836434, 'desk': 2.176091259055681, 'circumstance': 1.8750612633916997, 'achieve': 1.8750612633916997, 'goal': 0.958607314841775, 'reason': 1.1760912590556811, 'other': 0.6320232147054056, 'else': 1.1346985738974562, 'clearly': 1.6320232147054052, 'hard': 1.3309932190414244, 'seldom': 2.477121254719662, 'sort': 1.6320232147054052, 'mass': 1.8750612633916997, 'murder': 1.8750612633916997, 'lead': 1.1153934187020693, 'Aztecs': 2.477121254719662, 'Spaniards': 2.477121254719662, 'wipe': 2.176091259055681, 'sometimes': 1.5740312677277186, 'why': 0.8643373979999268, 'thereby': 1.7781512503836434, 'fix': 2.176091259055681, 'stone': 2.0, 'immutable': 2.477121254719662, 'yes': 1.2218487496163564, 'two': 0.8973376581028522, 'down': 1.2730012720637376, 'value': 1.4771212547196624, 'absolute': 1.5228787452803374, 'nonsense': 2.176091259055681, 'mill': 2.477121254719662, 'Gretzky': 2.176091259055681, 'upset': 2.176091259055681, 'win': 0.9330532103693867, 'LA': 1.6320232147054052, 'submit': 2.176091259055681, 'worth': 1.7781512503836434, 'reveal': 1.8750612633916997, 'big': 1.1760912590556811, 'deal': 1.3979400086720375, 'diving': 2.176091259055681, 'merely': 1.6989700043360185, 'attempt': 1.4357285695614372, 'penalty': 1.3309932190414244, 'checker': 2.176091259055681, 'keep': 1.0791812460476247, 'distance': 2.477121254719662, 'wo': 1.3631779024128254, 'fool': 1.8750612633916997, 'Lemieux': 1.7781512503836434, 'dimensional': 2.477121254719662, 'rate': 2.0, 'Hull': 1.7781512503836434, 'Salami': 2.477121254719662, 'thought': 1.6320232147054052, 'usually': 1.5740312677277186, 'simply': 1.1346985738974562, 'fun': 1.6320232147054052, 'resist': 2.477121254719662, 'Pens': 1.3309932190414244, 'Stevens': 2.0, 'box': 2.176091259055681, 'Nicholls': 2.477121254719662, 'punch': 2.176091259055681, 'Kjell': 2.477121254719662, 'Samuellson': 2.477121254719662, 'raise': 1.7781512503836434, 'handed': 2.0, 'sword': 2.176091259055681, 'defend': 1.7781512503836434, 'pound': 2.477121254719662, 'laugh': 2.0, 'Swedish': 2.477121254719662, 'defenseman': 1.7781512503836434, 'lately': 1.8750612633916997, 'frequent': 2.176091259055681, 'everybody': 1.8750612633916997, 'meadowland': 2.477121254719662, 'official': 1.7781512503836434, 'ram': 2.477121254719662, 'butt': 2.176091259055681, 'Devil': 2.477121254719662, 'throat': 2.477121254719662, 'support': 1.5228787452803374, 'argument': 1.2466723333413885, 'job': 1.4771212547196624, 'irritate': 2.477121254719662, 'push': 1.8750612633916997, 'edge': 2.176091259055681, 'IMHO': 1.7781512503836434, 'course': 1.045757490560675, 'Holik': 2.0, 'chop': 2.477121254719662, 'sportsmanlike': 2.477121254719662, 'either': 1.2730012720637376, 'follow': 1.154901959985743, 'beat': 1.3309932190414244, 'injure': 1.8750612633916997, 'philosophy': 1.8750612633916997, 'modern': 2.176091259055681, 'Drama': 2.477121254719662, 'professor': 2.477121254719662, 'day': 1.154901959985743, 'Jagr': 1.7781512503836434, 'pretty': 1.301029995663981, 'Tuesday': 1.4771212547196624, 'dance': 2.176091259055681, 'around': 1.1983676537668333, 'appreciate': 2.0, 'Pierre': 2.176091259055681, 'Turgeon': 1.6989700043360185, 'formely': 2.477121254719662, 'Sabres': 1.6320232147054052, 'Isles': 1.4771212547196624, 'wear': 1.8750612633916997, 'Buffalo': 1.3979400086720375, 'reply': 1.4771212547196624, 'constantly': 2.0, 'verge': 2.176091259055681, 'flame': 1.6989700043360185, 'Usenet': 2.477121254719662, 'diplomacy': 2.477121254719662, 'ensure': 2.477121254719662, 'voice': 1.7781512503836434, 'through': 1.1760912590556811, 'delve': 2.176091259055681, 'field': 1.8750612633916997, 'algorithm': 2.176091259055681, 'reasoning': 1.8750612633916997, 'along': 1.7781512503836434, 'Penrose': 2.477121254719662, 'mathematical': 2.176091259055681, 'insight': 2.477121254719662, 'algorithmic': 2.477121254719662, 'emperor': 2.477121254719662, 'concern': 1.4357285695614372, 'law': 1.8750612633916997, 'physics': 2.176091259055681, 'similar': 1.6320232147054052, 'wavefunction': 2.176091259055681, 'collapse': 1.8750612633916997, 'consciously': 2.477121254719662, 'illusion': 2.0, 'obviouslu': 2.477121254719662, 'consciousness': 1.8750612633916997, 'evolutionary': 2.477121254719662, 'perspective': 1.8750612633916997, 'realise': 2.176091259055681, 'certainly': 1.4357285695614372, 'useful': 2.176091259055681, 'back': 1.0, 'worm': 2.477121254719662, 'experience': 1.4357285695614372, 'behave': 2.176091259055681, 'conceivable': 2.477121254719662, 'future': 1.7781512503836434, 'total': 2.0, 'synthesis': 2.477121254719662, 'elegan': 2.477121254719662, 'element': 1.7781512503836434, 'extent': 2.176091259055681, 'brain': 1.7781512503836434, 'work': 1.1760912590556811, 'fact': 1.0621479067488442, 'substantial': 2.176091259055681, 'Skarda': 2.477121254719662, 'Freeman': 2.477121254719662, 'less': 1.4357285695614372, 'chaotically': 2.477121254719662, 'generate': 2.477121254719662, 'randomness': 2.477121254719662, 'mental': 1.5740312677277186, 'state': 1.1983676537668333, 'evolve': 1.7781512503836434, 'genetic': 2.176091259055681, 'suppose': 1.4771212547196624, 'indeed': 1.5740312677277186, 'unlikely': 1.8750612633916997, 'vast': 2.176091259055681, 'impact': 2.176091259055681, 'nurture': 2.477121254719662, 'suggest': 1.6320232147054052, 'collection': 2.477121254719662, 'reference': 1.8750612633916997, 'mention': 1.4771212547196624, 'again': 1.0, 'nature': 1.6320232147054052, 'conscious': 2.477121254719662, 'neurologist': 2.477121254719662, 'neuropsychologist': 2.477121254719662, 'biologist': 2.477121254719662, 'study': 1.7781512503836434, 'repeat': 1.6989700043360185, 'advice': 2.0, 'anywhere': 1.6989700043360185, 'background': 2.0, 'please': 1.0791812460476247, 'QM': 2.477121254719662, 'physicist': 2.477121254719662, 'happy': 1.7781512503836434, 'role': 2.176091259055681, 'forget': 1.6320232147054052, 'differently': 2.477121254719662, 'primary': 2.0, 'perception': 2.176091259055681, 'guidance': 2.0, 'action': 1.5228787452803374, 'self': 1.6989700043360185, 'awareness': 2.477121254719662, 'intelligence': 2.477121254719662, 'appearance': 1.8750612633916997, 'idea': 1.3979400086720375, 'somewhere': 2.0, 'chemical': 2.0, 'sensation': 2.176091259055681, 'dependent': 2.176091259055681, 'pattern': 2.176091259055681, 'visual': 2.477121254719662, 'cortex': 2.477121254719662, 'distribute': 2.477121254719662, 'firing': 2.477121254719662, 'global': 2.477121254719662, 'induction': 2.477121254719662, 'local': 1.4771212547196624, 'idle': 2.176091259055681, 'speculation': 2.176091259055681, 'scientific': 2.0, 'American': 2.477121254719662, 'September': 2.477121254719662, 'already': 1.5228787452803374, 'cover': 1.4771212547196624, 'article': 1.5228787452803374, 'interested': 1.6989700043360185, 'subjective': 2.176091259055681, 'observe': 1.8750612633916997, 'third': 1.3979400086720375, 'nothing': 1.1760912590556811, 'neuronal': 2.477121254719662, 'conclude': 1.8750612633916997, 'Kalat': 2.477121254719662, 'numerous': 2.0, 'where': 0.9330532103693867, 'electric': 2.477121254719662, 'stimulation': 2.477121254719662, 'patient': 2.176091259055681, 'instance': 1.4771212547196624, 'septal': 2.477121254719662, 'stimulate': 2.477121254719662, 'knowledge': 1.4771212547196624, 'remote': 2.477121254719662, 'psychiatric': 2.477121254719662, 'interview': 1.5740312677277186, 'cure': 2.477121254719662, 'depression': 2.477121254719662, 'discuss': 1.3979400086720375, 'seduce': 2.176091259055681, 'girlfriend': 2.477121254719662, 'temporal': 2.477121254719662, 'lobe': 2.477121254719662, 'embarrassing': 2.477121254719662, 'flirt': 2.477121254719662, 'therapist': 2.477121254719662, 'conclusion': 1.8750612633916997, 'essentially': 2.0, 'necessary': 1.6320232147054052, 'damage': 1.8750612633916997, 'equivalent': 2.0, 'process': 1.8750612633916997, 'involve': 1.5740312677277186, 'colour': 2.176091259055681, 'activate': 2.477121254719662, 'etc': 1.4771212547196624, 'afterthought': 2.477121254719662, 'ahead': 1.8750612633916997, 'ms': 2.477121254719662, 'thus': 1.6989700043360185, 'fruitful': 2.477121254719662, 'question': 1.1346985738974562, 'king': 1.6320232147054052, 'network': 1.5740312677277186, 'capable': 2.0, 'recognise': 2.176091259055681, 'handwritten': 2.477121254719662, 'animal': 2.176091259055681, 'itself': 1.6320232147054052, 'observer': 2.0, 'advantage': 1.4771212547196624, 'answer': 1.1983676537668333, 'previous': 1.6320232147054052, 'posting': 1.7781512503836434, 'identity': 2.176091259055681, 'social': 2.0, 'swap': 2.477121254719662, 'act': 1.7781512503836434, 'morally': 2.176091259055681, 'unconsciously': 2.477121254719662, 'newly': 2.0, 'discover': 2.176091259055681, 'weapon': 1.8750612633916997, 'bit': 1.5228787452803374, 'extreme': 2.0, 'basic': 2.0, 'Homo': 2.477121254719662, 'efficient': 2.176091259055681, 'tool': 2.176091259055681, 'concept': 1.8750612633916997, 'development': 2.477121254719662, 'respect': 1.7781512503836434, 'altruistic': 2.477121254719662, 'behaviour': 1.8750612633916997, 'require': 1.5740312677277186, 'scene': 2.477121254719662, 'superposition': 2.176091259055681, 'aeon': 2.477121254719662, 'powerful': 2.0, 'topic': 2.0, 'irrelevant': 2.176091259055681, 'neither': 1.6989700043360185, 'above': 1.301029995663981, 'solve': 2.176091259055681, 'ok': 1.6989700043360185, 'plus': 1.8750612633916997, 'James': 1.8750612633916997, 'Biological': 2.477121254719662, 'Psychology': 2.477121254719662, 'ed': 2.477121254719662, 'Wadsworth': 2.477121254719662, 'Publishing': 2.477121254719662, 'Company': 2.477121254719662, 'Belmont': 2.477121254719662, 'CA': 2.176091259055681, 'explain': 1.3631779024128254, 'behavior': 2.0, 'Inquiry': 2.477121254719662, 'chaos': 2.477121254719662, 'Behavioral': 2.477121254719662, 'Brain': 2.477121254719662, 'Sciences': 2.477121254719662, 'Petri': 1.7781512503836434, 'vote': 2.176091259055681, 'favorite': 1.7781512503836434, 'mask': 2.0, 'Team': 1.8750612633916997, 'Pts': 1.6989700043360185, 'Votes': 2.176091259055681, 'Ed': 2.0, 'Belfour': 1.8750612633916997, 'Andy': 1.8750612633916997, 'Moog': 1.6989700043360185, 'Boston': 1.2730012720637376, 'Curtis': 1.6989700043360185, 'Joseph': 1.6320232147054052, 'Louis': 1.6320232147054052, 'Hayward': 2.176091259055681, 'San': 1.6320232147054052, 'Jose': 1.6320232147054052, 'Hextall': 2.0, 'Quebec': 1.5228787452803374, 'Gerry': 2.176091259055681, 'Cheevers': 2.176091259055681, 'retire': 2.0, 'Vanbeisbrouck': 2.176091259055681, 'NY': 1.6989700043360185, 'Fuhr': 1.4357285695614372, 'Manon': 2.176091259055681, 'Rheaume': 2.176091259055681, 'Atlanta': 1.7781512503836434, 'IHL': 2.176091259055681, 'Don': 1.4771212547196624, 'Beaupre': 2.176091259055681, 'Washington': 1.6320232147054052, 'Ken': 2.0, 'Dryden': 2.176091259055681, 'Montreal': 1.4357285695614372, 'Vernon': 2.0, 'Cal': 2.176091259055681, 'Clint': 1.8750612633916997, 'malarchuk': 2.176091259055681, 'Buf': 2.176091259055681, 'SD': 2.176091259055681, 'Tommy': 1.8750612633916997, 'Soderstrom': 2.0, 'Phil': 2.0, 'LeBlanc': 2.176091259055681, 'USA': 1.6320232147054052, 'Artus': 2.176091259055681, 'Irbe': 2.176091259055681, 'SJ': 2.176091259055681, 'Tim': 2.176091259055681, 'Cheveldae': 1.8750612633916997, 'Det': 2.176091259055681, 'Sean': 2.176091259055681, 'Burke': 2.176091259055681, 'Rick': 1.7781512503836434, 'Wamsley': 2.176091259055681, 'Tor': 2.176091259055681, 'ret': 2.176091259055681, 'Jon': 1.8750612633916997, 'Casey': 2.176091259055681, 'Minn': 2.176091259055681, 'Essensa': 2.0, 'Win': 2.176091259055681, 'Healy': 1.5740312677277186, 'NYI': 1.6989700043360185, 'Toy': 2.477121254719662, 'Espo': 2.176091259055681, 'Gilles': 2.176091259055681, 'Gratton': 2.176091259055681, 'Rod': 2.176091259055681, 'Stauber': 2.0, 'Gump': 2.176091259055681, 'Worsley': 2.176091259055681, 'Jablonski': 2.176091259055681, 'TB': 2.176091259055681, 'Felix': 1.7781512503836434, 'Potvin': 1.6989700043360185, 'Stephane': 2.0, 'Beauregard': 2.176091259055681, 'Fitzpatrick': 2.176091259055681, 'Chico': 2.176091259055681, 'Resch': 2.176091259055681, 'tell': 1.0621479067488442, 'team': 0.7781512503836435, 'TV': 2.176091259055681, 'Guide': 2.477121254719662, 'next': 1.1983676537668333, 'week': 1.3979400086720375, 'SPORTSVIEW': 2.477121254719662, 'major': 1.3979400086720375, 'broadcasting': 2.477121254719662, 'interesting': 1.4357285695614372, 'prophetic': 2.477121254719662, 'appear': 1.6989700043360185, 'active': 2.176091259055681, 'old': 1.7781512503836434, 'timer': 2.176091259055681, 'news': 1.5228787452803374, 'software': 2.477121254719662, 'rot': 2.477121254719662, 'ship': 2.477121254719662, 'outgoing': 2.477121254719662, 'deep': 1.8750612633916997, 'hole': 1.7781512503836434, 'anyway': 1.3979400086720375, 'repost': 2.477121254719662, 'fall': 1.301029995663981, 'far': 1.0791812460476247, 'behind': 1.4771212547196624, 'Monday': 1.7781512503836434, 'admittedly': 2.477121254719662, 'weekend': 1.8750612633916997, 'message': 1.7781512503836434, 'aside': 1.8750612633916997, 'hiatus': 2.176091259055681, 'Fall': 2.477121254719662, 'Hell': 2.477121254719662, 'Norway': 1.8750612633916997, 'rubber': 2.176091259055681, 'room': 2.0, 'funny': 2.176091259055681, 'farm': 2.477121254719662, 'Seminary': 2.477121254719662, 'controversy': 2.477121254719662, 'waiting': 2.477121254719662, 'list': 1.4771212547196624, 'library': 2.477121254719662, 'offensive': 2.0, 'none': 1.5740312677277186, 'its': 1.2218487496163564, 'author': 1.6320232147054052, 'publisher': 2.0, 'phrase': 1.8750612633916997, 'popular': 2.0, 'writing': 2.176091259055681, 'style': 2.0, 'effort': 1.8750612633916997, 'Rushdie': 1.7781512503836434, 'grow': 2.176091259055681, 'Bombay': 2.477121254719662, 'muslim': 2.176091259055681, 'family': 2.176091259055681, 'England': 2.0, 'Delhi': 2.477121254719662, 'impression': 2.176091259055681, 'strange': 1.7781512503836434, 'construction': 1.7781512503836434, 'indian': 2.176091259055681, 'English': 2.176091259055681, 'yaar': 2.477121254719662, 'butbutbut': 2.477121254719662, 'occasional': 2.477121254719662, 'hindi': 2.176091259055681, 'sorta': 2.477121254719662, 'kinda': 2.477121254719662, 'myself': 1.6989700043360185, 'flap': 2.477121254719662, 'clear': 1.3979400086720375, 'allegory': 2.477121254719662, 'prostitute': 2.477121254719662, 'personae': 2.477121254719662, 'Muhammed': 2.477121254719662, 'wife': 2.0, 'grandfather': 2.477121254719662, 'thunder': 2.477121254719662, 'imply': 1.6320232147054052, 'angry': 2.0, 'completely': 1.6320232147054052, 'militant': 2.477121254719662, 'oops': 2.477121254719662, 'insulting': 2.477121254719662, 'Islam': 1.6320232147054052, 'expose': 2.176091259055681, 'silliness': 2.477121254719662, 'religion': 1.1153934187020693, 'omnipotent': 2.176091259055681, 'deity': 2.176091259055681, 'she': 1.4357285695614372, 'directly': 1.6989700043360185, 'desert': 2.477121254719662, 'smoke': 2.477121254719662, 'scribe': 2.477121254719662, 'dictate': 2.176091259055681, 'Quran': 2.176091259055681, 'verse': 2.0, 'marry': 2.477121254719662, 'four': 1.2730012720637376, 'woman': 2.0, 'insult': 2.176091259055681, 'majority': 2.176091259055681, 'follower': 1.7781512503836434, 'suppress': 2.176091259055681, 'sight': 2.176091259055681, 'unseen': 2.477121254719662, 'response': 1.5740312677277186, 'talk': 1.0621479067488442, 'silly': 1.8750612633916997, 'Mein': 2.477121254719662, 'Kampf': 2.477121254719662, 'wonder': 1.5740312677277186, 'decide': 1.3631779024128254, 'themselves': 1.6320232147054052, 'community': 1.8750612633916997, 'absence': 2.176091259055681, 'protest': 2.477121254719662, 'liberal': 2.477121254719662, 'muslims': 2.176091259055681, 'Khomeini': 1.8750612633916997, 'fatwa': 1.7781512503836434, 'outrage': 2.477121254719662, 'atheism': 1.6320232147054052, 'diplomatic': 2.477121254719662, 'Occam': 2.0, 'razor': 2.176091259055681, 'feel': 1.3309932190414244, 'firstly': 2.477121254719662, 'impressed': 2.0, 'ability': 1.6320232147054052, 'specific': 2.0, 'numerical': 2.477121254719662, 'crossword': 2.477121254719662, 'simple': 1.5228787452803374, 'sum': 2.176091259055681, 'insert': 1.8750612633916997, 'efficiency': 2.477121254719662, 'figure': 1.8750612633916997, 'variety': 2.477121254719662, 'trick': 1.8750612633916997, 'program': 1.7781512503836434, 'puzzle': 2.477121254719662, 'yourself': 1.3979400086720375, 'obfuscate': 2.477121254719662, 'uncover': 2.477121254719662, 'pre': 2.0, 'somewhat': 1.8750612633916997, 'ultimately': 1.8750612633916997, 'encode': 2.477121254719662, 'chromosome': 2.477121254719662, 'material': 1.8750612633916997, 'environment': 2.176091259055681, 'equation': 2.477121254719662, 'air': 2.0, 'object': 2.176091259055681, 'X': 2.0, 'Y': 2.477121254719662, 'anticipate': 2.477121254719662, 'algorithms': 2.477121254719662, 'instability': 2.477121254719662, 'large': 1.3979400086720375, 'portion': 2.0, 'stroke': 2.176091259055681, 'haywire': 2.477121254719662, 'side': 1.7781512503836434, 'remarkably': 2.477121254719662, 'stable': 2.477121254719662, 'neuron': 2.477121254719662, 'perfectly': 2.0, 'healthy': 2.0, 'alarming': 2.477121254719662, 'randomly': 2.477121254719662, 'corrupt': 2.477121254719662, 'sticky': 2.477121254719662, 'replace': 2.0, 'choice': 1.7781512503836434, 'presumably': 2.0, 'materialist': 2.477121254719662, 'product': 2.176091259055681, 'kind': 1.3631779024128254, 'usual': 1.8750612633916997, 'energy': 2.477121254719662, 'mixture': 2.176091259055681, 'chemistry': 2.176091259055681, 'selective': 2.477121254719662, 'output': 2.477121254719662, 'ought': 2.477121254719662, 'correctly': 2.176091259055681, 'quantum': 2.477121254719662, 'mechanic': 2.477121254719662, 'consist': 2.176091259055681, 'Unitary': 2.477121254719662, 'Evolution': 2.477121254719662, 'u': 2.0, 'govern': 2.477121254719662, 'Schroedinger': 2.477121254719662, 'known': 2.0, 'vector': 2.477121254719662, 'reduction': 2.477121254719662, 'r': 1.7781512503836434, 'mysterious': 2.477121254719662, 'measurement': 2.477121254719662, 'nobody': 1.8750612633916997, 'precisely': 2.0, 'abruptly': 2.477121254719662, 'envisage': 2.477121254719662, 'R': 2.477121254719662, 'interaction': 2.477121254719662, 'between': 1.1983676537668333, 'imaginitively': 2.477121254719662, 'reasonable': 1.6320232147054052, 'x': 1.8750612633916997, 'U': 2.477121254719662, 'speculate': 2.0, 'There': 2.477121254719662, 'link': 2.176091259055681, 'linear': 2.477121254719662, 'alternative': 2.176091259055681, 'explaination': 2.477121254719662, 'main': 2.477121254719662, 'nice': 1.6989700043360185, 'padded': 2.477121254719662, 'cell': 2.176091259055681, 'Anthoney': 2.477121254719662, 'file': 1.8750612633916997, 'religious': 1.2730012720637376, 'language': 2.176091259055681, 'meat': 2.176091259055681, 'immoral': 2.176091259055681, 'differentiate': 2.176091259055681, 'preference': 2.176091259055681, 'basis': 1.6320232147054052, 'consensus': 2.176091259055681, 'position': 1.6320232147054052, 'societally': 2.477121254719662, 'mandate': 2.477121254719662, 'whoever': 2.0, 'MC': 2.477121254719662, 'MAC': 2.0, 'Michael': 1.7781512503836434, 'Cobb': 2.0, 'taxis': 2.0, 'middle': 2.0, 'University': 1.6989700043360185, 'Illinois': 1.7781512503836434, 'class': 1.7781512503836434, 'Champaign': 2.0, 'Urbana': 2.0, 'Clinton': 2.0, 'Debate': 2.0, 'World': 2.0, 'Championships': 2.176091259055681, 'Germany': 2.176091259055681, 'Group': 2.477121254719662, 'standing': 2.0, 'Munich': 2.477121254719662, 'B': 1.6320232147054052, 'dortmund': 2.477121254719662, 'GP': 1.7781512503836434, 'W': 2.0, 'T': 2.176091259055681, 'L': 1.7781512503836434, 'GF': 2.477121254719662, 'GA': 2.0, 'p': 2.477121254719662, 'Canada': 1.5740312677277186, 'Czech': 2.176091259055681, 'republic': 2.477121254719662, 'Russia': 2.176091259055681, 'Finland': 2.176091259055681, 'Sweden': 2.176091259055681, 'Italy': 1.8750612633916997, 'Switzerland': 2.477121254719662, 'France': 2.477121254719662, 'Austria': 2.477121254719662, 'April': 1.8750612633916997, 'Quarterfinals': 2.477121254719662, 'b': 1.7781512503836434, 'relegation': 2.477121254719662, 'Semifinals': 2.477121254719662, 'May': 2.0, 'Relegation': 2.477121254719662, 'Bronze': 2.477121254719662, 'medal': 2.477121254719662, 'FINAL': 2.477121254719662, 'terrible': 2.176091259055681, 'hey': 1.8750612633916997, 'entirely': 1.8750612633916997, 'another': 1.1760912590556811, 'okay': 2.0, 'thriving': 2.477121254719662, 'inside': 2.477121254719662, 'story': 1.4771212547196624, 'group': 1.3309932190414244, 'Minneapolis': 2.477121254719662, 'businessman': 2.477121254719662, 'Green': 2.176091259055681, 'repeatedly': 2.477121254719662, 'obvious': 1.5740312677277186, 'determined': 2.477121254719662, 'excuse': 1.6989700043360185, 'fortunate': 2.477121254719662, 'penultimate': 2.477121254719662, 'People': 1.6320232147054052, 'tailgate': 2.477121254719662, 'roller': 2.477121254719662, 'parking': 2.176091259055681, 'attendance': 2.0, 'SRO': 2.477121254719662, 'atmosphere': 2.0, 'Centre': 2.176091259055681, 'terrific': 2.176091259055681, 'Minnesota': 2.0, 'Hockey': 1.5740312677277186, 'blithely': 2.477121254719662, 'Ali': 2.176091259055681, 'hypothetical': 2.0, 'atheist': 1.154901959985743, 'gullible': 2.477121254719662, 'excitable': 2.477121254719662, 'easily': 2.477121254719662, 'concrete': 2.176091259055681, 'factor': 1.6320232147054052, 'subsequent': 2.176091259055681, 'drug': 2.0, 'getting': 1.8750612633916997, 'connection': 2.0, 'trivial': 2.176091259055681, 'net': 1.4357285695614372, 'Glossary': 2.477121254719662, 'satanic': 2.176091259055681, 'Verses': 2.176091259055681, 'Vijay': 2.477121254719662, 'Raghavan': 2.477121254719662, 'culture': 2.477121254719662, 'Jahilia': 2.477121254719662, 'Submission': 2.477121254719662, 'Satanic': 2.176091259055681, 'incident': 1.6989700043360185, 'couple': 1.6320232147054052, 'hundred': 2.176091259055681, 'page': 2.176091259055681, 'flow': 2.477121254719662, 'novel': 2.477121254719662, 'mail': 1.4771212547196624, 'add': 1.7781512503836434, 'Bruins': 1.4357285695614372, 'flagship': 2.477121254719662, 'station': 1.7781512503836434, 'outside': 1.8750612633916997, 'watt': 2.477121254719662, 'EEI': 2.477121254719662, 'sport': 1.5228787452803374, 'whenever': 1.8750612633916997, 'conflict': 2.0, 'NBA': 2.477121254719662, 'Celtics': 2.477121254719662, 'regular': 1.4771212547196624, 'financially': 2.477121254719662, 'troubled': 2.477121254719662, 'WEEI': 2.477121254719662, 'resurface': 2.477121254719662, 'WHDH': 2.477121254719662, 'tune': 2.477121254719662, 'pathetic': 2.176091259055681, 'complain': 1.7781512503836434, 'coverage': 1.7781512503836434, 'suck': 2.176091259055681, 'Sportscenter': 2.0, 'shoot': 1.6320232147054052, 'ass': 1.6989700043360185, 'Ohio': 2.477121254719662, 'Indians': 2.0, 'Bill': 1.3979400086720375, 'Clement': 2.176091259055681, 'calm': 2.0, 'Caps': 1.3979400086720375, 'remerbe': 2.477121254719662, 'boring': 1.5228787452803374, 'overall': 1.8750612633916997, 'firmly': 1.8750612633916997, 'belive': 2.477121254719662, 'ie': 2.176091259055681, 'contract': 1.6320232147054052, 'praise': 1.8750612633916997, 'shit': 1.6320232147054052, 'GO': 1.8750612633916997, 'HAWKS': 2.477121254719662, 'yeah': 1.8750612633916997, 'root': 1.8750612633916997, 'Piled': 2.176091259055681, 'Higher': 2.176091259055681, 'Deeper': 2.176091259055681, 'feeling': 2.477121254719662, 'alot': 2.0, 'band': 2.477121254719662, 'wagon': 2.477121254719662, 'PIT': 2.0, 'present': 1.7781512503836434, 'Point': 2.477121254719662, 'Pitt': 2.0, 'Him': 2.176091259055681, 'F': 2.477121254719662, 'ing': 2.477121254719662, 'awesome': 1.7781512503836434, 'Me': 2.477121254719662, 'meet': 1.8750612633916997, 'Detroit': 1.5740312677277186, 'Playoffs': 2.477121254719662, 'Uhhhh': 2.477121254719662, 'ago': 1.3309932190414244, 'Waddlers': 2.477121254719662, 'float': 2.477121254719662, 'disappear': 2.477121254719662, 'woodwork': 2.176091259055681, 'Flames': 1.6320232147054052, 'dev': 2.477121254719662, 'null': 2.477121254719662, 'serious': 1.6989700043360185, 'welcome': 2.0, 'Rich': 1.8750612633916997, 'wood': 2.176091259055681, 'fairly': 1.6989700043360185, 'enforcer': 2.477121254719662, 'Fleury': 2.176091259055681, 'dody': 2.477121254719662, 'having': 2.0, 'closeup': 2.477121254719662, 'pass': 1.4357285695614372, 'fist': 2.176091259055681, 'smart': 2.0, 'grab': 2.0, 'significant': 2.477121254719662, 'fish': 2.0, 'flop': 2.477121254719662, 'beach': 2.176091259055681, 'entire': 1.5740312677277186, 'strategy': 2.0, 'reach': 2.0, 'opening': 2.477121254719662, 'got': 1.6989700043360185, 'neutralize': 2.477121254719662, 'stomp': 2.477121254719662, 'camp': 2.477121254719662, 'career': 2.0, 'minor': 2.0, 'leaguer': 2.477121254719662, 'taste': 2.176091259055681, 'Sharks': 1.7781512503836434, 'speed': 2.176091259055681, 'versatility': 2.477121254719662, 'goond': 2.477121254719662, 'particularly': 2.0, 'goon': 2.176091259055681, 'Pollin': 2.477121254719662, 'Cap': 2.477121254719662, 'Bullets': 2.477121254719662, 'Abe': 2.477121254719662, 'guarantee': 2.0, 'park': 2.0, 'mile': 2.176091259055681, 'recent': 2.0, 'OT': 1.4357285695614372, 'rain': 2.176091259055681, 'provide': 1.7781512503836434, 'bonus': 2.0, 'tick': 2.176091259055681, 'Wash': 2.0, 'advertiser': 2.176091259055681, 'skip': 1.8750612633916997, 'CHILL': 2.176091259055681, 'enjoy': 1.6989700043360185, 'partly': 2.0, 'ardent': 2.477121254719662, 'Game': 1.6989700043360185, 'MLB': 2.477121254719662, 'bb': 2.477121254719662, 'Red': 1.6320232147054052, 'Sox': 2.477121254719662, 'inaccurate': 2.477121254719662, 'selfish': 2.477121254719662, 'CBS': 2.477121254719662, 'approximately': 2.477121254719662, 'per': 1.6989700043360185, 'consumer': 2.477121254719662, 'displeasure': 2.477121254719662, 'serve': 1.7781512503836434, 'Major': 2.477121254719662, 'League': 2.477121254719662, 'Baseball': 2.176091259055681, 'commit': 2.176091259055681, 'single': 1.8750612633916997, 'telecast': 2.0, 'everything': 1.6320232147054052, 'actually': 1.2466723333413885, 'stuff': 1.3979400086720375, 'JC': 2.477121254719662, 'carpenter': 2.477121254719662, 'source': 1.6989700043360185, 'assertion': 1.6989700043360185, 'Christian': 1.6320232147054052, 'record': 1.6320232147054052, 'build': 1.6320232147054052, 'table': 2.176091259055681, 'house': 2.477121254719662, 'stair': 2.477121254719662, 'Norm': 2.477121254719662, 'Abrams': 2.477121254719662, 'skill': 2.0, 'kitchen': 2.176091259055681, 'counter': 2.477121254719662, 'cabinet': 2.477121254719662, 'cross': 1.5740312677277186, 'pressure': 2.176091259055681, 'treat': 2.0, 'lumber': 2.477121254719662, 'ta': 2.176091259055681, 'mose': 2.477121254719662, 'outdoor': 2.477121254719662, 'application': 2.477121254719662, 'bumper': 2.477121254719662, 'sticker': 2.477121254719662, 'boss': 2.477121254719662, 'jewish': 1.8750612633916997, 'Carpenter': 1.7781512503836434, 'Ford': 2.477121254719662, 'Escorts': 2.477121254719662, 'apprentice': 2.477121254719662, 'drive': 1.7781512503836434, 'pickup': 2.477121254719662, 'verification': 2.477121254719662, 'Dean': 1.8750612633916997, 'Kaflowitz': 2.176091259055681, 'Fox': 2.477121254719662, 'Letterman': 2.0, 'celebrity': 2.477121254719662, 'NHLer': 2.477121254719662, 'Ulfie': 2.477121254719662, 'leg': 2.0, 'Neely': 2.176091259055681, 'amusing': 1.8750612633916997, 'viewer': 2.0, 'pen': 1.7781512503836434, 'Douglas': 2.477121254719662, 'aka': 2.477121254719662, 'Keaton': 2.477121254719662, 'despite': 1.7781512503836434, 'lack': 1.4771212547196624, 'ABC': 1.8750612633916997, 'decline': 2.477121254719662, 'till': 1.8750612633916997, 'continue': 1.6989700043360185, 'compare': 1.6989700043360185, 'Georgia': 2.477121254719662, 'Alabama': 2.477121254719662, 'annoying': 2.0, 'PIttsburgh': 2.477121254719662, 'preemptionchannel': 2.477121254719662, 'netwoork': 2.477121254719662, 'prempte': 2.477121254719662, 'affiliate': 2.176091259055681, 'rating': 2.0, 'consider': 1.3979400086720375, 'promotion': 2.176091259055681, 'syndicate': 2.477121254719662, 'programming': 2.477121254719662, 'afternoon': 2.176091259055681, 'low': 1.8750612633916997, 'golf': 2.176091259055681, 'oin': 2.477121254719662, 'coherent': 2.477121254719662, 'neutral': 2.176091259055681, 'site': 1.8750612633916997, 'demographic': 2.477121254719662, 'begin': 1.6320232147054052, 'tie': 1.4357285695614372, 'Roseanne': 2.477121254719662, 'thier': 2.477121254719662, 'bboard': 2.477121254719662, 'WSB': 2.477121254719662, 'bitterlyt': 2.477121254719662, 'stop': 1.5228787452803374, 'unprofessional': 2.477121254719662, 'handle': 2.477121254719662, 'mythology': 2.0, 'immediately': 1.6320232147054052, 'thump': 2.0, 'babble': 2.0, 'Ms': 2.176091259055681, 'approach': 2.0, 'evolution': 1.6989700043360185, 'duh': 2.176091259055681, 'gee': 2.176091259055681, 'christian': 1.5740312677277186, 'logical': 2.0, 'repetition': 2.176091259055681, 'thousand': 2.176091259055681, 'delete': 1.2730012720637376, 'remark': 1.8750612633916997, 'spot': 2.0, 'uninteresting': 2.176091259055681, 'doctrine': 2.176091259055681, 'contain': 1.5228787452803374, 'congratulate': 2.0, 'bite': 2.176091259055681, 'ball': 1.8750612633916997, 'persistent': 2.176091259055681, 'assist': 1.6989700043360185, 'forum': 2.176091259055681, 'talent': 1.5740312677277186, 'meager': 2.176091259055681, 'capacity': 1.8750612633916997, 'influence': 1.7781512503836434, 're': 1.8750612633916997, 'characterize': 2.176091259055681, 'refute': 2.176091259055681, 'ad': 1.8750612633916997, 'hominum': 2.477121254719662, 'sufficient': 2.477121254719662, 'disapproval': 2.477121254719662, 'contribution': 2.477121254719662, 'pressed': 2.477121254719662, 'Fereirra': 2.477121254719662, 'benefit': 2.0, 'hindsight': 2.477121254719662, 'view': 1.4357285695614372, 'upper': 2.477121254719662, 'management': 2.0, 'trade': 1.6320232147054052, 'Kisio': 1.7781512503836434, 'Feirerra': 2.477121254719662, 'inclined': 2.477121254719662, 'opposite': 2.0, 'obviously': 1.8750612633916997, 'lucky': 2.477121254719662, 'sacrifice': 2.477121254719662, 'Muse': 2.477121254719662, 'Fax': 2.477121254719662, 'gak': 2.477121254719662, 'Devorski': 2.477121254719662, 'taint': 2.477121254719662, 'otherwise': 1.7781512503836434, 'brilliant': 2.176091259055681, 'display': 2.0, 'MacLean': 2.176091259055681, 'jet': 1.5228787452803374, 'tightly': 2.477121254719662, 'btw': 1.6989700043360185, 'asleep': 2.176091259055681, 'geography': 2.477121254719662, 'sad': 2.176091259055681, 'spell': 2.477121254719662, 'Winnipeg': 1.8750612633916997, 'properly': 2.0, 'North': 1.6989700043360185, 'America': 1.8750612633916997, 'Vancouver': 1.6320232147054052, 'championship': 1.8750612633916997, 'oh': 1.5740312677277186, 'Arena': 1.8750612633916997, 'six': 1.8750612633916997, 'banner': 2.477121254719662, 'hang': 1.6989700043360185, 'rafter': 2.477121254719662, 'Stanley': 1.8750612633916997, 'Cup': 1.5228787452803374, 'Avco': 2.477121254719662, 'guide': 2.0, 'rockin': 2.477121254719662, 'Kenora': 2.477121254719662, 'Rob': 2.176091259055681, 'Niedermayer': 2.176091259055681, 'forward': 2.176091259055681, 'WHL': 2.0, 'Medicine': 2.176091259055681, 'Hat': 2.176091259055681, 'Tigers': 2.477121254719662, 'disagree': 1.4771212547196624, 'her': 1.6320232147054052, 'irrationality': 2.477121254719662, 'belief': 1.4771212547196624, 'dogmatic': 2.477121254719662, 'symptom': 2.477121254719662, 'agnostic': 2.477121254719662, 'theoretically': 2.477121254719662, 'ill': 2.176091259055681, 'equipped': 2.477121254719662, 'persistence': 2.477121254719662, 'among': 1.6989700043360185, 'rank': 2.477121254719662, 'philosopher': 2.176091259055681, 'therefore': 1.6320232147054052, 'thereof': 2.477121254719662, 'secondary': 2.176091259055681, 'oppose': 1.7781512503836434, 'science': 1.6320232147054052, 'practice': 1.8750612633916997, 'theist': 1.4771212547196624, 'defence': 1.8750612633916997, 'faith': 1.5740312677277186, 'dogma': 1.7781512503836434, 'skepticism': 2.477121254719662, 'foolproof': 2.477121254719662, 'wonderful': 2.176091259055681, 'creature': 2.477121254719662, 'theory': 1.6989700043360185, 'proof': 1.6989700043360185, 'deficient': 2.477121254719662, 'basically': 1.6989700043360185, 'ideally': 2.176091259055681, 'reality': 1.6989700043360185, 'acknowledge': 2.477121254719662, 'scientist': 2.176091259055681, 'ego': 2.176091259055681, 'bias': 2.0, 'particular': 1.5740312677277186, 'admit': 1.4771212547196624, 'flaw': 2.477121254719662, 'proceed': 2.0, 'spend': 1.6989700043360185, 'cold': 2.477121254719662, 'fusion': 2.477121254719662, 'Waco': 2.0, 'crisis': 2.477121254719662, 'outcome': 2.0, 'suicide': 2.176091259055681, 'rare': 2.0, 'Jonestown': 2.176091259055681, 'Guyana': 2.477121254719662, 'incidentally': 2.477121254719662, 'foot': 1.8750612633916997, 'bill': 2.477121254719662, 'citizen': 2.477121254719662, 'soldier': 2.477121254719662, 'Vietnam': 2.477121254719662, 'War': 1.8750612633916997, 'top': 2.0, 'tournament': 2.176091259055681, 'Olympics': 2.176091259055681, 'pool': 1.8750612633916997, 'Britain': 2.477121254719662, 'Poland': 2.477121254719662, 'winner': 2.0, 'C': 1.8750612633916997, 'Latvia': 2.477121254719662, 'Olympic': 2.176091259055681, 'host': 2.477121254719662, 'surprise': 1.6320232147054052, 'A': 1.8750612633916997, 'qualification': 2.176091259055681, 'overhead': 2.477121254719662, 'replay': 1.8750612633916997, 'defender': 2.176091259055681, 'deflect': 2.0, 'puck': 1.4357285695614372, 'nearly': 1.7781512503836434, 'controversial': 2.176091259055681, 'Roy': 1.8750612633916997, 'Damphousse': 2.176091259055681, 'hopefully': 2.176091259055681, 'sign': 1.6320232147054052, 'deserve': 1.6320232147054052, 'Hart': 2.477121254719662, 'brainer': 2.477121254719662, 'trophy': 2.477121254719662, 'arguement': 2.176091259055681, 'worthless': 2.477121254719662, 'Mario': 1.6989700043360185, 'Leafs': 1.3309932190414244, 'Gilmour': 1.8750612633916997, 'Tampa': 2.477121254719662, 'Bay': 2.0, 'close': 1.6989700043360185, 'race': 2.0, 'victory': 1.6989700043360185, 'dislike': 2.176091259055681, 'Doug': 1.7781512503836434, 'passion': 2.477121254719662, 'concede': 2.176091259055681, 'knowledgable': 2.477121254719662, 'superior': 1.8750612633916997, 'Toronto': 1.7781512503836434, 'stand': 1.5228787452803374, 'misstatement': 2.477121254719662, 'Vice': 2.477121254719662, 'President': 2.477121254719662, 'Quayle': 2.477121254719662, 'Sam': 2.477121254719662, 'Donaldson': 2.477121254719662, 'Quoting': 2.477121254719662, 'Rogers': 2.477121254719662, 'GR': 2.477121254719662, 'hi': 2.176091259055681, 'due': 1.3309932190414244, 'living': 2.176091259055681, 'Area': 2.176091259055681, 'unable': 2.477121254719662, 'rarely': 2.0, 'brief': 2.477121254719662, 'sonapsis': 2.477121254719662, 'sp': 2.176091259055681, 'waht': 2.477121254719662, 'cannuck': 2.477121254719662, 'email': 1.7781512503836434, 'stat': 2.0, 'virtual': 2.0, 'sorry': 1.2466723333413885, 'rrally': 2.477121254719662, 'Smythe': 2.477121254719662, 'Division': 2.176091259055681, 'scoring': 1.5228787452803374, 'threat': 2.0, 'prove': 1.3979400086720375, 'pure': 2.0, 'Mogilny': 1.7781512503836434, 'russian': 2.0, 'friend': 1.5740312677277186, 'Kymlev': 2.477121254719662, 'difference': 1.3979400086720375, 'islander': 1.8750612633916997, 'Pitts': 2.477121254719662, 'isle': 2.0, 'Willing': 2.477121254719662, 'crush': 2.176091259055681, 'Flame': 2.477121254719662, 'shield': 2.477121254719662, 'interject': 2.477121254719662, 'Islanders': 1.5228787452803374, 'bet': 2.0, 'belong': 1.6989700043360185, 'moderate': 2.0, 'anally': 2.477121254719662, 'retentive': 2.477121254719662, 'dullard': 2.477121254719662, 'hardly': 2.0, 'presume': 2.477121254719662, 'lecture': 2.477121254719662, 'communicate': 2.0, 'subject': 1.5228787452803374, 'letter': 1.8750612633916997, 'content': 2.0, 'Moronic': 2.477121254719662, 'busy': 1.7781512503836434, 'body': 1.6989700043360185, 'perceive': 2.477121254719662, 'opportunity': 2.0, 'significance': 2.0, 'insist': 2.176091259055681, 'sleep': 2.0, 'Malarchuk': 2.176091259055681, 'dangerous': 1.7781512503836434, 'accident': 2.176091259055681, 'ice': 1.5228787452803374, 'Borje': 2.477121254719662, 'salming': 2.477121254719662, 'crease': 2.0, 'stiche': 2.477121254719662, 'cult': 2.176091259055681, 'bull': 2.477121254719662, 'date': 1.8750612633916997, 'civilian': 2.176091259055681, 'count': 2.0, 'er': 2.176091259055681, 'collateral': 2.176091259055681, 'reliability': 2.477121254719662, 'judge': 1.7781512503836434, 'bombing': 2.477121254719662, 'later': 1.3979400086720375, 'disease': 2.477121254719662, 'sewer': 2.176091259055681, 'Baghdad': 2.176091259055681, 'deliberately': 2.176091259055681, 'starvation': 2.477121254719662, 'copy': 1.6320232147054052, 'research': 2.477121254719662, 'June': 2.176091259055681, 'July': 2.477121254719662, 'propose': 2.477121254719662, 'Census': 2.477121254719662, 'Bureau': 2.477121254719662, 'report': 1.7781512503836434, 'CB': 2.176091259055681, 'sack': 2.477121254719662, 'fail': 1.5740312677277186, 'procedural': 2.477121254719662, 'technicality': 2.477121254719662, 'permanent': 2.477121254719662, 'King': 1.8750612633916997, 'Thomas': 1.6320232147054052, 'hunter': 2.176091259055681, 'Johansson': 2.0, 'Vaske': 2.176091259055681, 'pp': 2.0, 'Hogue': 2.0, 'unassisted': 2.477121254719662, 'Khristich': 2.176091259055681, 'Cavallini': 2.0, 'Bondra': 2.0, 'Ferraro': 1.8750612633916997, 'Flatley': 1.8750612633916997, 'Mullen': 2.0, 'Power': 2.477121254719662, 'Scorer': 2.477121254719662, 'G': 1.8750612633916997, 'Hunter': 2.0, 'Leschyshyn': 2.176091259055681, 'Kamensky': 2.176091259055681, 'Sakic': 2.176091259055681, 'Lapointe': 2.176091259055681, 'Duchesne': 2.176091259055681, 'Bellows': 2.0, 'Odelein': 2.176091259055681, 'Ricci': 2.176091259055681, 'en': 1.7781512503836434, 'Pittsburgh': 2.0, 'McEachern': 2.0, 'Francis': 1.8750612633916997, 'Taglianetti': 2.0, 'Samuelsson': 2.477121254719662, 'sh': 2.0, 'Tocchet': 2.0, 'Ramsey': 2.0, 'Murphy': 1.7781512503836434, 'Daniels': 2.176091259055681, 'Third': 2.477121254719662, 'Presley': 2.176091259055681, 'Moller': 2.477121254719662, 'Sweeney': 2.176091259055681, 'Lafontaine': 2.477121254719662, 'hawerchuk': 2.176091259055681, 'Carney': 2.0, 'Smehlik': 2.0, 'Hawerchuk': 1.8750612633916997, 'spark': 2.176091259055681, 'crowd': 1.7781512503836434, 'defense': 1.5740312677277186, 'unstoppable': 2.477121254719662, 'defensive': 2.176091259055681, 'stellar': 2.477121254719662, 'performance': 2.0, 'earn': 2.176091259055681, 'robb': 2.477121254719662, 'Stopper': 2.477121254719662, 'Sandstrom': 2.477121254719662, 'left': 2.0, 'Carson': 2.176091259055681, 'Robataille': 2.477121254719662, 'Kurri': 2.477121254719662, 'ignite': 2.477121254719662, 'light': 2.176091259055681, 'Hopefully': 2.477121254719662, 'evident': 2.477121254719662, 'drought': 2.477121254719662, 'Luc': 2.477121254719662, 'slight': 2.176091259055681, 'breakaway': 2.176091259055681, 'steamed': 2.477121254719662, 'bench': 1.8750612633916997, 'emotion': 2.0, 'streak': 2.0, 'Blake': 2.477121254719662, 'wide': 2.176091259055681, 'affect': 1.6320232147054052, 'e': 1.6320232147054052, 'd': 1.6989700043360185, 'g': 2.176091259055681, 'digit': 2.477121254719662, 'paycheck': 2.477121254719662, 'binary': 2.477121254719662, 'Jaro': 2.477121254719662, 'Leaf': 1.8750612633916997, 'hurt': 1.8750612633916997, 'Cheers': 2.477121254719662, 'Brad': 2.0, 'McCrimmon': 2.477121254719662, 'captain': 2.176091259055681, 'countless': 2.477121254719662, 'sure': 1.1153934187020693, 'Forsrg': 2.477121254719662, 'sao': 2.477121254719662, 'Deletion': 2.176091259055681, 'essence': 2.477121254719662, 'found': 2.176091259055681, 'motivate': 2.0, 'nonetheless': 2.477121254719662, 'alike': 2.477121254719662, 'specie': 2.176091259055681, 'fallacy': 1.7781512503836434, 'supermajority': 2.477121254719662, 'disintereste': 2.477121254719662, 'fundamantal': 2.477121254719662, 'ethic': 2.477121254719662, 'YET': 2.477121254719662, 'Benedikt': 2.176091259055681, 'observation': 1.8750612633916997, 'unlike': 2.0, 'conveniently': 2.176091259055681, 'tghe': 2.176091259055681, 'analogy': 2.176091259055681, 'freedom': 2.0, 'condition': 2.477121254719662, 'sufficiently': 2.176091259055681, 'vanish': 2.176091259055681, 'cogent': 2.477121254719662, 'objection': 2.176091259055681, 'implication': 2.477121254719662, 'compete': 2.0, 'garbage': 2.176091259055681, 'reiterate': 2.176091259055681, 'preacher': 2.477121254719662, 'check': 1.3979400086720375, 'reside': 2.477121254719662, 'dont': 2.477121254719662, 'PLAYOFF': 1.6320232147054052, 'SCORES': 2.477121254719662, 'NEWS': 2.477121254719662, 'parody': 2.477121254719662, 'atheistic': 2.477121254719662, 'paradie': 2.477121254719662, 'substantiate': 2.477121254719662, 'outrageous': 2.477121254719662, 'Specifically': 2.477121254719662, 'IUP': 2.477121254719662, 'private': 1.8750612633916997, 'Jennifer': 2.0, 'Fakult': 2.0, 'sarcasm': 2.0, 'cycnicism': 2.0, 'irony': 1.8750612633916997, 'humor': 2.0, 'aware': 1.6320232147054052, 'possibility': 1.6989700043360185, 'confused': 2.0, 'throw': 1.4357285695614372, 'loop': 2.0, 'doubt': 1.3979400086720375, 'BULLSHIT': 2.176091259055681, 'Gulf': 2.0, 'Massacre': 2.176091259055681, 'ordnance': 2.176091259055681, 'dumb': 2.0, 'iron': 2.176091259055681, 'bomb': 2.0, 'Pentagon': 2.0, 'successful': 2.176091259055681, 'Patriot': 2.176091259055681, 'launch': 2.0, 'missile': 2.176091259055681, 'tube': 2.0, 'interception': 2.176091259055681, 'Scud': 2.176091259055681, 'sky': 2.0, 'arsenal': 2.176091259055681, 'Kelly': 1.8750612633916997, 'deletion': 2.0, 'Bogus': 2.477121254719662, 'theism': 1.8750612633916997, 'fanatism': 2.477121254719662, 'straw': 1.8750612633916997, 'correlation': 2.477121254719662, 'innate': 2.176091259055681, 'feature': 2.477121254719662, 'Gullibility': 2.477121254719662, 'forbid': 2.477121254719662, 'offer': 1.6320232147054052, 'bogus': 2.477121254719662, 'Self': 2.477121254719662, 'circular': 2.477121254719662, 'evaluation': 2.477121254719662, 'usefulness': 2.477121254719662, 'possible': 1.4771212547196624, 'rational': 2.176091259055681, 'mathematic': 2.477121254719662, 'therfore': 2.477121254719662, 'contradictory': 2.176091259055681, 'god': 1.4771212547196624, 'axiomatic': 2.477121254719662, 'datum': 1.8750612633916997, 'analysis': 2.176091259055681, 'often': 1.5740312677277186, 'axiom': 2.477121254719662, 'evaluate': 2.477121254719662, 'derive': 2.477121254719662, 'consistency': 2.477121254719662, 'traditonal': 2.477121254719662, 'entity': 2.176091259055681, 'connect': 2.176091259055681, 'becuase': 2.176091259055681, 'sound': 1.7781512503836434, 'dismiss': 2.0, 'further': 2.477121254719662, 'Amalekites': 2.477121254719662, 'idolater': 2.477121254719662, 'Protestants': 2.0, 'Religion': 2.0, 'memetic': 2.477121254719662, 'virus': 2.477121254719662, 'loudly': 2.477121254719662, 'proclaim': 2.477121254719662, 'border': 2.176091259055681, 'entrench': 2.477121254719662, 'memoid': 2.477121254719662, 'shut': 1.8750612633916997, 'fuck': 2.0, 'politely': 2.176091259055681, 'motive': 2.176091259055681, 'conversation': 2.176091259055681, 'gratify': 2.477121254719662, 'spread': 1.8750612633916997, 'reflect': 2.0, 'judgement': 2.176091259055681, 'brainwash': 2.477121254719662, 'today': 1.4771212547196624, 'intente': 2.477121254719662, 'proclamation': 2.477121254719662, 'Susan': 2.176091259055681, 'Clark': 2.0, 'celebrate': 2.176091259055681, 'Tod': 2.477121254719662, 'Hartje': 2.477121254719662, 'Harvard': 2.477121254719662, 'AHL': 2.176091259055681, 'initially': 2.477121254719662, 'Moncton': 1.8750612633916997, 'currently': 1.8750612633916997, 'Daryl': 2.477121254719662, 'Turner': 2.477121254719662, 'update': 2.477121254719662, 'distinction': 1.8750612633916997, 'american': 1.8750612633916997, 'bear': 1.7781512503836434, 'former': 2.176091259055681, 'Soviet': 2.477121254719662, 'Union': 2.477121254719662, 'arrange': 2.477121254719662, 'GM': 1.7781512503836434, 'european': 2.477121254719662, 'enter': 2.176091259055681, 'Line': 2.477121254719662, 'hello': 2.176091259055681, 'faceoff': 2.0, 'incestuous': 2.477121254719662, 'funniest': 2.477121254719662, 'term': 1.5740312677277186, 'paper': 2.0, 'freshman': 2.477121254719662, 'ontological': 2.477121254719662, 'existence': 1.7781512503836434, 'Anselm': 2.477121254719662, 'Descartes': 2.477121254719662, 'Draft': 2.477121254719662, 'Logistician': 2.477121254719662, 'TL': 2.477121254719662, 'Borque': 2.477121254719662, 'Thanx': 2.477121254719662, 'Paul': 1.7781512503836434, 'Coffey': 2.176091259055681, 'ignorant': 2.176091259055681, 'Ridalin': 2.477121254719662, 'whale': 2.477121254719662, 'Nye': 2.477121254719662, 'lay': 2.0, 'lean': 2.176091259055681, 'toward': 1.6989700043360185, 'extend': 2.176091259055681, 'eye': 1.7781512503836434, 'condemn': 2.0, 'buzz': 2.477121254719662, 'default': 2.477121254719662, 'followup': 2.477121254719662, 'newsgroup': 1.7781512503836434, 'excerpt': 2.477121254719662, 'ownership': 2.176091259055681, 'dominantly': 2.477121254719662, 'arrogant': 1.7781512503836434, 'supremacy': 2.477121254719662, 'mankind': 2.477121254719662, 'Most': 1.8750612633916997, 'disagreement': 2.477121254719662, 'supremely': 2.477121254719662, 'jeremy': 2.477121254719662, 'scott': 2.477121254719662, 'noonan': 2.477121254719662, 'advertise': 2.176091259055681, 'hell': 1.5740312677277186, 'NFL': 2.176091259055681, 'draft': 1.6989700043360185, 'Sundays': 2.477121254719662, 'hear': 1.2466723333413885, 'arm': 2.0, 'sale': 2.0, 'Saudi': 2.0, 'Arabia': 2.0, 'grave': 2.0, 'country': 1.5228787452803374, 'Straightforward': 2.176091259055681, 'oppressive': 2.477121254719662, 'regime': 2.477121254719662, 'recently': 1.7781512503836434, 'interfere': 2.176091259055681, 'politcs': 2.477121254719662, 'renunifie': 2.477121254719662, 'Yemen': 2.477121254719662, 'include': 1.4357285695614372, 'assasination': 2.477121254719662, 'incursion': 2.477121254719662, 'invade': 2.176091259055681, 'unluckily': 2.477121254719662, 'West': 2.176091259055681, 'political': 2.176091259055681, 'reunification': 2.477121254719662, 'effectively': 2.176091259055681, 'client': 2.477121254719662, 'Vell': 2.477121254719662, 'normal': 2.477121254719662, 'Vor': 2.477121254719662, 'Vogon': 2.477121254719662, 'thar': 2.477121254719662, 'fighting': 2.0, 'geez': 2.477121254719662, 'five': 1.6989700043360185, 'doomsville': 2.477121254719662, 'Fedorov': 2.477121254719662, 'Primeau': 2.477121254719662, 'Kozlov': 2.477121254719662, 'Lidstrom': 2.477121254719662, 'Sillinger': 2.477121254719662, 'Konstantinov': 2.477121254719662, 'Drake': 2.477121254719662, 'Kennedy': 2.477121254719662, 'Racine': 2.477121254719662, 'pipeline': 2.477121254719662, 'Devellano': 2.477121254719662, 'Murray': 1.6989700043360185, 'inherit': 2.477121254719662, 'addition': 1.8750612633916997, 'Yzerman': 2.176091259055681, 'Probert': 2.176091259055681, 'Chiasson': 2.477121254719662, 'Quinn': 2.477121254719662, 'drafting': 2.477121254719662, 'demer': 2.477121254719662, 'request': 1.7781512503836434, 'Oates': 2.0, 'secondly': 2.0, 'creator': 2.477121254719662, 'daft': 2.477121254719662, 'testicle': 2.477121254719662, 'step': 2.0, 'asshole': 2.0, 'offense': 2.0, 'slip': 2.477121254719662, 'goddamne': 2.477121254719662, 'heart': 1.8750612633916997, 'cannibalistic': 2.477121254719662, 'necrophiliac': 2.477121254719662, 'qualified': 2.0, 'assess': 2.477121254719662, 'motivation': 2.0, 'fortunately': 2.477121254719662, 'quit': 2.176091259055681, 'fucking': 2.176091259055681, 'Bassen': 2.0, 'Kamloops': 2.477121254719662, 'Spokane': 2.477121254719662, 'Western': 2.176091259055681, 'Final': 2.477121254719662, 'Matchup': 2.477121254719662, 'kamloop': 2.477121254719662, 'Portland': 2.477121254719662, 'Wednesday': 2.0, 'Thursday': 1.8750612633916997, 'Friday': 1.7781512503836434, 'Regina': 2.477121254719662, 'Swift': 2.477121254719662, 'Current': 2.477121254719662, 'Saturday': 1.8750612633916997, 'Sunday': 1.4357285695614372, 'Playoff': 2.477121254719662, 'Scoring': 2.477121254719662, 'Leaders': 2.477121254719662, 'Player': 2.477121254719662, 'Black': 2.176091259055681, 'Tacoma': 2.477121254719662, 'Schneider': 2.176091259055681, 'Valeri': 2.176091259055681, 'Bure': 2.176091259055681, 'Allan': 2.176091259055681, 'Egeland': 2.477121254719662, 'McAmmond': 2.477121254719662, 'Jason': 2.477121254719662, 'Krywulak': 2.477121254719662, 'Cam': 2.477121254719662, 'Danyluk': 2.477121254719662, 'Holt': 2.477121254719662, 'Tyler': 2.477121254719662, 'Wright': 2.477121254719662, 'Mathers': 2.477121254719662, 'Jeff': 2.0, 'Friesen': 2.477121254719662, 'Girard': 2.477121254719662, 'Leading': 2.477121254719662, 'Goaltenders': 2.477121254719662, 'minimum': 2.0, 'minute': 1.4771212547196624, 'MP': 2.477121254719662, 'GAA': 2.477121254719662, 'Langkow': 2.477121254719662, 'Milan': 2.176091259055681, 'Hnilicka': 2.477121254719662, 'Trevor': 2.477121254719662, 'Robins': 2.477121254719662, 'Brandon': 2.477121254719662, 'Passmore': 2.477121254719662, 'Dawkins': 2.477121254719662, 'Deer': 2.477121254719662, 'Kent': 1.5228787452803374, 'Sandvik': 2.176091259055681, 'somehow': 2.176091259055681, 'Sufism': 2.477121254719662, 'relate': 1.7781512503836434, 'associate': 2.176091259055681, 'general': 1.5740312677277186, 'inner': 2.0, 'dimension': 2.477121254719662, 'submission': 2.477121254719662, 'denote': 2.477121254719662, 'annihilate': 2.477121254719662, 'oneself': 2.0, 'Sufi': 2.477121254719662, 'path': 2.477121254719662, 'messy': 2.477121254719662, 'Leetch': 2.477121254719662, 'shooting': 2.477121254719662, 'camera': 2.176091259055681, 'regularly': 2.0, 'santore': 2.176091259055681, 'Philadelphia': 1.7781512503836434, 'Flyers': 1.8750612633916997, 'surface': 2.176091259055681, 'tension': 2.176091259055681, 'wild': 1.8750612633916997, 'kinetic': 2.176091259055681, 'dream': 2.0, 'Grand': 2.176091259055681, 'Go': 2.0, 'Santore': 2.176091259055681, 'curious': 2.176091259055681, 'professional': 2.477121254719662, 'broadcast': 1.5228787452803374, 'FM': 2.176091259055681, 'WYSP': 2.477121254719662, 'carry': 1.6989700043360185, 'Eagles': 2.477121254719662, 'summarize': 2.477121254719662, 'Canadiens': 1.6989700043360185, 'wave': 2.176091259055681, 'frequency': 2.477121254719662, 'Lewisburg': 2.477121254719662, 'PA': 2.477121254719662, 'home': 1.3979400086720375, 'Bucknell': 2.477121254719662, 'definitely': 2.176091259055681, 'send': 1.5228787452803374, 'public': 1.8750612633916997, 'worker': 2.176091259055681, 'strike': 2.477121254719662, 'St': 1.8750612633916997, 'Newfoundland': 2.477121254719662, 'mid': 2.176091259055681, 'January': 2.477121254719662, 'Maple': 2.0, 'Cornwall': 2.477121254719662, 'Charlottetown': 2.477121254719662, 'games': 2.0, 'Halifax': 2.0, 'Nova': 2.477121254719662, 'Scotia': 2.477121254719662, 'round': 1.5228787452803374, 'Gang': 2.477121254719662, 'obtain': 2.477121254719662, 'DARWIN': 2.477121254719662, 'contact': 2.0, 'likely': 2.0, 'listen': 1.6320232147054052, 'Blackhawk': 2.477121254719662, 'JOSEPH': 2.477121254719662, 'spectacular': 2.0, 'saaaaaave': 2.477121254719662, 'Blues': 1.7781512503836434, 'match': 1.7781512503836434, 'Hawks': 1.5228787452803374, 'Night': 1.8750612633916997, 'Miracle': 2.477121254719662, 'hawk': 2.477121254719662, 'blue': 1.5740312677277186, 'apologize': 2.176091259055681, 'jump': 2.0, 'regardless': 2.477121254719662, 'sparkle': 2.477121254719662, 'pressbox': 2.477121254719662, 'Errey': 2.477121254719662, 'hip': 2.477121254719662, 'DN': 2.477121254719662, 'liar': 2.176091259055681, 'lunatic': 2.176091259055681, 'somebody': 1.7781512503836434, 'straight': 2.0, 'ridicule': 2.0, 'gather': 2.477121254719662, 'publish': 2.176091259055681, 'vanity': 2.477121254719662, 'press': 1.7781512503836434, 'recomend': 2.477121254719662, 'visit': 2.0, 'bookstore': 2.0, 'intelectual': 2.477121254719662, 'Chick': 2.477121254719662, 'pamphelet': 2.477121254719662, 'common': 1.8750612633916997, 'fundie': 2.477121254719662, 'section': 1.7781512503836434, 'hate': 1.6989700043360185, 'Wiccans': 2.477121254719662, 'Pagans': 2.477121254719662, 'Catholics': 2.176091259055681, 'mormon': 2.477121254719662, 'rock': 2.0, 'musician': 2.477121254719662, 'fanatical': 2.477121254719662, 'Love': 2.477121254719662, 'scary': 2.176091259055681, 'lock': 2.176091259055681, 'federal': 2.477121254719662, 'reduce': 2.176091259055681, 'institution': 2.477121254719662, 'reagan': 2.477121254719662, 'administration': 2.477121254719662, 'Christianity': 1.6320232147054052, 'eight': 2.176091259055681, 'fifteen': 2.477121254719662, 'York': 2.0, 'State': 2.176091259055681, 'Senator': 2.477121254719662, 'Donovan': 2.477121254719662, 'Capitol': 2.477121254719662, 'Punishment': 2.477121254719662, 'Alan': 2.477121254719662, 'Yep': 2.477121254719662, 'relatively': 2.0, 'quiet': 1.8750612633916997, 'woofe': 2.477121254719662, 'Domi': 2.176091259055681, 'toss': 2.477121254719662, 'Kris': 2.477121254719662, 'Stu': 2.477121254719662, 'Barnes': 2.477121254719662, 'arguably': 2.477121254719662, 'cheer': 1.5740312677277186, 'Evan': 2.477121254719662, 'operate': 2.477121254719662, 'White': 2.176091259055681, 'noise': 2.477121254719662, 'Armitage': 2.477121254719662, 'Garrett': 2.477121254719662, 'spoil': 2.0, 'Wittman': 2.477121254719662, 'Selanne': 2.0, 'Whoops': 2.477121254719662, 'fascinating': 2.477121254719662, 'Chinese': 2.477121254719662, 'Italians': 2.477121254719662, 'invent': 2.176091259055681, 'pasta': 2.477121254719662, 'Haight': 2.477121254719662, 'Ashbury': 2.477121254719662, 'dissatisfaction': 2.477121254719662, 'ameliorate': 2.477121254719662, 'mumbo': 2.477121254719662, 'jumbo': 2.477121254719662, 'LSD': 2.477121254719662, 'twist': 2.0, 'Pundurs': 2.477121254719662, 'responsibility': 2.477121254719662, 'promise': 2.477121254719662, 'knock': 2.477121254719662, 'open': 2.0, 'delude': 2.0, 'fearful': 2.477121254719662, 'truth': 1.6320232147054052, 'fear': 1.7781512503836434, 'sillily': 2.477121254719662, 'attribute': 1.8750612633916997, 'divine': 2.0, 'destroy': 2.176091259055681, 'imagination': 2.477121254719662, 'disguise': 2.477121254719662, 'dispute': 2.477121254719662, 'givin': 2.477121254719662, 'sincere': 2.477121254719662, 'demand': 2.176091259055681, 'suspension': 2.176091259055681, 'disbelief': 2.477121254719662, 'concerned': 1.8750612633916997, 'health': 2.477121254719662, 'herself': 2.477121254719662, 'create': 1.7781512503836434, 'logic': 1.6989700043360185, 'folly': 2.176091259055681, 'spec': 2.477121254719662, 'creation': 2.477121254719662, 'rely': 2.0, 'sincerely': 2.477121254719662, 'honest': 2.477121254719662, 'refer': 1.6320232147054052, 'conscience': 2.176091259055681, 'entertain': 2.176091259055681, 'unwise': 2.176091259055681, 'swallow': 2.477121254719662, 'Invisible': 2.477121254719662, 'Pink': 2.176091259055681, 'Unicorn': 2.176091259055681, 'tm': 2.176091259055681, 'daily': 2.477121254719662, 'whether': 1.3309932190414244, 'gipu': 2.477121254719662, 'omnipresent': 2.477121254719662, 'writer': 2.477121254719662, 'planet': 2.477121254719662, 'legendary': 2.477121254719662, 'aspect': 2.176091259055681, 'Presence': 2.477121254719662, 'tipset': 2.477121254719662, 'vinnare': 2.477121254719662, 'av': 2.477121254719662, 'Bengtson': 2.477121254719662, 'Grattis': 2.477121254719662, 'lar': 2.477121254719662, 'Andersson': 2.477121254719662, 'Anders': 2.477121254719662, 'Engwall': 2.477121254719662, 'Staffan': 2.477121254719662, 'Axelsson': 2.477121254719662, 'Patrik': 2.477121254719662, 'sander': 2.477121254719662, 'Hannu': 2.477121254719662, 'Hietanen': 2.477121254719662, 'Ingvar': 2.477121254719662, 'Khan': 2.477121254719662, 'Jan': 2.477121254719662, 'Stein': 2.477121254719662, 'Thore': 2.477121254719662, 'Aarhus': 2.477121254719662, 'Fredrik': 2.477121254719662, 'Nissen': 2.477121254719662, 'Marek': 2.477121254719662, 'Repinski': 2.477121254719662, 'Lars': 2.477121254719662, 'Wiklund': 2.477121254719662, 'Vinnare': 2.477121254719662, 'och': 2.477121254719662, 'lycklig': 2.477121254719662, 'gare': 2.477121254719662, 'FBK': 2.477121254719662, 'mugg': 2.477121254719662, 'allts': 2.477121254719662, 'kometen': 2.477121254719662, 'som': 2.477121254719662, 'ledde': 2.477121254719662, 'hockeytipset': 2.477121254719662, 'vid': 2.477121254719662, 'halvtid': 2.477121254719662, 'sedan': 2.477121254719662, 'fick': 2.477121254719662, 'ge': 2.477121254719662, 'vika': 2.477121254719662, 'slutspurten': 2.477121254719662, 'De': 2.477121254719662, 'tre': 2.477121254719662, 'lyckade': 2.477121254719662, 'pricka': 2.477121254719662, 'den': 2.477121254719662, 'viktiga': 2.477121254719662, 'sm': 2.477121254719662, 'guld': 2.477121254719662, 'Kanske': 2.477121254719662, 'var': 2.477121254719662, 'det': 2.477121254719662, 'att': 2.477121254719662, 'tippa': 2.477121254719662, 'slutspelet': 2.477121254719662, 'ock': 2.477121254719662, 'ser': 2.477121254719662, 'om': 2.477121254719662, 'finalen': 2.477121254719662, 'mellan': 2.477121254719662, 'Lule': 2.477121254719662, 'hade': 2.477121254719662, 'slutat': 2.477121254719662, 's': 2.176091259055681, 'varit': 2.477121254719662, 'samma': 2.477121254719662, 'alla': 2.477121254719662, 'de': 2.477121254719662, 'korrekta': 2.477121254719662, 'svaren': 2.477121254719662, 'siffran': 2.477121254719662, 'inom': 2.477121254719662, 'parent': 2.176091259055681, 'anger': 2.0, 'hur': 2.477121254719662, 'tippat': 2.477121254719662, 'detta': 2.477121254719662, 'Bengtsons': 2.477121254719662, 'vinnande': 2.477121254719662, 'rad': 2.477121254719662, 'Elitserien': 2.477121254719662, 'Tippa': 2.477121254719662, 'slutgiltiga': 2.477121254719662, 'tabellen': 2.477121254719662, 'MoDo': 2.477121254719662, 'Leksand': 2.477121254719662, 'HV': 2.477121254719662, 'Vilka': 2.477121254719662, 'kvartsfinalisterna': 2.477121254719662, 'vidare': 2.477121254719662, 'semifinal': 2.176091259055681, 'lag': 2.477121254719662, 'blir': 2.477121254719662, 'Svenska': 2.477121254719662, 'Allsvenskan': 2.477121254719662, 'huddinge': 2.477121254719662, 'AIK': 2.477121254719662, 'Boden': 2.477121254719662, 'credit': 2.0, 'virtually': 2.0, 'steal': 2.0, 'huge': 1.6989700043360185, 'sabre': 2.176091259055681, 'indicate': 1.7781512503836434, 'salt': 2.477121254719662, 'critical': 2.477121254719662, 'Juneau': 2.477121254719662, 'LaFontaine': 2.0, 'extraordinary': 2.477121254719662, 'Hannan': 2.176091259055681, 'Khmylev': 2.176091259055681, 'imo': 2.176091259055681, 'Sutton': 2.477121254719662, 'shift': 1.8750612633916997, 'afterall': 2.477121254719662, 'outplay': 2.0, 'Gary': 1.8750612633916997, 'Lori': 2.477121254719662, 'poster': 1.7781512503836434, 'via': 2.477121254719662, 'pirate': 2.477121254719662, 'coincide': 2.477121254719662, 'WDVE': 2.477121254719662, 'tryout': 2.477121254719662, 'skater': 2.477121254719662, 'defensively': 2.176091259055681, 'prospect': 2.0, 'rathje': 2.477121254719662, 'Sykora': 2.477121254719662, 'Ragnarsson': 2.477121254719662, 'et': 2.176091259055681, 'al': 2.176091259055681, 'Kariya': 2.477121254719662, 'bash': 2.477121254719662, 'oppposition': 2.477121254719662, 'separate': 2.176091259055681, 'shoulder': 2.0, 'limp': 2.477121254719662, 'Carey': 2.477121254719662, 'Wilson': 1.8750612633916997, 'Trent': 2.477121254719662, 'Yawney': 2.477121254719662, 'pot': 2.477121254719662, 'Los': 2.176091259055681, 'Angeles': 2.176091259055681, 'horribly': 2.477121254719662, 'drop': 2.477121254719662, 'rush': 2.176091259055681, 'young': 1.8750612633916997, 'inexperienced': 2.477121254719662, 'shaky': 2.477121254719662, 'goaltende': 2.0, 'wayside': 2.477121254719662, 'steady': 2.176091259055681, 'march': 2.477121254719662, 'particularily': 2.477121254719662, 'stupid': 1.7781512503836434, 'Theoren': 2.477121254719662, 'misconduct': 2.0, 'slamming': 2.477121254719662, 'Warren': 2.477121254719662, 'Rychel': 2.477121254719662, 'dasher': 2.477121254719662, 'knee': 2.477121254719662, 'Goaltender': 2.176091259055681, 'fault': 2.0, 'publicize': 2.477121254719662, 'rebound': 1.8750612633916997, 'Marty': 2.477121254719662, 'McSorley': 2.477121254719662, 'Dahlquist': 2.477121254719662, 'evidently': 2.477121254719662, 'potentially': 2.477121254719662, 'fatal': 2.176091259055681, 'consequence': 2.176091259055681, 'Calgary': 2.176091259055681, 'relinquish': 2.477121254719662, 'route': 2.176091259055681, 'calgary': 2.477121254719662, 'won': 2.477121254719662, 'powerplay': 2.176091259055681, 'shorthanded': 2.477121254719662, 'Joel': 2.477121254719662, 'Otto': 2.477121254719662, 'RW': 2.0, 'Paslawski': 2.477121254719662, 'suspect': 1.8750612633916997, 'Alexei': 2.477121254719662, 'Zhitnik': 2.477121254719662, 'Charlie': 2.477121254719662, 'Huddy': 2.477121254719662, 'groin': 2.477121254719662, 'mar': 2.477121254719662, 'stupidity': 2.477121254719662, 'Craig': 2.0, 'Berube': 2.477121254719662, 'instigate': 2.477121254719662, 'Tony': 2.176091259055681, 'Granato': 2.477121254719662, 'apparent': 2.176091259055681, 'turtle': 2.477121254719662, 'Musil': 2.477121254719662, 'similarily': 2.477121254719662, 'hardy': 2.477121254719662, 'toe': 2.477121254719662, 'double': 2.0, 'Gregson': 2.477121254719662, 'turtling': 2.477121254719662, 'amount': 1.8750612633916997, 'rough': 2.0, 'upcoming': 2.477121254719662, 'Injuries': 2.477121254719662, 'indefinite': 2.477121254719662, 'recur': 2.477121254719662, 'Dec': 2.477121254719662, 'statistic': 1.8750612633916997, 'Pos': 2.477121254719662, 'PIM': 2.0, 'rw': 2.477121254719662, 'c': 2.477121254719662, 'Robert': 2.176091259055681, 'Reichel': 2.477121254719662, 'Suter': 2.477121254719662, 'LW': 2.0, 'Nieuwendyk': 2.477121254719662, 'Sergei': 2.477121254719662, 'Makarov': 2.477121254719662, 'Al': 1.8750612633916997, 'MacInnis': 2.477121254719662, 'Ranheim': 2.477121254719662, 'Brent': 2.176091259055681, 'Ashton': 2.477121254719662, 'Lindberg': 2.477121254719662, 'Skrudland': 2.477121254719662, 'Michel': 2.477121254719662, 'Petit': 2.477121254719662, 'Dahl': 2.477121254719662, 'Alexander': 2.477121254719662, 'Godynyuk': 2.477121254719662, 'Kruse': 2.477121254719662, 'Reese': 2.477121254719662, 'Smyth': 2.477121254719662, 'Forslund': 2.477121254719662, 'Heaphy': 2.477121254719662, 'Patrick': 2.176091259055681, 'Lebeau': 2.477121254719662, 'Andrei': 2.477121254719662, 'Trefilov': 2.477121254719662, 'BR': 2.477121254719662, 'Rawlins': 2.477121254719662, 'Newsgroups': 2.477121254719662, 'Organization': 2.477121254719662, 'DGSID': 2.477121254719662, 'Messiah': 2.477121254719662, 'Testament': 2.477121254719662, 'detail': 1.6989700043360185, 'complaint': 2.477121254719662, 'century': 2.176091259055681, 'Greek': 2.477121254719662, 'Josephus': 2.477121254719662, 'Historian': 2.477121254719662, 'gospel': 2.176091259055681, 'account': 2.176091259055681, 'harmony': 2.477121254719662, 'badly': 1.7781512503836434, 'editor': 2.477121254719662, 'contradiction': 2.0, 'trial': 2.477121254719662, 'assension': 2.477121254719662, 'Judas': 2.477121254719662, 'iniquity': 2.477121254719662, 'headlong': 2.477121254719662, 'burst': 2.477121254719662, 'asunder': 2.477121254719662, 'midst': 2.477121254719662, 'bowel': 2.477121254719662, 'gush': 2.477121254719662, 'cast': 2.477121254719662, 'piece': 1.8750612633916997, 'silver': 2.477121254719662, 'temple': 2.176091259055681, 'depart': 2.477121254719662, 'chief': 2.477121254719662, 'priest': 2.477121254719662, 'potter': 2.477121254719662, 'cock': 2.477121254719662, 'crow': 2.477121254719662, 'twice': 2.0, 'MAR': 2.477121254719662, 'crew': 2.477121254719662, 'Peter': 1.7781512503836434, 'thou': 2.477121254719662, 'shalt': 2.477121254719662, 'deny': 2.176091259055681, 'thrice': 2.477121254719662, 'thereon': 2.477121254719662, 'weep': 2.477121254719662, 'MAT': 2.477121254719662, 'curse': 2.176091259055681, 'swear': 2.477121254719662, 'bitterly': 2.477121254719662, 'LUK': 2.477121254719662, 'spake': 2.477121254719662, 'Lord': 2.477121254719662, 'JOH': 2.477121254719662, 'Wilt': 2.477121254719662, 'lie': 1.8750612633916997, 'thy': 2.176091259055681, 'verily': 2.477121254719662, 'thee': 2.477121254719662, 'hast': 2.477121254719662, 'prophesy': 2.477121254719662, 'fulfil': 2.477121254719662, 'Jeremy': 2.477121254719662, 'prophet': 2.176091259055681, 'thirty': 2.477121254719662, 'price': 1.7781512503836434, 'whom': 2.0, 'zechariah': 2.477121254719662, 'Jeremiah': 2.477121254719662, 'remotely': 2.176091259055681, 'color': 2.477121254719662, 'scarlet': 2.477121254719662, 'purple': 2.477121254719662, 'sixth': 2.477121254719662, 'noon': 2.176091259055681, 'Nazareth': 2.477121254719662, 'vinegar': 2.477121254719662, 'myrrh': 2.477121254719662, 'Mary': 2.176091259055681, 'Magdaline': 2.477121254719662, 'mother': 2.477121254719662, 'Zebedee': 2.477121254719662, 'Magdeline': 2.477121254719662, 'sister': 2.477121254719662, 'Magdalene': 2.477121254719662, 'ninth': 2.477121254719662, 'cry': 2.176091259055681, 'loud': 2.477121254719662, 'Eli': 2.477121254719662, 'eli': 2.477121254719662, 'lama': 2.477121254719662, 'sabachthani': 2.477121254719662, 'forsake': 2.477121254719662, 'yield': 2.477121254719662, 'ghost': 2.477121254719662, 'Father': 2.477121254719662, 'commend': 2.477121254719662, 'bow': 2.176091259055681, 'veil': 2.477121254719662, 'rent': 2.477121254719662, 'earthquake': 2.176091259055681, 'dark': 2.0, 'saint': 2.477121254719662, 'arise': 2.0, 'Jeruselem': 2.477121254719662, 'resurection': 2.477121254719662, 'darkness': 2.477121254719662, 'rise': 2.176091259055681, 'peirce': 2.477121254719662, 'Pilate': 2.477121254719662, 'guard': 2.477121254719662, 'prevent': 2.477121254719662, 'disciple': 2.477121254719662, 'tomb': 2.477121254719662, 'seal': 2.477121254719662, 'supposedly': 2.0, 'precaution': 2.176091259055681, 'meta': 2.477121254719662, 'treis': 2.477121254719662, 'emeras': 2.477121254719662, 'quick': 1.8750612633916997, 'prophecy': 2.477121254719662, 'resurrection': 2.176091259055681, 'narrative': 2.477121254719662, 'dawn': 2.477121254719662, 'sun': 2.176091259055681, 'sabbath': 2.477121254719662, 'sepulchre': 2.477121254719662, 'Salome': 2.477121254719662, 'sweet': 2.477121254719662, 'spice': 2.477121254719662, 'anoint': 2.477121254719662, 'cometh': 2.477121254719662, 'seeth': 2.477121254719662, 'behold': 2.477121254719662, 'descend': 2.477121254719662, 'heaven': 2.176091259055681, 'roll': 2.176091259055681, 'door': 2.477121254719662, 'sit': 2.0, 'countenance': 2.477121254719662, 'lightning': 2.477121254719662, 'raiment': 2.477121254719662, 'snow': 2.477121254719662, 'keeper': 2.477121254719662, 'shake': 2.176091259055681, 'dead': 2.176091259055681, 'ye': 2.477121254719662, 'seek': 2.176091259055681, 'crucify': 2.477121254719662, 'clothe': 2.477121254719662, 'garment': 2.477121254719662, 'affright': 2.477121254719662, 'perplexed': 2.477121254719662, 'thereabout': 2.477121254719662, 'shine': 2.477121254719662, 'sitting': 2.477121254719662, 'Marys': 2.477121254719662, 'Galilee': 2.477121254719662, 'mountain': 2.477121254719662, 'previously': 2.176091259055681, 'opon': 2.477121254719662, 'devote': 2.477121254719662, 'walk': 2.477121254719662, 'mealtime': 2.477121254719662, 'Emmaus': 2.477121254719662, 'village': 2.477121254719662, 'jione': 2.477121254719662, 'unrecognised': 2.477121254719662, 'meal': 2.477121254719662, 'together': 1.8750612633916997, 'evening': 2.176091259055681, 'finally': 1.7781512503836434, 'whereopon': 2.477121254719662, 'dissapeare': 2.477121254719662, 'frighten': 2.477121254719662, 'honey': 2.477121254719662, 'preach': 1.8750612633916997, 'arrose': 2.477121254719662, 'breathe': 2.477121254719662, 'Holy': 2.477121254719662, 'Ghost': 2.477121254719662, 'join': 2.176091259055681, 'convince': 2.176091259055681, 'Tiberias': 2.477121254719662, 'netson': 2.477121254719662, 'boat': 2.477121254719662, 'prepare': 2.477121254719662, 'bread': 2.477121254719662, 'converse': 2.477121254719662, 'confusion': 1.8750612633916997, 'apostle': 2.176091259055681, 'pertain': 2.176091259055681, 'kingdom': 2.477121254719662, 'beheld': 2.477121254719662, 'cloud': 2.477121254719662, 'recieve': 2.477121254719662, 'steadfastly': 2.477121254719662, 'apparel': 2.477121254719662, 'Ye': 2.477121254719662, 'gaze': 2.176091259055681, 'comein': 2.477121254719662, 'mannera': 2.477121254719662, 'outdo': 2.477121254719662, 'authority': 2.176091259055681, 'Cor': 2.477121254719662, 'casually': 2.477121254719662, 'desciple': 2.477121254719662, 'Bethany': 2.477121254719662, 'bless': 2.477121254719662, 'generation': 2.477121254719662, 'thessalonian': 2.477121254719662, 'Corinthians': 2.477121254719662, 'minus': 2.477121254719662, 'Mathias': 2.477121254719662, 'eleven': 2.477121254719662, 'appoint': 2.477121254719662, 'Elijah': 2.477121254719662, 'whirlwind': 2.477121254719662, 'Kings': 2.477121254719662, 'hath': 2.477121254719662, 'ascend': 2.477121254719662, 'Son': 2.477121254719662, 'Man': 2.477121254719662, 'crucifiction': 2.477121254719662, 'literal': 2.477121254719662, 'Majesty': 2.477121254719662, 'picture': 1.8750612633916997, 'Cherry': 1.6989700043360185, 'crap': 2.477121254719662, 'shoe': 2.477121254719662, 'tonsilectomy': 2.477121254719662, 'Sher': 2.477121254719662, 'southern': 2.477121254719662, 'cbc': 2.477121254719662, 'tsn': 2.477121254719662, 'bar': 2.477121254719662, 'satellite': 2.0, 'Mon': 2.477121254719662, 'Que': 2.477121254719662, 'toronto': 2.477121254719662, 'detroit': 2.477121254719662, 'Van': 2.176091259055681, 'vs': 1.8750612633916997, 'Winn': 2.477121254719662, 'boy': 2.0, 'leafs': 2.477121254719662, 'Ciao': 2.176091259055681, 'heh': 2.176091259055681, 'besk': 2.477121254719662, 'poll': 2.176091259055681, 'below': 2.0, 'plain': 2.477121254719662, 'helmet': 2.477121254719662, 'cage': 2.477121254719662, 'goaltending': 2.477121254719662, 'Tabaracci': 2.0, 'dump': 2.176091259055681, 'chase': 2.477121254719662, 'boardaholic': 2.477121254719662, 'talented': 2.176091259055681, 'finesse': 2.477121254719662, 'oman': 2.477121254719662, 'ole': 2.477121254719662, 'pounce': 2.477121254719662, 'Rebounds': 2.477121254719662, 'swollen': 2.477121254719662, 'Dale': 2.477121254719662, 'arrive': 2.0, 'fiesty': 2.477121254719662, 'hustle': 2.477121254719662, 'us': 2.176091259055681, 'Islander': 2.176091259055681, 'italian': 2.477121254719662, 'JOHN': 2.0, 'TONELLI': 2.477121254719662, 'Tonelli': 2.477121254719662, 'PENS': 2.477121254719662, 'tenacity': 2.477121254719662, 'coliseum': 2.477121254719662, 'pack': 2.176091259055681, 'Scialdone': 2.176091259055681, 'underestimate': 2.477121254719662, 'historical': 2.0, 'misunderstanding': 2.477121254719662, 'war': 1.6989700043360185, 'fraction': 2.477121254719662, 'Vatican': 2.477121254719662, 'Atheist': 2.477121254719662, 'weak': 1.8750612633916997, 'soft': 2.477121254719662, 'newbie': 2.477121254719662, 'multiplication': 2.477121254719662, 'description': 2.176091259055681, 'morning': 1.6320232147054052, 'Today': 2.176091259055681, 'Show': 2.477121254719662, 'Koresh': 2.176091259055681, 'lawyer': 2.477121254719662, 'flip': 2.477121254719662, 'Hebrew': 2.477121254719662, 'near': 1.6989700043360185, 'bottom': 2.477121254719662, 'koresh': 2.477121254719662, 'adonai': 2.477121254719662, 'ROUND': 2.0, 'CAPS': 2.0, 'GAMES': 2.477121254719662, 'ON': 2.477121254719662, 'TUES': 2.477121254719662, 'Rochester': 2.0, 'UTICA': 2.0, 'Fredericton': 2.0, 'Cape': 2.0, 'Breton': 2.0, 'SERIES': 1.8750612633916997, 'STATI': 2.477121254719662, 'plural': 2.477121254719662, 'status': 2.477121254719662, 'Adirondack': 2.0, 'CDI': 2.0, 'Providence': 2.0, 'w': 2.477121254719662, 'Springfield': 1.8750612633916997, 'Binghamton': 2.0, 'Baltimore': 2.0, 'Utica': 2.0, 'existance': 2.477121254719662, 'nt': 2.176091259055681, 'Socrates': 2.477121254719662, 'cuz': 2.477121254719662, 'Plato': 2.176091259055681, 'Babylonian': 2.477121254719662, 'Talmud': 2.477121254719662, 'Dave': 1.8750612633916997, 'Satan': 1.8750612633916997, 'Edmonton': 1.8750612633916997, 'Selfish': 2.477121254719662, 'owner': 1.6320232147054052, 'established': 2.477121254719662, 'equally': 2.176091259055681, 'information': 2.0, 'available': 2.0, 'Strip': 2.477121254719662, 'practical': 2.176091259055681, 'importance': 2.477121254719662, 'apply': 1.7781512503836434, 'delusion': 2.0, 'loaded': 2.477121254719662, 'gun': 2.477121254719662, 'ah': 1.8750612633916997, 'Pool': 2.477121254719662, 'Denis': 2.477121254719662, 'Papp': 2.477121254719662, 'Stoochnoff': 2.477121254719662, 'Rules': 2.477121254719662, 'Pick': 2.477121254719662, 'LD': 2.477121254719662, 'RD': 2.477121254719662, 'Points': 2.477121254719662, 'shutout': 2.0, 'entry': 2.477121254719662, 'ascii': 2.477121254719662, 'text': 2.0, 'Hard': 2.477121254719662, 'Wired': 2.477121254719662, 'BBS': 2.477121254719662, 'slightly': 2.477121254719662, 'user': 2.477121254719662, 'Prizes': 2.477121254719662, 'range': 2.0, 'wired': 2.477121254719662, 'suggestion': 2.477121254719662, 'cent': 2.477121254719662, 'willing': 1.7781512503836434, 'equal': 2.0, 'prize': 2.477121254719662, 'fee': 2.176091259055681, 'Right': 2.477121254719662, 'wing': 1.5740312677277186, 'location': 2.477121254719662, 'internet': 2.176091259055681, 'string': 2.477121254719662, 'idiotic': 2.477121254719662, 'generalization': 2.477121254719662, 'Gad': 2.477121254719662, 'surprised': 2.0, 'CRT': 2.477121254719662, 'Trodwell': 2.477121254719662, 'demise': 2.477121254719662, 'Blawkhawks': 2.477121254719662, 'delight': 2.477121254719662, 'consecutive': 2.0, 'rag': 2.477121254719662, 'insomniace': 2.477121254719662, 'natch': 2.477121254719662, 'unbeliever': 2.477121254719662, 'compelling': 2.477121254719662, 'compel': 2.477121254719662, 'Christmas': 2.176091259055681, 'truelove': 2.176091259055681, 'Leftover': 2.176091259055681, 'Turkey': 2.176091259055681, 'Casserole': 2.176091259055681, 'Flaming': 2.176091259055681, 'Pizza': 2.176091259055681, 'Hut': 2.176091259055681, 'commercial': 2.0, 'bait': 2.0, 'hmm': 2.0, 'intriguing': 2.477121254719662, 'transcendental': 2.477121254719662, 'unexplained': 2.477121254719662, 'US': 1.5740312677277186, 'plant': 2.176091259055681, 'Alteer': 2.477121254719662, 'intend': 1.8750612633916997, 'aid': 2.477121254719662, 'iraqi': 2.176091259055681, 'infrastructure': 2.176091259055681, 'nitpicking': 2.477121254719662, 'dual': 2.477121254719662, 'technology': 2.477121254719662, 'contend': 2.0, 'pesticide': 2.477121254719662, 'UK': 1.8750612633916997, 'company': 2.176091259055681, 'production': 2.477121254719662, 'officially': 2.176091259055681, 'personally': 1.6989700043360185, 'Iran': 2.477121254719662, 'conquer': 2.477121254719662, 'Iraq': 2.0, 'hypocrisy': 2.176091259055681, 'interest': 1.5740312677277186, 'duty': 2.176091259055681, 'intervene': 2.176091259055681, 'demonstrate': 2.176091259055681, 'failure': 2.477121254719662, 'Timor': 2.477121254719662, 'region': 2.176091259055681, 'destabilise': 2.477121254719662, 'reservation': 2.477121254719662, 'uncessary': 2.477121254719662, 'civillian': 2.477121254719662, 'casualite': 2.477121254719662, 'wholly': 2.176091259055681, 'ridiculous': 2.176091259055681, 'Intel': 2.477121254719662, 'manufacturing': 2.477121254719662, 'technique': 2.176091259055681, 'orginally': 2.477121254719662, 'raw': 2.477121254719662, 'troop': 2.176091259055681, 'concentration': 2.477121254719662, 'snit': 2.477121254719662, 'Asimov': 1.8750612633916997, 'stamp': 2.477121254719662, 'ease': 2.477121254719662, 'campus': 2.477121254719662, 'bubble': 2.477121254719662, 'surround': 2.477121254719662, 'interact': 2.477121254719662, 'bind': 2.0, 'nowhere': 1.7781512503836434, 'run': 1.7781512503836434, 'Bleep': 2.477121254719662, 'frustrated': 2.477121254719662, 'raving': 2.477121254719662, 'occasion': 2.176091259055681, 'excellent': 1.8750612633916997, 'clearing': 2.477121254719662, 'plenty': 2.477121254719662, 'extra': 1.8750612633916997, 'outlook': 2.477121254719662, 'Bruin': 2.477121254719662, 'advancement': 2.477121254719662, 'bleak': 2.477121254719662, 'grad': 2.477121254719662, 'convert': 2.477121254719662, 'Beezer': 2.477121254719662, 'automobile': 2.477121254719662, 'martinsville': 2.477121254719662, 'gimme': 2.477121254719662, 'tape': 1.8750612633916997, 'postpone': 2.477121254719662, 'slap': 2.176091259055681, 'racing': 2.477121254719662, 'recall': 2.477121254719662, 'TNN': 2.477121254719662, 'sharing': 2.477121254719662, 'clarify': 2.477121254719662, 'auto': 2.477121254719662, 'priority': 2.0, 'Blackhawks': 2.0, 'broom': 2.477121254719662, 'onto': 2.477121254719662, 'master': 2.176091259055681, 'domain': 2.176091259055681, 'bunch': 1.8750612633916997, 'chucker': 2.477121254719662, 'Superman': 2.477121254719662, 'cereal': 2.477121254719662, 'sauna': 2.477121254719662, 'spectator': 2.176091259055681, 'refreshing': 2.477121254719662, 'dip': 2.477121254719662, 'Janney': 2.0, 'nip': 2.477121254719662, 'fat': 2.477121254719662, 'Yoyoma': 2.477121254719662, 'sing': 2.477121254719662, 'trip': 1.8750612633916997, 'journey': 2.477121254719662, 'Minsk': 2.477121254719662, 'Enjoy': 2.176091259055681, 'Junior': 2.477121254719662, 'Mints': 2.477121254719662, 'wash': 2.176091259055681, 'Snapple': 2.477121254719662, 'democracy': 2.176091259055681, 'totalitarian': 2.477121254719662, 'regim': 2.477121254719662, 'hawks': 2.477121254719662, 'LEAD': 2.477121254719662, 'summary': 2.176091259055681, 'Post': 2.176091259055681, 'Disptach': 2.477121254719662, 'Luecking': 2.477121254719662, 'Dispatch': 2.477121254719662, 'Staff': 2.477121254719662, 'homage': 2.477121254719662, 'More': 2.176091259055681, 'fitting': 2.477121254719662, 'tribute': 2.477121254719662, 'surprising': 2.477121254719662, 'successive': 2.477121254719662, 'blank': 2.477121254719662, 'Norris': 2.176091259055681, 'Jacques': 2.477121254719662, 'wrap': 2.0, 'nationally': 2.477121254719662, 'televise': 2.0, 'franchise': 2.477121254719662, 'touch': 1.8750612633916997, 'shove': 2.477121254719662, 'unfaze': 2.477121254719662, 'dish': 2.477121254719662, 'punishment': 2.176091259055681, 'grinder': 2.477121254719662, 'Sutter': 1.8750612633916997, 'Lowry': 2.176091259055681, 'visitor': 2.477121254719662, 'stage': 2.0, 'glamour': 2.477121254719662, 'gifted': 2.176091259055681, 'playmaker': 2.477121254719662, 'scorer': 1.8750612633916997, 'Emerson': 2.176091259055681, 'hull': 2.477121254719662, 'Checker': 2.477121254719662, 'rookie': 2.176091259055681, 'Denny': 2.176091259055681, 'Felsner': 2.176091259055681, 'celebration': 2.477121254719662, 'yell': 2.477121254719662, 'taunt': 2.477121254719662, 'Bell': 2.477121254719662, 'Four': 2.477121254719662, 'chant': 2.477121254719662, 'na': 2.176091259055681, 'tad': 2.477121254719662, 'premature': 2.477121254719662, 'heel': 2.176091259055681, 'tone': 2.477121254719662, 'crunch': 2.477121254719662, 'Marchment': 2.477121254719662, 'Brendan': 2.176091259055681, 'Shanahan': 2.176091259055681, 'Troy': 2.477121254719662, 'backfire': 2.477121254719662, 'referee': 2.477121254719662, 'Marouelli': 2.477121254719662, 'scare': 2.477121254719662, 'Zombo': 2.176091259055681, 'Larmer': 2.477121254719662, 'scouting': 2.477121254719662, 'butterfly': 2.477121254719662, 'deadly': 2.477121254719662, 'Rookie': 2.176091259055681, 'Bret': 2.176091259055681, 'Hedican': 2.176091259055681, 'midway': 2.477121254719662, 'hooking': 2.477121254719662, 'killer': 2.176091259055681, 'catch': 1.6989700043360185, 'hook': 2.477121254719662, 'elbow': 2.477121254719662, 'board': 1.7781512503836434, 'Ruuttu': 2.477121254719662, 'ensue': 2.176091259055681, 'slot': 2.0, 'bounce': 2.477121254719662, 'precariously': 2.477121254719662, 'belfour': 2.477121254719662, 'dive': 2.477121254719662, 'squirt': 2.477121254719662, 'poke': 2.477121254719662, 'relentless': 2.477121254719662, 'hitting': 2.477121254719662, 'composure': 2.477121254719662, 'expire': 2.477121254719662, 'Chelios': 2.477121254719662, 'chelio': 2.477121254719662, 'increase': 1.8750612633916997, 'crisp': 2.477121254719662, 'goalpost': 2.477121254719662, 'redirect': 2.176091259055681, 'Stewart': 2.176091259055681, 'lethal': 2.477121254719662, 'fill': 1.7781512503836434, 'trademark': 2.176091259055681, 'awful': 2.176091259055681, 'truly': 2.0, 'overrate': 2.477121254719662, 'stoppable': 2.477121254719662, 'outworke': 2.477121254719662, 'Burns': 2.176091259055681, 'kick': 1.8750612633916997, 'gear': 2.477121254719662, 'stretch': 2.477121254719662, 'outskate': 2.477121254719662, 'key': 2.176091259055681, 'sleepy': 2.477121254719662, 'mope': 2.477121254719662, 'flat': 2.176091259055681, 'pace': 2.477121254719662, 'slim': 2.176091259055681, 'RM': 2.477121254719662, 'haha': 2.477121254719662, 'recommend': 2.176091259055681, 'mainly': 2.176091259055681, 'print': 2.477121254719662, 'FAQs': 2.477121254719662, 'appropriately': 2.477121254719662, 'Bufflo': 2.477121254719662, 'contribute': 2.477121254719662, 'Mogily': 2.477121254719662, 'Kemhlev': 2.477121254719662, 'Lafontin': 2.477121254719662, 'impress': 2.477121254719662, 'art': 2.477121254719662, 'speech': 2.176091259055681, 'corner': 2.0, 'clerk': 2.477121254719662, 'chain': 2.477121254719662, 'several': 1.5740312677277186, 'peer': 2.477121254719662, 'amazing': 2.0, 'customer': 2.477121254719662, 'Autobiography': 2.477121254719662, 'Benjamin': 2.477121254719662, 'Franklin': 2.477121254719662, 'alive': 2.477121254719662, 'fiction': 2.477121254719662, 'standard': 1.7781512503836434, 'employment': 2.477121254719662, 'Bake': 2.477121254719662, 'Timmons': 2.477121254719662, 'anti': 2.0, 'burn': 2.176091259055681, 'HELL': 2.477121254719662, 'drivel': 2.477121254719662, 'transparently': 2.477121254719662, 'pretend': 2.176091259055681, 'clever': 2.477121254719662, 'FAQ': 1.8750612633916997, 'opponent': 2.176091259055681, 'Prometheus': 2.477121254719662, 'stock': 2.0, 'Charley': 2.477121254719662, 'anarchist': 2.176091259055681, 'jest': 2.477121254719662, 'yep': 2.477121254719662, 'communism': 2.477121254719662, 'chinese': 2.477121254719662, 'soviet': 2.477121254719662, 'empire': 2.477121254719662, 'represent': 2.0, 'importantly': 2.176091259055681, 'extremist': 2.176091259055681, 'guidebook': 2.477121254719662, 'utopia': 2.477121254719662, 'inconsiderable': 2.477121254719662, 'untrue': 2.477121254719662, 'minded': 2.176091259055681, 'childhood': 2.176091259055681, 'indoctrination': 2.477121254719662, 'grasp': 2.176091259055681, 'suffering': 2.176091259055681, 'physiological': 2.477121254719662, 'diminish': 2.477121254719662, 'risk': 2.176091259055681, 'restart': 2.477121254719662, 'accusation': 2.176091259055681, 'appeal': 2.477121254719662, 'remind': 2.477121254719662, 'reader': 2.477121254719662, 'obituary': 2.477121254719662, 'Albert': 2.477121254719662, 'Sabin': 2.477121254719662, 'rebroadcast': 2.477121254719662, 'stricken': 2.477121254719662, 'illness': 2.477121254719662, 'critically': 2.176091259055681, 'respirator': 2.477121254719662, 'recover': 2.176091259055681, 'recovery': 2.176091259055681, 'admire': 2.176091259055681, 'weakness': 2.477121254719662, 'nevertheless': 2.477121254719662, 'unsubstantiated': 2.477121254719662, 'frailty': 2.477121254719662, 'SHUT': 2.477121254719662, 'wise': 2.477121254719662, 'overnight': 2.477121254719662, 'fluke': 2.477121254719662, 'duel': 2.176091259055681, 'muscle': 2.477121254719662, 'turnaround': 2.477121254719662, 'predict': 2.477121254719662, 'Wing': 2.176091259055681, 'wholeheartedly': 2.477121254719662, 'stickwork': 2.0, 'offeding': 2.477121254719662, 'whack': 2.477121254719662, 'ton': 2.477121254719662, 'brick': 2.477121254719662, 'blade': 2.477121254719662, 'mad': 2.176091259055681, 'apt': 2.477121254719662, 'retaliation': 2.477121254719662, 'blocker': 2.477121254719662, 'French': 2.477121254719662, 'helpful': 2.477121254719662, 'diagram': 2.477121254719662, 'Ciccerelli': 2.477121254719662, 'nickname': 2.0, 'unenlightened': 2.477121254719662, 'Maddi': 2.0, 'Hausmann': 2.0, 'Centigram': 2.0, 'Communications': 2.0, 'Corp': 2.0, 'California': 1.8750612633916997, 'boredom': 2.176091259055681, 'church': 1.8750612633916997, 'grant': 1.7781512503836434, 'forever': 2.176091259055681, 'excitement': 2.176091259055681, 'aggressive': 2.477121254719662, 'swarm': 2.477121254719662, 'suspense': 2.477121254719662, 'Billington': 2.0, 'Claude': 2.477121254719662, 'ejection': 2.477121254719662, 'landmine': 2.477121254719662, 'blindly': 2.0, 'unsupported': 2.477121254719662, 'agency': 2.477121254719662, 'sheer': 2.477121254719662, 'impossible': 2.176091259055681, 'difficult': 2.0, 'classify': 2.477121254719662, 'pragmatic': 2.176091259055681, 'classified': 2.477121254719662, 'jail': 2.477121254719662, 'satisfaction': 2.477121254719662, 'handicap': 2.477121254719662, 'BLUES': 2.176091259055681, 'exception': 1.7781512503836434, 'glimpse': 2.477121254719662, 'stud': 2.477121254719662, 'ny': 2.477121254719662, 'proud': 2.176091259055681, 'mainland': 2.477121254719662, 'religously': 2.176091259055681, 'motivated': 2.176091259055681, 'inter': 2.477121254719662, 'elsewhere': 2.176091259055681, 'religiously': 2.477121254719662, 'inherent': 2.477121254719662, 'catholicism': 2.477121254719662, 'protestantism': 2.477121254719662, 'instruct': 2.477121254719662, 'flavour': 2.477121254719662, 'atoricitie': 2.477121254719662, 'indictment': 2.477121254719662, 'apart': 2.477121254719662, 'utterly': 2.477121254719662, 'harmless': 2.477121254719662, 'Us': 2.176091259055681, 'necessarily': 1.6989700043360185, 'neighbour': 2.477121254719662, 'demolish': 2.477121254719662, 'broad': 2.477121254719662, 'labourer': 2.477121254719662, 'catholic': 2.176091259055681, 'IRA': 2.176091259055681, 'protestant': 2.477121254719662, 'incarnate': 2.477121254719662, 'Catholic': 2.0, 'obscure': 2.176091259055681, 'theology': 2.176091259055681, 'complex': 2.0, 'revenge': 2.176091259055681, 'misguided': 2.477121254719662, 'patriotism': 2.477121254719662, 'worldwide': 2.477121254719662, 'Inquisitions': 2.477121254719662, 'religous': 2.477121254719662, 'bag': 2.477121254719662, 'hoc': 2.477121254719662, 'principle': 2.176091259055681, 'motivator': 2.477121254719662, 'enabler': 2.477121254719662, 'NI': 2.477121254719662, 'violence': 2.477121254719662, 'abstract': 2.0, 'Northern': 2.176091259055681, 'Irish': 2.477121254719662, 'absorb': 2.477121254719662, 'Mr': 2.477121254719662, 'assure': 2.0, 'Unionists': 2.477121254719662, 'unionist': 2.477121254719662, 'maintain': 2.176091259055681, 'privilege': 2.477121254719662, 'version': 2.0, 'credibility': 2.477121254719662, 'axe': 2.477121254719662, 'grind': 2.477121254719662, 'killing': 2.176091259055681, 'politic': 2.477121254719662, 'bigotry': 2.477121254719662, 'heartless': 2.477121254719662, 'extremism': 2.477121254719662, 'synonymous': 2.477121254719662, 'overlap': 2.477121254719662, 'meaningless': 2.176091259055681, 'clock': 2.477121254719662, 'ID': 2.176091259055681, 'We': 2.477121254719662, 'Apr': 2.477121254719662, 'GMT': 2.477121254719662, 'Reply': 2.477121254719662, 'wow': 2.176091259055681, 'working': 2.477121254719662, 'model': 2.0, 'option': 2.176091259055681, 'bizarre': 2.477121254719662, 'satire': 2.477121254719662, 'commentary': 2.477121254719662, 'bijou': 2.477121254719662, 'reviewette': 2.477121254719662, 'Loompanics': 2.477121254719662, 'unlimited': 2.477121254719662, 'PO': 2.477121254719662, 'Box': 2.477121254719662, 'Port': 2.477121254719662, 'Townsend': 2.477121254719662, 'WA': 2.477121254719662, 'infamous': 2.477121254719662, 'catalogue': 2.477121254719662, 'anarchism': 2.477121254719662, 'Discordianism': 2.477121254719662, 'Libertarianism': 2.477121254719662, 'cryogenic': 2.477121254719662, 'illegal': 2.176091259055681, 'privacy': 2.477121254719662, 'security': 2.176091259055681, 'awake': 2.477121254719662, 'Church': 2.176091259055681, 'SubGenius': 2.477121254719662, 'Dallas': 2.176091259055681, 'TX': 2.477121254719662, 'mutant': 2.477121254719662, 'scoffer': 2.477121254719662, 'mocker': 2.477121254719662, 'blasphemer': 2.477121254719662, 'ist': 2.477121254719662, 'saucer': 2.477121254719662, 'escape': 2.477121254719662, 'Space': 2.477121254719662, 'stark': 2.477121254719662, 'removal': 2.477121254719662, 'Dobbs': 2.477121254719662, 'Sales': 2.477121254719662, 'ordain': 2.477121254719662, 'Magazines': 2.477121254719662, 'sick': 1.8750612633916997, 'audio': 2.477121254719662, 'cassette': 2.477121254719662, 'assort': 2.477121254719662, 'cynisacreligious': 2.477121254719662, 'periodic': 2.477121254719662, 'pink': 2.176091259055681, 'wierdo': 2.477121254719662, 'slow': 2.477121254719662, 'conspiracy': 2.477121254719662, 'organized': 2.477121254719662, 'slack': 2.477121254719662, 'Counter': 2.477121254719662, 'Productions': 2.477121254719662, 'London': 2.477121254719662, 'selection': 2.176091259055681, 'Surrealism': 2.477121254719662, 'Anarchism': 2.477121254719662, 'Anton': 2.477121254719662, 'Lovecraftian': 2.477121254719662, 'Cyberpunk': 2.477121254719662, 'Forteana': 2.477121254719662, 'Wilhelm': 2.477121254719662, 'Reich': 2.477121254719662, 'Orgone': 2.477121254719662, 'tech': 2.176091259055681, 'music': 2.477121254719662, 'SF': 2.477121254719662, 'SAE': 2.477121254719662, 'bribe': 2.477121254719662, 'mathew': 2.176091259055681, 'folk': 2.0, 'fast': 2.477121254719662, 'operation': 2.477121254719662, 'Forbidden': 2.477121254719662, 'Planet': 2.477121254719662, 'Oxford': 2.477121254719662, 'Street': 2.477121254719662, 'road': 2.176091259055681, 'Tottenham': 2.477121254719662, 'Court': 2.477121254719662, 'Road': 2.477121254719662, 'Mass': 2.176091259055681, 'market': 2.176091259055681, 'oddness': 2.477121254719662, 'quantity': 1.8750612633916997, 'terribly': 2.477121254719662, 'street': 2.477121254719662, 'REVIEWETTE': 2.477121254719662, 'Hits': 2.477121254719662, 'isbn': 2.477121254719662, 'Dispensationalism': 2.477121254719662, 'encourage': 2.477121254719662, 'Cold': 2.176091259055681, 'Abuse': 2.477121254719662, 'myth': 2.0, 'censorship': 2.477121254719662, 'libertarian': 2.477121254719662, 'situationism': 2.477121254719662, 'offend': 2.477121254719662, 'Bradley': 2.477121254719662, 'Revisionist': 2.477121254719662, 'sampling': 2.477121254719662, 'coffee': 2.477121254719662, 'QUOTE': 2.477121254719662, 'fundamentalist': 2.176091259055681, 'leap': 2.176091259055681, 'apoplectic': 2.477121254719662, 'rage': 2.477121254719662, 'joy': 2.176091259055681, 'fantasy': 2.477121254719662, 'vindicate': 2.477121254719662, 'socio': 2.477121254719662, 'agenda': 2.477121254719662, 'meanwhile': 2.477121254719662, 'teen': 2.477121254719662, 'misanthrope': 2.477121254719662, 'misfit': 2.477121254719662, 'enemy': 2.477121254719662, 'classmate': 2.477121254719662, 'stranger': 2.477121254719662, 'LaVey': 2.477121254719662, 'cook': 2.477121254719662, 'AC': 2.477121254719662, 'DC': 2.477121254719662, 'Book': 2.176091259055681, 'Foundation': 2.477121254719662, 'Simon': 2.176091259055681, 'Schuster': 2.477121254719662, 'Rolling': 2.477121254719662, 'Stone': 2.477121254719662, 'masterpiece': 2.477121254719662, 'anymore': 2.0, 'sacred': 2.0, 'teaching': 2.0, 'instant': 1.7781512503836434, 'catalytic': 2.477121254719662, 'relax': 2.477121254719662, 'safety': 2.176091259055681, 'pull': 2.477121254719662, 'wool': 2.477121254719662, 'doom': 2.477121254719662, 'universal': 2.477121254719662, 'scream': 2.176091259055681, 'suggestive': 2.477121254719662, 'silence': 2.477121254719662, 'pee': 2.477121254719662, 'pant': 2.477121254719662, 'famous': 2.176091259055681, 'sermon': 2.477121254719662, 'cosmic': 2.477121254719662, 'simplicity': 2.176091259055681, 'pocket': 2.477121254719662, 'smoking': 2.477121254719662, 'heated': 2.477121254719662, 'monk': 2.477121254719662, 'erupt': 2.477121254719662, 'towhether': 2.477121254719662, 'Master': 2.477121254719662, 'consult': 2.477121254719662, 'wristwatch': 2.477121254719662, 'Grace': 2.477121254719662, 'Weirdness': 2.477121254719662, 'Mail': 2.477121254719662, 'Ivan': 2.477121254719662, 'Stang': 2.477121254719662, 'encyclopedia': 2.477121254719662, 'wierd': 2.477121254719662, 'organization': 2.477121254719662, 'Jesuses': 2.477121254719662, 'UFO': 2.176091259055681, 'contactee': 2.477121254719662, 'Age': 2.176091259055681, 'sap': 2.477121254719662, 'Creationists': 2.477121254719662, 'Flat': 2.477121254719662, 'Earthers': 2.477121254719662, 'Supremacist': 2.477121254719662, 'yawn': 2.477121254719662, 'CSICOP': 2.477121254719662, 'Sceptical': 2.477121254719662, 'Enquirer': 2.477121254719662, 'kook': 2.477121254719662, 'ruthlessly': 2.477121254719662, 'mock': 2.477121254719662, 'sarcastic': 2.477121254719662, 'glee': 2.477121254719662, 'stomach': 2.477121254719662, 'ache': 2.477121254719662, 'revise': 2.176091259055681, 'edition': 2.477121254719662, 'SAMPLE': 2.477121254719662, 'ENTRY': 2.477121254719662, 'Entertaining': 2.477121254719662, 'Demons': 2.477121254719662, 'Unawares': 2.477121254719662, 'Southwest': 2.477121254719662, 'Radio': 2.477121254719662, 'Oklahoma': 2.176091259055681, 'City': 2.477121254719662, 'Watchman': 2.477121254719662, 'Wall': 2.477121254719662, 'flagellating': 2.477121254719662, 'genuflect': 2.477121254719662, 'outfit': 2.477121254719662, 'booklet': 2.477121254719662, 'Star': 2.477121254719662, 'Wars': 2.477121254719662, 'Dungeons': 2.477121254719662, 'Dragons': 2.477121254719662, 'cartoon': 2.477121254719662, 'horrifying': 2.477121254719662, 'Smurfs': 2.477121254719662, 'Woman': 2.477121254719662, 'origin': 2.176091259055681, 'mailing': 2.477121254719662, 'Abolition': 2.477121254719662, 'Work': 2.477121254719662, 'ISBN': 2.477121254719662, 'painfully': 2.477121254719662, 'witty': 2.477121254719662, 'tract': 2.477121254719662, 'collect': 2.477121254719662, 'insufferable': 2.477121254719662, 'provoke': 2.477121254719662, 'wage': 2.176091259055681, 'sin': 2.477121254719662, 'rite': 2.477121254719662, 'sex': 2.477121254719662, 'sect': 2.477121254719662, 'Eros': 2.477121254719662, 'Eris': 2.477121254719662, 'pantheon': 2.477121254719662, 'surely': 2.176091259055681, 'nazarene': 2.477121254719662, 'necrophile': 2.477121254719662, 'Principia': 2.477121254719662, 'Discordia': 2.477121254719662, 'Malaclypse': 2.477121254719662, 'Younger': 2.477121254719662, 'Discordian': 2.477121254719662, 'reprint': 2.477121254719662, 'entirety': 2.477121254719662, 'FTP': 2.477121254719662, 'online': 2.477121254719662, 'Law': 2.477121254719662, 'Fives': 2.477121254719662, 'discordian': 2.477121254719662, 'Cabal': 2.477121254719662, 'instruction': 2.477121254719662, 'illumination': 2.477121254719662, 'alone': 2.176091259055681, 'partake': 2.477121254719662, 'Joyously': 2.477121254719662, 'Hot': 2.477121254719662, 'Dog': 2.176091259055681, 'Devotive': 2.477121254719662, 'Caremony': 2.477121254719662, 'remonstrate': 2.477121254719662, 'Paganisms': 2.477121254719662, 'Christendom': 2.477121254719662, 'Judaism': 2.176091259055681, 'pork': 2.477121254719662, 'Hindic': 2.477121254719662, 'Peoples': 2.477121254719662, 'Beef': 2.477121254719662, 'Buddhists': 2.477121254719662, 'Discordians': 2.477121254719662, 'Buns': 2.477121254719662, 'Natural': 2.477121254719662, 'Willy': 2.477121254719662, 'Illuminatus': 2.477121254719662, 'trilogy': 2.477121254719662, 'rail': 2.477121254719662, 'pervasive': 2.477121254719662, 'Witty': 2.477121254719662, 'ground': 2.176091259055681, 'theological': 2.477121254719662, 'proposition': 2.477121254719662, 'scientifically': 2.477121254719662, 'disposition': 2.477121254719662, 'dubious': 2.477121254719662, 'merchandise': 2.477121254719662, 'dog': 2.176091259055681, 'arabian': 2.477121254719662, 'tapioca': 2.477121254719662, 'Fields': 2.477121254719662, 'comedy': 2.477121254719662, 'recognize': 2.176091259055681, 'con': 2.176091259055681, 'ore': 2.477121254719662, 'Unlimited': 2.477121254719662, 'fuhr': 2.176091259055681, 'statistically': 2.477121254719662, 'powerhouse': 2.477121254719662, 'Andreychoke': 2.477121254719662, 'smile': 2.477121254719662, 'Gerald': 2.176091259055681, 'indication': 2.477121254719662, 'Saddam': 2.477121254719662, 'openly': 2.477121254719662, 'analyst': 2.477121254719662, 'Pull': 2.477121254719662, 'east': 2.477121254719662, 'Hussein': 2.477121254719662, 'concession': 2.477121254719662, 'sanction': 2.176091259055681, 'battle': 2.477121254719662, 'toy': 2.477121254719662, 'hypocrite': 2.477121254719662, 'magnitude': 2.477121254719662, 'oil': 2.176091259055681, 'Soviets': 2.477121254719662, 'sizable': 2.477121254719662, 'gulf': 2.477121254719662, 'gas': 2.176091259055681, 'brutal': 2.477121254719662, 'dictator': 2.477121254719662, 'Hitler': 2.477121254719662, 'Noriega': 2.477121254719662, 'bastard': 2.477121254719662, 'rid': 2.477121254719662, 'Hunt': 2.477121254719662, 'Graduate': 2.477121254719662, 'Slave': 2.477121254719662, 'Mechanical': 2.477121254719662, 'Engineering': 2.477121254719662, 'palestinian': 2.477121254719662, 'Carnegie': 2.477121254719662, 'Mellon': 2.477121254719662, 'Golden': 2.477121254719662, 'Rule': 2.477121254719662, 'homeland': 2.477121254719662, 't': 2.176091259055681, 'h': 2.176091259055681, 'o': 2.0, 'Email': 2.477121254719662, 'sadist': 2.477121254719662, 'devastate': 2.477121254719662, 'alcohol': 2.477121254719662, 'radically': 2.477121254719662, 'nightmare': 2.477121254719662, 'beaten': 2.477121254719662, 'lunacy': 2.477121254719662, 'choke': 2.477121254719662, 'row': 2.477121254719662, 'coincidence': 2.477121254719662, 'store': 2.176091259055681, 'Coast': 2.477121254719662, 'esteem': 2.477121254719662, 'Oiler': 2.0, 'conference': 2.0, 'exact': 2.0, 'Rumour': 2.176091259055681, 'tentative': 2.176091259055681, 'lease': 2.176091259055681, 'arrangement': 2.0, 'Copps': 2.176091259055681, 'Collesium': 2.176091259055681, 'Hamilton': 2.176091259055681, 'announce': 2.0, 'Northlands': 2.176091259055681, 'renegotiate': 2.176091259055681, 'million': 2.0, 'reject': 2.176091259055681, 'END': 2.477121254719662, 'NORRIS': 2.0, 'SEMIFINALS': 2.477121254719662, 'PS': 2.477121254719662, 'NAME': 2.477121254719662, 'PP': 2.176091259055681, 'GW': 2.477121254719662, 'EN': 2.477121254719662, 'Brown': 2.176091259055681, 'Basil': 2.477121254719662, 'McRae': 2.477121254719662, 'Philippe': 2.477121254719662, 'Bozon': 2.477121254719662, 'Butcher': 2.477121254719662, 'Quintal': 2.477121254719662, 'Baron': 2.477121254719662, 'Crossman': 2.477121254719662, 'Igor': 2.477121254719662, 'Korolev': 2.477121254719662, 'Chase': 2.477121254719662, 'Curt': 2.477121254719662, 'Giles': 2.477121254719662, 'Guy': 2.477121254719662, 'Hebert': 2.477121254719662, 'Min': 2.477121254719662, 'ga': 2.477121254719662, 'Avg': 2.477121254719662, 'SA': 2.477121254719662, 'Totals': 2.477121254719662, 'Shutouts': 2.477121254719662, 'Shots': 2.477121254719662, 'Goals': 2.477121254719662, 'Period': 2.477121254719662, 'Overtime': 2.0, 'Short': 2.477121254719662, 'empty': 2.477121254719662, 'Ranger': 2.176091259055681, 'Bowman': 2.176091259055681, 'weight': 2.0, 'manipulate': 2.477121254719662, 'false': 1.8750612633916997, 'rumour': 2.176091259055681, 'lineup': 2.477121254719662, 'SC': 2.0, 'bang': 2.477121254719662, 'thinking': 2.176091259055681, 'telephone': 2.176091259055681, 'Bristol': 2.477121254719662, 'Ct': 2.477121254719662, 'channel': 2.176091259055681, 'livid': 2.477121254719662, 'Phillies': 2.477121254719662, 'Padres': 2.477121254719662, 'inning': 2.477121254719662, 'bed': 2.477121254719662, 'incensed': 2.477121254719662, 'nite': 2.477121254719662, 'GRRRRRRR': 2.477121254719662, 'twilight': 2.477121254719662, 'zone': 2.0, 'moment': 2.176091259055681, 'amaze': 2.477121254719662, 'confuse': 2.0, 'observable': 2.477121254719662, 'halat': 2.477121254719662, 'whoa': 2.477121254719662, 'lighten': 2.477121254719662, 'Andrew': 2.176091259055681, 'dork': 2.477121254719662, 'Business': 2.477121254719662, 'School': 2.477121254719662, 'specifically': 2.176091259055681, 'obnoxious': 2.176091259055681, 'canadian': 2.477121254719662, 'attend': 2.477121254719662, 'UWO': 2.477121254719662, 'idiot': 2.176091259055681, 'umpteen': 2.477121254719662, 'Stars': 2.176091259055681, 'renaming': 2.477121254719662, 'organism': 2.477121254719662, 'cooperative': 2.477121254719662, 'Bee': 2.477121254719662, 'naturally': 2.477121254719662, 'develop': 2.176091259055681, 'results': 1.8750612633916997, 'CONFERENCE': 2.176091259055681, 'SEMI': 2.176091259055681, 'BEST': 2.176091259055681, 'PATRICK': 2.176091259055681, 'ADAMS': 2.176091259055681, 'SMYTHE': 2.176091259055681, 'BUF': 2.176091259055681, 'STL': 2.176091259055681, 'WIN': 2.176091259055681, 'BOS': 2.176091259055681, 'CHI': 2.176091259055681, 'VAN': 2.176091259055681, 'MON': 2.176091259055681, 'TOR': 2.176091259055681, 'QUE': 2.176091259055681, 'DET': 2.176091259055681, 'CAL': 2.176091259055681, 'Powerplay': 2.176091259055681, 'Opportunities': 2.176091259055681, 'Terreri': 2.477121254719662, 'Capitals': 2.176091259055681, 'Nordiques': 2.176091259055681, 'nordique': 2.176091259055681, 'hextall': 2.0, 'Houlder': 2.477121254719662, 'bruin': 2.0, 'Blue': 1.7781512503836434, 'comeon': 2.477121254719662, 'basketball': 2.477121254719662, 'Penguine': 2.477121254719662, 'highlight': 2.176091259055681, 'ot': 2.176091259055681, 'sec': 2.477121254719662, 'attention': 2.0, 'nhl': 2.477121254719662, 'improve': 2.0, 'COBRA': 2.477121254719662, 'awhile': 2.477121254719662, 'assassination': 2.477121254719662, 'avowed': 2.477121254719662, 'aim': 2.176091259055681, 'Ireland': 2.477121254719662, 'constitution': 2.477121254719662, 'restriction': 2.477121254719662, 'civil': 2.477121254719662, 'appropriate': 2.477121254719662, 'paint': 2.477121254719662, 'thumpin': 2.477121254719662, 'fearin': 2.477121254719662, 'hatin': 2.477121254719662, 'Einstein': 2.477121254719662, 'interupt': 2.477121254719662, 'clause': 2.477121254719662, 'shaft': 2.477121254719662, 'central': 2.477121254719662, 'Arthritus': 2.477121254719662, 'Telethon': 2.477121254719662, 'HAWK': 2.477121254719662, 'VISION': 2.477121254719662, 'television': 2.176091259055681, 'deprive': 2.477121254719662, 'skyrocket': 2.477121254719662, 'PEACE': 2.477121254719662, 'HAMMER': 2.477121254719662, 'Coach': 2.176091259055681, 'Corner': 2.0, 'film': 2.477121254719662, 'warn': 2.176091259055681, 'Topics': 2.477121254719662, 'Tie': 2.0, 'Wendel': 2.0, 'Fighting': 2.477121254719662, 'Stickwork': 2.477121254719662, 'Episode': 2.477121254719662, 'Summary': 2.477121254719662, 'episode': 2.477121254719662, 'character': 2.477121254719662, 'Cat': 2.477121254719662, 'Sylverster': 2.477121254719662, 'Maclean': 2.477121254719662, 'Daffy': 2.477121254719662, 'Duck': 2.477121254719662, 'building': 2.477121254719662, 'ours': 2.477121254719662, 'encouragement': 2.477121254719662, 'clip': 2.477121254719662, 'Constantinov': 2.477121254719662, 'Andrewchuk': 2.477121254719662, 'disqualify': 2.477121254719662, 'bat': 2.477121254719662, 'Clarke': 2.477121254719662, 'criticize': 2.0, 'tough': 2.176091259055681, 'hack': 2.176091259055681, 'blame': 2.176091259055681, 'Gil': 2.477121254719662, 'Stien': 2.477121254719662, 'share': 2.0, 'elimination': 2.477121254719662, 'newspaper': 2.477121254719662, 'instigator': 2.477121254719662, 'settle': 2.477121254719662, 'grudge': 2.477121254719662, 'slice': 2.176091259055681, 'commisioner': 2.477121254719662, 'Bettman': 2.0, 'smarten': 2.477121254719662, 'gets': 2.176091259055681, 'Typical': 2.477121254719662, 'posturing': 2.477121254719662, 'british': 2.477121254719662, 'Government': 2.477121254719662, 'ban': 2.176091259055681, 'shelf': 2.477121254719662, 'unread': 2.477121254719662, 'pile': 2.477121254719662, 'Lem': 2.477121254719662, 'Bulgakov': 2.477121254719662, 'Zamyatin': 2.477121254719662, 'bore': 2.0, 'CBC': 2.477121254719662, 'ch': 2.477121254719662, 'Windsor': 2.477121254719662, 'Coaches': 2.477121254719662, 'Grapevine': 2.477121254719662, 'grape': 2.176091259055681, 'WLLZ': 2.477121254719662, 'Donny': 2.477121254719662, 'designate': 2.477121254719662, 'audience': 2.176091259055681, 'Civic': 2.477121254719662, 'Center': 2.477121254719662, 'Wales': 2.477121254719662, 'Conference': 2.176091259055681, 'chest': 2.176091259055681, 'BUt': 2.477121254719662, 'moron': 2.477121254719662, 'noone': 2.477121254719662, 'THU': 2.477121254719662, 'interpret': 2.176091259055681, 'potential': 1.8750612633916997, 'distortion': 2.477121254719662, 'ethical': 2.477121254719662, 'abstacte': 2.477121254719662, 'untainted': 2.477121254719662, 'wonderfully': 2.477121254719662, 'phrased': 2.477121254719662, 'undermine': 2.477121254719662, 'construct': 2.176091259055681, 'compliment': 2.477121254719662, 'paranoid': 2.477121254719662, 'relevence': 2.477121254719662, 'Truth': 2.477121254719662, 'examine': 2.0, 'infinitely': 2.477121254719662, 'fallible': 2.477121254719662, 'san': 2.477121254719662, 'apologist': 2.477121254719662, 'fond': 2.477121254719662, 'prophesie': 2.477121254719662, 'prayer': 2.176091259055681, 'Torah': 2.477121254719662, 'Xians': 2.477121254719662, 'beginning': 2.176091259055681, 'trust': 2.176091259055681, 'loonie': 2.477121254719662, 'son': 2.477121254719662, 'bitch': 2.477121254719662, 'tired': 2.477121254719662, 'cretin': 2.477121254719662, 'tirade': 2.477121254719662, 'Damed': 2.477121254719662, 'secular': 2.477121254719662, 'humanism': 2.477121254719662, 'FULL': 2.176091259055681, 'CALDER': 2.176091259055681, 'CUP': 2.0, 'necesary': 2.176091259055681, 'Gm': 2.176091259055681, 'SPRINGFIELD': 2.176091259055681, 'WINS': 2.176091259055681, 'CD': 2.477121254719662, 'ADIRONDACK': 2.176091259055681, 'Skipjacks': 2.176091259055681, 'BINGHAMTON': 2.176091259055681, 'BALTIMORE': 2.176091259055681, 'Binghmaton': 2.176091259055681, 'Americans': 1.6989700043360185, 'ROCHESTER': 2.176091259055681, 'MONCTON': 2.176091259055681, 'FREDERICTON': 2.176091259055681, 'CAPE': 2.176091259055681, 'BRETON': 2.176091259055681, 'Captains': 2.477121254719662, 'Mel': 2.477121254719662, 'Bridgeman': 2.477121254719662, 'Marsh': 2.477121254719662, 'helpfully': 2.477121254719662, 'wording': 2.477121254719662, 'Rights': 2.477121254719662, 'Keith': 2.0, 'cruel': 2.176091259055681, 'fate': 2.176091259055681, 'prevarication': 2.477121254719662, 'increasingly': 2.477121254719662, 'unconvincing': 2.477121254719662, 'blind': 2.0, 'department': 2.477121254719662, 'tip': 2.477121254719662, 'Races': 2.477121254719662, 'vision': 2.477121254719662, 'arabic': 2.477121254719662, 'translation': 2.477121254719662, 'Consistent': 2.477121254719662, 'alter': 2.477121254719662, 'substance': 2.176091259055681, 'beautfully': 2.477121254719662, 'retract': 2.477121254719662, 'Imam': 2.477121254719662, 'mosque': 2.477121254719662, 'Mecca': 2.477121254719662, 'wherever': 2.477121254719662, 'idolator': 2.477121254719662, 'originally': 2.176091259055681, 'bucket': 2.477121254719662, 'reposte': 2.477121254719662, 'fundamental': 2.477121254719662, 'generalisms': 2.477121254719662, 'misplace': 2.176091259055681, 'materialism': 2.477121254719662, 'accord': 1.8750612633916997, 'understanding': 2.0, 'explicit': 2.477121254719662, 'express': 2.0, 'judgment': 2.477121254719662, 'Muslims': 2.176091259055681, 'genocide': 2.176091259055681, 'mechanistic': 2.477121254719662, 'prerequisite': 2.477121254719662, 'considerable': 2.477121254719662, 'survival': 2.477121254719662, 'comic': 2.477121254719662, 'pry': 2.477121254719662, 'gobbledygook': 2.477121254719662, 'stimulus': 2.477121254719662, 'command': 2.477121254719662, 'Canaanites': 2.477121254719662, 'faq': 2.477121254719662, 'reading': 2.176091259055681, 'accomplish': 2.176091259055681, 'frame': 2.477121254719662, 'neighboring': 2.477121254719662, 'tribe': 2.176091259055681, 'periodically': 2.477121254719662, 'generally': 1.7781512503836434, 'foster': 2.477121254719662, 'coexistence': 2.477121254719662, 'absolutist': 2.477121254719662, 'unequivocally': 2.477121254719662, 'exclude': 2.477121254719662, 'whatsoever': 2.176091259055681, 'hominem': 2.477121254719662, 'poison': 2.477121254719662, 'resort': 2.477121254719662, 'rationally': 2.477121254719662, 'Perry': 2.477121254719662, 'Decision': 2.477121254719662, 'Support': 2.477121254719662, 'Matthews': 2.477121254719662, 'NC': 2.477121254719662, 'nominal': 2.477121254719662, 'yours': 2.477121254719662, 'mostly': 2.477121254719662, 'format': 2.176091259055681, 'disappointment': 2.477121254719662, 'mentally': 2.477121254719662, 'rally': 2.477121254719662, 'bout': 2.176091259055681, 'areivalry': 2.477121254719662, 'opps': 2.477121254719662, 'rivalry': 2.477121254719662, 'roland': 2.477121254719662, 'Lewis': 2.477121254719662, 'medieval': 2.477121254719662, 'probable': 2.477121254719662, 'voluntarly': 2.477121254719662, 'favour': 2.477121254719662, 'cow': 2.477121254719662, 'immortal': 2.477121254719662, 'seed': 2.477121254719662, 'fair': 2.477121254719662, 'Pascal': 2.477121254719662, 'Wager': 2.477121254719662, 'HS': 2.477121254719662, 'attitude': 2.0, 'CJF': 2.477121254719662, 'Andres': 2.477121254719662, 'Grino': 2.477121254719662, 'Brandt': 2.477121254719662, 'Mormons': 2.477121254719662, 'sudie': 2.477121254719662, 'BOM': 2.477121254719662, 'civilization': 2.477121254719662, 'aroun': 2.477121254719662, 'mystical': 2.477121254719662, 'plate': 2.176091259055681, 'steel': 2.477121254719662, 'metal': 2.477121254719662, 'trace': 2.477121254719662, 'Native': 2.477121254719662, 'archeology': 2.477121254719662, 'dept': 2.477121254719662, 'Mormon': 2.477121254719662, 'archeologist': 2.477121254719662, 'lost': 2.477121254719662, 'bunk': 2.477121254719662, 'knowingly': 2.477121254719662, 'permenantly': 2.477121254719662, 'Cornell': 2.477121254719662, 'sane': 2.477121254719662, 'Python': 2.477121254719662, 'thread': 2.176091259055681, 'creationism': 2.477121254719662, 'dabble': 2.477121254719662, 'Nature': 2.477121254719662, 'Science': 2.477121254719662, 'JP': 2.477121254719662, 'Moreland': 2.477121254719662, 'explanation': 2.176091259055681, 'vague': 2.477121254719662, 'quark': 2.477121254719662, 'continental': 2.477121254719662, 'measurable': 2.477121254719662, 'junior': 2.477121254719662, 'Seattle': 2.477121254719662, 'mediocre': 2.477121254719662, 'Detorit': 2.477121254719662, 'excited': 2.477121254719662, 'arena': 2.0, 'Richard': 2.477121254719662, 'overhear': 2.477121254719662, 'regularity': 2.477121254719662, 'confident': 2.477121254719662, 'Bored': 2.477121254719662, 'uh': 2.477121254719662, 'forgot': 2.176091259055681, 'darn': 2.176091259055681, 'quietly': 2.477121254719662, 'savor': 2.477121254719662, 'gon': 2.477121254719662, 'PITSBURGH': 2.477121254719662, 'ISLES': 2.477121254719662, 'Pitsburgh': 2.477121254719662, 'ratio': 2.477121254719662, 'l': 2.477121254719662, 'E': 2.477121254719662, 'S': 2.477121254719662, 'i': 2.477121254719662, 'outscore': 2.477121254719662, 'stave': 2.477121254719662, 'Jet': 2.477121254719662, 'comeback': 2.176091259055681, 'opportune': 2.477121254719662, 'centre': 2.477121254719662, 'Cliff': 2.477121254719662, 'Ronning': 2.477121254719662, 'winger': 2.477121254719662, 'Geoff': 2.477121254719662, 'Courtnall': 2.477121254719662, 'boost': 2.477121254719662, 'giveaway': 2.477121254719662, 'Bautin': 2.477121254719662, 'Ulanov': 2.477121254719662, 'lapse': 2.477121254719662, 'Canuck': 2.477121254719662, 'penetrate': 2.477121254719662, 'Kirk': 2.176091259055681, 'McLean': 2.176091259055681, 'angle': 2.477121254719662, 'unwilling': 2.477121254719662, 'standup': 2.477121254719662, 'considerably': 2.176091259055681, 'dancing': 2.477121254719662, 'Teammu': 2.477121254719662, 'Pavel': 2.477121254719662, 'preserve': 2.477121254719662, 'Tempo': 2.477121254719662, 'Numminen': 2.477121254719662, 'discordant': 2.477121254719662, 'tight': 2.477121254719662, 'winnipeg': 2.176091259055681, 'bonehead': 2.477121254719662, 'stall': 2.477121254719662, 'bure': 2.477121254719662, 'invisible': 2.176091259055681, 'roof': 2.176091259055681, 'backhand': 2.477121254719662, 'balance': 2.176091259055681, 'attacker': 2.477121254719662, 'canuck': 2.176091259055681, 'Hindsight': 2.477121254719662, 'Gund': 2.477121254719662, 'm': 2.477121254719662, 'November': 2.477121254719662, 'Sather': 2.477121254719662, 'replacement': 2.477121254719662, 'M': 2.0, 'March': 2.477121254719662, 'sather': 2.477121254719662, 'immediate': 2.477121254719662, 'October': 2.477121254719662, 'panick': 2.477121254719662, 'competition': 2.477121254719662, 'Ferriera': 2.477121254719662, 'Keenan': 2.176091259055681, 'genius': 2.176091259055681, 'broken': 2.477121254719662, 'fax': 2.176091259055681, 'machine': 2.176091259055681, 'Kingston': 2.477121254719662, 'shiver': 2.477121254719662, 'Bottomline': 2.477121254719662, 'black': 2.176091259055681, 'scenario': 2.477121254719662, 'concoct': 2.477121254719662, 'bright': 2.477121254719662, 'Ferierra': 2.477121254719662, 'shark': 2.477121254719662, 'timetable': 2.477121254719662, 'capture': 2.477121254719662, 'frequently': 2.477121254719662, 'expansion': 2.477121254719662, 'inception': 2.477121254719662, 'Pacific': 2.477121254719662, 'Mountain': 2.477121254719662, 'jack': 2.477121254719662, 'buck': 2.176091259055681, 'seat': 2.477121254719662, 'jacket': 2.477121254719662, 'select': 2.477121254719662, 'privileged': 2.477121254719662, 'loyal': 2.477121254719662, 'literally': 2.0, 'spring': 2.176091259055681, 'loyalty': 2.477121254719662, 'Wirtz': 2.477121254719662, 'comparison': 2.477121254719662, 'tix': 2.477121254719662, 'negative': 2.176091259055681, 'signature': 2.176091259055681, 'metro': 2.477121254719662, 'Shark': 2.176091259055681, 'wit': 2.477121254719662, 'Nod': 2.477121254719662, 'Bad': 2.477121254719662, 'Dogma': 2.477121254719662, 'Faith': 2.477121254719662, 'Branch': 2.477121254719662, 'Davidians': 2.477121254719662, 'messenger': 2.477121254719662, 'zealotry': 2.477121254719662, 'totally': 2.176091259055681, 'irrational': 2.477121254719662, 'expand': 2.477121254719662, 'predispose': 2.477121254719662, 'unfair': 2.477121254719662, 'prison': 2.477121254719662, 'eh': 2.176091259055681, 'parole': 2.477121254719662, 'voluntary': 2.477121254719662, 'compatible': 2.477121254719662, 'pistol': 2.477121254719662, 'urine': 2.477121254719662, 'seriously': 2.0, 'infidel': 2.477121254719662, 'alternately': 2.477121254719662, 'affiliation': 2.477121254719662, 'Egyptian': 2.477121254719662, 'waco': 2.477121254719662, 'conscientious': 2.477121254719662, 'peacenik': 2.477121254719662, 'zealot': 2.477121254719662, 'acne': 2.477121254719662, 'isolate': 2.176091259055681, 'Pilon': 2.477121254719662, 'STUPID': 2.477121254719662, 'remainder': 2.477121254719662, 'regulation': 2.176091259055681, 'blunder': 2.477121254719662, 'inopportune': 2.477121254719662, 'confront': 2.477121254719662, 'Cote': 2.477121254719662, 'across': 2.176091259055681, 'blueline': 2.477121254719662, 'swipe': 2.477121254719662, 'nose': 2.477121254719662, 'Arbour': 2.477121254719662, 'LaChance': 2.477121254719662, 'bammer': 2.477121254719662, 'Langevin': 2.477121254719662, 'LETS': 2.477121254719662, 'billdboard': 2.477121254719662, 'Sportschannel': 2.477121254719662, 'deliver': 2.477121254719662, 'FINALLY': 2.477121254719662, 'sweater': 2.477121254719662, 'moth': 2.477121254719662, 'proudly': 2.477121254719662, 'frustration': 2.176091259055681, 'nil': 2.477121254719662, 'deficit': 2.176091259055681, 'flick': 2.477121254719662, 'briefly': 2.477121254719662, 'billc': 2.477121254719662, 'err': 2.477121254719662, 'Whadda': 2.477121254719662, 'smiley': 2.477121254719662, 'business': 1.8750612633916997, 'curiosity': 2.477121254719662, 'dictionary': 2.477121254719662, 'scope': 2.477121254719662, 'exceed': 2.477121254719662, 'size': 2.176091259055681, 'validate': 2.477121254719662, 'wager': 2.477121254719662, 'geographical': 2.477121254719662, 'mixed': 2.477121254719662, 'shred': 2.477121254719662, 'quotation': 2.477121254719662, 'Chairman': 2.477121254719662, 'teacher': 2.477121254719662, 'Pet': 2.477121254719662, 'sour': 2.477121254719662, 'Maharishi': 2.477121254719662, 'titular': 2.477121254719662, 'Rajneesh': 2.477121254719662, 'Mahesh': 2.477121254719662, 'maharishis': 2.477121254719662, 'disaster': 2.477121254719662, 'quarter': 2.176091259055681, 'wednesday': 2.477121254719662, 'throughout': 2.0, 'Briza': 2.477121254719662, 'czech': 2.477121254719662, 'Tikkanen': 2.477121254719662, 'finnish': 2.0, 'objectivity': 2.477121254719662, 'severe': 2.477121254719662, 'intent': 2.477121254719662, 'boarding': 2.477121254719662, 'careless': 2.176091259055681, 'Chaisson': 2.477121254719662, 'bullshit': 2.477121254719662, 'whine': 2.477121254719662, 'Probie': 2.477121254719662, 'Rouse': 2.477121254719662, 'linesman': 2.176091259055681, 'adrenalin': 2.477121254719662, 'Anderson': 2.477121254719662, 'infraction': 2.477121254719662, 'lousy': 2.176091259055681, 'Bullshit': 2.477121254719662, 'hammer': 2.477121254719662, 'stance': 2.477121254719662, 'painless': 2.477121254719662, 'execution': 2.176091259055681, 'cruelty': 2.477121254719662, 'electrocute': 2.477121254719662, 'Pardon': 2.477121254719662, 'painful': 2.477121254719662, 'duration': 2.477121254719662, 'suffocation': 2.477121254719662, 'asphyxiation': 2.477121254719662, 'chamber': 2.477121254719662, 'twenty': 2.477121254719662, 'arbitrary': 2.477121254719662, 'cutoff': 2.477121254719662, 'presumption': 2.477121254719662, 'render': 2.477121254719662, 'possibilty': 2.477121254719662, 'sufficent': 2.477121254719662, 'occupy': 2.477121254719662, 'inevitable': 2.477121254719662, 'overwhelming': 2.477121254719662, 'Interchange': 2.477121254719662, 'Hoban': 2.477121254719662, 'sympathy': 2.477121254719662, 'furthermore': 2.477121254719662, 'solely': 2.176091259055681, 'poorly': 2.477121254719662, 'recourse': 2.477121254719662, 'widespread': 2.176091259055681, 'propaganda': 2.0, 'presentation': 2.477121254719662, 'Finns': 2.477121254719662, 'fifth': 2.477121254719662, 'Ketterer': 2.477121254719662, 'Finn': 2.176091259055681, 'equipment': 2.176091259055681, 'glove': 2.477121254719662, 'Mikko': 2.477121254719662, 'Wihervaara': 2.477121254719662, 'Fat': 2.477121254719662, 'Lady': 2.477121254719662, 'headline': 2.477121254719662, 'sportscat': 2.477121254719662, 'Harry': 2.477121254719662, 'Sinden': 2.477121254719662, 'dressing': 2.477121254719662, 'retard': 2.477121254719662, 'vacation': 2.477121254719662, 'buttkisser': 2.477121254719662, 'Milbury': 2.477121254719662, 'D': 2.477121254719662, 'russia': 2.477121254719662, 'woofer': 2.477121254719662, 'cocky': 2.477121254719662, 'Nah': 2.477121254719662, 'PROVOCATIVE': 2.477121254719662, 'SOB': 2.477121254719662, 'bragging': 2.477121254719662, 'wobbie': 2.477121254719662, 'UMASS': 2.477121254719662, 'Quakers': 2.477121254719662, 'congratulation': 2.477121254719662, 'diciplined': 2.477121254719662, 'SHIT': 2.477121254719662, 'leaf': 2.176091259055681, 'halfway': 2.477121254719662, 'Basten': 2.477121254719662, 'zip': 2.477121254719662, 'thrash': 2.477121254719662, 'arrogance': 2.477121254719662, 'smashing': 2.477121254719662, 'underdog': 2.477121254719662, 'rewarding': 2.477121254719662, 'WALES': 2.477121254719662, 'dique': 2.477121254719662, 'smythe': 2.477121254719662, 'Douggie': 2.477121254719662, 'alright': 2.176091259055681, 'obleafsjoke': 2.477121254719662, 'maple': 2.477121254719662, 'groundhog': 2.477121254719662, 'crummy': 2.477121254719662, 'dude': 2.477121254719662, 'HABS': 2.477121254719662, 'GOOOOOOOOOOOOOOOOOOO': 2.477121254719662, 'Shaib': 2.477121254719662, 'Victorias': 2.477121254719662, 'representation': 2.477121254719662, 'subset': 2.477121254719662, 'opposing': 2.477121254719662, 'subtly': 2.477121254719662, 'obnoxiously': 2.477121254719662, 'window': 2.477121254719662, 'MacEachern': 2.477121254719662, 'unnoticed': 2.477121254719662, 'Scotty': 2.477121254719662, 'Brooks': 2.477121254719662, 'adantage': 2.477121254719662, 'cool': 2.477121254719662, 'dweller': 2.477121254719662, 'bottle': 2.477121254719662, 'configure': 2.477121254719662, 'incredible': 2.477121254719662, 'Straka': 2.176091259055681, 'average': 2.0, 'complement': 2.477121254719662, 'crucial': 2.477121254719662, 'commendable': 2.477121254719662, 'success': 2.176091259055681, 'Hawaii': 2.477121254719662, 'coup': 2.477121254719662, 'annex': 2.477121254719662, 'spanish': 2.477121254719662, 'dearth': 2.477121254719662, 'disputatious': 2.477121254719662, 'dissertation': 2.477121254719662, 'lad': 2.477121254719662, 'lassie': 2.477121254719662, 'woof': 2.477121254719662, 'header': 2.477121254719662, 'notoriety': 2.477121254719662, 'german': 2.477121254719662, 'Canadien': 2.477121254719662, 'Germans': 2.477121254719662, 'practically': 2.477121254719662, 'skating': 2.477121254719662, 'nationalism': 2.477121254719662, 'tennis': 2.477121254719662, 'Davis': 2.477121254719662, 'soccer': 2.477121254719662, 'nordic': 2.477121254719662, 'skiing': 2.477121254719662, 'cheare': 2.477121254719662, 'loos': 2.477121254719662, 'attractive': 2.477121254719662, 'national': 2.176091259055681, 'Nazis': 2.477121254719662, 'nationalist': 2.477121254719662, 'ultraconservative': 2.477121254719662, 'danger': 2.477121254719662, 'regard': 2.176091259055681, 'beeing': 2.477121254719662, 'drawer': 2.477121254719662, 'correspond': 2.477121254719662, 'nationality': 2.477121254719662, 'eg': 2.477121254719662, 'Russians': 2.477121254719662, 'Communists': 2.176091259055681, 'capitalist': 2.477121254719662, 'Fins': 2.477121254719662, 'beee': 2.477121254719662, 'drunk': 2.477121254719662, 'ferry': 2.477121254719662, 'narrowness': 2.477121254719662, 'goalkeeper': 2.477121254719662, 'Referee': 2.477121254719662, 'shame': 2.477121254719662, 'Finals': 2.477121254719662, 'lifelong': 2.477121254719662, 'culturally': 2.477121254719662, 'erroneously': 2.477121254719662, 'sole': 2.176091259055681, 'validation': 2.477121254719662, 'debunk': 2.477121254719662, 'resource': 2.477121254719662, 'socialize': 2.477121254719662, 'accuse': 1.7781512503836434, 'lying': 2.477121254719662, 'mistaken': 2.0, 'oxymoronic': 2.477121254719662, 'Friends': 2.477121254719662, 'Service': 2.477121254719662, 'Committee': 2.477121254719662, 'Quaker': 2.477121254719662, 'Relief': 2.477121254719662, 'Services': 2.477121254719662, 'Bread': 2.477121254719662, 'Salvation': 2.477121254719662, 'Army': 2.477121254719662, 'soup': 2.477121254719662, 'Mother': 2.477121254719662, 'Theresa': 2.477121254719662, 'analagous': 2.477121254719662, 'outgrowth': 2.477121254719662, 'ascribe': 2.477121254719662, 'benevolence': 2.477121254719662, 'Inquisition': 2.477121254719662, 'solitary': 2.477121254719662, 'evil': 2.477121254719662, 'unreasonable': 2.477121254719662, 'absurd': 2.477121254719662, 'throught': 2.477121254719662, 'prior': 2.477121254719662, 'heat': 2.477121254719662, 'dare': 2.176091259055681, 'pissed': 2.477121254719662, 'Jordan': 2.477121254719662, 'fucker': 2.477121254719662, 'closet': 2.477121254719662, 'Helloamend': 2.477121254719662, 'holding': 2.477121254719662, 'clueless': 2.477121254719662, 'automatic': 2.477121254719662, 'interference': 2.477121254719662, 'inferior': 2.477121254719662, 'swiss': 2.477121254719662, 'semi': 2.477121254719662, 'overrun': 2.477121254719662, 'relegate': 2.477121254719662, 'WC': 2.477121254719662, 'tournement': 2.477121254719662, 'olympic': 2.477121254719662, 'Lillehammer': 2.477121254719662, 'ominous': 2.477121254719662, 'fuel': 2.477121254719662, 'Prime': 2.477121254719662, 'outlet': 2.477121254719662, 'Cablevision': 2.477121254719662, 'vp': 2.477121254719662, 'Chuck': 2.477121254719662, 'Dolan': 2.477121254719662, 'solidly': 2.477121254719662, 'scny': 2.477121254719662, 'fold': 2.477121254719662, 'lucrative': 2.477121254719662, 'Flyer': 2.477121254719662, 'Snyders': 2.477121254719662, 'Prism': 2.477121254719662, 'regional': 2.477121254719662, 'dozen': 2.477121254719662, 'HTS': 2.477121254719662, 'nesn': 2.477121254719662, 'barter': 2.477121254719662, 'Gee': 2.176091259055681, 'unmitigated': 2.477121254719662, 'bilge': 2.477121254719662, 'token': 2.477121254719662, 'December': 2.477121254719662, 'adviser': 2.477121254719662, 'Zbigniew': 2.477121254719662, 'Brzezinski': 2.477121254719662, 'Senate': 2.477121254719662, 'committee': 2.477121254719662, 'multinational': 2.477121254719662, 'coalition': 2.477121254719662, 'defy': 2.477121254719662, 'UN': 2.477121254719662, 'nation': 2.477121254719662, 'taking': 2.477121254719662, 'fcnl': 2.477121254719662, 'Newsletter': 2.477121254719662, 'wrongful': 2.477121254719662, 'murderer': 2.477121254719662, 'regrettable': 2.477121254719662, 'escapee': 2.477121254719662, 'Limbot': 2.477121254719662, 'Land': 2.477121254719662, 'conservative': 2.477121254719662, 'incarceration': 2.477121254719662, 'annually': 2.477121254719662, 'capital': 2.477121254719662, 'execute': 2.477121254719662, 'Texas': 2.176091259055681, 'estimate': 2.176091259055681, 'maximum': 2.477121254719662, 'prisoner': 2.176091259055681, 'Sundin': 2.477121254719662, 'Gusarov': 2.477121254719662, 'Muller': 2.477121254719662, 'Desjardins': 2.477121254719662, 'canadien': 2.477121254719662, 'NJD': 2.477121254719662, 'Guerin': 2.477121254719662, 'Loney': 2.477121254719662, 'Tippett': 2.477121254719662, 'Semak': 2.477121254719662, 'Zelepukin': 2.477121254719662, 'Bourque': 2.477121254719662, 'Donato': 2.477121254719662, 'Shaw': 2.477121254719662, 'Burridge': 2.477121254719662, 'Ridley': 2.477121254719662, 'Elynuik': 2.477121254719662, 'Hint': 2.477121254719662, 'normally': 2.477121254719662, 'contractor': 2.477121254719662, 'export': 2.477121254719662, 'congress': 2.477121254719662, 'scholarly': 2.477121254719662, 'flippantly': 2.477121254719662, 'antagonistic': 2.176091259055681, 'falsehood': 2.176091259055681, 'ignorance': 2.176091259055681, 'spreading': 2.176091259055681, 'impaired': 2.477121254719662, 'cite': 2.477121254719662, 'focus': 2.477121254719662, 'justifiably': 2.477121254719662, 'Hogan': 2.477121254719662, 'entertainment': 2.477121254719662, 'entertaining': 2.477121254719662, 'joke': 2.477121254719662, 'intention': 2.176091259055681, 'lineman': 2.477121254719662, 'running': 2.477121254719662, 'touchdown': 2.477121254719662, 'Malarchuck': 2.477121254719662, 'rink': 2.477121254719662, 'ambulence': 2.477121254719662, 'ditto': 2.477121254719662, 'ambulance': 2.477121254719662, 'standby': 2.477121254719662, 'video': 2.176091259055681, 'spurt': 2.477121254719662, 'puddle': 2.477121254719662, 'amazingly': 2.477121254719662, 'afterward': 2.477121254719662, 'Carol': 2.477121254719662, 'Boudreau': 2.477121254719662, 'Terminator': 2.477121254719662, 'Rock': 2.477121254719662, 'solution': 2.477121254719662, 'telnet': 2.477121254719662, 'Unix': 2.477121254719662, 'completly': 2.477121254719662, 'verifiable': 2.477121254719662, 'notarize': 2.477121254719662, 'hinterland': 2.477121254719662, 'possibly': 2.176091259055681, 'greedy': 2.477121254719662, 'profiteer': 2.477121254719662, 'profit': 2.176091259055681, 'gouging': 2.477121254719662, 'recollection': 2.477121254719662, 'USENET': 2.477121254719662, 'curiousity': 2.477121254719662, 'amazement': 2.477121254719662, 'input': 2.477121254719662, 'initial': 2.477121254719662, 'finsh': 2.477121254719662, 'Gibson': 2.477121254719662, 'INTERNET': 2.477121254719662, 'Dept': 2.477121254719662, 'Geophysics': 2.477121254719662, 'Astronomy': 2.477121254719662, 'Main': 2.477121254719662, 'Mall': 2.477121254719662, 'British': 2.477121254719662, 'Columbia': 2.477121254719662, 'FAX': 2.477121254719662, 'sobbing': 2.477121254719662, 'beer': 2.477121254719662, 'ranger': 2.176091259055681, 'Hmmm': 2.477121254719662, 'dem': 2.477121254719662, 'Whalers': 2.477121254719662, 'steveg': 2.477121254719662, 'longing': 2.477121254719662, 'punish': 2.176091259055681, 'hopelessly': 2.477121254719662, 'confusing': 2.477121254719662, 'hint': 2.477121254719662, 'honestly': 2.477121254719662, 'reconsider': 2.477121254719662, 'analyse': 2.477121254719662, 'publication': 2.176091259055681, 'cycle': 2.477121254719662, 'emotional': 2.477121254719662, 'prey': 2.477121254719662, 'skeptical': 2.477121254719662, 'student': 2.477121254719662, 'qualitative': 2.477121254719662, 'organic': 2.477121254719662, 'compound': 2.176091259055681, 'lab': 2.477121254719662, 'experiment': 2.477121254719662, 'fashioned': 2.477121254719662, 'workload': 2.477121254719662, 'lesson': 2.477121254719662, 'structure': 2.477121254719662, 'unknown': 2.477121254719662, 'tempting': 2.477121254719662, 'inconsistent': 2.176091259055681, 'mechanism': 2.477121254719662, 'assurance': 2.477121254719662, 'filtering': 2.477121254719662, 'document': 2.176091259055681, 'haphazardly': 2.477121254719662, 'insertion': 2.477121254719662, 'George': 2.477121254719662, 'hero': 2.477121254719662, 'Blind': 2.477121254719662, 'Pit': 2.477121254719662, 'Chi': 2.477121254719662, 'Bos': 2.477121254719662, 'Mtl': 2.477121254719662, 'NYR': 2.477121254719662, 'heresay': 2.477121254719662, 'meaning': 2.0, 'preclue': 2.477121254719662, 'preclude': 2.477121254719662, 'falsify': 2.477121254719662, 'is': 2.176091259055681, 'religionist': 2.477121254719662, 'blur': 2.477121254719662, 'reconcilable': 2.477121254719662, 'subserviant': 2.477121254719662, 'pursuit': 2.477121254719662, 'reconciliation': 2.477121254719662, 'circumvent': 2.477121254719662, 'tendancy': 2.477121254719662, 'certian': 2.477121254719662, 'fundementally': 2.477121254719662, 'limited': 2.477121254719662, 'gererally': 2.477121254719662, 'confur': 2.477121254719662, 'uncertainty': 2.477121254719662, 'limitation': 2.477121254719662, 'imperfect': 2.477121254719662, 'provisional': 2.477121254719662, 'distinctly': 2.477121254719662, 'meaningful': 2.477121254719662, 'pose': 2.477121254719662, 'mere': 2.477121254719662, 'disolve': 2.477121254719662, 'Livesey': 2.477121254719662, 'beg': 2.477121254719662, 'accuracy': 2.477121254719662, 'eyewitness': 2.477121254719662, 'reporter': 2.477121254719662, 'metaphor': 2.176091259055681, 'innately': 2.477121254719662, 'contrary': 2.176091259055681, 'hollow': 2.477121254719662, 'NT': 2.477121254719662, 'largely': 2.477121254719662, 'correction': 2.477121254719662, 'direction': 2.477121254719662, 'Textus': 2.477121254719662, 'Nestle': 2.477121254719662, 'Aland': 2.477121254719662, 'differ': 2.477121254719662, 'Thorne': 2.477121254719662, 'Mees': 2.477121254719662, 'Davidson': 2.477121254719662, 'pair': 2.477121254719662, 'willingness': 2.477121254719662, 'believer': 2.176091259055681, 'Jones': 2.477121254719662, 'martyrdom': 2.477121254719662, 'depth': 2.477121254719662, 'exploit': 2.477121254719662, 'bail': 2.477121254719662, 'discomfort': 2.176091259055681, 'bruise': 2.477121254719662, 'blatantly': 2.477121254719662, 'hander': 2.477121254719662, 'Ciccarelli': 2.477121254719662, 'immaturity': 2.477121254719662, 'remove': 2.477121254719662, 'Dino': 2.477121254719662, 'shear': 2.477121254719662, 'disappointed': 2.477121254719662, 'Billy': 2.477121254719662, 'philly': 2.477121254719662, 'intentional': 2.477121254719662, 'Tammy': 2.477121254719662, 'Lucky': 2.477121254719662, 'Seven': 2.477121254719662, 'falafel': 2.477121254719662, 'Useful': 2.477121254719662, 'qualify': 2.477121254719662, 'armchair': 2.477121254719662, 'quarterback': 2.477121254719662, 'potato': 2.477121254719662, 'Walker': 2.477121254719662, 'literature': 2.477121254719662, 'tradition': 2.477121254719662, 'metaphorical': 2.477121254719662, 'Homer': 2.477121254719662, 'unclear': 2.176091259055681, 'contemporary': 2.176091259055681, 'divorce': 2.477121254719662, 'metaphoric': 2.477121254719662, 'literalism': 2.477121254719662, 'absolutism': 2.477121254719662, 'confidence': 2.477121254719662, 'restore': 2.477121254719662, 'horshoe': 2.477121254719662, 'ha': 2.477121254719662, 'roger': 2.477121254719662, 'dodger': 2.477121254719662, 'bandwagon': 2.477121254719662, 'alterian': 2.477121254719662, 'dollar': 2.477121254719662, 'bank': 2.477121254719662, 'hearted': 2.477121254719662, 'benefactor': 2.477121254719662, 'bug': 2.176091259055681, 'ATM': 2.477121254719662, 'dichotomy': 2.477121254719662, 'Alterius': 2.477121254719662, 'afford': 2.477121254719662, 'partition': 2.477121254719662, 'Turning': 2.477121254719662, 'Premise': 2.477121254719662, 'monthly': 2.477121254719662, 'premise': 2.477121254719662, 'cardinality': 2.477121254719662, 'Voila': 2.477121254719662, 'strawman': 2.477121254719662, 'Bug': 2.477121254719662, 'distinguish': 2.176091259055681, 'Benefactor': 2.477121254719662, 'dosh': 2.477121254719662, 'paraphrase': 2.477121254719662, 'relative': 2.477121254719662, 'communication': 2.477121254719662, 'clumsy': 2.477121254719662, 'Rapture': 2.477121254719662, 'dismissal': 2.477121254719662, 'assign': 2.477121254719662, 'probability': 2.477121254719662, 'Razor': 2.176091259055681, 'satisfactorily': 2.477121254719662, 'retain': 2.477121254719662, 'alternatively': 2.477121254719662, 'chuck': 2.477121254719662, 'notional': 2.477121254719662, 'agnosticism': 2.477121254719662, 'unicorn': 2.477121254719662, 'zero': 2.477121254719662, 'finite': 2.477121254719662, 'diametric': 2.477121254719662, 'illustrate': 2.477121254719662, 'incorrectness': 2.477121254719662, 'discard': 2.477121254719662, 'branch': 2.477121254719662, 'guilty': 2.477121254719662, 'establish': 2.477121254719662, 'viable': 2.477121254719662, 'inductive': 2.477121254719662, 'bark': 2.477121254719662, 'luckily': 2.477121254719662, 'spare': 2.477121254719662, 'Cleese': 2.477121254719662, 'falsifie': 2.477121254719662, 'purport': 2.477121254719662, 'unnecessary': 2.176091259055681, 'phenomenon': 2.477121254719662, 'examination': 2.477121254719662, 'justification': 2.477121254719662, 'apostasy': 2.477121254719662, 'Belief': 2.477121254719662, 'compulsion': 2.477121254719662, 'apostate': 2.477121254719662, 'Messenger': 2.477121254719662, 'charge': 2.477121254719662, 'complicate': 2.477121254719662, 'sedition': 2.477121254719662, 'spying': 2.477121254719662, 'mount': 2.477121254719662, 'likewise': 2.477121254719662, 'complicated': 2.477121254719662, 'slander': 2.477121254719662, 'vary': 2.477121254719662, 'anyhow': 2.477121254719662, 'aggravate': 2.477121254719662, 'subsidiary': 2.477121254719662, 'formal': 2.477121254719662, 'unilaterally': 2.477121254719662, 'disorder': 2.477121254719662, 'mischief': 2.477121254719662, 'harm': 2.477121254719662, 'engage': 2.477121254719662, 'practise': 2.477121254719662, 'party': 2.477121254719662, 'exchange': 2.477121254719662, 'unilateral': 2.477121254719662, 'fasad': 2.477121254719662, 'medium': 2.477121254719662, 'hadith': 2.477121254719662, 'corresponding': 2.477121254719662, 'tafsir': 2.477121254719662, 'restrict': 2.477121254719662, 'suspend': 2.477121254719662, 'internal': 2.477121254719662, 'relationship': 2.477121254719662, 'interlock': 2.477121254719662, 'demanding': 2.477121254719662, 'parameter': 2.477121254719662, 'impinge': 2.477121254719662, 'decipher': 2.477121254719662, 'reflection': 2.477121254719662, 'entail': 2.477121254719662, 'piety': 2.477121254719662, 'gestation': 2.477121254719662, 'ruling': 2.477121254719662, 'dispensing': 2.477121254719662, 'justice': 2.477121254719662, 'requirement': 2.477121254719662, 'Jaffar': 2.477121254719662, 'Ibn': 2.477121254719662, 'Muhammad': 2.477121254719662, 'teach': 2.176091259055681, 'Allah': 2.477121254719662, 'abrogate': 2.477121254719662, 'decisive': 2.477121254719662, 'ambiguous': 2.477121254719662, 'permission': 2.477121254719662, 'meccan': 2.477121254719662, 'medinite': 2.477121254719662, 'technical': 2.477121254719662, 'comprehend': 2.477121254719662, 'decree': 2.477121254719662, 'manifest': 2.477121254719662, 'esoteric': 2.477121254719662, 'termination': 2.477121254719662, 'unaware': 2.477121254719662, 'disjoining': 2.477121254719662, 'joining': 2.477121254719662, 'inclusive': 2.477121254719662, 'adjective': 2.477121254719662, 'precede': 2.477121254719662, 'noun': 2.477121254719662, 'emphasize': 2.477121254719662, 'obligatory': 2.477121254719662, 'lawful': 2.477121254719662, 'unlawful': 2.477121254719662, 'joined': 2.477121254719662, 'accordance': 2.477121254719662, 'profound': 2.477121254719662, 'tafaqquh': 2.477121254719662, 'beware': 2.477121254719662, 'jurisprudence': 2.477121254719662, 'mujtahid': 2.477121254719662, 'pronounce': 2.477121254719662, 'division': 2.477121254719662, 'subdivision': 2.477121254719662, 'heading': 2.477121254719662, 'Knowledge': 2.477121254719662, 'Arabic': 2.477121254719662, 'syntax': 2.477121254719662, 'conjugation': 2.477121254719662, 'oratory': 2.477121254719662, 'Logic': 2.176091259055681, 'mantiq': 2.477121254719662, 'Hadiths': 2.477121254719662, 'transmitter': 2.477121254719662, 'rijal': 2.477121254719662, 'juriprudence': 2.477121254719662, 'Sunnah': 2.477121254719662, 'Consensus': 2.477121254719662, 'sunnah': 2.477121254719662, 'awamir': 2.477121254719662, 'nawahi': 2.477121254719662, 'generality': 2.477121254719662, 'particularity': 2.477121254719662, 'aam': 2.477121254719662, 'wa': 2.477121254719662, 'khas': 2.477121254719662, 'unconditional': 2.477121254719662, 'conditional': 2.477121254719662, 'tacit': 2.477121254719662, 'abrogator': 2.477121254719662, 'Application': 2.477121254719662, 'exemption': 2.477121254719662, 'mastery': 2.477121254719662, 'jurisprudent': 2.477121254719662, 'rigorous': 2.477121254719662, 'pronouncing': 2.477121254719662, 'following': 2.477121254719662, 'accede': 2.477121254719662, 'knowledgeable': 2.477121254719662, 'fuqaha': 2.477121254719662, 'scholar': 2.477121254719662, 'trustee': 2.477121254719662, 'Prophet': 2.477121254719662, 'illicit': 2.477121254719662, 'desire': 2.477121254719662, 'pleasure': 2.477121254719662, 'wealth': 2.477121254719662, 'shun': 2.477121254719662, 'Imams': 2.477121254719662, 'Sunni': 2.477121254719662, 'madhabs': 2.477121254719662, 'fortress': 2.477121254719662, 'delineate': 2.477121254719662, 'acquire': 2.477121254719662, 'requisite': 2.477121254719662, 'caution': 2.477121254719662, 'affair': 2.477121254719662, 'heretic': 2.477121254719662, 'infallible': 2.477121254719662, 'decent': 2.477121254719662, 'prssure': 2.477121254719662, 'Goal': 2.477121254719662, 'tender': 2.477121254719662, 'insure': 2.477121254719662, 'storm': 2.477121254719662, 'tempo': 2.477121254719662, 'Ellis': 2.477121254719662, 'UMAINE': 2.477121254719662, 'HOCKEY': 2.477121254719662, 'champion': 2.477121254719662, 'TOURNAMENT': 2.477121254719662, 'CHAMPIONS': 2.477121254719662, 'PAUL': 2.477121254719662, 'kariya': 2.477121254719662, 'HOBEY': 2.477121254719662, 'BAKER': 2.477121254719662, 'AWARD': 2.477121254719662, 'WINNER': 2.477121254719662, 'NCAA': 2.477121254719662, 'DIV': 2.477121254719662, 'Mighty': 2.477121254719662, 'Invisibile': 2.477121254719662, 'demon': 2.477121254719662, 'daemon': 2.477121254719662, 'Ferreira': 2.477121254719662, 'troika': 2.477121254719662, 'radical': 2.477121254719662, 'policy': 2.477121254719662, 'oust': 2.477121254719662, 'flawed': 2.477121254719662, 'quoate': 2.477121254719662, 'Anaheim': 2.477121254719662, 'duck': 2.477121254719662, 'tweak': 2.477121254719662, 'cellar': 2.477121254719662, 'rumor': 2.477121254719662, 'ouster': 2.477121254719662, 'orient': 2.477121254719662, 'jam': 2.477121254719662, 'unhappy': 2.477121254719662, 'tanking': 2.477121254719662, 'Skriko': 2.477121254719662, 'skriko': 2.477121254719662, 'Kolstad': 2.477121254719662, 'Carter': 2.477121254719662, 'cd': 2.477121254719662, 'AP': 2.477121254719662, 'pleased': 2.477121254719662, 'Linden': 2.477121254719662, 'Craven': 2.477121254719662, 'fly': 2.477121254719662, 'overmatche': 2.477121254719662, 'forwards': 2.477121254719662, 'integral': 2.477121254719662, 'lash': 2.477121254719662, 'wet': 2.477121254719662, 'noodle': 2.477121254719662, 'saw': 2.477121254719662, 'coast': 2.477121254719662, 'compaine': 2.477121254719662, 'Long': 2.477121254719662, 'Beach': 2.477121254719662, 'ASPN': 2.477121254719662, 'payedd': 2.477121254719662, 'Dodge': 2.477121254719662, 'KBL': 2.477121254719662, 'STANLEY': 2.477121254719662, 'PLAYOFFS': 2.477121254719662, 'concider': 2.477121254719662, 'incentive': 2.477121254719662, 'leapfrog': 2.477121254719662, 'overight': 2.477121254719662, 'cute': 2.477121254719662, 'characterization': 2.477121254719662, 'inconsistency': 2.477121254719662, 'primitive': 2.477121254719662, 'unscientific': 2.477121254719662, 'intellectual': 2.477121254719662, 'childish': 2.477121254719662, 'complexity': 2.477121254719662, 'excise': 2.477121254719662, 'unnecessarily': 2.477121254719662, 'essential': 2.477121254719662, 'explanatory': 2.477121254719662, 'predictive': 2.477121254719662, 'capability': 2.477121254719662, 'huh': 2.477121254719662, 'Freudian': 2.477121254719662, 'Slip': 2.477121254719662, 'slam': 2.477121254719662, 'Lupica': 2.477121254719662, 'column': 2.477121254719662, 'instill': 2.477121254719662, 'hunger': 2.477121254719662, 'lurk': 2.477121254719662, 'Garden': 2.477121254719662, 'decimation': 2.477121254719662, 'abundance': 2.477121254719662, 'untapped': 2.477121254719662, 'Hurlbut': 2.477121254719662, 'Kocur': 2.477121254719662, 'intimidation': 2.477121254719662, 'nickel': 2.477121254719662, 'Joey': 2.477121254719662, 'glory': 2.477121254719662, 'abortion': 2.477121254719662, 'homosexuality': 2.477121254719662, 'procreation': 2.477121254719662, 'population': 2.477121254719662, 'electron': 2.477121254719662, 'particle': 2.477121254719662, 'ancient': 2.477121254719662, 'indicative': 2.477121254719662, 'omnipotence': 2.477121254719662, 'omnipresence': 2.477121254719662, 'christians': 2.477121254719662, 'athiest': 2.477121254719662, 'humane': 2.477121254719662, 'contraception': 2.477121254719662, 'outlaw': 2.477121254719662, 'execellent': 2.477121254719662, 'Luther': 2.477121254719662, 'ranting': 2.477121254719662, 'sooooo': 2.477121254719662, 'ideology': 2.477121254719662, 'Liberate': 2.477121254719662, 'invader': 2.477121254719662, 'invasion': 2.477121254719662, 'liberation': 2.477121254719662, 'Kuwait': 2.477121254719662, 'Nicaragua': 2.477121254719662, 'Marines': 2.477121254719662, 'aggressor': 2.477121254719662, 'scarcely': 2.477121254719662, 'reprehensible': 2.477121254719662, 'convenient': 2.477121254719662, 'noble': 2.477121254719662, 'patriotic': 2.477121254719662, 'carpet': 2.477121254719662, 'infantry': 2.477121254719662, 'horizon': 2.477121254719662, 'bulldoze': 2.477121254719662, 'trench': 2.477121254719662, 'commander': 2.477121254719662, 'thrilled': 2.477121254719662, 'liberty': 2.477121254719662, 'wealthy': 2.477121254719662, 'Kuwaitis': 2.477121254719662, 'tyrant': 2.477121254719662, 'pigeon': 2.477121254719662, 'holed': 2.477121254719662, 'nik': 2.477121254719662, 'hitler': 2.477121254719662, 'abetting': 2.477121254719662, 'wimp': 2.477121254719662, 'righteous': 2.477121254719662, 'mold': 2.477121254719662, 'legitimate': 2.477121254719662, 'THEY': 2.477121254719662, 'nostalgia': 2.477121254719662, 'derogatory': 2.477121254719662, 'equate': 2.477121254719662, 'promote': 2.477121254719662, 'pacifism': 2.477121254719662, 'Godless': 2.477121254719662, 'Pinko': 2.477121254719662, 'mightily': 2.477121254719662, 'threaten': 2.477121254719662, 'KS': 2.477121254719662, 'archetype': 2.477121254719662, 'Paine': 2.477121254719662, 'Reason': 2.477121254719662, 'Staceys': 2.477121254719662, 'Books': 2.477121254719662, 'Inc': 2.477121254719662, 'cleanlighted': 2.477121254719662, 'Place': 2.477121254719662, 'dalton': 2.477121254719662, 'educate': 2.477121254719662, 'assistant': 2.477121254719662, 'thriller': 2.477121254719662, 'bluntly': 2.477121254719662, 'revolution': 2.477121254719662, 'Sigh': 2.477121254719662, 'search': 2.477121254719662, 'habit': 2.477121254719662, 'browse': 2.477121254719662, 'father': 2.477121254719662, 'wall': 2.477121254719662, 'sigh': 2.477121254719662, 'divide': 2.477121254719662, 'supportive': 2.477121254719662, 'sellout': 2.477121254719662, 'deserving': 2.477121254719662, 'grand': 2.477121254719662, 'realignment': 2.477121254719662, 'scheme': 2.477121254719662, 'provincial': 2.477121254719662, 'Opposition': 2.477121254719662, 'block': 2.477121254719662, 'Pock': 2.477121254719662, 'Tory': 2.477121254719662}\n"
     ]
    }
   ],
   "source": [
    "def tf_weight(term: str, doc: Union[str, List[str]]) -> float:\n",
    "    \"\"\"Calculate term frequency weighting for a given term and document\n",
    "    \n",
    "    :param term: term string \n",
    "    :param doc: document\n",
    "                (str or List[str] are only suggestions - you may choose either of both or another suitable type)\n",
    "    :return: tf weight for the given term and document \n",
    "    \"\"\"\n",
    "    count=0\n",
    "    t=nlp(term)\n",
    "    for token in nlp(doc):            \n",
    "        if t[0].lemma_ == token.lemma_:\n",
    "            count+=1\n",
    "    if count>0:\n",
    "        tf_weight=1+(math.log(count,10))\n",
    "    else:\n",
    "        tf_weight=0\n",
    "    return tf_weight\n",
    "\n",
    "def idf_weights(docs: Union[List[str], List[spacy.tokens.Doc]]) -> Dict[str, float]:\n",
    "    \"\"\"Calculates inverse document frequency weighting for a corpus of documents.\n",
    "    \n",
    "    :param docs: array-like object containing documents\n",
    "                 (List[spacy.tokens.Doc] or List[str] are only suggestions \n",
    "                  - you may choose either of both or another suitable type)\n",
    "    :return: array-like object containing idf scores for all lemmas of the corpus vocabulary\n",
    "    \"\"\"\n",
    "    total_list=[]\n",
    "    idf={}\n",
    "    idf_weight={}\n",
    "    N=len(docs)\n",
    "    for i in range(N):\n",
    "        doc=nlp(docs[i])\n",
    "        for token in doc:\n",
    "            lemma=token.lemma_\n",
    "            if lemma.isalpha() and lemma not in total_list:\n",
    "                idf[lemma]=len(posting_list[lemma])\n",
    "                total_list.append(lemma)\n",
    "\n",
    "    for term in total_list:\n",
    "        idf_weight[term]=math.log((N/idf[term]),10)\n",
    "        \n",
    "    return idf_weight\n",
    "\n",
    "query_word=\"is\"\n",
    "document=new_list[0]\n",
    "tf_w=tf_weight(query_word,document)\n",
    "print(\"tf_weight:\",tf_w)\n",
    "\n",
    "idf_w=idf_weights(new_list)\n",
    "print(idf_w)\n",
    "\n",
    "\n",
    "                \n",
    "                "
   ]
  },
  {
   "cell_type": "markdown",
   "metadata": {},
   "source": [
    "__b)__  Implement a function `tf_idf_vectors(docs)` that transforms each document of a given corpus into a tf-idf vector representation. Each vector should be |V|-dimensional (where again V is the corpus vocabulary consisting of all alphabetic word lemmata). In other words, each vector entry represents one word from the corpus vocabulary; for each term in a document, the corresponding entry in the document's vector should be the tf-idf weight. If a term does not occur in a document at all, the corresponding vector entry should be 0.\n",
    "\n",
    "Use the function to determine the tf-idf vector representations of all documents in our exemplary corpus from task 1a). Normalization of the tf-idf values is not required here."
   ]
  },
  {
   "cell_type": "code",
   "execution_count": null,
   "metadata": {},
   "outputs": [],
   "source": [
    "def tf_idf_vectors(docs: Union[List[str], List[spacy.tokens.Doc]]) -> List[ndarray]: \n",
    "    \"\"\"Calculate tf-idf-vectors for the given documents\n",
    "    \n",
    "    :param docs: array-like object containing documents\n",
    "                 (List[spacy.tokens.Doc] or List[str] are only suggestions \n",
    "                  - you may choose either of both or another suitable type)\n",
    "    :return: array-like object containing tf-idf-vectors for each document\"\"\"\n",
    "    \n",
    "    total_list=[]\n",
    "    tf_idf_v=[]\n",
    "    for i in range(len(docs)):\n",
    "        doc=nlp(docs[i])\n",
    "        for token in doc:\n",
    "            lemma=token.lemma_\n",
    "            if lemma.isalpha() and lemma not in total_list:\n",
    "                total_list.append(lemma)\n",
    "                \n",
    "    vector=np.zeros((len(total_list),len(docs)))\n",
    "    for i in range(len(total_list)):\n",
    "        for j in range(len(docs)):\n",
    "            vector[i][j]=tf_weight(total_list[i],docs[j])*idf_w[total_list[i]]\n",
    "        tf_idf_v.append(total_list[i])\n",
    "        tf_idf_v.append(vector[i])\n",
    "    return tf_idf_v\n",
    "tf_idf_vec=tf_idf_vectors(new_list)\n",
    "print(tf_idf_vec[0])"
   ]
  },
  {
   "cell_type": "markdown",
   "metadata": {},
   "source": [
    "## Task 3: Ranked Retrieval and Evaluation (11 Points)"
   ]
  },
  {
   "cell_type": "markdown",
   "metadata": {},
   "source": [
    "In task 2 you performed binary classification to find relevant documents for a given query. In other words, you dealt with the question _if_ a document is relevant for a query. In a real world scenario, however, relevance is not a binary decision, but a scale: some documents (for a query) may be more relevant than others. In other words, we want to answer _how_ relevant a query is. Search engines such as Google provide a solution to the latter question and hence display more relevant documents at the top of the search results (with a descending order of relevance). This is called __Ranked Retrieval__ and requires us to\n",
    "\n",
    "1. use a method that rates search results on a scale (e.g. from 0 to 1) so that we can order them by their relevance (i.e. create a ranking)\n",
    "2. use methods that allow us to evaluate the ranking we created in step 1.\n",
    "\n",
    "After pre-processing the data in task 3a), we will use cosine similarity between query and document vectors as our \"scale\" by which we rank documents in task 3b). Thereafter, in tasks 3c) and 3d) we will compute precision, recall and 11-point-interpolated-precision to rate the ranking we computed in 3b). Lastly, we will plot the interpolated P-R curve to visualise our system's performance."
   ]
  },
  {
   "cell_type": "markdown",
   "metadata": {},
   "source": [
    "### About the data\n",
    "\n",
    "The data is a subset of the CISI dataset. It comes with queries and documents, both from the computer science domain. It further provides annotation about which document is relevant for which query.\n",
    "\n",
    "The data comes in three different files. All of them are `\\t` separated:\n",
    "* *queries.tsv:* consists of two columns.\n",
    "    * The first column is the `id` (integer value)\n",
    "    * The second column is the textual `query` (text)\n",
    "* *docs.tsv:* consists of three columns.\n",
    "    * The first column is the `id` (integer value)\n",
    "    * The second column is the `title` of the document (text)\n",
    "    * The third column is the `abstract` of the document (text).\n",
    "* *mapping.tsv: consists of two columns.*\n",
    "    * The first column is the `query_id` (integer)\n",
    "    * The second column is the `doc_id`, which is the id of a relevant document for that query (integer)\n",
    "    \n",
    "Note that relevant documents do not exist for all queries, and that one document may be relevant to multiple queries."
   ]
  },
  {
   "cell_type": "markdown",
   "metadata": {},
   "source": [
    "### Getting Familiar with the Data\n",
    "\n",
    "In general it is good practice to first take a closer look at the actual data you are working on.\n",
    "\n",
    "Therefore, we output the DataFrames of all three files of the CISI dataset after loading them:"
   ]
  },
  {
   "cell_type": "code",
   "execution_count": 3,
   "metadata": {},
   "outputs": [],
   "source": [
    "import pandas as pd\n",
    "import spacy\n",
    "nlp: spacy.Language = spacy.load(\"en_core_web_sm\")\n",
    "import seaborn as sns\n",
    "import matplotlib.pyplot as plt\n",
    "sns.set()\n",
    "\n",
    "# Load the data\n",
    "queries_df: pd.DataFrame = pd.read_csv('queries_400.tsv', sep='\\t')\n",
    "documents_df: pd.DataFrame = pd.read_csv('documents_400.tsv', sep='\\t')\n",
    "mapping_df: pd.DataFrame = pd.read_csv('mapping_400.tsv', sep='\\t')"
   ]
  },
  {
   "cell_type": "code",
   "execution_count": 13,
   "metadata": {},
   "outputs": [
    {
     "data": {
      "text/html": [
       "<div>\n",
       "<style scoped>\n",
       "    .dataframe tbody tr th:only-of-type {\n",
       "        vertical-align: middle;\n",
       "    }\n",
       "\n",
       "    .dataframe tbody tr th {\n",
       "        vertical-align: top;\n",
       "    }\n",
       "\n",
       "    .dataframe thead th {\n",
       "        text-align: right;\n",
       "    }\n",
       "</style>\n",
       "<table border=\"1\" class=\"dataframe\">\n",
       "  <thead>\n",
       "    <tr style=\"text-align: right;\">\n",
       "      <th></th>\n",
       "      <th>id</th>\n",
       "      <th>query</th>\n",
       "    </tr>\n",
       "  </thead>\n",
       "  <tbody>\n",
       "    <tr>\n",
       "      <th>0</th>\n",
       "      <td>1</td>\n",
       "      <td>What problems and concerns are there in making...</td>\n",
       "    </tr>\n",
       "    <tr>\n",
       "      <th>1</th>\n",
       "      <td>11</td>\n",
       "      <td>What is the need for information consolidation...</td>\n",
       "    </tr>\n",
       "    <tr>\n",
       "      <th>2</th>\n",
       "      <td>13</td>\n",
       "      <td>What criteria have been developed for the obje...</td>\n",
       "    </tr>\n",
       "    <tr>\n",
       "      <th>3</th>\n",
       "      <td>15</td>\n",
       "      <td>How much do information retrieval and dissemin...</td>\n",
       "    </tr>\n",
       "    <tr>\n",
       "      <th>4</th>\n",
       "      <td>19</td>\n",
       "      <td>Techniques of machine matching and machine sea...</td>\n",
       "    </tr>\n",
       "    <tr>\n",
       "      <th>5</th>\n",
       "      <td>20</td>\n",
       "      <td>Testing automated information systems.</td>\n",
       "    </tr>\n",
       "    <tr>\n",
       "      <th>6</th>\n",
       "      <td>22</td>\n",
       "      <td>Automated information in the medical field.</td>\n",
       "    </tr>\n",
       "    <tr>\n",
       "      <th>7</th>\n",
       "      <td>23</td>\n",
       "      <td>Amount of use of books in libraries. Relation ...</td>\n",
       "    </tr>\n",
       "    <tr>\n",
       "      <th>8</th>\n",
       "      <td>26</td>\n",
       "      <td>Cost and determination of cost associated with...</td>\n",
       "    </tr>\n",
       "    <tr>\n",
       "      <th>9</th>\n",
       "      <td>27</td>\n",
       "      <td>Computerized information retrieval systems.  C...</td>\n",
       "    </tr>\n",
       "    <tr>\n",
       "      <th>10</th>\n",
       "      <td>28</td>\n",
       "      <td>Computerized information systems in fields rel...</td>\n",
       "    </tr>\n",
       "    <tr>\n",
       "      <th>11</th>\n",
       "      <td>29</td>\n",
       "      <td>Specific advantages of computerized index syst...</td>\n",
       "    </tr>\n",
       "    <tr>\n",
       "      <th>12</th>\n",
       "      <td>30</td>\n",
       "      <td>Information dissemination by journals and peri...</td>\n",
       "    </tr>\n",
       "    <tr>\n",
       "      <th>13</th>\n",
       "      <td>31</td>\n",
       "      <td>Information systems in the physical sciences.</td>\n",
       "    </tr>\n",
       "    <tr>\n",
       "      <th>14</th>\n",
       "      <td>32</td>\n",
       "      <td>Attempts at computerized and mechanized system...</td>\n",
       "    </tr>\n",
       "    <tr>\n",
       "      <th>15</th>\n",
       "      <td>34</td>\n",
       "      <td>Methods of coding used in computerized index s...</td>\n",
       "    </tr>\n",
       "    <tr>\n",
       "      <th>16</th>\n",
       "      <td>35</td>\n",
       "      <td>Government supported agencies and projects dea...</td>\n",
       "    </tr>\n",
       "    <tr>\n",
       "      <th>17</th>\n",
       "      <td>44</td>\n",
       "      <td>There are presently fifty to one hundred techn...</td>\n",
       "    </tr>\n",
       "    <tr>\n",
       "      <th>18</th>\n",
       "      <td>45</td>\n",
       "      <td>I am looking for information about the impact ...</td>\n",
       "    </tr>\n",
       "    <tr>\n",
       "      <th>19</th>\n",
       "      <td>46</td>\n",
       "      <td>I am seeking information on the use of data pr...</td>\n",
       "    </tr>\n",
       "    <tr>\n",
       "      <th>20</th>\n",
       "      <td>49</td>\n",
       "      <td>Most resources have been spent on applying inf...</td>\n",
       "    </tr>\n",
       "    <tr>\n",
       "      <th>21</th>\n",
       "      <td>50</td>\n",
       "      <td>Is there any use for traditional classificatio...</td>\n",
       "    </tr>\n",
       "    <tr>\n",
       "      <th>22</th>\n",
       "      <td>54</td>\n",
       "      <td>What is the effect on librarians of automation...</td>\n",
       "    </tr>\n",
       "    <tr>\n",
       "      <th>23</th>\n",
       "      <td>76</td>\n",
       "      <td>This paper discusses the origins of library ne...</td>\n",
       "    </tr>\n",
       "    <tr>\n",
       "      <th>24</th>\n",
       "      <td>90</td>\n",
       "      <td>Many information scientists are concerned with...</td>\n",
       "    </tr>\n",
       "    <tr>\n",
       "      <th>25</th>\n",
       "      <td>92</td>\n",
       "      <td>The number of databases, records contained in ...</td>\n",
       "    </tr>\n",
       "    <tr>\n",
       "      <th>26</th>\n",
       "      <td>109</td>\n",
       "      <td>It is shown that the mapping of a particular a...</td>\n",
       "    </tr>\n",
       "  </tbody>\n",
       "</table>\n",
       "</div>"
      ],
      "text/plain": [
       "     id                                              query\n",
       "0     1  What problems and concerns are there in making...\n",
       "1    11  What is the need for information consolidation...\n",
       "2    13  What criteria have been developed for the obje...\n",
       "3    15  How much do information retrieval and dissemin...\n",
       "4    19  Techniques of machine matching and machine sea...\n",
       "5    20             Testing automated information systems.\n",
       "6    22        Automated information in the medical field.\n",
       "7    23  Amount of use of books in libraries. Relation ...\n",
       "8    26  Cost and determination of cost associated with...\n",
       "9    27  Computerized information retrieval systems.  C...\n",
       "10   28  Computerized information systems in fields rel...\n",
       "11   29  Specific advantages of computerized index syst...\n",
       "12   30  Information dissemination by journals and peri...\n",
       "13   31      Information systems in the physical sciences.\n",
       "14   32  Attempts at computerized and mechanized system...\n",
       "15   34  Methods of coding used in computerized index s...\n",
       "16   35  Government supported agencies and projects dea...\n",
       "17   44  There are presently fifty to one hundred techn...\n",
       "18   45  I am looking for information about the impact ...\n",
       "19   46  I am seeking information on the use of data pr...\n",
       "20   49  Most resources have been spent on applying inf...\n",
       "21   50  Is there any use for traditional classificatio...\n",
       "22   54  What is the effect on librarians of automation...\n",
       "23   76  This paper discusses the origins of library ne...\n",
       "24   90  Many information scientists are concerned with...\n",
       "25   92  The number of databases, records contained in ...\n",
       "26  109  It is shown that the mapping of a particular a..."
      ]
     },
     "execution_count": 13,
     "metadata": {},
     "output_type": "execute_result"
    }
   ],
   "source": [
    "queries_df"
   ]
  },
  {
   "cell_type": "code",
   "execution_count": 14,
   "metadata": {},
   "outputs": [
    {
     "data": {
      "text/html": [
       "<div>\n",
       "<style scoped>\n",
       "    .dataframe tbody tr th:only-of-type {\n",
       "        vertical-align: middle;\n",
       "    }\n",
       "\n",
       "    .dataframe tbody tr th {\n",
       "        vertical-align: top;\n",
       "    }\n",
       "\n",
       "    .dataframe thead th {\n",
       "        text-align: right;\n",
       "    }\n",
       "</style>\n",
       "<table border=\"1\" class=\"dataframe\">\n",
       "  <thead>\n",
       "    <tr style=\"text-align: right;\">\n",
       "      <th></th>\n",
       "      <th>id</th>\n",
       "      <th>title</th>\n",
       "      <th>abstract</th>\n",
       "    </tr>\n",
       "  </thead>\n",
       "  <tbody>\n",
       "    <tr>\n",
       "      <th>0</th>\n",
       "      <td>58</td>\n",
       "      <td>Relevance Disagreements and Unclear Request Forms</td>\n",
       "      <td>Disagreements about the relevance of documents...</td>\n",
       "    </tr>\n",
       "    <tr>\n",
       "      <th>1</th>\n",
       "      <td>887</td>\n",
       "      <td>COM Catalog Based on OCLC Records</td>\n",
       "      <td>The production of a COM catalog using OCLC rec...</td>\n",
       "    </tr>\n",
       "    <tr>\n",
       "      <th>2</th>\n",
       "      <td>235</td>\n",
       "      <td>Book Catalogs</td>\n",
       "      <td>In the intervening years since the appearance ...</td>\n",
       "    </tr>\n",
       "    <tr>\n",
       "      <th>3</th>\n",
       "      <td>1435</td>\n",
       "      <td>International Standardization of Cataloguing a...</td>\n",
       "      <td>The ILFA Committee on Cataloguing has been at ...</td>\n",
       "    </tr>\n",
       "    <tr>\n",
       "      <th>4</th>\n",
       "      <td>675</td>\n",
       "      <td>Atom-by-Atom Typewriter Input for Computerized...</td>\n",
       "      <td>Novel features have been added to a paper tape...</td>\n",
       "    </tr>\n",
       "    <tr>\n",
       "      <th>...</th>\n",
       "      <td>...</td>\n",
       "      <td>...</td>\n",
       "      <td>...</td>\n",
       "    </tr>\n",
       "    <tr>\n",
       "      <th>395</th>\n",
       "      <td>260</td>\n",
       "      <td>Classification Practice in Britain.  Report on...</td>\n",
       "      <td>The objectives of the Sub-Committee in startin...</td>\n",
       "    </tr>\n",
       "    <tr>\n",
       "      <th>396</th>\n",
       "      <td>148</td>\n",
       "      <td>Fair (Fast Access Information Retrieval) Proje...</td>\n",
       "      <td>I am going to describe in general terms a rese...</td>\n",
       "    </tr>\n",
       "    <tr>\n",
       "      <th>397</th>\n",
       "      <td>135</td>\n",
       "      <td>Design of Information Systems and Services</td>\n",
       "      <td>This review has selected for emphasis reports ...</td>\n",
       "    </tr>\n",
       "    <tr>\n",
       "      <th>398</th>\n",
       "      <td>830</td>\n",
       "      <td>Progress in Documentation</td>\n",
       "      <td>This article reviews the state of the art in a...</td>\n",
       "    </tr>\n",
       "    <tr>\n",
       "      <th>399</th>\n",
       "      <td>1294</td>\n",
       "      <td>Automatic Text Analysis</td>\n",
       "      <td>In this article the principal experiments in a...</td>\n",
       "    </tr>\n",
       "  </tbody>\n",
       "</table>\n",
       "<p>400 rows × 3 columns</p>\n",
       "</div>"
      ],
      "text/plain": [
       "       id                                              title  \\\n",
       "0      58  Relevance Disagreements and Unclear Request Forms   \n",
       "1     887                  COM Catalog Based on OCLC Records   \n",
       "2     235                                      Book Catalogs   \n",
       "3    1435  International Standardization of Cataloguing a...   \n",
       "4     675  Atom-by-Atom Typewriter Input for Computerized...   \n",
       "..    ...                                                ...   \n",
       "395   260  Classification Practice in Britain.  Report on...   \n",
       "396   148  Fair (Fast Access Information Retrieval) Proje...   \n",
       "397   135         Design of Information Systems and Services   \n",
       "398   830                          Progress in Documentation   \n",
       "399  1294                            Automatic Text Analysis   \n",
       "\n",
       "                                              abstract  \n",
       "0    Disagreements about the relevance of documents...  \n",
       "1    The production of a COM catalog using OCLC rec...  \n",
       "2    In the intervening years since the appearance ...  \n",
       "3    The ILFA Committee on Cataloguing has been at ...  \n",
       "4    Novel features have been added to a paper tape...  \n",
       "..                                                 ...  \n",
       "395  The objectives of the Sub-Committee in startin...  \n",
       "396  I am going to describe in general terms a rese...  \n",
       "397  This review has selected for emphasis reports ...  \n",
       "398  This article reviews the state of the art in a...  \n",
       "399  In this article the principal experiments in a...  \n",
       "\n",
       "[400 rows x 3 columns]"
      ]
     },
     "execution_count": 14,
     "metadata": {},
     "output_type": "execute_result"
    }
   ],
   "source": [
    "documents_df"
   ]
  },
  {
   "cell_type": "code",
   "execution_count": 15,
   "metadata": {},
   "outputs": [
    {
     "data": {
      "text/html": [
       "<div>\n",
       "<style scoped>\n",
       "    .dataframe tbody tr th:only-of-type {\n",
       "        vertical-align: middle;\n",
       "    }\n",
       "\n",
       "    .dataframe tbody tr th {\n",
       "        vertical-align: top;\n",
       "    }\n",
       "\n",
       "    .dataframe thead th {\n",
       "        text-align: right;\n",
       "    }\n",
       "</style>\n",
       "<table border=\"1\" class=\"dataframe\">\n",
       "  <thead>\n",
       "    <tr style=\"text-align: right;\">\n",
       "      <th></th>\n",
       "      <th>query_id</th>\n",
       "      <th>doc_id</th>\n",
       "    </tr>\n",
       "  </thead>\n",
       "  <tbody>\n",
       "    <tr>\n",
       "      <th>0</th>\n",
       "      <td>1</td>\n",
       "      <td>43</td>\n",
       "    </tr>\n",
       "    <tr>\n",
       "      <th>1</th>\n",
       "      <td>1</td>\n",
       "      <td>192</td>\n",
       "    </tr>\n",
       "    <tr>\n",
       "      <th>2</th>\n",
       "      <td>1</td>\n",
       "      <td>215</td>\n",
       "    </tr>\n",
       "    <tr>\n",
       "      <th>3</th>\n",
       "      <td>1</td>\n",
       "      <td>320</td>\n",
       "    </tr>\n",
       "    <tr>\n",
       "      <th>4</th>\n",
       "      <td>1</td>\n",
       "      <td>482</td>\n",
       "    </tr>\n",
       "    <tr>\n",
       "      <th>...</th>\n",
       "      <td>...</td>\n",
       "      <td>...</td>\n",
       "    </tr>\n",
       "    <tr>\n",
       "      <th>600</th>\n",
       "      <td>109</td>\n",
       "      <td>1285</td>\n",
       "    </tr>\n",
       "    <tr>\n",
       "      <th>601</th>\n",
       "      <td>109</td>\n",
       "      <td>1304</td>\n",
       "    </tr>\n",
       "    <tr>\n",
       "      <th>602</th>\n",
       "      <td>109</td>\n",
       "      <td>1341</td>\n",
       "    </tr>\n",
       "    <tr>\n",
       "      <th>603</th>\n",
       "      <td>109</td>\n",
       "      <td>1344</td>\n",
       "    </tr>\n",
       "    <tr>\n",
       "      <th>604</th>\n",
       "      <td>109</td>\n",
       "      <td>1380</td>\n",
       "    </tr>\n",
       "  </tbody>\n",
       "</table>\n",
       "<p>605 rows × 2 columns</p>\n",
       "</div>"
      ],
      "text/plain": [
       "     query_id  doc_id\n",
       "0           1      43\n",
       "1           1     192\n",
       "2           1     215\n",
       "3           1     320\n",
       "4           1     482\n",
       "..        ...     ...\n",
       "600       109    1285\n",
       "601       109    1304\n",
       "602       109    1341\n",
       "603       109    1344\n",
       "604       109    1380\n",
       "\n",
       "[605 rows x 2 columns]"
      ]
     },
     "execution_count": 15,
     "metadata": {},
     "output_type": "execute_result"
    }
   ],
   "source": [
    "mapping_df"
   ]
  },
  {
   "cell_type": "code",
   "execution_count": 16,
   "metadata": {},
   "outputs": [
    {
     "data": {
      "text/plain": [
       "['query_id', 'doc_id']"
      ]
     },
     "execution_count": 16,
     "metadata": {},
     "output_type": "execute_result"
    }
   ],
   "source": [
    "queries_df.columns.values.tolist()\n",
    "documents_df.columns.values.tolist()\n",
    "mapping_df.columns.values.tolist()"
   ]
  },
  {
   "cell_type": "markdown",
   "metadata": {},
   "source": [
    "Furthermore, we take a more thorough look at the query with `id=13`:"
   ]
  },
  {
   "cell_type": "code",
   "execution_count": 17,
   "metadata": {},
   "outputs": [
    {
     "name": "stdout",
     "output_type": "stream",
     "text": [
      "Claim: What criteria have been developed for the objective evaluation of information retrieval and dissemination systems? \n",
      "\n",
      "Relevant documents:\n",
      "* Adaptive Information Dissemination\n",
      "* Opinion Paper\n",
      "* MEDLARS: Report on the Evaluation of Its Operating Efficiency\n",
      "* The Effectiveness of Automatically Generated Weights and Links in Mechanical Indexing\n",
      "* Design and Evaluation of Information Systems\n",
      "* Criteria for Evaluating Technical Library Effectiveness\n",
      "* Document Delivery Capabilities of Major Biomedical Libraries in 1968: Results of a National Survey Employing Standardized Tests\n",
      "* The SMART Automatic Document Retrieval System - An Illustration\n",
      "* Communication among Scientists and Engineers\n",
      "* Relevance Assessments and Retrieval System Evaluation\n",
      "* The Cost_Performance of an On-Line, Free-Text Bibliographic Retrieval System\n",
      "* Selected Results From An Inquiry Into Testing of Information Retrieval Systems\n",
      "* Measures of the Usefulness of Written Technical Information to Chemical Researchers\n",
      "* Computerized Drug Information services\n",
      "* The CA Integrated Subject File.  II. Evaluation of Alternative Data Base Organizations\n",
      "* Comparative Searching of Computer Data Bases\n",
      "* A Selective Current-Awareness System Using Engineering Index's Plastics Data Base.  II. Performance\n",
      "* Evaluation of an SDI Service Based on the Index Chemicus Registry System\n",
      "* The Parametric Description of Retrieval Tests Part I: The Basic Parameters\n",
      "* User Evaluation of Information Retrieval Systems\n",
      "* Some Aspects of Developing and Studying a Descriptor Information Language for General Technology\n",
      "* Evaluation of Information Loss Probability in Indexing\n",
      "* Automatic Indexing\n",
      "\n",
      "In total: 23\n"
     ]
    }
   ],
   "source": [
    "# Find claim and titles for query\n",
    "_id: int = 13\n",
    "print('Claim:', queries_df[queries_df['id'] == _id].iloc[0]['query'], '\\n')\n",
    "\n",
    "relevant_articles_df: pd.DataFrame = documents_df.merge(mapping_df, left_on='id', right_on='doc_id')\n",
    "relevant_titles: pd.DataFrame = relevant_articles_df[relevant_articles_df['query_id'] == _id]\n",
    "\n",
    "#display(relevant_articles_df)\n",
    "# Sort\n",
    "relevant_titles = relevant_titles.sort_values(by='id')\n",
    "\n",
    "print('Relevant documents:')\n",
    "for title in relevant_titles.loc[:, 'title']:\n",
    "    print('*', title)\n",
    "    \n",
    "print('\\nIn total:', len(relevant_titles))"
   ]
  },
  {
   "cell_type": "markdown",
   "metadata": {},
   "source": [
    "### Visualisation\n",
    "\n",
    "Visualizing the data can help to summarize textual information in a meaningful and compact way. We use seaborn in this case to visualize the amount of relevant documents per query:"
   ]
  },
  {
   "cell_type": "code",
   "execution_count": 18,
   "metadata": {},
   "outputs": [
    {
     "data": {
      "image/png": "[encoded data removed]",
      "text/plain": [
       "<Figure size 432x288 with 1 Axes>"
      ]
     },
     "metadata": {},
     "output_type": "display_data"
    }
   ],
   "source": [
    "# Count relevant articles\n",
    "relevant_document_counts: pd.DataFrame = mapping_df.groupby(by='query_id').count().reset_index()\n",
    "#display(relevant_document_counts)\n",
    "relevant_document_counts['Number of relevant articles per query'] = relevant_document_counts['doc_id']\n",
    "#display(relevant_document_counts)   \n",
    "sns.histplot(relevant_document_counts, x='Number of relevant articles per query', binwidth=5)\n",
    "plt.show()# how many queries is 10-15/15-20/... relevant articles per query"
   ]
  },
  {
   "cell_type": "markdown",
   "metadata": {},
   "source": [
    "### The Tasks"
   ]
  },
  {
   "cell_type": "markdown",
   "metadata": {},
   "source": [
    "Task descriptions assume that you use pandas to store data. You are, however, free to use any other type of storage than dataframes."
   ]
  },
  {
   "cell_type": "markdown",
   "metadata": {},
   "source": [
    "**a)** Preprocessing:\n",
    "Use spaCy to lemmatize the queries and documents.\n",
    "* For queries, the `query` field must be lemmatized\n",
    "* For documents, the concatenation of `title` and `abstract` must be lemmatized. We combine both fields (`title` and `abstract`) to simplify IR, by applying it on this single text for documents.\n",
    "\n",
    "Store the lemmatized text in a separate column.\n",
    "\n",
    "Finally output the preprocessed document with `id=1255`\n"
   ]
  },
  {
   "cell_type": "code",
   "execution_count": 4,
   "metadata": {},
   "outputs": [
    {
     "data": {
      "text/html": [
       "<div>\n",
       "<style scoped>\n",
       "    .dataframe tbody tr th:only-of-type {\n",
       "        vertical-align: middle;\n",
       "    }\n",
       "\n",
       "    .dataframe tbody tr th {\n",
       "        vertical-align: top;\n",
       "    }\n",
       "\n",
       "    .dataframe thead th {\n",
       "        text-align: right;\n",
       "    }\n",
       "</style>\n",
       "<table border=\"1\" class=\"dataframe\">\n",
       "  <thead>\n",
       "    <tr style=\"text-align: right;\">\n",
       "      <th></th>\n",
       "      <th>id</th>\n",
       "      <th>title</th>\n",
       "      <th>abstract</th>\n",
       "      <th>lemma_document</th>\n",
       "    </tr>\n",
       "  </thead>\n",
       "  <tbody>\n",
       "    <tr>\n",
       "      <th>89</th>\n",
       "      <td>1255</td>\n",
       "      <td>Report on the Testing and Analysis of an Inves...</td>\n",
       "      <td>This volume continues the account of the Aslib...</td>\n",
       "      <td>report on the Testing and Analysis of an inves...</td>\n",
       "    </tr>\n",
       "  </tbody>\n",
       "</table>\n",
       "</div>"
      ],
      "text/plain": [
       "      id                                              title  \\\n",
       "89  1255  Report on the Testing and Analysis of an Inves...   \n",
       "\n",
       "                                             abstract  \\\n",
       "89  This volume continues the account of the Aslib...   \n",
       "\n",
       "                                       lemma_document  \n",
       "89  report on the Testing and Analysis of an inves...  "
      ]
     },
     "metadata": {},
     "output_type": "display_data"
    }
   ],
   "source": [
    "len_query=len(queries_df)\n",
    "lemma_list=[]\n",
    "for i in range(len_query):\n",
    "    lemma_list.append(\" \".join([token.lemma_ for token in nlp(queries_df.iloc[i]['query'])]))\n",
    "queries_df['lemma_query']=lemma_list\n",
    "#display(queries_df)\n",
    " \n",
    "title_list=[]\n",
    "abstract_list=[]\n",
    "lemma_document=[]\n",
    "for i in range(len(documents_df)):\n",
    "    title_list.append(\" \".join([token1.lemma_ for token1 in nlp(documents_df.iloc[i]['title'])]))\n",
    "    abstract_list.append(\" \".join([token2.lemma_ for token2 in nlp(documents_df.iloc[i]['abstract'])]))\n",
    "\n",
    "for i in range(len(title_list)):\n",
    "    lemma_document.append(title_list[i]+' '+abstract_list[i])\n",
    "\n",
    "documents_df['lemma_document']=lemma_document\n",
    "\n",
    "display(documents_df[documents_df['id'] ==1255].iloc[:])\n",
    "\n",
    "\n",
    "\n",
    "\n",
    "\n",
    "\n",
    "\n",
    "   "
   ]
  },
  {
   "cell_type": "markdown",
   "metadata": {},
   "source": [
    "**b)** In task 2 you had to implement TF-IDF on your own. However, sklearn already provides a very efficient implementation of this functionality. Therefore, you may use  [`TfidfVectorizer()`](https://scikit-learn.org/stable/modules/generated/sklearn.feature_extraction.text.TfidfVectorizer.html) in this task.\n",
    "\n",
    "Implement the function `compute_cosine_similarity_for_all`. It shall compute the cosine similarity of *all* queries with *all* documents, and add a label describing whether the document is relevant (`True`) to the query or not (`False`). It shall return a new dataframe and represent each `query`-`document` combination as one row.\n",
    "\n",
    "**Example output:**"
   ]
  },
  {
   "cell_type": "code",
   "execution_count": 20,
   "metadata": {},
   "outputs": [
    {
     "data": {
      "text/html": [
       "<div>\n",
       "<style scoped>\n",
       "    .dataframe tbody tr th:only-of-type {\n",
       "        vertical-align: middle;\n",
       "    }\n",
       "\n",
       "    .dataframe tbody tr th {\n",
       "        vertical-align: top;\n",
       "    }\n",
       "\n",
       "    .dataframe thead th {\n",
       "        text-align: right;\n",
       "    }\n",
       "</style>\n",
       "<table border=\"1\" class=\"dataframe\">\n",
       "  <thead>\n",
       "    <tr style=\"text-align: right;\">\n",
       "      <th></th>\n",
       "      <th>query_id</th>\n",
       "      <th>document_id</th>\n",
       "      <th>document_title</th>\n",
       "      <th>query</th>\n",
       "      <th>similarity</th>\n",
       "      <th>is_relevant</th>\n",
       "    </tr>\n",
       "  </thead>\n",
       "  <tbody>\n",
       "    <tr>\n",
       "      <th>0</th>\n",
       "      <td>99</td>\n",
       "      <td>1</td>\n",
       "      <td>Learn about IR in NLP4Web</td>\n",
       "      <td>Where can I learn more about IR?</td>\n",
       "      <td>0.349</td>\n",
       "      <td>True</td>\n",
       "    </tr>\n",
       "    <tr>\n",
       "      <th>1</th>\n",
       "      <td>99</td>\n",
       "      <td>2</td>\n",
       "      <td>Learn about nursing somewhere else</td>\n",
       "      <td>Where can I learn more about IR?</td>\n",
       "      <td>0.025</td>\n",
       "      <td>False</td>\n",
       "    </tr>\n",
       "  </tbody>\n",
       "</table>\n",
       "</div>"
      ],
      "text/plain": [
       "   query_id  document_id                      document_title  \\\n",
       "0        99            1           Learn about IR in NLP4Web   \n",
       "1        99            2  Learn about nursing somewhere else   \n",
       "\n",
       "                              query  similarity  is_relevant  \n",
       "0  Where can I learn more about IR?       0.349         True  \n",
       "1  Where can I learn more about IR?       0.025        False  "
      ]
     },
     "execution_count": 20,
     "metadata": {},
     "output_type": "execute_result"
    }
   ],
   "source": [
    "pd.DataFrame({\n",
    "    'query_id': [99,99], # The same query is compared to ...\n",
    "    'document_id': [1,2], # ... different documents. In your case to all documents.\n",
    "    'document_title': ['Learn about IR in NLP4Web', 'Learn about nursing somewhere else'], # You can omit this - document_id is sufficient\n",
    "    'query': ['Where can I learn more about IR?'] * 2, # You can omit this - query_id is sufficient\n",
    "    'similarity': [0.349, 0.025], # Cosine similarity (These values are only an example and made up)\n",
    "    'is_relevant': [True, False] # Gold Labels\n",
    "})\n",
    "# For all combinations of (query, document)"
   ]
  },
  {
   "cell_type": "markdown",
   "metadata": {},
   "source": [
    "The function takes all data (queries, document, mapping) together with the vectorizer as input.\n",
    "* The vectorizer (`vectorizer`) is a vectorizer (such as [`TfidfVectorizer()`](https://scikit-learn.org/stable/modules/generated/sklearn.feature_extraction.text.TfidfVectorizer.html) from `sklearn`) and converts all texts into vectors.\n",
    "\n",
    "The method should:\n",
    "1. Fit the vectorizer *on the documents* (based on the preprocessed column).\n",
    "2. Compute the vectors for all *queries* using the vectorizer from (1).\n",
    "3. Compute the cosine similarity between all query- and all document-vectors. You can use the function [`cosine_similarity`](https://scikit-learn.org/stable/modules/generated/sklearn.metrics.pairwise.cosine_similarity.html) from `sklearn`.\n",
    "4. Add label `is_relevant` describing for each combination of query-document whether the document is relevant to the query or not. Note that this label is independent of the computed cosine similarity score (check mapping_400.tsv instead).\n",
    "5. Return the resulting dataframe. Make sure to include at least the ids for document and query, and the two newly introduced columns (`is_relevant`, `similarity`).\n",
    "\n",
    "Apply the function to all preprocessed queries and all documents using the `TfidfVectorizer()` from `sklearn`.\n",
    "\n",
    "Finally, show the titles of the ten most similar articles together with the similarity score and relevance for the query with `id=13`."
   ]
  },
  {
   "cell_type": "code",
   "execution_count": null,
   "metadata": {},
   "outputs": [],
   "source": []
  },
  {
   "cell_type": "code",
   "execution_count": 5,
   "metadata": {},
   "outputs": [],
   "source": [
    "from sklearn.feature_extraction.text import TfidfVectorizer\n",
    "from sklearn.metrics.pairwise import cosine_similarity\n",
    "\n",
    "\n",
    "def compute_cosine_similarity_for_all(documents: pd.DataFrame, queries: pd.DataFrame, mapping: pd.DataFrame, \n",
    "                                      vectorizer: TfidfVectorizer) -> pd.DataFrame:\n",
    "    \"\"\"Compute cosine similarity for all query-document pairs\n",
    "    \n",
    "    :param documents: structure that contains document content\n",
    "    :param queries: structure that contains query content\n",
    "    :param mapping: structure that that contains mapping between queries and relevant documents\n",
    "    :param vectorizer: TfidfVectorizer\n",
    "    :return: DataFrame that contains cosine similarity for all query-document pairs\n",
    "             (see example output above for how the DataFrame should look like)\n",
    "    \"\"\"\n",
    "    doc_vector=vectorizer.fit_transform(documents['lemma_document'])\n",
    "    q_vector= vectorizer.transform(queries['lemma_query'])\n",
    "    \n",
    "    cos_sim=cosine_similarity(q_vector,doc_vector)\n",
    "   \n",
    "    result=pd.DataFrame(columns=['query_id','document_id','similarity','is_relevant'])\n",
    "    \n",
    "    for count1,value1 in enumerate(queries['id']):\n",
    "        for count2,value2 in enumerate(documents['id']):\n",
    "            if value2 in mapping[mapping['query_id']==value1].values:\n",
    "                result=result.append([{'query_id':value1,'document_id':value2,'similarity':cos_sim[count1][count2],'is_relevant':True}],ignore_index=True)\n",
    "            else:\n",
    "                result=result.append([{'query_id':value1,'document_id':value2,'similarity':cos_sim[count1][count2],'is_relevant':False}],ignore_index=True)\n",
    "    return result\n",
    "      \n",
    "ccsfa=compute_cosine_similarity_for_all(documents_df, queries_df, mapping_df,TfidfVectorizer()) \n",
    "#display(ccsfa[ccsfa['query_id'] ==13].iloc[:])\n",
    "    "
   ]
  },
  {
   "cell_type": "code",
   "execution_count": 6,
   "metadata": {},
   "outputs": [
    {
     "data": {
      "text/html": [
       "<div>\n",
       "<style scoped>\n",
       "    .dataframe tbody tr th:only-of-type {\n",
       "        vertical-align: middle;\n",
       "    }\n",
       "\n",
       "    .dataframe tbody tr th {\n",
       "        vertical-align: top;\n",
       "    }\n",
       "\n",
       "    .dataframe thead th {\n",
       "        text-align: right;\n",
       "    }\n",
       "</style>\n",
       "<table border=\"1\" class=\"dataframe\">\n",
       "  <thead>\n",
       "    <tr style=\"text-align: right;\">\n",
       "      <th></th>\n",
       "      <th>query_id</th>\n",
       "      <th>document_id</th>\n",
       "      <th>similarity</th>\n",
       "      <th>is_relevant</th>\n",
       "    </tr>\n",
       "  </thead>\n",
       "  <tbody>\n",
       "    <tr>\n",
       "      <th>848</th>\n",
       "      <td>13</td>\n",
       "      <td>611</td>\n",
       "      <td>0.323452</td>\n",
       "      <td>False</td>\n",
       "    </tr>\n",
       "    <tr>\n",
       "      <th>1114</th>\n",
       "      <td>13</td>\n",
       "      <td>1314</td>\n",
       "      <td>0.257048</td>\n",
       "      <td>False</td>\n",
       "    </tr>\n",
       "    <tr>\n",
       "      <th>844</th>\n",
       "      <td>13</td>\n",
       "      <td>1078</td>\n",
       "      <td>0.248873</td>\n",
       "      <td>False</td>\n",
       "    </tr>\n",
       "    <tr>\n",
       "      <th>1033</th>\n",
       "      <td>13</td>\n",
       "      <td>1136</td>\n",
       "      <td>0.247314</td>\n",
       "      <td>False</td>\n",
       "    </tr>\n",
       "    <tr>\n",
       "      <th>881</th>\n",
       "      <td>13</td>\n",
       "      <td>481</td>\n",
       "      <td>0.241303</td>\n",
       "      <td>False</td>\n",
       "    </tr>\n",
       "    <tr>\n",
       "      <th>934</th>\n",
       "      <td>13</td>\n",
       "      <td>731</td>\n",
       "      <td>0.224859</td>\n",
       "      <td>True</td>\n",
       "    </tr>\n",
       "    <tr>\n",
       "      <th>1197</th>\n",
       "      <td>13</td>\n",
       "      <td>135</td>\n",
       "      <td>0.223749</td>\n",
       "      <td>False</td>\n",
       "    </tr>\n",
       "    <tr>\n",
       "      <th>1193</th>\n",
       "      <td>13</td>\n",
       "      <td>49</td>\n",
       "      <td>0.216631</td>\n",
       "      <td>True</td>\n",
       "    </tr>\n",
       "    <tr>\n",
       "      <th>1084</th>\n",
       "      <td>13</td>\n",
       "      <td>59</td>\n",
       "      <td>0.216436</td>\n",
       "      <td>True</td>\n",
       "    </tr>\n",
       "    <tr>\n",
       "      <th>1095</th>\n",
       "      <td>13</td>\n",
       "      <td>523</td>\n",
       "      <td>0.216018</td>\n",
       "      <td>True</td>\n",
       "    </tr>\n",
       "  </tbody>\n",
       "</table>\n",
       "</div>"
      ],
      "text/plain": [
       "     query_id document_id  similarity is_relevant\n",
       "848        13         611    0.323452       False\n",
       "1114       13        1314    0.257048       False\n",
       "844        13        1078    0.248873       False\n",
       "1033       13        1136    0.247314       False\n",
       "881        13         481    0.241303       False\n",
       "934        13         731    0.224859        True\n",
       "1197       13         135    0.223749       False\n",
       "1193       13          49    0.216631        True\n",
       "1084       13          59    0.216436        True\n",
       "1095       13         523    0.216018        True"
      ]
     },
     "metadata": {},
     "output_type": "display_data"
    },
    {
     "data": {
      "text/plain": [
       "48    What Information Dissemination Studies Imply C...\n",
       "Name: title, dtype: object"
      ]
     },
     "metadata": {},
     "output_type": "display_data"
    },
    {
     "data": {
      "text/plain": [
       "314    Popper's Mystification of Objective Knowledge\n",
       "Name: title, dtype: object"
      ]
     },
     "metadata": {},
     "output_type": "display_data"
    },
    {
     "data": {
      "text/plain": [
       "44    Computerized Information Retrieval Services (A...\n",
       "Name: title, dtype: object"
      ]
     },
     "metadata": {},
     "output_type": "display_data"
    },
    {
     "data": {
      "text/plain": [
       "233    Data Retrieval Systems:  Specifics and Problems\n",
       "Name: title, dtype: object"
      ]
     },
     "metadata": {},
     "output_type": "display_data"
    },
    {
     "data": {
      "text/plain": [
       "81    Integrated Information Processing and the Case...\n",
       "Name: title, dtype: object"
      ]
     },
     "metadata": {},
     "output_type": "display_data"
    },
    {
     "data": {
      "text/plain": [
       "134    Evaluation of an SDI Service Based on the Inde...\n",
       "Name: title, dtype: object"
      ]
     },
     "metadata": {},
     "output_type": "display_data"
    },
    {
     "data": {
      "text/plain": [
       "397    Design of Information Systems and Services\n",
       "Name: title, dtype: object"
      ]
     },
     "metadata": {},
     "output_type": "display_data"
    },
    {
     "data": {
      "text/plain": [
       "393    Adaptive Information Dissemination\n",
       "Name: title, dtype: object"
      ]
     },
     "metadata": {},
     "output_type": "display_data"
    },
    {
     "data": {
      "text/plain": [
       "284    Opinion Paper\n",
       "Name: title, dtype: object"
      ]
     },
     "metadata": {},
     "output_type": "display_data"
    },
    {
     "data": {
      "text/plain": [
       "295    The Cost_Performance of an On-Line, Free-Text ...\n",
       "Name: title, dtype: object"
      ]
     },
     "metadata": {},
     "output_type": "display_data"
    }
   ],
   "source": [
    "ccsfa_sort=ccsfa.sort_values(by=['similarity'],ascending=False)\n",
    "display(ccsfa_sort[ccsfa_sort['query_id'] ==13].iloc[:10])\n",
    "for i in range(10):\n",
    "    doc_id=ccsfa_sort[ccsfa_sort['query_id'] ==13].iloc[i]['document_id']\n",
    "    display(documents_df[documents_df['id']==doc_id]['title'])"
   ]
  },
  {
   "cell_type": "markdown",
   "metadata": {},
   "source": [
    "**c)** Implement the function `precision_recall` to compute precision and recall for every row from the results of 3b). Precision and recall should be computed as discussed in the lecture for the P-R curve (without interpolation): Compute both metrics for each of the steps (top $1$ results, top $2$ results, ...., top $n$ results) and for each query (not aggregated yet). Assume that documents are ranked/retrieved according to the similarity score. Add the precision and recall values to the dataframe (or similar).\n",
    "\n",
    "The input to this function should be the resulting dataframe from 3b). Apply it on the data.\n",
    "\n",
    "Finally, show (similar to 3b) the top 10 results for the query with `id=13` together with the precision and recall metrics."
   ]
  },
  {
   "cell_type": "code",
   "execution_count": 8,
   "metadata": {},
   "outputs": [
    {
     "data": {
      "text/html": [
       "<div>\n",
       "<style scoped>\n",
       "    .dataframe tbody tr th:only-of-type {\n",
       "        vertical-align: middle;\n",
       "    }\n",
       "\n",
       "    .dataframe tbody tr th {\n",
       "        vertical-align: top;\n",
       "    }\n",
       "\n",
       "    .dataframe thead th {\n",
       "        text-align: right;\n",
       "    }\n",
       "</style>\n",
       "<table border=\"1\" class=\"dataframe\">\n",
       "  <thead>\n",
       "    <tr style=\"text-align: right;\">\n",
       "      <th></th>\n",
       "      <th>query_id</th>\n",
       "      <th>document_id</th>\n",
       "      <th>similarity</th>\n",
       "      <th>is_relevant</th>\n",
       "      <th>precision</th>\n",
       "      <th>recall</th>\n",
       "    </tr>\n",
       "  </thead>\n",
       "  <tbody>\n",
       "    <tr>\n",
       "      <th>848</th>\n",
       "      <td>13</td>\n",
       "      <td>611</td>\n",
       "      <td>0.323452</td>\n",
       "      <td>False</td>\n",
       "      <td>0.000000</td>\n",
       "      <td>0.000000</td>\n",
       "    </tr>\n",
       "    <tr>\n",
       "      <th>1114</th>\n",
       "      <td>13</td>\n",
       "      <td>1314</td>\n",
       "      <td>0.257048</td>\n",
       "      <td>False</td>\n",
       "      <td>0.000000</td>\n",
       "      <td>0.000000</td>\n",
       "    </tr>\n",
       "    <tr>\n",
       "      <th>844</th>\n",
       "      <td>13</td>\n",
       "      <td>1078</td>\n",
       "      <td>0.248873</td>\n",
       "      <td>False</td>\n",
       "      <td>0.000000</td>\n",
       "      <td>0.000000</td>\n",
       "    </tr>\n",
       "    <tr>\n",
       "      <th>1033</th>\n",
       "      <td>13</td>\n",
       "      <td>1136</td>\n",
       "      <td>0.247314</td>\n",
       "      <td>False</td>\n",
       "      <td>0.000000</td>\n",
       "      <td>0.000000</td>\n",
       "    </tr>\n",
       "    <tr>\n",
       "      <th>881</th>\n",
       "      <td>13</td>\n",
       "      <td>481</td>\n",
       "      <td>0.241303</td>\n",
       "      <td>False</td>\n",
       "      <td>0.000000</td>\n",
       "      <td>0.000000</td>\n",
       "    </tr>\n",
       "    <tr>\n",
       "      <th>934</th>\n",
       "      <td>13</td>\n",
       "      <td>731</td>\n",
       "      <td>0.224859</td>\n",
       "      <td>True</td>\n",
       "      <td>0.166667</td>\n",
       "      <td>0.043478</td>\n",
       "    </tr>\n",
       "    <tr>\n",
       "      <th>1197</th>\n",
       "      <td>13</td>\n",
       "      <td>135</td>\n",
       "      <td>0.223749</td>\n",
       "      <td>False</td>\n",
       "      <td>0.142857</td>\n",
       "      <td>0.043478</td>\n",
       "    </tr>\n",
       "    <tr>\n",
       "      <th>1193</th>\n",
       "      <td>13</td>\n",
       "      <td>49</td>\n",
       "      <td>0.216631</td>\n",
       "      <td>True</td>\n",
       "      <td>0.250000</td>\n",
       "      <td>0.086957</td>\n",
       "    </tr>\n",
       "    <tr>\n",
       "      <th>1084</th>\n",
       "      <td>13</td>\n",
       "      <td>59</td>\n",
       "      <td>0.216436</td>\n",
       "      <td>True</td>\n",
       "      <td>0.333333</td>\n",
       "      <td>0.130435</td>\n",
       "    </tr>\n",
       "    <tr>\n",
       "      <th>1095</th>\n",
       "      <td>13</td>\n",
       "      <td>523</td>\n",
       "      <td>0.216018</td>\n",
       "      <td>True</td>\n",
       "      <td>0.400000</td>\n",
       "      <td>0.173913</td>\n",
       "    </tr>\n",
       "  </tbody>\n",
       "</table>\n",
       "</div>"
      ],
      "text/plain": [
       "     query_id document_id  similarity is_relevant  precision    recall\n",
       "848        13         611    0.323452       False   0.000000  0.000000\n",
       "1114       13        1314    0.257048       False   0.000000  0.000000\n",
       "844        13        1078    0.248873       False   0.000000  0.000000\n",
       "1033       13        1136    0.247314       False   0.000000  0.000000\n",
       "881        13         481    0.241303       False   0.000000  0.000000\n",
       "934        13         731    0.224859        True   0.166667  0.043478\n",
       "1197       13         135    0.223749       False   0.142857  0.043478\n",
       "1193       13          49    0.216631        True   0.250000  0.086957\n",
       "1084       13          59    0.216436        True   0.333333  0.130435\n",
       "1095       13         523    0.216018        True   0.400000  0.173913"
      ]
     },
     "metadata": {},
     "output_type": "display_data"
    }
   ],
   "source": [
    "# Your code here\n",
    "def precision_recall(similarity_results: pd.DataFrame) -> pd.DataFrame:\n",
    "    \"\"\"Compute precision and recall for each query for each of the steps (top 1 results, ...., top 𝑛 results)\n",
    "    \n",
    "    :param similarity_results: resulting DataFrame from 3b)\n",
    "                               (contains information from all queries and not only the information from the query\n",
    "                                with id=13)\n",
    "    :return: structure that contains precision and recall for each query for each of the steps                      \n",
    "    \"\"\"\n",
    "    \n",
    "    \n",
    "    query_id_list=[]\n",
    "    result= pd.DataFrame()\n",
    "    \n",
    "    for query_id in similarity_results['query_id']:\n",
    "        recall=[]\n",
    "        precision=[]\n",
    "        relevant=0\n",
    "        \n",
    "        if query_id not in query_id_list:\n",
    "            doc_df=similarity_results[similarity_results['query_id']==query_id].sort_values(by=['similarity'],ascending=False)\n",
    "            #display(doc_df)\n",
    "            \n",
    "            for i in range(len(doc_df)):\n",
    "                judge=doc_df.iloc[i]['is_relevant']\n",
    "                if judge==True:\n",
    "                    relevant+=1\n",
    "                precision.append(relevant/(i+1))\n",
    "                recall.append(relevant/len(doc_df[doc_df['is_relevant']==True]))\n",
    "           # print(\"#################\",len(precision))\n",
    "            doc_df['precision']=precision\n",
    "            #print(\"######################\",precision)\n",
    "            doc_df['recall']=recall \n",
    "            #print(\"######################\",recall)\n",
    "            query_id_list.append(query_id)\n",
    "            #display(doc_df)\n",
    "            result = result.append(doc_df)\n",
    "            #display(result)\n",
    "    return result\n",
    "\n",
    "p_r=precision_recall(ccsfa)\n",
    "\n",
    "display(p_r[p_r['query_id']==13][:10])\n",
    "    \n",
    "        \n",
    "    "
   ]
  },
  {
   "cell_type": "markdown",
   "metadata": {},
   "source": [
    "**d)** Implement the function `precision_recall_11_point` for 11 point interpolation. It should compute interpolated precision values for all 11 recall levels and output them as a dataframe. Choose the first sample at which the recall $\\geq$ recall_level to divide  your results into these 11 points. For example: When selecting samples for recall_level $0.1$ and you only have recall values of $[0.095, 0.112]$, then select the second point (recall $0.112$) as start for this recall level.\n",
    "\n",
    "Apply this function on all queries, given the output of 3c) and output the precision values at each recall level of the 11-point interpolation for the query with `id=13`. "
   ]
  },
  {
   "cell_type": "code",
   "execution_count": 9,
   "metadata": {},
   "outputs": [
    {
     "data": {
      "text/html": [
       "<div>\n",
       "<style scoped>\n",
       "    .dataframe tbody tr th:only-of-type {\n",
       "        vertical-align: middle;\n",
       "    }\n",
       "\n",
       "    .dataframe tbody tr th {\n",
       "        vertical-align: top;\n",
       "    }\n",
       "\n",
       "    .dataframe thead th {\n",
       "        text-align: right;\n",
       "    }\n",
       "</style>\n",
       "<table border=\"1\" class=\"dataframe\">\n",
       "  <thead>\n",
       "    <tr style=\"text-align: right;\">\n",
       "      <th></th>\n",
       "      <th>query_id</th>\n",
       "      <th>r_level</th>\n",
       "      <th>interpolated_precision</th>\n",
       "    </tr>\n",
       "  </thead>\n",
       "  <tbody>\n",
       "    <tr>\n",
       "      <th>0</th>\n",
       "      <td>13</td>\n",
       "      <td>0.0</td>\n",
       "      <td>0.416667</td>\n",
       "    </tr>\n",
       "    <tr>\n",
       "      <th>0</th>\n",
       "      <td>13</td>\n",
       "      <td>0.1</td>\n",
       "      <td>0.416667</td>\n",
       "    </tr>\n",
       "    <tr>\n",
       "      <th>0</th>\n",
       "      <td>13</td>\n",
       "      <td>0.2</td>\n",
       "      <td>0.416667</td>\n",
       "    </tr>\n",
       "    <tr>\n",
       "      <th>0</th>\n",
       "      <td>13</td>\n",
       "      <td>0.3</td>\n",
       "      <td>0.342857</td>\n",
       "    </tr>\n",
       "    <tr>\n",
       "      <th>0</th>\n",
       "      <td>13</td>\n",
       "      <td>0.4</td>\n",
       "      <td>0.342857</td>\n",
       "    </tr>\n",
       "    <tr>\n",
       "      <th>0</th>\n",
       "      <td>13</td>\n",
       "      <td>0.5</td>\n",
       "      <td>0.342857</td>\n",
       "    </tr>\n",
       "    <tr>\n",
       "      <th>0</th>\n",
       "      <td>13</td>\n",
       "      <td>0.6</td>\n",
       "      <td>0.274510</td>\n",
       "    </tr>\n",
       "    <tr>\n",
       "      <th>0</th>\n",
       "      <td>13</td>\n",
       "      <td>0.7</td>\n",
       "      <td>0.149123</td>\n",
       "    </tr>\n",
       "    <tr>\n",
       "      <th>0</th>\n",
       "      <td>13</td>\n",
       "      <td>0.8</td>\n",
       "      <td>0.117647</td>\n",
       "    </tr>\n",
       "    <tr>\n",
       "      <th>0</th>\n",
       "      <td>13</td>\n",
       "      <td>0.9</td>\n",
       "      <td>0.107143</td>\n",
       "    </tr>\n",
       "    <tr>\n",
       "      <th>0</th>\n",
       "      <td>13</td>\n",
       "      <td>1.0</td>\n",
       "      <td>0.061995</td>\n",
       "    </tr>\n",
       "  </tbody>\n",
       "</table>\n",
       "</div>"
      ],
      "text/plain": [
       "  query_id  r_level  interpolated_precision\n",
       "0       13      0.0                0.416667\n",
       "0       13      0.1                0.416667\n",
       "0       13      0.2                0.416667\n",
       "0       13      0.3                0.342857\n",
       "0       13      0.4                0.342857\n",
       "0       13      0.5                0.342857\n",
       "0       13      0.6                0.274510\n",
       "0       13      0.7                0.149123\n",
       "0       13      0.8                0.117647\n",
       "0       13      0.9                0.107143\n",
       "0       13      1.0                0.061995"
      ]
     },
     "metadata": {},
     "output_type": "display_data"
    }
   ],
   "source": [
    "# Your code here\n",
    "\n",
    "def precision_recall_11_point(pr_similarity_results: pd.DataFrame) -> pd.DataFrame:\n",
    "    \"\"\"Perform 11 point interpolation on data in pr_similarity_results\n",
    "    \n",
    "    :param pr_similarity_results: resulting DataFrame from 3c)\n",
    "    :return DataFrame that contains 11 point interpolations for all queries\n",
    "    \"\"\"\n",
    "    result=pd.DataFrame(columns=['query_id','r_level','interpolated_precision'])\n",
    "    query_id_list=[]\n",
    "    for query_id in pr_similarity_results['query_id']:\n",
    "        if query_id not in query_id_list:\n",
    "            doc_df=pr_similarity_results[pr_similarity_results['query_id']==query_id]\n",
    "            for i in range(11):\n",
    "                recall=doc_df['recall']\n",
    "\n",
    "                level=i*0.1\n",
    "                precision=max(doc_df[doc_df['recall']>=(i*0.1)]['precision'])\n",
    "                result=result.append([{'query_id':query_id,'r_level':level,'interpolated_precision':precision}])\n",
    "                                      \n",
    "            query_id_list.append(query_id)\n",
    "    return result\n",
    "            \n",
    "pr_re_11=precision_recall_11_point(p_r)\n",
    "display(pr_re_11[pr_re_11['query_id']==13])"
   ]
  },
  {
   "cell_type": "markdown",
   "metadata": {},
   "source": [
    "**e)** Plot the interpolated P-R curve based on all queries. (Use the result from 3d)"
   ]
  },
  {
   "cell_type": "code",
   "execution_count": 26,
   "metadata": {},
   "outputs": [
    {
     "data": {
      "image/png": "[encoded data removed]",
      "text/plain": [
       "<Figure size 432x288 with 1 Axes>"
      ]
     },
     "metadata": {},
     "output_type": "display_data"
    }
   ],
   "source": [
    "# Your code here\n",
    "import numpy as np\n",
    "mean_p=np.zeros(11)\n",
    "query_id_list=[]\n",
    "for query_id in pr_re_11['query_id']:\n",
    "    if query_id not in query_id_list:\n",
    "        doc_df=pr_re_11[pr_re_11['query_id']==query_id].sort_values(by=['r_level'])\n",
    "        for i in range(11):\n",
    "            mean_p[i]+=doc_df['interpolated_precision'].iloc[i]\n",
    "        query_id_list.append(query_id)\n",
    "mean_p=mean_p/27\n",
    "\n",
    "X=np.linspace(0,100,11)\n",
    "l=plt.plot(X,mean_p,'b--')\n",
    "plt.plot(X,mean_p,'b^-')\n",
    "plt.title(\"the interpolated P-R curve\")\n",
    "plt.xticks(np.linspace(0,100,11))\n",
    "plt.xlabel(\"Recall\")\n",
    "plt.ylabel(\"Precision\")\n",
    "plt.show()"
   ]
  },
  {
   "cell_type": "markdown",
   "metadata": {},
   "source": [
    "Please upload in Moodle your working Jupyter-Notebook <b>before next exercise session</b> <span style=\"color:red\">(Jan 13th, 16:14pm)</span>. Submission format: Group_No_Exercise_No.zip<br>\n",
    "Submission should contain your filled out Jupyter notebook template (naming schema: Group_No_Exercise_No.ipynb) and any auxiliar files that are necessary to run your code (e.g. datasets provided by us). <br>\n",
    "Each submission must only be handed in once per group."
   ]
  },
  {
   "cell_type": "code",
   "execution_count": null,
   "metadata": {},
   "outputs": [],
   "source": []
  }
 ],
 "metadata": {
  "kernelspec": {
   "display_name": "Python 3 (ipykernel)",
   "language": "python",
   "name": "python3"
  },
  "language_info": {
   "codemirror_mode": {
    "name": "ipython",
    "version": 3
   },
   "file_extension": ".py",
   "mimetype": "text/x-python",
   "name": "python",
   "nbconvert_exporter": "python",
   "pygments_lexer": "ipython3",
   "version": "3.9.7"
  }
 },
 "nbformat": 4,
 "nbformat_minor": 4
}
