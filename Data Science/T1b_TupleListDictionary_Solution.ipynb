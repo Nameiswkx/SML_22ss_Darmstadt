{
 "cells": [
  {
   "cell_type": "markdown",
   "metadata": {},
   "source": [
    "# Data Science I Topic 1 - List, Tuple, and Dictionary"
   ]
  },
  {
   "cell_type": "markdown",
   "metadata": {},
   "source": [
    "<u>The lists used below are the first few entries of the dataset [MovieLens](https://grouplens.org/datasets/movielens/)  that we will use again later.</u>"
   ]
  },
  {
   "cell_type": "markdown",
   "metadata": {},
   "source": [
    "## List"
   ]
  },
  {
   "cell_type": "markdown",
   "metadata": {},
   "source": [
    "<u>A list can contain a mix of variable types.\n",
    "\n",
    "Run the cells below.</u>"
   ]
  },
  {
   "cell_type": "markdown",
   "metadata": {},
   "source": [
    "### Initializing"
   ]
  },
  {
   "cell_type": "code",
   "execution_count": 1,
   "metadata": {},
   "outputs": [
    {
     "name": "stdout",
     "output_type": "stream",
     "text": [
      "['Toy Story', 4.0, 'Jumanji', 4.0, 'Grumpier Old Men', 4.0, 'Waiting to Exhale', 5.0]\n"
     ]
    }
   ],
   "source": [
    "movie_ratings = ['Toy Story', 4.0, \n",
    "                 'Jumanji', 4.0,\n",
    "                 'Grumpier Old Men', 4.0, \n",
    "                 'Waiting to Exhale', 5.0]\n",
    "print(movie_ratings)"
   ]
  },
  {
   "cell_type": "markdown",
   "metadata": {},
   "source": [
    "**Tips**\n",
    "\n",
    "<u>You can make lists within a list. Continue the following such that it contains list of lists of the movie title and its corresponding rating.</u>"
   ]
  },
  {
   "cell_type": "code",
   "execution_count": 2,
   "metadata": {},
   "outputs": [
    {
     "data": {
      "text/plain": [
       "[['Toy Story', 4.0],\n",
       " ['Jumanji', 4.0],\n",
       " ['Grumpier Old Men', 4.0],\n",
       " ['Waiting to Exhale', 5.0]]"
      ]
     },
     "execution_count": 2,
     "metadata": {},
     "output_type": "execute_result"
    }
   ],
   "source": [
    "# expand this to contain the 4 movie titles and ratings above\n",
    "movie_rating_list = [['Toy Story', 4.0], \n",
    "                     ['Jumanji', 4.0],\n",
    "                     ['Grumpier Old Men', 4.0],\n",
    "                     ['Waiting to Exhale', 5.0]]\n",
    "# display it\n",
    "movie_rating_list"
   ]
  },
  {
   "cell_type": "markdown",
   "metadata": {},
   "source": [
    "### Extending, appending"
   ]
  },
  {
   "cell_type": "markdown",
   "metadata": {},
   "source": [
    "<u>`.extend()`: iterates over its argument, you can put many additions **in form of a list**, to add into another list.</u>"
   ]
  },
  {
   "cell_type": "code",
   "execution_count": 3,
   "metadata": {},
   "outputs": [
    {
     "name": "stdout",
     "output_type": "stream",
     "text": [
      "['Toy Story', 4.0, 'Jumanji', 4.0, 'Grumpier Old Men', 4.0, 'Waiting to Exhale', 5.0, 'Father of the Bride Part II', 5.0]\n"
     ]
    }
   ],
   "source": [
    "# extend the movie_ratings list to include the movie 'Father of The Bride Part II' with rating  5.0\n",
    "# movie_ratings list shouldn't contain any list\n",
    "movie_ratings.extend(['Father of the Bride Part II', 5.0])\n",
    "\n",
    "# display it\n",
    "print(movie_ratings)"
   ]
  },
  {
   "cell_type": "markdown",
   "metadata": {},
   "source": [
    "<u>`append()`: add a single element to the end of a list.</u>"
   ]
  },
  {
   "cell_type": "code",
   "execution_count": 4,
   "metadata": {},
   "outputs": [
    {
     "name": "stdout",
     "output_type": "stream",
     "text": [
      "['Toy Story', 4.0, 'Jumanji', 4.0, 'Grumpier Old Men', 4.0, 'Waiting to Exhale', 5.0, 'Father of the Bride Part II', 5.0, 'Heat', 4.0]\n"
     ]
    }
   ],
   "source": [
    "# append 'Heat' and then the rating of 4.0 to the list movie_ratings\n",
    "# movie_ratings list shouldn't contain any list\n",
    "movie_ratings.append('Heat')\n",
    "movie_ratings.append(4.0)\n",
    "\n",
    "# display it\n",
    "print(movie_ratings)"
   ]
  },
  {
   "cell_type": "markdown",
   "metadata": {},
   "source": [
    "### Subsetting"
   ]
  },
  {
   "cell_type": "markdown",
   "metadata": {},
   "source": [
    "<u>Indexing in Python starts with 0. You can access the last element with index -1. Run the cells below.</u>"
   ]
  },
  {
   "cell_type": "code",
   "execution_count": 5,
   "metadata": {},
   "outputs": [
    {
     "name": "stdout",
     "output_type": "stream",
     "text": [
      "Toy Story\n",
      "4.0\n"
     ]
    }
   ],
   "source": [
    "print(movie_ratings[0])\n",
    "print(movie_ratings[-1])"
   ]
  },
  {
   "cell_type": "code",
   "execution_count": 6,
   "metadata": {},
   "outputs": [],
   "source": [
    "# Getting indices\n",
    "# Which index contains the movie title 'Jumanji'?\n",
    "ind_jumanji = movie_ratings.index('Jumanji')"
   ]
  },
  {
   "cell_type": "code",
   "execution_count": 7,
   "metadata": {},
   "outputs": [
    {
     "data": {
      "text/plain": [
       "4.0"
      ]
     },
     "execution_count": 7,
     "metadata": {},
     "output_type": "execute_result"
    }
   ],
   "source": [
    "# Print the rating of Jumanji\n",
    "movie_ratings[ind_jumanji+1]"
   ]
  },
  {
   "cell_type": "markdown",
   "metadata": {},
   "source": [
    "**ADDITION**: use `.__getitem__` to subset a list with multiple indices"
   ]
  },
  {
   "cell_type": "code",
   "execution_count": 8,
   "metadata": {},
   "outputs": [
    {
     "data": {
      "text/plain": [
       "['Toy Story', 4.0, 'Grumpier Old Men', 4.0]"
      ]
     },
     "execution_count": 8,
     "metadata": {},
     "output_type": "execute_result"
    }
   ],
   "source": [
    "# e.g.:\n",
    "list(map(movie_ratings.__getitem__, [0,1,4,5]))"
   ]
  },
  {
   "cell_type": "markdown",
   "metadata": {},
   "source": [
    "<u>What happens if you use negative indices like -2, -3, and so on? Try it below.</u>"
   ]
  },
  {
   "cell_type": "code",
   "execution_count": 9,
   "metadata": {},
   "outputs": [
    {
     "name": "stdout",
     "output_type": "stream",
     "text": [
      "4.0\n",
      "Heat\n"
     ]
    }
   ],
   "source": [
    "# Last entry: index -1, second to last:-2, and so on\n",
    "print(movie_ratings[-1])\n",
    "print(movie_ratings[-2])"
   ]
  },
  {
   "cell_type": "markdown",
   "metadata": {},
   "source": [
    "### Subsetting list of lists"
   ]
  },
  {
   "cell_type": "markdown",
   "metadata": {},
   "source": [
    "<u>To subset a list of lists, use double square brackets. Try it below.</u>"
   ]
  },
  {
   "cell_type": "code",
   "execution_count": 10,
   "metadata": {},
   "outputs": [
    {
     "name": "stdout",
     "output_type": "stream",
     "text": [
      "['Toy Story', 4.0]\n",
      "Toy Story\n"
     ]
    }
   ],
   "source": [
    "print(movie_rating_list[0])\n",
    "print(movie_rating_list[0][0])"
   ]
  },
  {
   "cell_type": "markdown",
   "metadata": {},
   "source": [
    "### Slicing"
   ]
  },
  {
   "cell_type": "markdown",
   "metadata": {},
   "source": [
    "<u>Slicing means selecting multiple elements from your list. You can slice from the first element by using blank. Run the cell below.</u>"
   ]
  },
  {
   "cell_type": "code",
   "execution_count": 11,
   "metadata": {},
   "outputs": [
    {
     "name": "stdout",
     "output_type": "stream",
     "text": [
      "['Toy Story', 4.0]\n"
     ]
    }
   ],
   "source": [
    "print(movie_ratings[:2])"
   ]
  },
  {
   "cell_type": "code",
   "execution_count": 12,
   "metadata": {},
   "outputs": [
    {
     "name": "stdout",
     "output_type": "stream",
     "text": [
      "['Toy Story', 'Jumanji', 'Grumpier Old Men', 'Waiting to Exhale', 'Father of the Bride Part II', 'Heat']\n"
     ]
    }
   ],
   "source": [
    "print(movie_ratings[::2])"
   ]
  },
  {
   "cell_type": "markdown",
   "metadata": {},
   "source": [
    "<u>Notice how the start index is included and the end index isn't. Now try printing the last two elements.</u>"
   ]
  },
  {
   "cell_type": "code",
   "execution_count": 13,
   "metadata": {},
   "outputs": [
    {
     "name": "stdout",
     "output_type": "stream",
     "text": [
      "['Heat', 4.0]\n"
     ]
    }
   ],
   "source": [
    "print(movie_ratings[-2:])"
   ]
  },
  {
   "cell_type": "markdown",
   "metadata": {},
   "source": [
    "### Removing"
   ]
  },
  {
   "cell_type": "markdown",
   "metadata": {},
   "source": [
    "<u>Recall `ind_jumanji` contains the index of the movie title 'Jumanji'.</u>"
   ]
  },
  {
   "cell_type": "code",
   "execution_count": 14,
   "metadata": {},
   "outputs": [
    {
     "name": "stdout",
     "output_type": "stream",
     "text": [
      "['Toy Story', 4.0, 'Grumpier Old Men', 4.0, 'Waiting to Exhale', 5.0, 'Father of the Bride Part II', 5.0, 'Heat', 4.0]\n"
     ]
    }
   ],
   "source": [
    "# remove Jumanji and its rating using .pop()\n",
    "movie_ratings.pop(ind_jumanji+1) # pop the rating\n",
    "\n",
    "# remove 'Jumanji'\n",
    "movie_ratings.pop(ind_jumanji) # pop the rating\n",
    "print(movie_ratings)"
   ]
  },
  {
   "cell_type": "markdown",
   "metadata": {},
   "source": [
    "### List comprehension"
   ]
  },
  {
   "cell_type": "markdown",
   "metadata": {},
   "source": [
    "<u>We've seen an example of list comprehension in the lecture. Try it yourself: generate the power 3 of `x`, where `x` is **even** numbers from 0 to 20."
   ]
  },
  {
   "cell_type": "code",
   "execution_count": 15,
   "metadata": {},
   "outputs": [
    {
     "data": {
      "text/plain": [
       "[0, 8, 64, 216, 512, 1000, 1728, 2744, 4096, 5832, 8000]"
      ]
     },
     "execution_count": 15,
     "metadata": {},
     "output_type": "execute_result"
    }
   ],
   "source": [
    "x = range(0,21,2)\n",
    "# power 3 of x\n",
    "[i**3 for i in x]"
   ]
  },
  {
   "cell_type": "markdown",
   "metadata": {},
   "source": [
    "## Tuple"
   ]
  },
  {
   "cell_type": "markdown",
   "metadata": {},
   "source": [
    "<u>Tuples are immutable. Run the cells below and inspect the results.</u>"
   ]
  },
  {
   "cell_type": "code",
   "execution_count": 16,
   "metadata": {},
   "outputs": [
    {
     "name": "stdout",
     "output_type": "stream",
     "text": [
      "Toy Story\n"
     ]
    },
    {
     "ename": "TypeError",
     "evalue": "'tuple' object does not support item assignment",
     "output_type": "error",
     "traceback": [
      "\u001b[1;31m---------------------------------------------------------------------------\u001b[0m",
      "\u001b[1;31mTypeError\u001b[0m                                 Traceback (most recent call last)",
      "\u001b[1;32m~\\AppData\\Local\\Temp/ipykernel_9944/2870402680.py\u001b[0m in \u001b[0;36m<module>\u001b[1;34m\u001b[0m\n\u001b[0;32m      4\u001b[0m           'Waiting to Exhale')\n\u001b[0;32m      5\u001b[0m \u001b[0mprint\u001b[0m\u001b[1;33m(\u001b[0m\u001b[0mtitles\u001b[0m\u001b[1;33m[\u001b[0m\u001b[1;36m0\u001b[0m\u001b[1;33m]\u001b[0m\u001b[1;33m)\u001b[0m\u001b[1;33m\u001b[0m\u001b[1;33m\u001b[0m\u001b[0m\n\u001b[1;32m----> 6\u001b[1;33m \u001b[0mtitles\u001b[0m\u001b[1;33m[\u001b[0m\u001b[1;36m0\u001b[0m\u001b[1;33m]\u001b[0m \u001b[1;33m=\u001b[0m \u001b[1;34m'Toy Story 2'\u001b[0m\u001b[1;33m\u001b[0m\u001b[1;33m\u001b[0m\u001b[0m\n\u001b[0m",
      "\u001b[1;31mTypeError\u001b[0m: 'tuple' object does not support item assignment"
     ]
    }
   ],
   "source": [
    "titles = ('Toy Story', \n",
    "          'Jumanji', \n",
    "          'Grumpier Old Men', \n",
    "          'Waiting to Exhale')\n",
    "print(titles[0])\n",
    "titles[0] = 'Toy Story 2'"
   ]
  },
  {
   "cell_type": "markdown",
   "metadata": {},
   "source": [
    "<u>In the lecture, we have seen the following example using `zip()` function.</u>"
   ]
  },
  {
   "cell_type": "code",
   "execution_count": null,
   "metadata": {},
   "outputs": [],
   "source": [
    "titles = ['Toy Story', \n",
    "          'Jumanji', \n",
    "          'Grumpier Old Men', \n",
    "          'Waiting to Exhale']\n",
    "ratings = [4.0, 4.0, 4.0, 4.0]\n",
    "\n",
    "# zip() function returns an iterator of tuples\n",
    "movie_data = zip(titles, ratings)\n",
    "\n",
    "# iterate over movie_data\n",
    "for idx, data in enumerate(movie_data, 1): # to start at 1 instead of 0\n",
    "    mx, rx = (data)\n",
    "    print('{}: {}, rating: {}'.format(idx, mx, rx))"
   ]
  },
  {
   "cell_type": "markdown",
   "metadata": {},
   "source": [
    "<u>Given the following genres, print each movie title and its genre by using `titles`, `genres`, and `zip()` function.</u>"
   ]
  },
  {
   "cell_type": "code",
   "execution_count": 17,
   "metadata": {},
   "outputs": [
    {
     "name": "stdout",
     "output_type": "stream",
     "text": [
      "1: Toy Story, genre: Animation\n",
      "2: Jumanji, genre: Adventure\n",
      "3: Grumpier Old Men, genre: Comedy\n",
      "4: Waiting to Exhale, genre: Comedy\n"
     ]
    }
   ],
   "source": [
    "genres = ['Animation', 'Adventure', 'Comedy', 'Comedy']\n",
    "\n",
    "movie_genres = zip(titles, genres)\n",
    "for idx, data in enumerate(movie_genres, 1): # to start at 1 instead of 0\n",
    "    mx, gx = (data)\n",
    "    print('{}: {}, genre: {}'.format(idx, mx, gx))\n",
    "    \n",
    "# Note: enumerate adds a counter so we don't have to declare a separate variable and increases its value"
   ]
  },
  {
   "cell_type": "markdown",
   "metadata": {},
   "source": [
    "**ADDITION: example - using .zip() for 3 lists**"
   ]
  },
  {
   "cell_type": "code",
   "execution_count": 18,
   "metadata": {},
   "outputs": [
    {
     "ename": "NameError",
     "evalue": "name 'ratings' is not defined",
     "output_type": "error",
     "traceback": [
      "\u001b[1;31m---------------------------------------------------------------------------\u001b[0m",
      "\u001b[1;31mNameError\u001b[0m                                 Traceback (most recent call last)",
      "\u001b[1;32m~\\AppData\\Local\\Temp/ipykernel_9944/1519558820.py\u001b[0m in \u001b[0;36m<module>\u001b[1;34m\u001b[0m\n\u001b[1;32m----> 1\u001b[1;33m \u001b[0mmovie_ratings_genres\u001b[0m \u001b[1;33m=\u001b[0m \u001b[0mzip\u001b[0m\u001b[1;33m(\u001b[0m\u001b[0mtitles\u001b[0m\u001b[1;33m,\u001b[0m \u001b[0mratings\u001b[0m\u001b[1;33m,\u001b[0m \u001b[0mgenres\u001b[0m\u001b[1;33m)\u001b[0m\u001b[1;33m\u001b[0m\u001b[1;33m\u001b[0m\u001b[0m\n\u001b[0m\u001b[0;32m      2\u001b[0m \u001b[1;32mfor\u001b[0m \u001b[0midx\u001b[0m\u001b[1;33m,\u001b[0m \u001b[0mdata\u001b[0m \u001b[1;32min\u001b[0m \u001b[0menumerate\u001b[0m\u001b[1;33m(\u001b[0m\u001b[0mmovie_ratings_genres\u001b[0m\u001b[1;33m,\u001b[0m \u001b[1;36m1\u001b[0m\u001b[1;33m)\u001b[0m\u001b[1;33m:\u001b[0m \u001b[1;31m# to start at 1 instead of 0\u001b[0m\u001b[1;33m\u001b[0m\u001b[1;33m\u001b[0m\u001b[0m\n\u001b[0;32m      3\u001b[0m     \u001b[0mmx\u001b[0m\u001b[1;33m,\u001b[0m \u001b[0mrx\u001b[0m\u001b[1;33m,\u001b[0m \u001b[0mgx\u001b[0m \u001b[1;33m=\u001b[0m \u001b[1;33m(\u001b[0m\u001b[0mdata\u001b[0m\u001b[1;33m)\u001b[0m\u001b[1;33m\u001b[0m\u001b[1;33m\u001b[0m\u001b[0m\n\u001b[0;32m      4\u001b[0m     \u001b[0mprint\u001b[0m\u001b[1;33m(\u001b[0m\u001b[1;34m'{}: {}, rating:{}, genre: {}'\u001b[0m\u001b[1;33m.\u001b[0m\u001b[0mformat\u001b[0m\u001b[1;33m(\u001b[0m\u001b[0midx\u001b[0m\u001b[1;33m,\u001b[0m \u001b[0mmx\u001b[0m\u001b[1;33m,\u001b[0m \u001b[0mrx\u001b[0m\u001b[1;33m,\u001b[0m \u001b[0mgx\u001b[0m\u001b[1;33m)\u001b[0m\u001b[1;33m)\u001b[0m\u001b[1;33m\u001b[0m\u001b[1;33m\u001b[0m\u001b[0m\n",
      "\u001b[1;31mNameError\u001b[0m: name 'ratings' is not defined"
     ]
    }
   ],
   "source": [
    "movie_ratings_genres = zip(titles, ratings, genres)\n",
    "for idx, data in enumerate(movie_ratings_genres, 1): # to start at 1 instead of 0\n",
    "    mx, rx, gx = (data)\n",
    "    print('{}: {}, rating:{}, genre: {}'.format(idx, mx, rx, gx))"
   ]
  },
  {
   "cell_type": "markdown",
   "metadata": {},
   "source": [
    "## Dictionary"
   ]
  },
  {
   "cell_type": "markdown",
   "metadata": {},
   "source": [
    "### Initializing"
   ]
  },
  {
   "cell_type": "markdown",
   "metadata": {},
   "source": [
    "<u>Run the following cells and inspect the results</u>"
   ]
  },
  {
   "cell_type": "code",
   "execution_count": 19,
   "metadata": {
    "scrolled": true
   },
   "outputs": [
    {
     "name": "stdout",
     "output_type": "stream",
     "text": [
      "{'Toy Story': 4.0, 'Jumanji': 4.0, 'Grumpier Old Men': 4.0, 'Waiting to Exhale': 5.0}\n"
     ]
    }
   ],
   "source": [
    "movie_ratings = {'Toy Story':4.0, \n",
    "                 'Jumanji':4.0,\n",
    "                 'Grumpier Old Men':4.0, \n",
    "                 'Waiting to Exhale':5.0}\n",
    "\n",
    "print(movie_ratings)"
   ]
  },
  {
   "cell_type": "markdown",
   "metadata": {},
   "source": [
    "### Keys, values"
   ]
  },
  {
   "cell_type": "code",
   "execution_count": 20,
   "metadata": {},
   "outputs": [
    {
     "name": "stdout",
     "output_type": "stream",
     "text": [
      "dict_keys(['Toy Story', 'Jumanji', 'Grumpier Old Men', 'Waiting to Exhale'])\n"
     ]
    }
   ],
   "source": [
    "# print out all the keys using .keys() method\n",
    "print(movie_ratings.keys())"
   ]
  },
  {
   "cell_type": "code",
   "execution_count": 21,
   "metadata": {},
   "outputs": [
    {
     "name": "stdout",
     "output_type": "stream",
     "text": [
      "dict_values([4.0, 4.0, 4.0, 5.0])\n"
     ]
    }
   ],
   "source": [
    "## use .values() method to get the rating values\n",
    "print(movie_ratings.values())"
   ]
  },
  {
   "cell_type": "code",
   "execution_count": 22,
   "metadata": {},
   "outputs": [
    {
     "name": "stdout",
     "output_type": "stream",
     "text": [
      "4.0\n"
     ]
    }
   ],
   "source": [
    "# print out \"Toy Story\" rating by first checking if it's indeed in movie_ratings\n",
    "if ('Toy Story' in movie_ratings.keys()):\n",
    "    # print out the rating of Toy Story by using movie_ratings[key]\n",
    "    print(movie_ratings['Toy Story'])"
   ]
  },
  {
   "cell_type": "code",
   "execution_count": 23,
   "metadata": {},
   "outputs": [
    {
     "name": "stdout",
     "output_type": "stream",
     "text": [
      "No rating yet for Ace Ventura.\n"
     ]
    }
   ],
   "source": [
    "# check if the movie 'Ace Ventura' is in the dictionary we've just created\n",
    "# if yes, print the rating, if not, write an appropriate message.\n",
    "if ('Ace Venture' in movie_ratings.keys()):\n",
    "    print('Ace Ventura has a rating of {}'.format(movie_ratings['Toy Story']))\n",
    "else:\n",
    "    print('No rating yet for Ace Ventura.')"
   ]
  },
  {
   "cell_type": "markdown",
   "metadata": {},
   "source": [
    "### Using `zip()` to create a dictionary from lists"
   ]
  },
  {
   "cell_type": "code",
   "execution_count": 24,
   "metadata": {},
   "outputs": [],
   "source": [
    "titles = ['Toy Story', \n",
    "          'Jumanji', \n",
    "          'Grumpier Old Men', \n",
    "          'Waiting to Exhale']\n",
    "ratings = [4.0, 4.0, 4.0, 5.0]"
   ]
  },
  {
   "cell_type": "code",
   "execution_count": 25,
   "metadata": {},
   "outputs": [
    {
     "data": {
      "text/plain": [
       "{'Toy Story': 4.0,\n",
       " 'Jumanji': 4.0,\n",
       " 'Grumpier Old Men': 4.0,\n",
       " 'Waiting to Exhale': 5.0}"
      ]
     },
     "execution_count": 25,
     "metadata": {},
     "output_type": "execute_result"
    }
   ],
   "source": [
    "# Complete the following line\n",
    "movie_ratings = {key:value for (key,value) in zip(titles, ratings)}\n",
    "movie_ratings"
   ]
  },
  {
   "cell_type": "markdown",
   "metadata": {},
   "source": [
    "**ADDITION**: also works:"
   ]
  },
  {
   "cell_type": "code",
   "execution_count": 26,
   "metadata": {},
   "outputs": [
    {
     "data": {
      "text/plain": [
       "{'Toy Story': 4.0,\n",
       " 'Jumanji': 4.0,\n",
       " 'Grumpier Old Men': 4.0,\n",
       " 'Waiting to Exhale': 5.0}"
      ]
     },
     "execution_count": 26,
     "metadata": {},
     "output_type": "execute_result"
    }
   ],
   "source": [
    "dict(zip(titles, ratings))"
   ]
  },
  {
   "cell_type": "markdown",
   "metadata": {},
   "source": [
    "### Looping over dictionary using `.items()`"
   ]
  },
  {
   "cell_type": "markdown",
   "metadata": {},
   "source": [
    "<u>Complete the following to print all the dictionary contents</u>"
   ]
  },
  {
   "cell_type": "code",
   "execution_count": 27,
   "metadata": {},
   "outputs": [
    {
     "name": "stdout",
     "output_type": "stream",
     "text": [
      "Toy Story has a rating of 4.0\n",
      "Jumanji has a rating of 4.0\n",
      "Grumpier Old Men has a rating of 4.0\n",
      "Waiting to Exhale has a rating of 5.0\n"
     ]
    }
   ],
   "source": [
    "for key, value in movie_ratings.items():\n",
    "    print(key + ' has a rating of ' + str(value))"
   ]
  },
  {
   "cell_type": "markdown",
   "metadata": {},
   "source": [
    "<u>`.ìtems()`can also be used to filter a dictionary based on some conditions.\n",
    "\n",
    "Run the cell below.</u>"
   ]
  },
  {
   "cell_type": "code",
   "execution_count": 28,
   "metadata": {},
   "outputs": [
    {
     "data": {
      "text/plain": [
       "['Waiting to Exhale']"
      ]
     },
     "execution_count": 28,
     "metadata": {},
     "output_type": "execute_result"
    }
   ],
   "source": [
    "[title for title,rating in movie_ratings.items() if rating==5]"
   ]
  },
  {
   "cell_type": "markdown",
   "metadata": {},
   "source": [
    "### Adding an item"
   ]
  },
  {
   "cell_type": "markdown",
   "metadata": {},
   "source": [
    "<u>Add by using `movie_ratings[key] = value`, the movie 'Heat' with rating 4.0</u>"
   ]
  },
  {
   "cell_type": "code",
   "execution_count": 29,
   "metadata": {},
   "outputs": [
    {
     "data": {
      "text/plain": [
       "{'Toy Story': 4.0,\n",
       " 'Jumanji': 4.0,\n",
       " 'Grumpier Old Men': 4.0,\n",
       " 'Waiting to Exhale': 5.0,\n",
       " 'Heat': 4.0}"
      ]
     },
     "execution_count": 29,
     "metadata": {},
     "output_type": "execute_result"
    }
   ],
   "source": [
    "movie_ratings['Heat'] = 4.0\n",
    "\n",
    "movie_ratings"
   ]
  },
  {
   "cell_type": "markdown",
   "metadata": {},
   "source": [
    "### Removing an item"
   ]
  },
  {
   "cell_type": "markdown",
   "metadata": {},
   "source": [
    "<u>Run the cell.</u>"
   ]
  },
  {
   "cell_type": "code",
   "execution_count": 30,
   "metadata": {},
   "outputs": [
    {
     "data": {
      "text/plain": [
       "{'Toy Story': 4.0,\n",
       " 'Jumanji': 4.0,\n",
       " 'Grumpier Old Men': 4.0,\n",
       " 'Waiting to Exhale': 5.0}"
      ]
     },
     "execution_count": 30,
     "metadata": {},
     "output_type": "execute_result"
    }
   ],
   "source": [
    "del movie_ratings['Heat']\n",
    "movie_ratings"
   ]
  },
  {
   "cell_type": "markdown",
   "metadata": {},
   "source": [
    "<u> Use `.items()` to remove movies with rating less than 5.</u>"
   ]
  },
  {
   "cell_type": "code",
   "execution_count": 31,
   "metadata": {},
   "outputs": [
    {
     "data": {
      "text/plain": [
       "{'Waiting to Exhale': 5.0}"
      ]
     },
     "execution_count": 31,
     "metadata": {},
     "output_type": "execute_result"
    }
   ],
   "source": [
    "to_remove = [title for title,rating in movie_ratings.items() if rating<5]\n",
    "\n",
    "for i in to_remove:\n",
    "    del movie_ratings[i]\n",
    "    \n",
    "movie_ratings"
   ]
  },
  {
   "cell_type": "markdown",
   "metadata": {},
   "source": [
    "### Dictionaries in a dictionary"
   ]
  },
  {
   "cell_type": "code",
   "execution_count": 32,
   "metadata": {},
   "outputs": [],
   "source": [
    "titles = ['Toy Story', \n",
    "          'Jumanji', \n",
    "          'Grumpier Old Men', \n",
    "          'Waiting to Exhale']\n",
    "ratings = [4.0, 4.0, 4.0, 5.0]\n",
    "genres = ['Animation', 'Adventure', 'Comedy', 'Comedy']"
   ]
  },
  {
   "cell_type": "markdown",
   "metadata": {},
   "source": [
    "<u>Expand the following to include all 4 titles using the information above.</u>"
   ]
  },
  {
   "cell_type": "code",
   "execution_count": 33,
   "metadata": {
    "scrolled": false
   },
   "outputs": [],
   "source": [
    "movie_ratings_extended = {'Toy Story':{'rating':4.0, 'genre':'Animation'},\n",
    "                          'Jumanji': {'rating':4.0, 'genre':'Adventure'},\n",
    "                          'Grumpier Old Men': {'rating':4.0, 'genre':'Comedy'},\n",
    "                          'Waiting to Exhale': {'rating':5.0, 'genre':'Comedy'}\n",
    "                         }"
   ]
  },
  {
   "cell_type": "markdown",
   "metadata": {},
   "source": [
    "**ADDITION**: also works:"
   ]
  },
  {
   "cell_type": "code",
   "execution_count": 34,
   "metadata": {},
   "outputs": [
    {
     "data": {
      "text/plain": [
       "{'Toy Story': {'rating': 4.0, 'genre': 'Animation'},\n",
       " 'Jumanji': {'rating': 4.0, 'genre': 'Adventure'},\n",
       " 'Grumpier Old Men': {'rating': 4.0, 'genre': 'Comedy'},\n",
       " 'Waiting to Exhale': {'rating': 5.0, 'genre': 'Comedy'}}"
      ]
     },
     "execution_count": 34,
     "metadata": {},
     "output_type": "execute_result"
    }
   ],
   "source": [
    "{t:{'rating':r, 'genre':g} for t,r,g in zip(titles, ratings, genres)}"
   ]
  },
  {
   "cell_type": "markdown",
   "metadata": {},
   "source": [
    "<u>Like nested list, use double square bracket to get the sub-dictionary value.</u>"
   ]
  },
  {
   "cell_type": "code",
   "execution_count": 35,
   "metadata": {},
   "outputs": [
    {
     "data": {
      "text/plain": [
       "'Adventure'"
      ]
     },
     "execution_count": 35,
     "metadata": {},
     "output_type": "execute_result"
    }
   ],
   "source": [
    "# Print out the genre of Jumanji \n",
    "# use movie_ratings_extended[key_parent][key_sub]\n",
    "movie_ratings_extended['Jumanji']['genre']"
   ]
  }
 ],
 "metadata": {
  "kernelspec": {
   "display_name": "Python 3 (ipykernel)",
   "language": "python",
   "name": "python3"
  },
  "language_info": {
   "codemirror_mode": {
    "name": "ipython",
    "version": 3
   },
   "file_extension": ".py",
   "mimetype": "text/x-python",
   "name": "python",
   "nbconvert_exporter": "python",
   "pygments_lexer": "ipython3",
   "version": "3.9.7"
  },
  "toc": {
   "base_numbering": 1,
   "nav_menu": {},
   "number_sections": true,
   "sideBar": true,
   "skip_h1_title": true,
   "title_cell": "Table of Contents",
   "title_sidebar": "Contents",
   "toc_cell": false,
   "toc_position": {
    "height": "calc(100% - 180px)",
    "left": "10px",
    "top": "150px",
    "width": "165px"
   },
   "toc_section_display": true,
   "toc_window_display": false
  }
 },
 "nbformat": 4,
 "nbformat_minor": 2
}
