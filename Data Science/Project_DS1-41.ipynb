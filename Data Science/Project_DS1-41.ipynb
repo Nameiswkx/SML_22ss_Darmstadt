{
 "cells": [
  {
   "cell_type": "markdown",
   "metadata": {},
   "source": [
    "# Salary Scale Classification with Random Forest Classifier"
   ]
  },
  {
   "cell_type": "markdown",
   "metadata": {},
   "source": [
    "#### Introduction\n",
    "#### 1 Exploratory Data Analysis\n",
    "1.1 Exploration Numerical Variables Analysis\n",
    "\n",
    "1.2 Exploration Catalogical Variables Analysis\n",
    "#### 2 Preprocessing\n",
    "2.1 Dealing with Missing Data\n",
    "\n",
    "2.2 Dealing with Outliers\n",
    "#### 3 Feature Extraction\n",
    "3.1 Categorical Data Encoding\n",
    "#### 4 Hypothesis Testing\n",
    "#### 5 Statistical Learning\n",
    "5.1 Feature Scaling\n",
    "\n",
    "5.2 Dataset Split\n",
    "\n",
    "5.3 Models Training\n",
    "\n",
    "#### 6 References"
   ]
  },
  {
   "cell_type": "markdown",
   "metadata": {},
   "source": [
    "### Introduction\n",
    "The advent of the big data era has made more and more people interested in data science job. What are the salaries for data scientists? This is a question many people are concerned about. Therefore, we use a dataset about salaries of jobs in the Data Science domain . There are experience level, company size, job titles, salary_in_usd and etc. 11 attributes.\n",
    "\n",
    "In order to answer the question which people concerned. We use separate hypothesis test and classification method in our project. Our hypothesis test is to verify that the average annual salary for data science is higher than $100,000. Our classification task is to determine the salary level of a person given some features. We assume that \"salary_in_usd is \"high level\" if it is higher than or equal to the sample mean, otherwise it is \"low level\". Therefore, we processed the data by adding a \"scale\" column, which indicates the salary level. 'scale' is the response variable we want to predict using other variables.\n",
    "\n",
    "At first, we analyze numerical and categorical variables seperately with EDA.After that, we validate the hypothesis test which we have proposed. Then we perform feature extraction, feature scaling and dataset splitting on the dataset and choose random forest algorithm as classifier to predict someone's salary level(scale)."
   ]
  },
  {
   "cell_type": "markdown",
   "metadata": {},
   "source": [
    "### 1 Exploratory Data Analysis"
   ]
  },
  {
   "cell_type": "code",
   "execution_count": 128,
   "metadata": {},
   "outputs": [],
   "source": [
    "#import libraries\n",
    "\n",
    "import numpy as np #arithmetic operations\n",
    "import pandas as pd #data processing\n",
    "import matplotlib.pyplot as plt #data Visualization\n",
    "import seaborn as sns #data Visualization\n",
    "import category_encoders as ce #categorical data encoding\n",
    "from sklearn.compose import ColumnTransformer #categorical data encoding\n",
    "from sklearn.model_selection import train_test_split #dataset split\n",
    "from sklearn.preprocessing import RobustScaler # data scaling\n",
    "from sklearn.ensemble import RandomForestClassifier \n",
    "from sklearn.metrics import accuracy_score\n",
    "from sklearn.pipeline import make_pipeline\n",
    "import statsmodels.stats.weightstats as sw "
   ]
  },
  {
   "cell_type": "markdown",
   "metadata": {},
   "source": [
    "Load the dataset\n",
    "\n",
    "the first and last three rows of the data for an overview of the data"
   ]
  },
  {
   "cell_type": "code",
   "execution_count": 129,
   "metadata": {},
   "outputs": [
    {
     "data": {
      "text/html": [
       "<div>\n",
       "<style scoped>\n",
       "    .dataframe tbody tr th:only-of-type {\n",
       "        vertical-align: middle;\n",
       "    }\n",
       "\n",
       "    .dataframe tbody tr th {\n",
       "        vertical-align: top;\n",
       "    }\n",
       "\n",
       "    .dataframe thead th {\n",
       "        text-align: right;\n",
       "    }\n",
       "</style>\n",
       "<table border=\"1\" class=\"dataframe\">\n",
       "  <thead>\n",
       "    <tr style=\"text-align: right;\">\n",
       "      <th></th>\n",
       "      <th>work_year</th>\n",
       "      <th>experience_level</th>\n",
       "      <th>employment_type</th>\n",
       "      <th>job_title</th>\n",
       "      <th>salary</th>\n",
       "      <th>salary_currency</th>\n",
       "      <th>salary_in_usd</th>\n",
       "      <th>employee_residence</th>\n",
       "      <th>remote_ratio</th>\n",
       "      <th>company_location</th>\n",
       "      <th>company_size</th>\n",
       "      <th>scale</th>\n",
       "    </tr>\n",
       "  </thead>\n",
       "  <tbody>\n",
       "    <tr>\n",
       "      <th>0</th>\n",
       "      <td>2020</td>\n",
       "      <td>MI</td>\n",
       "      <td>FT</td>\n",
       "      <td>Data Scientist</td>\n",
       "      <td>70000</td>\n",
       "      <td>EUR</td>\n",
       "      <td>79833</td>\n",
       "      <td>DE</td>\n",
       "      <td>0</td>\n",
       "      <td>DE</td>\n",
       "      <td>L</td>\n",
       "      <td>low</td>\n",
       "    </tr>\n",
       "    <tr>\n",
       "      <th>1</th>\n",
       "      <td>2020</td>\n",
       "      <td>SE</td>\n",
       "      <td>FT</td>\n",
       "      <td>Machine Learning Scientist</td>\n",
       "      <td>260000</td>\n",
       "      <td>USD</td>\n",
       "      <td>260000</td>\n",
       "      <td>JP</td>\n",
       "      <td>0</td>\n",
       "      <td>JP</td>\n",
       "      <td>S</td>\n",
       "      <td>high</td>\n",
       "    </tr>\n",
       "    <tr>\n",
       "      <th>2</th>\n",
       "      <td>2020</td>\n",
       "      <td>SE</td>\n",
       "      <td>FT</td>\n",
       "      <td>Big Data Engineer</td>\n",
       "      <td>85000</td>\n",
       "      <td>GBP</td>\n",
       "      <td>109024</td>\n",
       "      <td>GB</td>\n",
       "      <td>50</td>\n",
       "      <td>GB</td>\n",
       "      <td>M</td>\n",
       "      <td>low</td>\n",
       "    </tr>\n",
       "  </tbody>\n",
       "</table>\n",
       "</div>"
      ],
      "text/plain": [
       "   work_year experience_level employment_type                   job_title  \\\n",
       "0       2020               MI              FT              Data Scientist   \n",
       "1       2020               SE              FT  Machine Learning Scientist   \n",
       "2       2020               SE              FT           Big Data Engineer   \n",
       "\n",
       "   salary salary_currency  salary_in_usd employee_residence  remote_ratio  \\\n",
       "0   70000             EUR          79833                 DE             0   \n",
       "1  260000             USD         260000                 JP             0   \n",
       "2   85000             GBP         109024                 GB            50   \n",
       "\n",
       "  company_location company_size scale  \n",
       "0               DE            L   low  \n",
       "1               JP            S  high  \n",
       "2               GB            M   low  "
      ]
     },
     "execution_count": 129,
     "metadata": {},
     "output_type": "execute_result"
    }
   ],
   "source": [
    "df = pd.read_csv('ds_salaries.csv')\n",
    "# Becaus we want to do classification. We added a column to define high/low salary. high: salary_in_usd value >= mean of salary_in_usd low:salary_in_usd value < mean of salary_in_usd\n",
    "salary_mean = df['salary_in_usd'].mean()\n",
    "scale = []\n",
    "for i in range(len(df)):\n",
    "    if df['salary_in_usd'].iloc[i]>= salary_mean:\n",
    "        scale.append(\"high\")\n",
    "    else:\n",
    "        scale.append(\"low\")\n",
    "df[\"scale\"] = scale\n",
    "df.head(3)"
   ]
  },
  {
   "cell_type": "code",
   "execution_count": 130,
   "metadata": {},
   "outputs": [
    {
     "data": {
      "text/html": [
       "<div>\n",
       "<style scoped>\n",
       "    .dataframe tbody tr th:only-of-type {\n",
       "        vertical-align: middle;\n",
       "    }\n",
       "\n",
       "    .dataframe tbody tr th {\n",
       "        vertical-align: top;\n",
       "    }\n",
       "\n",
       "    .dataframe thead th {\n",
       "        text-align: right;\n",
       "    }\n",
       "</style>\n",
       "<table border=\"1\" class=\"dataframe\">\n",
       "  <thead>\n",
       "    <tr style=\"text-align: right;\">\n",
       "      <th></th>\n",
       "      <th>work_year</th>\n",
       "      <th>experience_level</th>\n",
       "      <th>employment_type</th>\n",
       "      <th>job_title</th>\n",
       "      <th>salary</th>\n",
       "      <th>salary_currency</th>\n",
       "      <th>salary_in_usd</th>\n",
       "      <th>employee_residence</th>\n",
       "      <th>remote_ratio</th>\n",
       "      <th>company_location</th>\n",
       "      <th>company_size</th>\n",
       "      <th>scale</th>\n",
       "    </tr>\n",
       "  </thead>\n",
       "  <tbody>\n",
       "    <tr>\n",
       "      <th>604</th>\n",
       "      <td>2022</td>\n",
       "      <td>SE</td>\n",
       "      <td>FT</td>\n",
       "      <td>Data Analyst</td>\n",
       "      <td>129000</td>\n",
       "      <td>USD</td>\n",
       "      <td>129000</td>\n",
       "      <td>US</td>\n",
       "      <td>0</td>\n",
       "      <td>US</td>\n",
       "      <td>M</td>\n",
       "      <td>high</td>\n",
       "    </tr>\n",
       "    <tr>\n",
       "      <th>605</th>\n",
       "      <td>2022</td>\n",
       "      <td>SE</td>\n",
       "      <td>FT</td>\n",
       "      <td>Data Analyst</td>\n",
       "      <td>150000</td>\n",
       "      <td>USD</td>\n",
       "      <td>150000</td>\n",
       "      <td>US</td>\n",
       "      <td>100</td>\n",
       "      <td>US</td>\n",
       "      <td>M</td>\n",
       "      <td>high</td>\n",
       "    </tr>\n",
       "    <tr>\n",
       "      <th>606</th>\n",
       "      <td>2022</td>\n",
       "      <td>MI</td>\n",
       "      <td>FT</td>\n",
       "      <td>AI Scientist</td>\n",
       "      <td>200000</td>\n",
       "      <td>USD</td>\n",
       "      <td>200000</td>\n",
       "      <td>IN</td>\n",
       "      <td>100</td>\n",
       "      <td>US</td>\n",
       "      <td>L</td>\n",
       "      <td>high</td>\n",
       "    </tr>\n",
       "  </tbody>\n",
       "</table>\n",
       "</div>"
      ],
      "text/plain": [
       "     work_year experience_level employment_type     job_title  salary  \\\n",
       "604       2022               SE              FT  Data Analyst  129000   \n",
       "605       2022               SE              FT  Data Analyst  150000   \n",
       "606       2022               MI              FT  AI Scientist  200000   \n",
       "\n",
       "    salary_currency  salary_in_usd employee_residence  remote_ratio  \\\n",
       "604             USD         129000                 US             0   \n",
       "605             USD         150000                 US           100   \n",
       "606             USD         200000                 IN           100   \n",
       "\n",
       "    company_location company_size scale  \n",
       "604               US            M  high  \n",
       "605               US            M  high  \n",
       "606               US            L  high  "
      ]
     },
     "execution_count": 130,
     "metadata": {},
     "output_type": "execute_result"
    }
   ],
   "source": [
    "df.tail(3)"
   ]
  },
  {
   "cell_type": "code",
   "execution_count": 131,
   "metadata": {},
   "outputs": [
    {
     "name": "stdout",
     "output_type": "stream",
     "text": [
      "<class 'pandas.core.frame.DataFrame'>\n",
      "RangeIndex: 607 entries, 0 to 606\n",
      "Data columns (total 12 columns):\n",
      " #   Column              Non-Null Count  Dtype \n",
      "---  ------              --------------  ----- \n",
      " 0   work_year           607 non-null    int64 \n",
      " 1   experience_level    607 non-null    object\n",
      " 2   employment_type     607 non-null    object\n",
      " 3   job_title           607 non-null    object\n",
      " 4   salary              607 non-null    int64 \n",
      " 5   salary_currency     607 non-null    object\n",
      " 6   salary_in_usd       607 non-null    int64 \n",
      " 7   employee_residence  607 non-null    object\n",
      " 8   remote_ratio        607 non-null    int64 \n",
      " 9   company_location    607 non-null    object\n",
      " 10  company_size        607 non-null    object\n",
      " 11  scale               607 non-null    object\n",
      "dtypes: int64(4), object(8)\n",
      "memory usage: 57.0+ KB\n"
     ]
    }
   ],
   "source": [
    "df.info()"
   ]
  },
  {
   "cell_type": "markdown",
   "metadata": {},
   "source": [
    "From the data RangeIndex and column, we can know that the data contains 607 samples and  12 attributes.\n",
    "\n",
    "The data set is divided into two types of variables, categorical variables with data type object and numerical variables with data type int64.\n",
    "\n",
    "**'scale' is the response variable.** The following is an exploration of the different variables around scale."
   ]
  },
  {
   "cell_type": "markdown",
   "metadata": {},
   "source": [
    "#### 1. 1 Exploration Numerical Variables Analysis\n",
    "From the df.info() it is known that there are 4 numerical variables: 'work_year', 'salary', 'salary_in_usd', 'remote_ratio',all numerical data are discrete."
   ]
  },
  {
   "cell_type": "code",
   "execution_count": 132,
   "metadata": {},
   "outputs": [
    {
     "data": {
      "text/html": [
       "<div>\n",
       "<style scoped>\n",
       "    .dataframe tbody tr th:only-of-type {\n",
       "        vertical-align: middle;\n",
       "    }\n",
       "\n",
       "    .dataframe tbody tr th {\n",
       "        vertical-align: top;\n",
       "    }\n",
       "\n",
       "    .dataframe thead th {\n",
       "        text-align: right;\n",
       "    }\n",
       "</style>\n",
       "<table border=\"1\" class=\"dataframe\">\n",
       "  <thead>\n",
       "    <tr style=\"text-align: right;\">\n",
       "      <th></th>\n",
       "      <th>work_year</th>\n",
       "      <th>salary</th>\n",
       "      <th>salary_in_usd</th>\n",
       "      <th>remote_ratio</th>\n",
       "    </tr>\n",
       "  </thead>\n",
       "  <tbody>\n",
       "    <tr>\n",
       "      <th>0</th>\n",
       "      <td>2020</td>\n",
       "      <td>70000</td>\n",
       "      <td>79833</td>\n",
       "      <td>0</td>\n",
       "    </tr>\n",
       "    <tr>\n",
       "      <th>1</th>\n",
       "      <td>2020</td>\n",
       "      <td>260000</td>\n",
       "      <td>260000</td>\n",
       "      <td>0</td>\n",
       "    </tr>\n",
       "    <tr>\n",
       "      <th>2</th>\n",
       "      <td>2020</td>\n",
       "      <td>85000</td>\n",
       "      <td>109024</td>\n",
       "      <td>50</td>\n",
       "    </tr>\n",
       "    <tr>\n",
       "      <th>3</th>\n",
       "      <td>2020</td>\n",
       "      <td>20000</td>\n",
       "      <td>20000</td>\n",
       "      <td>0</td>\n",
       "    </tr>\n",
       "    <tr>\n",
       "      <th>4</th>\n",
       "      <td>2020</td>\n",
       "      <td>150000</td>\n",
       "      <td>150000</td>\n",
       "      <td>50</td>\n",
       "    </tr>\n",
       "  </tbody>\n",
       "</table>\n",
       "</div>"
      ],
      "text/plain": [
       "   work_year  salary  salary_in_usd  remote_ratio\n",
       "0       2020   70000          79833             0\n",
       "1       2020  260000         260000             0\n",
       "2       2020   85000         109024            50\n",
       "3       2020   20000          20000             0\n",
       "4       2020  150000         150000            50"
      ]
     },
     "execution_count": 132,
     "metadata": {},
     "output_type": "execute_result"
    }
   ],
   "source": [
    "numerical_num = []\n",
    "for i in df.columns:\n",
    "    if df[i].dtype == 'int64':\n",
    "        numerical_num.append(i)\n",
    "        \n",
    "df[numerical_num].head()"
   ]
  },
  {
   "cell_type": "markdown",
   "metadata": {},
   "source": [
    "Show the descriptive statistics"
   ]
  },
  {
   "cell_type": "code",
   "execution_count": 133,
   "metadata": {},
   "outputs": [
    {
     "data": {
      "text/html": [
       "<div>\n",
       "<style scoped>\n",
       "    .dataframe tbody tr th:only-of-type {\n",
       "        vertical-align: middle;\n",
       "    }\n",
       "\n",
       "    .dataframe tbody tr th {\n",
       "        vertical-align: top;\n",
       "    }\n",
       "\n",
       "    .dataframe thead th {\n",
       "        text-align: right;\n",
       "    }\n",
       "</style>\n",
       "<table border=\"1\" class=\"dataframe\">\n",
       "  <thead>\n",
       "    <tr style=\"text-align: right;\">\n",
       "      <th></th>\n",
       "      <th>work_year</th>\n",
       "      <th>salary</th>\n",
       "      <th>salary_in_usd</th>\n",
       "      <th>remote_ratio</th>\n",
       "    </tr>\n",
       "  </thead>\n",
       "  <tbody>\n",
       "    <tr>\n",
       "      <th>count</th>\n",
       "      <td>607.000000</td>\n",
       "      <td>6.070000e+02</td>\n",
       "      <td>607.000000</td>\n",
       "      <td>607.00000</td>\n",
       "    </tr>\n",
       "    <tr>\n",
       "      <th>mean</th>\n",
       "      <td>2021.405272</td>\n",
       "      <td>3.240001e+05</td>\n",
       "      <td>112297.869852</td>\n",
       "      <td>70.92257</td>\n",
       "    </tr>\n",
       "    <tr>\n",
       "      <th>std</th>\n",
       "      <td>0.692133</td>\n",
       "      <td>1.544357e+06</td>\n",
       "      <td>70957.259411</td>\n",
       "      <td>40.70913</td>\n",
       "    </tr>\n",
       "    <tr>\n",
       "      <th>min</th>\n",
       "      <td>2020.000000</td>\n",
       "      <td>4.000000e+03</td>\n",
       "      <td>2859.000000</td>\n",
       "      <td>0.00000</td>\n",
       "    </tr>\n",
       "    <tr>\n",
       "      <th>25%</th>\n",
       "      <td>2021.000000</td>\n",
       "      <td>7.000000e+04</td>\n",
       "      <td>62726.000000</td>\n",
       "      <td>50.00000</td>\n",
       "    </tr>\n",
       "    <tr>\n",
       "      <th>50%</th>\n",
       "      <td>2022.000000</td>\n",
       "      <td>1.150000e+05</td>\n",
       "      <td>101570.000000</td>\n",
       "      <td>100.00000</td>\n",
       "    </tr>\n",
       "    <tr>\n",
       "      <th>75%</th>\n",
       "      <td>2022.000000</td>\n",
       "      <td>1.650000e+05</td>\n",
       "      <td>150000.000000</td>\n",
       "      <td>100.00000</td>\n",
       "    </tr>\n",
       "    <tr>\n",
       "      <th>max</th>\n",
       "      <td>2022.000000</td>\n",
       "      <td>3.040000e+07</td>\n",
       "      <td>600000.000000</td>\n",
       "      <td>100.00000</td>\n",
       "    </tr>\n",
       "  </tbody>\n",
       "</table>\n",
       "</div>"
      ],
      "text/plain": [
       "         work_year        salary  salary_in_usd  remote_ratio\n",
       "count   607.000000  6.070000e+02     607.000000     607.00000\n",
       "mean   2021.405272  3.240001e+05  112297.869852      70.92257\n",
       "std       0.692133  1.544357e+06   70957.259411      40.70913\n",
       "min    2020.000000  4.000000e+03    2859.000000       0.00000\n",
       "25%    2021.000000  7.000000e+04   62726.000000      50.00000\n",
       "50%    2022.000000  1.150000e+05  101570.000000     100.00000\n",
       "75%    2022.000000  1.650000e+05  150000.000000     100.00000\n",
       "max    2022.000000  3.040000e+07  600000.000000     100.00000"
      ]
     },
     "execution_count": 133,
     "metadata": {},
     "output_type": "execute_result"
    }
   ],
   "source": [
    "#numerical data\n",
    "df[numerical_num].describe()"
   ]
  },
  {
   "cell_type": "markdown",
   "metadata": {},
   "source": [
    "**Exlpore 'work_year' variable**"
   ]
  },
  {
   "cell_type": "code",
   "execution_count": 134,
   "metadata": {},
   "outputs": [
    {
     "data": {
      "image/png": "[encoded data removed]",
      "text/plain": [
       "<Figure size 720x288 with 1 Axes>"
      ]
     },
     "metadata": {},
     "output_type": "display_data"
    }
   ],
   "source": [
    "work_year = pd.DataFrame(df.iloc[:,0])\n",
    "work_year = df.groupby('work_year').salary_in_usd.count()\n",
    "#print(work_year)\n",
    "y_axis = [work_year.iloc[i] for i in range(len(work_year))]\n",
    "x_axis = [str(i) for i in work_year.index]\n",
    "#print(x_axis)\n",
    "#print(y_axis)\n",
    "plt.figure(figsize=(10,4))\n",
    "plt.title('Distribution of work_year')\n",
    "plt.bar(x_axis,y_axis)\n",
    "plt.show()"
   ]
  },
  {
   "cell_type": "markdown",
   "metadata": {},
   "source": [
    "'work_year' variable is negatively skewed."
   ]
  },
  {
   "cell_type": "code",
   "execution_count": 135,
   "metadata": {},
   "outputs": [
    {
     "data": {
      "image/png": "[encoded data removed]",
      "text/plain": [
       "<Figure size 864x576 with 1 Axes>"
      ]
     },
     "metadata": {},
     "output_type": "display_data"
    }
   ],
   "source": [
    "scale = df.iloc[:,11]\n",
    "f, ax = plt.subplots(figsize=(12, 8))\n",
    "ax = sns.boxplot(x=scale, y='work_year', data=df)\n",
    "ax.set_title(\"Boxplot of salary scale and work_year\")\n",
    "plt.show()"
   ]
  },
  {
   "cell_type": "markdown",
   "metadata": {},
   "source": [
    "From the box plot, the distribution of high and low salaries scale across work_year is nearly similar."
   ]
  },
  {
   "cell_type": "markdown",
   "metadata": {},
   "source": [
    "**Exlpore 'remote_ratio' variable**"
   ]
  },
  {
   "cell_type": "code",
   "execution_count": 136,
   "metadata": {},
   "outputs": [
    {
     "data": {
      "image/png": "[encoded data removed]",
      "text/plain": [
       "<Figure size 864x576 with 1 Axes>"
      ]
     },
     "metadata": {},
     "output_type": "display_data"
    }
   ],
   "source": [
    "remote_ratio = df.iloc[:,8]\n",
    "fig = sns.histplot(remote_ratio,bins=5,color='orange')\n",
    "plt.title(\"Distribution of 'remote_ratio' variable\")\n",
    "plt.xticks([0,50,100])\n",
    "fig.set_xlim(0,100)\n",
    "plt.show()"
   ]
  },
  {
   "cell_type": "markdown",
   "metadata": {},
   "source": [
    "It can be seen that the distribution of 'remote_ratio' is obviously negatively skewed"
   ]
  },
  {
   "cell_type": "code",
   "execution_count": 137,
   "metadata": {},
   "outputs": [
    {
     "data": {
      "image/png": "[encoded data removed]",
      "text/plain": [
       "<Figure size 864x576 with 1 Axes>"
      ]
     },
     "metadata": {},
     "output_type": "display_data"
    }
   ],
   "source": [
    "f, ax = plt.subplots(figsize=(12, 8))\n",
    "ax = sns.boxplot(x=scale, y='remote_ratio', data=df,)\n",
    "ax.set_title(\"Boxplot of salary and remote_ratio\")\n",
    "plt.show()"
   ]
  },
  {
   "cell_type": "markdown",
   "metadata": {},
   "source": [
    "The distribution of high and low salaries scale across remote_ratio is nearly similar."
   ]
  },
  {
   "cell_type": "markdown",
   "metadata": {},
   "source": [
    "**Explore 'salary_in_usd' variable**"
   ]
  },
  {
   "cell_type": "code",
   "execution_count": 138,
   "metadata": {},
   "outputs": [
    {
     "name": "stderr",
     "output_type": "stream",
     "text": [
      "/home/yi/anaconda3/lib/python3.9/site-packages/seaborn/_decorators.py:36: FutureWarning: Pass the following variable as a keyword arg: x. From version 0.12, the only valid positional argument will be `data`, and passing other arguments without an explicit keyword will result in an error or misinterpretation.\n",
      "  warnings.warn(\n"
     ]
    },
    {
     "data": {
      "image/png": "[encoded data removed]",
      "text/plain": [
       "<Figure size 864x576 with 1 Axes>"
      ]
     },
     "metadata": {},
     "output_type": "display_data"
    }
   ],
   "source": [
    "salary_in_usd = df.iloc[:,6]\n",
    "sns.boxplot(salary_in_usd)\n",
    "plt.title('Boxplot of salary_in_usd')\n",
    "plt.show()"
   ]
  },
  {
   "cell_type": "markdown",
   "metadata": {},
   "source": [
    "The salary_in_usd shows: This box plot shows a median salary_in_usd is 100000.  Most subjects have salary_in_usd between 70,000 and 150,000, but there are some subjects with salary_in_usd as low as 3000 or as high as 270,000. In addition, there are some outliers above 300000, showing that very few individual salary_in_usds are above 300000."
   ]
  },
  {
   "cell_type": "code",
   "execution_count": 139,
   "metadata": {},
   "outputs": [
    {
     "data": {
      "image/png": "[encoded data removed]",
      "text/plain": [
       "<Figure size 864x576 with 1 Axes>"
      ]
     },
     "metadata": {},
     "output_type": "display_data"
    }
   ],
   "source": [
    "f, ax = plt.subplots(figsize=(12, 8))\n",
    "ax = sns.boxplot(x=scale, y='salary_in_usd', data=df,)\n",
    "ax.set_title(\"Boxplot of salary and salary_in_usd\")\n",
    "plt.show()"
   ]
  },
  {
   "cell_type": "markdown",
   "metadata": {},
   "source": [
    "For low salary scale: most subjects are lower than 100000,and the overall distribution is relatively even and normal.\n",
    "\n",
    "For high salary scale: most subjects are higher than 112298. Besides, the skew in the overall distribution indicates that the data may not be normally distributed."
   ]
  },
  {
   "cell_type": "code",
   "execution_count": 140,
   "metadata": {},
   "outputs": [
    {
     "data": {
      "text/html": [
       "<style type=\"text/css\">\n",
       "#T_ee237_row0_col0, #T_ee237_row1_col1, #T_ee237_row2_col2, #T_ee237_row3_col3 {\n",
       "  background-color: #b40426;\n",
       "  color: #f1f1f1;\n",
       "}\n",
       "#T_ee237_row0_col1, #T_ee237_row1_col0, #T_ee237_row1_col2, #T_ee237_row2_col1, #T_ee237_row3_col1 {\n",
       "  background-color: #3b4cc0;\n",
       "  color: #f1f1f1;\n",
       "}\n",
       "#T_ee237_row0_col2, #T_ee237_row2_col0 {\n",
       "  background-color: #88abfd;\n",
       "  color: #000000;\n",
       "}\n",
       "#T_ee237_row0_col3 {\n",
       "  background-color: #6a8bef;\n",
       "  color: #f1f1f1;\n",
       "}\n",
       "#T_ee237_row1_col3 {\n",
       "  background-color: #4f69d9;\n",
       "  color: #f1f1f1;\n",
       "}\n",
       "#T_ee237_row2_col3 {\n",
       "  background-color: #7b9ff9;\n",
       "  color: #f1f1f1;\n",
       "}\n",
       "#T_ee237_row3_col0 {\n",
       "  background-color: #5572df;\n",
       "  color: #f1f1f1;\n",
       "}\n",
       "#T_ee237_row3_col2 {\n",
       "  background-color: #688aef;\n",
       "  color: #f1f1f1;\n",
       "}\n",
       "</style>\n",
       "<table id=\"T_ee237\">\n",
       "  <thead>\n",
       "    <tr>\n",
       "      <th class=\"blank level0\" >&nbsp;</th>\n",
       "      <th id=\"T_ee237_level0_col0\" class=\"col_heading level0 col0\" >work_year</th>\n",
       "      <th id=\"T_ee237_level0_col1\" class=\"col_heading level0 col1\" >salary</th>\n",
       "      <th id=\"T_ee237_level0_col2\" class=\"col_heading level0 col2\" >salary_in_usd</th>\n",
       "      <th id=\"T_ee237_level0_col3\" class=\"col_heading level0 col3\" >remote_ratio</th>\n",
       "    </tr>\n",
       "  </thead>\n",
       "  <tbody>\n",
       "    <tr>\n",
       "      <th id=\"T_ee237_level0_row0\" class=\"row_heading level0 row0\" >work_year</th>\n",
       "      <td id=\"T_ee237_row0_col0\" class=\"data row0 col0\" >1.0</td>\n",
       "      <td id=\"T_ee237_row0_col1\" class=\"data row0 col1\" >-0.08758</td>\n",
       "      <td id=\"T_ee237_row0_col2\" class=\"data row0 col2\" >0.1705</td>\n",
       "      <td id=\"T_ee237_row0_col3\" class=\"data row0 col3\" >0.07631</td>\n",
       "    </tr>\n",
       "    <tr>\n",
       "      <th id=\"T_ee237_level0_row1\" class=\"row_heading level0 row1\" >salary</th>\n",
       "      <td id=\"T_ee237_row1_col0\" class=\"data row1 col0\" >-0.08758</td>\n",
       "      <td id=\"T_ee237_row1_col1\" class=\"data row1 col1\" >1.0</td>\n",
       "      <td id=\"T_ee237_row1_col2\" class=\"data row1 col2\" >-0.08391</td>\n",
       "      <td id=\"T_ee237_row1_col3\" class=\"data row1 col3\" >-0.01461</td>\n",
       "    </tr>\n",
       "    <tr>\n",
       "      <th id=\"T_ee237_level0_row2\" class=\"row_heading level0 row2\" >salary_in_usd</th>\n",
       "      <td id=\"T_ee237_row2_col0\" class=\"data row2 col0\" >0.1705</td>\n",
       "      <td id=\"T_ee237_row2_col1\" class=\"data row2 col1\" >-0.08391</td>\n",
       "      <td id=\"T_ee237_row2_col2\" class=\"data row2 col2\" >1.0</td>\n",
       "      <td id=\"T_ee237_row2_col3\" class=\"data row2 col3\" >0.1321</td>\n",
       "    </tr>\n",
       "    <tr>\n",
       "      <th id=\"T_ee237_level0_row3\" class=\"row_heading level0 row3\" >remote_ratio</th>\n",
       "      <td id=\"T_ee237_row3_col0\" class=\"data row3 col0\" >0.07631</td>\n",
       "      <td id=\"T_ee237_row3_col1\" class=\"data row3 col1\" >-0.01461</td>\n",
       "      <td id=\"T_ee237_row3_col2\" class=\"data row3 col2\" >0.1321</td>\n",
       "      <td id=\"T_ee237_row3_col3\" class=\"data row3 col3\" >1.0</td>\n",
       "    </tr>\n",
       "  </tbody>\n",
       "</table>\n"
      ],
      "text/plain": [
       "<pandas.io.formats.style.Styler at 0x7f35c3541820>"
      ]
     },
     "execution_count": 140,
     "metadata": {},
     "output_type": "execute_result"
    }
   ],
   "source": [
    "# plot correlation heatmap to find out correlations\n",
    "df.corr().style.format(\"{:.4}\").background_gradient(cmap=plt.get_cmap('coolwarm'), axis=1)"
   ]
  },
  {
   "cell_type": "code",
   "execution_count": 141,
   "metadata": {},
   "outputs": [
    {
     "data": {
      "text/plain": [
       "<AxesSubplot:>"
      ]
     },
     "execution_count": 141,
     "metadata": {},
     "output_type": "execute_result"
    },
    {
     "data": {
      "image/png": "[encoded data removed]",
      "text/plain": [
       "<Figure size 864x576 with 2 Axes>"
      ]
     },
     "metadata": {},
     "output_type": "display_data"
    }
   ],
   "source": [
    "sns.heatmap(df.corr())"
   ]
  },
  {
   "cell_type": "markdown",
   "metadata": {},
   "source": [
    "There is weak positive correlation between work_year and salary, with correlation coefficient = 0.1705."
   ]
  },
  {
   "cell_type": "markdown",
   "metadata": {},
   "source": [
    "#### 1. 2 Exploration Catalogical Variables Analysis"
   ]
  },
  {
   "cell_type": "code",
   "execution_count": 249,
   "metadata": {},
   "outputs": [
    {
     "data": {
      "text/html": [
       "<div>\n",
       "<style scoped>\n",
       "    .dataframe tbody tr th:only-of-type {\n",
       "        vertical-align: middle;\n",
       "    }\n",
       "\n",
       "    .dataframe tbody tr th {\n",
       "        vertical-align: top;\n",
       "    }\n",
       "\n",
       "    .dataframe thead th {\n",
       "        text-align: right;\n",
       "    }\n",
       "</style>\n",
       "<table border=\"1\" class=\"dataframe\">\n",
       "  <thead>\n",
       "    <tr style=\"text-align: right;\">\n",
       "      <th></th>\n",
       "      <th>experience_level</th>\n",
       "      <th>employment_type</th>\n",
       "      <th>job_title</th>\n",
       "      <th>salary_currency</th>\n",
       "      <th>employee_residence</th>\n",
       "      <th>company_location</th>\n",
       "      <th>company_size</th>\n",
       "      <th>scale</th>\n",
       "    </tr>\n",
       "  </thead>\n",
       "  <tbody>\n",
       "    <tr>\n",
       "      <th>0</th>\n",
       "      <td>MI</td>\n",
       "      <td>FT</td>\n",
       "      <td>Data Scientist</td>\n",
       "      <td>EUR</td>\n",
       "      <td>DE</td>\n",
       "      <td>DE</td>\n",
       "      <td>L</td>\n",
       "      <td>low</td>\n",
       "    </tr>\n",
       "    <tr>\n",
       "      <th>1</th>\n",
       "      <td>SE</td>\n",
       "      <td>FT</td>\n",
       "      <td>Machine Learning Scientist</td>\n",
       "      <td>USD</td>\n",
       "      <td>JP</td>\n",
       "      <td>JP</td>\n",
       "      <td>S</td>\n",
       "      <td>high</td>\n",
       "    </tr>\n",
       "    <tr>\n",
       "      <th>2</th>\n",
       "      <td>SE</td>\n",
       "      <td>FT</td>\n",
       "      <td>Big Data Engineer</td>\n",
       "      <td>GBP</td>\n",
       "      <td>GB</td>\n",
       "      <td>GB</td>\n",
       "      <td>M</td>\n",
       "      <td>low</td>\n",
       "    </tr>\n",
       "    <tr>\n",
       "      <th>3</th>\n",
       "      <td>MI</td>\n",
       "      <td>FT</td>\n",
       "      <td>Product Data Analyst</td>\n",
       "      <td>USD</td>\n",
       "      <td>HN</td>\n",
       "      <td>HN</td>\n",
       "      <td>S</td>\n",
       "      <td>low</td>\n",
       "    </tr>\n",
       "    <tr>\n",
       "      <th>4</th>\n",
       "      <td>SE</td>\n",
       "      <td>FT</td>\n",
       "      <td>Machine Learning Engineer</td>\n",
       "      <td>USD</td>\n",
       "      <td>US</td>\n",
       "      <td>US</td>\n",
       "      <td>L</td>\n",
       "      <td>high</td>\n",
       "    </tr>\n",
       "    <tr>\n",
       "      <th>...</th>\n",
       "      <td>...</td>\n",
       "      <td>...</td>\n",
       "      <td>...</td>\n",
       "      <td>...</td>\n",
       "      <td>...</td>\n",
       "      <td>...</td>\n",
       "      <td>...</td>\n",
       "      <td>...</td>\n",
       "    </tr>\n",
       "    <tr>\n",
       "      <th>602</th>\n",
       "      <td>SE</td>\n",
       "      <td>FT</td>\n",
       "      <td>Data Engineer</td>\n",
       "      <td>USD</td>\n",
       "      <td>US</td>\n",
       "      <td>US</td>\n",
       "      <td>M</td>\n",
       "      <td>high</td>\n",
       "    </tr>\n",
       "    <tr>\n",
       "      <th>603</th>\n",
       "      <td>SE</td>\n",
       "      <td>FT</td>\n",
       "      <td>Data Engineer</td>\n",
       "      <td>USD</td>\n",
       "      <td>US</td>\n",
       "      <td>US</td>\n",
       "      <td>M</td>\n",
       "      <td>high</td>\n",
       "    </tr>\n",
       "    <tr>\n",
       "      <th>604</th>\n",
       "      <td>SE</td>\n",
       "      <td>FT</td>\n",
       "      <td>Data Analyst</td>\n",
       "      <td>USD</td>\n",
       "      <td>US</td>\n",
       "      <td>US</td>\n",
       "      <td>M</td>\n",
       "      <td>high</td>\n",
       "    </tr>\n",
       "    <tr>\n",
       "      <th>605</th>\n",
       "      <td>SE</td>\n",
       "      <td>FT</td>\n",
       "      <td>Data Analyst</td>\n",
       "      <td>USD</td>\n",
       "      <td>US</td>\n",
       "      <td>US</td>\n",
       "      <td>M</td>\n",
       "      <td>high</td>\n",
       "    </tr>\n",
       "    <tr>\n",
       "      <th>606</th>\n",
       "      <td>MI</td>\n",
       "      <td>FT</td>\n",
       "      <td>AI Scientist</td>\n",
       "      <td>USD</td>\n",
       "      <td>IN</td>\n",
       "      <td>US</td>\n",
       "      <td>L</td>\n",
       "      <td>high</td>\n",
       "    </tr>\n",
       "  </tbody>\n",
       "</table>\n",
       "<p>607 rows × 8 columns</p>\n",
       "</div>"
      ],
      "text/plain": [
       "    experience_level employment_type                   job_title  \\\n",
       "0                 MI              FT              Data Scientist   \n",
       "1                 SE              FT  Machine Learning Scientist   \n",
       "2                 SE              FT           Big Data Engineer   \n",
       "3                 MI              FT        Product Data Analyst   \n",
       "4                 SE              FT   Machine Learning Engineer   \n",
       "..               ...             ...                         ...   \n",
       "602               SE              FT               Data Engineer   \n",
       "603               SE              FT               Data Engineer   \n",
       "604               SE              FT                Data Analyst   \n",
       "605               SE              FT                Data Analyst   \n",
       "606               MI              FT                AI Scientist   \n",
       "\n",
       "    salary_currency employee_residence company_location company_size scale  \n",
       "0               EUR                 DE               DE            L   low  \n",
       "1               USD                 JP               JP            S  high  \n",
       "2               GBP                 GB               GB            M   low  \n",
       "3               USD                 HN               HN            S   low  \n",
       "4               USD                 US               US            L  high  \n",
       "..              ...                ...              ...          ...   ...  \n",
       "602             USD                 US               US            M  high  \n",
       "603             USD                 US               US            M  high  \n",
       "604             USD                 US               US            M  high  \n",
       "605             USD                 US               US            M  high  \n",
       "606             USD                 IN               US            L  high  \n",
       "\n",
       "[607 rows x 8 columns]"
      ]
     },
     "execution_count": 249,
     "metadata": {},
     "output_type": "execute_result"
    }
   ],
   "source": [
    "#categorical data\n",
    "categorical_data = []\n",
    "for categorical in df.columns:\n",
    "    if df[categorical].dtype == 'object':\n",
    "        categorical_data.append(categorical)\n",
    "\n",
    "df[categorical_data]"
   ]
  },
  {
   "cell_type": "code",
   "execution_count": 92,
   "metadata": {},
   "outputs": [
    {
     "data": {
      "text/html": [
       "<div>\n",
       "<style scoped>\n",
       "    .dataframe tbody tr th:only-of-type {\n",
       "        vertical-align: middle;\n",
       "    }\n",
       "\n",
       "    .dataframe tbody tr th {\n",
       "        vertical-align: top;\n",
       "    }\n",
       "\n",
       "    .dataframe thead th {\n",
       "        text-align: right;\n",
       "    }\n",
       "</style>\n",
       "<table border=\"1\" class=\"dataframe\">\n",
       "  <thead>\n",
       "    <tr style=\"text-align: right;\">\n",
       "      <th></th>\n",
       "      <th>experience_level</th>\n",
       "      <th>employment_type</th>\n",
       "      <th>job_title</th>\n",
       "      <th>salary_currency</th>\n",
       "      <th>employee_residence</th>\n",
       "      <th>company_location</th>\n",
       "      <th>company_size</th>\n",
       "      <th>scale</th>\n",
       "    </tr>\n",
       "  </thead>\n",
       "  <tbody>\n",
       "    <tr>\n",
       "      <th>count</th>\n",
       "      <td>607</td>\n",
       "      <td>607</td>\n",
       "      <td>607</td>\n",
       "      <td>607</td>\n",
       "      <td>607</td>\n",
       "      <td>607</td>\n",
       "      <td>607</td>\n",
       "      <td>607</td>\n",
       "    </tr>\n",
       "    <tr>\n",
       "      <th>unique</th>\n",
       "      <td>4</td>\n",
       "      <td>4</td>\n",
       "      <td>50</td>\n",
       "      <td>17</td>\n",
       "      <td>57</td>\n",
       "      <td>50</td>\n",
       "      <td>3</td>\n",
       "      <td>2</td>\n",
       "    </tr>\n",
       "    <tr>\n",
       "      <th>top</th>\n",
       "      <td>SE</td>\n",
       "      <td>FT</td>\n",
       "      <td>Data Scientist</td>\n",
       "      <td>USD</td>\n",
       "      <td>US</td>\n",
       "      <td>US</td>\n",
       "      <td>M</td>\n",
       "      <td>low</td>\n",
       "    </tr>\n",
       "    <tr>\n",
       "      <th>freq</th>\n",
       "      <td>280</td>\n",
       "      <td>588</td>\n",
       "      <td>143</td>\n",
       "      <td>398</td>\n",
       "      <td>332</td>\n",
       "      <td>355</td>\n",
       "      <td>326</td>\n",
       "      <td>337</td>\n",
       "    </tr>\n",
       "  </tbody>\n",
       "</table>\n",
       "</div>"
      ],
      "text/plain": [
       "       experience_level employment_type       job_title salary_currency  \\\n",
       "count               607             607             607             607   \n",
       "unique                4               4              50              17   \n",
       "top                  SE              FT  Data Scientist             USD   \n",
       "freq                280             588             143             398   \n",
       "\n",
       "       employee_residence company_location company_size scale  \n",
       "count                 607              607          607   607  \n",
       "unique                 57               50            3     2  \n",
       "top                    US               US            M   low  \n",
       "freq                  332              355          326   337  "
      ]
     },
     "execution_count": 92,
     "metadata": {},
     "output_type": "execute_result"
    }
   ],
   "source": [
    "# Show the descriptive statistics\n",
    "df.describe(include='object')"
   ]
  },
  {
   "cell_type": "markdown",
   "metadata": {},
   "source": [
    "There are 8 categorical variables: 'experience_level', 'employment_type', 'job_title', 'salary_currency', 'employee_residence', 'company_location', 'company_size', 'scale'.\n"
   ]
  },
  {
   "cell_type": "markdown",
   "metadata": {},
   "source": [
    "**Explore 'scale' target variable**"
   ]
  },
  {
   "cell_type": "code",
   "execution_count": 143,
   "metadata": {},
   "outputs": [
    {
     "data": {
      "text/plain": [
       "low     337\n",
       "high    270\n",
       "Name: scale, dtype: int64"
      ]
     },
     "execution_count": 143,
     "metadata": {},
     "output_type": "execute_result"
    }
   ],
   "source": [
    "#frequency distribution of values\n",
    "scale =  df.iloc[:,11]\n",
    "scale.value_counts()"
   ]
  },
  {
   "cell_type": "code",
   "execution_count": 144,
   "metadata": {},
   "outputs": [
    {
     "data": {
      "image/png": "[encoded data removed]",
      "text/plain": [
       "<Figure size 864x576 with 1 Axes>"
      ]
     },
     "metadata": {},
     "output_type": "display_data"
    }
   ],
   "source": [
    "sns.countplot(x=scale,data=df)\n",
    "plt.title('Distribution of salary scale')\n",
    "plt.show()"
   ]
  },
  {
   "cell_type": "markdown",
   "metadata": {},
   "source": [
    "The difference between the percentage of high salary and low salary is not significant."
   ]
  },
  {
   "cell_type": "markdown",
   "metadata": {},
   "source": [
    "**Explore 'scale' wrt 'experience_level' variable**"
   ]
  },
  {
   "cell_type": "code",
   "execution_count": 145,
   "metadata": {},
   "outputs": [
    {
     "data": {
      "image/png": "[encoded data removed]",
      "text/plain": [
       "<Figure size 864x576 with 1 Axes>"
      ]
     },
     "metadata": {},
     "output_type": "display_data"
    }
   ],
   "source": [
    "experience_level = df.iloc[:,1]\n",
    "sns.histplot(experience_level)\n",
    "plt.title(\"Distribution of 'experience_level' variable\")\n",
    "plt.show()"
   ]
  },
  {
   "cell_type": "markdown",
   "metadata": {},
   "source": [
    "The counts of MI and SE are the two largest classes."
   ]
  },
  {
   "cell_type": "code",
   "execution_count": 146,
   "metadata": {},
   "outputs": [
    {
     "data": {
      "image/png": "[encoded data removed]",
      "text/plain": [
       "<Figure size 864x576 with 1 Axes>"
      ]
     },
     "metadata": {},
     "output_type": "display_data"
    }
   ],
   "source": [
    "sns.countplot(x=scale, hue=experience_level, data=df, palette=\"Set1\")\n",
    "plt.title(\"Distribution of salary scale variable wrt. experience_level\")\n",
    "plt.show()"
   ]
  },
  {
   "cell_type": "markdown",
   "metadata": {},
   "source": [
    "In low salary scale, the count of MI level is the most and the count of EX is the least.\n",
    "\n",
    "In high salary scale, the count of SE level is the most and the count of EN is the least.\n",
    "\n",
    " EN:Entry-level  MI:Mid-level  SE:Senior-level  EX:Executive-level"
   ]
  },
  {
   "cell_type": "markdown",
   "metadata": {},
   "source": [
    "**Explore 'employment_type' variable wrt 'scale' variable**"
   ]
  },
  {
   "cell_type": "code",
   "execution_count": 147,
   "metadata": {},
   "outputs": [
    {
     "data": {
      "image/png": "[encoded data removed]",
      "text/plain": [
       "<Figure size 864x576 with 1 Axes>"
      ]
     },
     "metadata": {},
     "output_type": "display_data"
    }
   ],
   "source": [
    "employment_type = df.iloc[:,2]\n",
    "sns.histplot(employment_type)\n",
    "plt.title(\"Distribution of 'employment_type' variable\")\n",
    "plt.show()"
   ]
  },
  {
   "cell_type": "markdown",
   "metadata": {},
   "source": [
    "PT: Part-time FT: Full-time CT: Contract FL: Freelance. The vast majority of people fall into the FT type."
   ]
  },
  {
   "cell_type": "code",
   "execution_count": 148,
   "metadata": {},
   "outputs": [
    {
     "data": {
      "image/png": "[encoded data removed]",
      "text/plain": [
       "<Figure size 864x576 with 1 Axes>"
      ]
     },
     "metadata": {},
     "output_type": "display_data"
    }
   ],
   "source": [
    "sns.countplot(x=scale, hue=employment_type, data=df, palette=\"Set1\")\n",
    "plt.title(\"Distribution of scale variable wrt employment_type\")\n",
    "plt.legend(loc=\"upper right\")\n",
    "plt.show()"
   ]
  },
  {
   "cell_type": "markdown",
   "metadata": {},
   "source": [
    "the fact that can be observed from the above figure is that PT and FL are only shown in the low salary scale."
   ]
  },
  {
   "cell_type": "markdown",
   "metadata": {},
   "source": [
    "**Explore 'company_location' variable wrt 'scale' variable**"
   ]
  },
  {
   "cell_type": "code",
   "execution_count": 149,
   "metadata": {},
   "outputs": [
    {
     "data": {
      "image/png": "[encoded data removed]",
      "text/plain": [
       "<Figure size 864x576 with 1 Axes>"
      ]
     },
     "metadata": {},
     "output_type": "display_data"
    }
   ],
   "source": [
    "company_location = df.iloc[:,9]\n",
    "company_location.value_counts().plot(kind=\"bar\")\n",
    "plt.title(\"Distribution of company_location\")\n",
    "plt.show()"
   ]
  },
  {
   "cell_type": "markdown",
   "metadata": {},
   "source": [
    "The vast majority of companies located in US."
   ]
  },
  {
   "cell_type": "code",
   "execution_count": 150,
   "metadata": {},
   "outputs": [
    {
     "data": {
      "image/png": "[encoded data removed]",
      "text/plain": [
       "<Figure size 864x576 with 1 Axes>"
      ]
     },
     "metadata": {},
     "output_type": "display_data"
    }
   ],
   "source": [
    "plt.subplots(figsize=(12,8))\n",
    "sns.countplot(x=scale, hue=company_location, data=df, palette=\"Set1\")\n",
    "#plt.legend([], frameon=False)\n",
    "plt.legend(ncol=5)\n",
    "plt.title(\"Distribution of salary scale variable wrt. company_location\")\n",
    "plt.show()\n"
   ]
  },
  {
   "cell_type": "markdown",
   "metadata": {},
   "source": [
    "From the above figure we can observe that in high salary scale there are only few countries. However, what is needed to mention is that, most US companies offer higher salary scale.\n",
    "Because 'company_location' and 'employee_residence' almost have the same data, so here we only analyse 'company_location'."
   ]
  },
  {
   "cell_type": "markdown",
   "metadata": {},
   "source": [
    "**Explore 'company_size' variable wrt 'scale' variable**"
   ]
  },
  {
   "cell_type": "code",
   "execution_count": 151,
   "metadata": {},
   "outputs": [
    {
     "data": {
      "image/png": "[encoded data removed]",
      "text/plain": [
       "<Figure size 864x576 with 1 Axes>"
      ]
     },
     "metadata": {},
     "output_type": "display_data"
    }
   ],
   "source": [
    "company_size = df.iloc[:,10]\n",
    "company_size.value_counts().plot(kind=\"bar\")\n",
    "plt.title(\"Distribution of company_size\")\n",
    "plt.show()"
   ]
  },
  {
   "cell_type": "code",
   "execution_count": 152,
   "metadata": {},
   "outputs": [
    {
     "data": {
      "image/png": "[encoded data removed]",
      "text/plain": [
       "<Figure size 864x576 with 1 Axes>"
      ]
     },
     "metadata": {},
     "output_type": "display_data"
    }
   ],
   "source": [
    "#plt.figure(figsize=(15,4))\n",
    "company_size = df.iloc[:,10]\n",
    "sns.countplot(x=scale, hue=company_size, data=df, palette=\"Set1\")\n",
    "plt.title(\"Distribution of salary scale variable wrt. company_size\")\n",
    "plt.show()"
   ]
  },
  {
   "cell_type": "markdown",
   "metadata": {},
   "source": [
    "S: small M: middle L: large \n",
    "High salary scale appears rarely in small size company. "
   ]
  },
  {
   "cell_type": "markdown",
   "metadata": {},
   "source": [
    "### 2 Preprocessing\n",
    "#### 2.1 Dealing with Missing Data"
   ]
  },
  {
   "cell_type": "code",
   "execution_count": 153,
   "metadata": {
    "scrolled": true
   },
   "outputs": [
    {
     "data": {
      "text/plain": [
       "work_year             0\n",
       "experience_level      0\n",
       "employment_type       0\n",
       "job_title             0\n",
       "salary                0\n",
       "salary_currency       0\n",
       "salary_in_usd         0\n",
       "employee_residence    0\n",
       "remote_ratio          0\n",
       "company_location      0\n",
       "company_size          0\n",
       "scale                 0\n",
       "dtype: int64"
      ]
     },
     "execution_count": 153,
     "metadata": {},
     "output_type": "execute_result"
    }
   ],
   "source": [
    "# Check for missing values that are null\n",
    "df.isnull().sum()"
   ]
  },
  {
   "cell_type": "markdown",
   "metadata": {},
   "source": [
    "The result shows no null missing values."
   ]
  },
  {
   "cell_type": "code",
   "execution_count": 154,
   "metadata": {
    "code_folding": []
   },
   "outputs": [
    {
     "name": "stdout",
     "output_type": "stream",
     "text": [
      "SE    280\n",
      "MI    213\n",
      "EN     88\n",
      "EX     26\n",
      "Name: experience_level, dtype: int64\n",
      "FT    588\n",
      "PT     10\n",
      "CT      5\n",
      "FL      4\n",
      "Name: employment_type, dtype: int64\n",
      "Data Scientist                              143\n",
      "Data Engineer                               132\n",
      "Data Analyst                                 97\n",
      "Machine Learning Engineer                    41\n",
      "Research Scientist                           16\n",
      "Data Science Manager                         12\n",
      "Data Architect                               11\n",
      "Big Data Engineer                             8\n",
      "Machine Learning Scientist                    8\n",
      "Principal Data Scientist                      7\n",
      "AI Scientist                                  7\n",
      "Data Science Consultant                       7\n",
      "Director of Data Science                      7\n",
      "Data Analytics Manager                        7\n",
      "ML Engineer                                   6\n",
      "Computer Vision Engineer                      6\n",
      "BI Data Analyst                               6\n",
      "Lead Data Engineer                            6\n",
      "Data Engineering Manager                      5\n",
      "Business Data Analyst                         5\n",
      "Head of Data                                  5\n",
      "Applied Data Scientist                        5\n",
      "Applied Machine Learning Scientist            4\n",
      "Head of Data Science                          4\n",
      "Analytics Engineer                            4\n",
      "Data Analytics Engineer                       4\n",
      "Machine Learning Developer                    3\n",
      "Machine Learning Infrastructure Engineer      3\n",
      "Lead Data Scientist                           3\n",
      "Computer Vision Software Engineer             3\n",
      "Lead Data Analyst                             3\n",
      "Data Science Engineer                         3\n",
      "Principal Data Engineer                       3\n",
      "Principal Data Analyst                        2\n",
      "ETL Developer                                 2\n",
      "Product Data Analyst                          2\n",
      "Director of Data Engineering                  2\n",
      "Financial Data Analyst                        2\n",
      "Cloud Data Engineer                           2\n",
      "Lead Machine Learning Engineer                1\n",
      "NLP Engineer                                  1\n",
      "Head of Machine Learning                      1\n",
      "3D Computer Vision Researcher                 1\n",
      "Data Specialist                               1\n",
      "Staff Data Scientist                          1\n",
      "Big Data Architect                            1\n",
      "Finance Data Analyst                          1\n",
      "Marketing Data Analyst                        1\n",
      "Machine Learning Manager                      1\n",
      "Data Analytics Lead                           1\n",
      "Name: job_title, dtype: int64\n",
      "USD    398\n",
      "EUR     95\n",
      "GBP     44\n",
      "INR     27\n",
      "CAD     18\n",
      "JPY      3\n",
      "PLN      3\n",
      "TRY      3\n",
      "CNY      2\n",
      "MXN      2\n",
      "HUF      2\n",
      "DKK      2\n",
      "SGD      2\n",
      "BRL      2\n",
      "AUD      2\n",
      "CLP      1\n",
      "CHF      1\n",
      "Name: salary_currency, dtype: int64\n",
      "US    332\n",
      "GB     44\n",
      "IN     30\n",
      "CA     29\n",
      "DE     25\n",
      "FR     18\n",
      "ES     15\n",
      "GR     13\n",
      "JP      7\n",
      "PT      6\n",
      "BR      6\n",
      "PK      6\n",
      "NL      5\n",
      "PL      4\n",
      "IT      4\n",
      "RU      4\n",
      "AE      3\n",
      "AT      3\n",
      "VN      3\n",
      "TR      3\n",
      "AU      3\n",
      "RO      2\n",
      "BE      2\n",
      "SG      2\n",
      "SI      2\n",
      "DK      2\n",
      "HU      2\n",
      "NG      2\n",
      "MX      2\n",
      "BO      1\n",
      "MY      1\n",
      "TN      1\n",
      "IE      1\n",
      "DZ      1\n",
      "AR      1\n",
      "CZ      1\n",
      "JE      1\n",
      "LU      1\n",
      "PR      1\n",
      "RS      1\n",
      "EE      1\n",
      "CL      1\n",
      "HK      1\n",
      "KE      1\n",
      "MD      1\n",
      "CO      1\n",
      "IR      1\n",
      "CN      1\n",
      "MT      1\n",
      "UA      1\n",
      "IQ      1\n",
      "HN      1\n",
      "BG      1\n",
      "HR      1\n",
      "PH      1\n",
      "NZ      1\n",
      "CH      1\n",
      "Name: employee_residence, dtype: int64\n",
      "US    355\n",
      "GB     47\n",
      "CA     30\n",
      "DE     28\n",
      "IN     24\n",
      "FR     15\n",
      "ES     14\n",
      "GR     11\n",
      "JP      6\n",
      "NL      4\n",
      "AT      4\n",
      "PT      4\n",
      "PL      4\n",
      "LU      3\n",
      "PK      3\n",
      "BR      3\n",
      "AE      3\n",
      "MX      3\n",
      "AU      3\n",
      "TR      3\n",
      "DK      3\n",
      "IT      2\n",
      "CZ      2\n",
      "SI      2\n",
      "RU      2\n",
      "CH      2\n",
      "NG      2\n",
      "CN      2\n",
      "BE      2\n",
      "VN      1\n",
      "EE      1\n",
      "AS      1\n",
      "DZ      1\n",
      "MY      1\n",
      "MD      1\n",
      "KE      1\n",
      "SG      1\n",
      "CO      1\n",
      "IR      1\n",
      "CL      1\n",
      "MT      1\n",
      "IL      1\n",
      "UA      1\n",
      "IQ      1\n",
      "RO      1\n",
      "HR      1\n",
      "NZ      1\n",
      "HU      1\n",
      "HN      1\n",
      "IE      1\n",
      "Name: company_location, dtype: int64\n",
      "M    326\n",
      "L    198\n",
      "S     83\n",
      "Name: company_size, dtype: int64\n",
      "low     337\n",
      "high    270\n",
      "Name: scale, dtype: int64\n"
     ]
    }
   ],
   "source": [
    "# Check for special missing values\n",
    "for i in categorical_data:\n",
    "    print(df[i].value_counts())"
   ]
  },
  {
   "cell_type": "markdown",
   "metadata": {},
   "source": [
    "Observing the above results, it is found that there is no missing values in all categories neither. Therefore, we do not need to remove the null data."
   ]
  },
  {
   "cell_type": "markdown",
   "metadata": {},
   "source": [
    "#### 2.2 Dealing with Outliers\n",
    "\n",
    "Use IQR to identify outliers, outliers here are defined as observations that fall below Q1 − 1.5 IQR or above Q3 + 1.5 IQR.\n",
    "\n",
    "Here are some important parameters:\n",
    "\n",
    "lower (first) quartile Q1\n",
    "\n",
    "median (second quartile) Q2 \n",
    "\n",
    "upper (third) quartile Q3 \n",
    "\n",
    "interquartile range, IQR = Q3 - Q1\n",
    "\n",
    "lower 1.5 x IQR whisker = Q1 - 1.5 x IQR \n",
    "\n",
    "upper 1.5 x IQR whisker = Q3 + 1.5 x IQR "
   ]
  },
  {
   "cell_type": "code",
   "execution_count": 155,
   "metadata": {},
   "outputs": [],
   "source": [
    "# to remove the outliers and return a new dataframe\n",
    "def outliers_remove(df_in,index):\n",
    "    q1 = df.iloc[:,index].quantile(0.25)\n",
    "    q3  = df.iloc[:,index].quantile(0.75)\n",
    "    iqr = q3 -  q1 \n",
    "    fence_low = q1 - 1.5*iqr\n",
    "    fence_high = q3 + 1.5*iqr\n",
    "    df_out = df[(df.iloc[:,index] > fence_low) & (df.iloc[:,index] < fence_high)]\n",
    "    return df_out"
   ]
  },
  {
   "cell_type": "markdown",
   "metadata": {},
   "source": [
    "Outliers in numerical data are removed and the row where the outlier is located is deleted. No outlier processing is required for categorical data.\n",
    "\n",
    "there are 4 numerical variables:'work_year', 'salary', 'salary_in_usd', 'remote_ratio', the columns indexes are respectively 0, 4, 6, 8. The outlier removal is performed for each numeric variable in turn."
   ]
  },
  {
   "cell_type": "code",
   "execution_count": 156,
   "metadata": {},
   "outputs": [
    {
     "data": {
      "text/html": [
       "<div>\n",
       "<style scoped>\n",
       "    .dataframe tbody tr th:only-of-type {\n",
       "        vertical-align: middle;\n",
       "    }\n",
       "\n",
       "    .dataframe tbody tr th {\n",
       "        vertical-align: top;\n",
       "    }\n",
       "\n",
       "    .dataframe thead th {\n",
       "        text-align: right;\n",
       "    }\n",
       "</style>\n",
       "<table border=\"1\" class=\"dataframe\">\n",
       "  <thead>\n",
       "    <tr style=\"text-align: right;\">\n",
       "      <th></th>\n",
       "      <th>work_year</th>\n",
       "      <th>experience_level</th>\n",
       "      <th>employment_type</th>\n",
       "      <th>job_title</th>\n",
       "      <th>salary</th>\n",
       "      <th>salary_currency</th>\n",
       "      <th>salary_in_usd</th>\n",
       "      <th>employee_residence</th>\n",
       "      <th>remote_ratio</th>\n",
       "      <th>company_location</th>\n",
       "      <th>company_size</th>\n",
       "      <th>scale</th>\n",
       "    </tr>\n",
       "  </thead>\n",
       "  <tbody>\n",
       "    <tr>\n",
       "      <th>0</th>\n",
       "      <td>2020</td>\n",
       "      <td>MI</td>\n",
       "      <td>FT</td>\n",
       "      <td>Data Scientist</td>\n",
       "      <td>70000</td>\n",
       "      <td>EUR</td>\n",
       "      <td>79833</td>\n",
       "      <td>DE</td>\n",
       "      <td>0</td>\n",
       "      <td>DE</td>\n",
       "      <td>L</td>\n",
       "      <td>low</td>\n",
       "    </tr>\n",
       "    <tr>\n",
       "      <th>1</th>\n",
       "      <td>2020</td>\n",
       "      <td>SE</td>\n",
       "      <td>FT</td>\n",
       "      <td>Machine Learning Scientist</td>\n",
       "      <td>260000</td>\n",
       "      <td>USD</td>\n",
       "      <td>260000</td>\n",
       "      <td>JP</td>\n",
       "      <td>0</td>\n",
       "      <td>JP</td>\n",
       "      <td>S</td>\n",
       "      <td>high</td>\n",
       "    </tr>\n",
       "    <tr>\n",
       "      <th>2</th>\n",
       "      <td>2020</td>\n",
       "      <td>SE</td>\n",
       "      <td>FT</td>\n",
       "      <td>Big Data Engineer</td>\n",
       "      <td>85000</td>\n",
       "      <td>GBP</td>\n",
       "      <td>109024</td>\n",
       "      <td>GB</td>\n",
       "      <td>50</td>\n",
       "      <td>GB</td>\n",
       "      <td>M</td>\n",
       "      <td>low</td>\n",
       "    </tr>\n",
       "    <tr>\n",
       "      <th>3</th>\n",
       "      <td>2020</td>\n",
       "      <td>MI</td>\n",
       "      <td>FT</td>\n",
       "      <td>Product Data Analyst</td>\n",
       "      <td>20000</td>\n",
       "      <td>USD</td>\n",
       "      <td>20000</td>\n",
       "      <td>HN</td>\n",
       "      <td>0</td>\n",
       "      <td>HN</td>\n",
       "      <td>S</td>\n",
       "      <td>low</td>\n",
       "    </tr>\n",
       "    <tr>\n",
       "      <th>4</th>\n",
       "      <td>2020</td>\n",
       "      <td>SE</td>\n",
       "      <td>FT</td>\n",
       "      <td>Machine Learning Engineer</td>\n",
       "      <td>150000</td>\n",
       "      <td>USD</td>\n",
       "      <td>150000</td>\n",
       "      <td>US</td>\n",
       "      <td>50</td>\n",
       "      <td>US</td>\n",
       "      <td>L</td>\n",
       "      <td>high</td>\n",
       "    </tr>\n",
       "    <tr>\n",
       "      <th>...</th>\n",
       "      <td>...</td>\n",
       "      <td>...</td>\n",
       "      <td>...</td>\n",
       "      <td>...</td>\n",
       "      <td>...</td>\n",
       "      <td>...</td>\n",
       "      <td>...</td>\n",
       "      <td>...</td>\n",
       "      <td>...</td>\n",
       "      <td>...</td>\n",
       "      <td>...</td>\n",
       "      <td>...</td>\n",
       "    </tr>\n",
       "    <tr>\n",
       "      <th>602</th>\n",
       "      <td>2022</td>\n",
       "      <td>SE</td>\n",
       "      <td>FT</td>\n",
       "      <td>Data Engineer</td>\n",
       "      <td>154000</td>\n",
       "      <td>USD</td>\n",
       "      <td>154000</td>\n",
       "      <td>US</td>\n",
       "      <td>100</td>\n",
       "      <td>US</td>\n",
       "      <td>M</td>\n",
       "      <td>high</td>\n",
       "    </tr>\n",
       "    <tr>\n",
       "      <th>603</th>\n",
       "      <td>2022</td>\n",
       "      <td>SE</td>\n",
       "      <td>FT</td>\n",
       "      <td>Data Engineer</td>\n",
       "      <td>126000</td>\n",
       "      <td>USD</td>\n",
       "      <td>126000</td>\n",
       "      <td>US</td>\n",
       "      <td>100</td>\n",
       "      <td>US</td>\n",
       "      <td>M</td>\n",
       "      <td>high</td>\n",
       "    </tr>\n",
       "    <tr>\n",
       "      <th>604</th>\n",
       "      <td>2022</td>\n",
       "      <td>SE</td>\n",
       "      <td>FT</td>\n",
       "      <td>Data Analyst</td>\n",
       "      <td>129000</td>\n",
       "      <td>USD</td>\n",
       "      <td>129000</td>\n",
       "      <td>US</td>\n",
       "      <td>0</td>\n",
       "      <td>US</td>\n",
       "      <td>M</td>\n",
       "      <td>high</td>\n",
       "    </tr>\n",
       "    <tr>\n",
       "      <th>605</th>\n",
       "      <td>2022</td>\n",
       "      <td>SE</td>\n",
       "      <td>FT</td>\n",
       "      <td>Data Analyst</td>\n",
       "      <td>150000</td>\n",
       "      <td>USD</td>\n",
       "      <td>150000</td>\n",
       "      <td>US</td>\n",
       "      <td>100</td>\n",
       "      <td>US</td>\n",
       "      <td>M</td>\n",
       "      <td>high</td>\n",
       "    </tr>\n",
       "    <tr>\n",
       "      <th>606</th>\n",
       "      <td>2022</td>\n",
       "      <td>MI</td>\n",
       "      <td>FT</td>\n",
       "      <td>AI Scientist</td>\n",
       "      <td>200000</td>\n",
       "      <td>USD</td>\n",
       "      <td>200000</td>\n",
       "      <td>IN</td>\n",
       "      <td>100</td>\n",
       "      <td>US</td>\n",
       "      <td>L</td>\n",
       "      <td>high</td>\n",
       "    </tr>\n",
       "  </tbody>\n",
       "</table>\n",
       "<p>607 rows × 12 columns</p>\n",
       "</div>"
      ],
      "text/plain": [
       "     work_year experience_level employment_type                   job_title  \\\n",
       "0         2020               MI              FT              Data Scientist   \n",
       "1         2020               SE              FT  Machine Learning Scientist   \n",
       "2         2020               SE              FT           Big Data Engineer   \n",
       "3         2020               MI              FT        Product Data Analyst   \n",
       "4         2020               SE              FT   Machine Learning Engineer   \n",
       "..         ...              ...             ...                         ...   \n",
       "602       2022               SE              FT               Data Engineer   \n",
       "603       2022               SE              FT               Data Engineer   \n",
       "604       2022               SE              FT                Data Analyst   \n",
       "605       2022               SE              FT                Data Analyst   \n",
       "606       2022               MI              FT                AI Scientist   \n",
       "\n",
       "     salary salary_currency  salary_in_usd employee_residence  remote_ratio  \\\n",
       "0     70000             EUR          79833                 DE             0   \n",
       "1    260000             USD         260000                 JP             0   \n",
       "2     85000             GBP         109024                 GB            50   \n",
       "3     20000             USD          20000                 HN             0   \n",
       "4    150000             USD         150000                 US            50   \n",
       "..      ...             ...            ...                ...           ...   \n",
       "602  154000             USD         154000                 US           100   \n",
       "603  126000             USD         126000                 US           100   \n",
       "604  129000             USD         129000                 US             0   \n",
       "605  150000             USD         150000                 US           100   \n",
       "606  200000             USD         200000                 IN           100   \n",
       "\n",
       "    company_location company_size scale  \n",
       "0                 DE            L   low  \n",
       "1                 JP            S  high  \n",
       "2                 GB            M   low  \n",
       "3                 HN            S   low  \n",
       "4                 US            L  high  \n",
       "..               ...          ...   ...  \n",
       "602               US            M  high  \n",
       "603               US            M  high  \n",
       "604               US            M  high  \n",
       "605               US            M  high  \n",
       "606               US            L  high  \n",
       "\n",
       "[607 rows x 12 columns]"
      ]
     },
     "execution_count": 156,
     "metadata": {},
     "output_type": "execute_result"
    }
   ],
   "source": [
    "df_remove0 = outliers_remove(df,0)\n",
    "df_remove4 = outliers_remove(df_remove0,4)\n",
    "df_remove6 = outliers_remove(df_remove4,6)\n",
    "df_removed = outliers_remove(df_remove6,8)\n",
    "df_removed"
   ]
  },
  {
   "cell_type": "markdown",
   "metadata": {},
   "source": [
    "It can be seen that the number of samples does not change, which means this dataset has no outliner."
   ]
  },
  {
   "cell_type": "markdown",
   "metadata": {},
   "source": [
    "### 3 Feature Extraction\n",
    "Feature Extraction is to transform/compress data in order to reduce dimensionality.\n",
    "\n",
    "Having previously dealt with missing values and outliers, the features of the categorical data now need to be extracted for later model learning.\n",
    "\n",
    "\n",
    "The random forest classifier, which can handle data with high dimensionality (many features) without dimensionality reduction, without performing feature selection, and which can also ascertain the significance of features and can ascertain the interaction between various features, will be used in the model training. As a result, feature selection is not required; instead, categorical data must be encoded."
   ]
  },
  {
   "cell_type": "markdown",
   "metadata": {},
   "source": [
    "#### 3.1 Categorical Data Encoding"
   ]
  },
  {
   "cell_type": "markdown",
   "metadata": {},
   "source": [
    "It can be seen that after feature extraction of the classified data, the dataset has changed from 12 columns to 191 columns."
   ]
  },
  {
   "cell_type": "code",
   "execution_count": 190,
   "metadata": {},
   "outputs": [
    {
     "data": {
      "text/html": [
       "<div>\n",
       "<style scoped>\n",
       "    .dataframe tbody tr th:only-of-type {\n",
       "        vertical-align: middle;\n",
       "    }\n",
       "\n",
       "    .dataframe tbody tr th {\n",
       "        vertical-align: top;\n",
       "    }\n",
       "\n",
       "    .dataframe thead th {\n",
       "        text-align: right;\n",
       "    }\n",
       "</style>\n",
       "<table border=\"1\" class=\"dataframe\">\n",
       "  <thead>\n",
       "    <tr style=\"text-align: right;\">\n",
       "      <th></th>\n",
       "      <th>work_year</th>\n",
       "      <th>experience_level_1</th>\n",
       "      <th>experience_level_2</th>\n",
       "      <th>experience_level_3</th>\n",
       "      <th>experience_level_4</th>\n",
       "      <th>employment_type_1</th>\n",
       "      <th>employment_type_2</th>\n",
       "      <th>employment_type_3</th>\n",
       "      <th>employment_type_4</th>\n",
       "      <th>job_title_1</th>\n",
       "      <th>...</th>\n",
       "      <th>company_location_46</th>\n",
       "      <th>company_location_47</th>\n",
       "      <th>company_location_48</th>\n",
       "      <th>company_location_49</th>\n",
       "      <th>company_location_50</th>\n",
       "      <th>company_size_1</th>\n",
       "      <th>company_size_2</th>\n",
       "      <th>company_size_3</th>\n",
       "      <th>scale_1</th>\n",
       "      <th>scale_2</th>\n",
       "    </tr>\n",
       "  </thead>\n",
       "  <tbody>\n",
       "    <tr>\n",
       "      <th>0</th>\n",
       "      <td>2020</td>\n",
       "      <td>1</td>\n",
       "      <td>0</td>\n",
       "      <td>0</td>\n",
       "      <td>0</td>\n",
       "      <td>1</td>\n",
       "      <td>0</td>\n",
       "      <td>0</td>\n",
       "      <td>0</td>\n",
       "      <td>1</td>\n",
       "      <td>...</td>\n",
       "      <td>0</td>\n",
       "      <td>0</td>\n",
       "      <td>0</td>\n",
       "      <td>0</td>\n",
       "      <td>0</td>\n",
       "      <td>1</td>\n",
       "      <td>0</td>\n",
       "      <td>0</td>\n",
       "      <td>1</td>\n",
       "      <td>0</td>\n",
       "    </tr>\n",
       "    <tr>\n",
       "      <th>1</th>\n",
       "      <td>2020</td>\n",
       "      <td>0</td>\n",
       "      <td>1</td>\n",
       "      <td>0</td>\n",
       "      <td>0</td>\n",
       "      <td>1</td>\n",
       "      <td>0</td>\n",
       "      <td>0</td>\n",
       "      <td>0</td>\n",
       "      <td>0</td>\n",
       "      <td>...</td>\n",
       "      <td>0</td>\n",
       "      <td>0</td>\n",
       "      <td>0</td>\n",
       "      <td>0</td>\n",
       "      <td>0</td>\n",
       "      <td>0</td>\n",
       "      <td>1</td>\n",
       "      <td>0</td>\n",
       "      <td>0</td>\n",
       "      <td>1</td>\n",
       "    </tr>\n",
       "    <tr>\n",
       "      <th>2</th>\n",
       "      <td>2020</td>\n",
       "      <td>0</td>\n",
       "      <td>1</td>\n",
       "      <td>0</td>\n",
       "      <td>0</td>\n",
       "      <td>1</td>\n",
       "      <td>0</td>\n",
       "      <td>0</td>\n",
       "      <td>0</td>\n",
       "      <td>0</td>\n",
       "      <td>...</td>\n",
       "      <td>0</td>\n",
       "      <td>0</td>\n",
       "      <td>0</td>\n",
       "      <td>0</td>\n",
       "      <td>0</td>\n",
       "      <td>0</td>\n",
       "      <td>0</td>\n",
       "      <td>1</td>\n",
       "      <td>1</td>\n",
       "      <td>0</td>\n",
       "    </tr>\n",
       "    <tr>\n",
       "      <th>3</th>\n",
       "      <td>2020</td>\n",
       "      <td>1</td>\n",
       "      <td>0</td>\n",
       "      <td>0</td>\n",
       "      <td>0</td>\n",
       "      <td>1</td>\n",
       "      <td>0</td>\n",
       "      <td>0</td>\n",
       "      <td>0</td>\n",
       "      <td>0</td>\n",
       "      <td>...</td>\n",
       "      <td>0</td>\n",
       "      <td>0</td>\n",
       "      <td>0</td>\n",
       "      <td>0</td>\n",
       "      <td>0</td>\n",
       "      <td>0</td>\n",
       "      <td>1</td>\n",
       "      <td>0</td>\n",
       "      <td>1</td>\n",
       "      <td>0</td>\n",
       "    </tr>\n",
       "    <tr>\n",
       "      <th>4</th>\n",
       "      <td>2020</td>\n",
       "      <td>0</td>\n",
       "      <td>1</td>\n",
       "      <td>0</td>\n",
       "      <td>0</td>\n",
       "      <td>1</td>\n",
       "      <td>0</td>\n",
       "      <td>0</td>\n",
       "      <td>0</td>\n",
       "      <td>0</td>\n",
       "      <td>...</td>\n",
       "      <td>0</td>\n",
       "      <td>0</td>\n",
       "      <td>0</td>\n",
       "      <td>0</td>\n",
       "      <td>0</td>\n",
       "      <td>1</td>\n",
       "      <td>0</td>\n",
       "      <td>0</td>\n",
       "      <td>0</td>\n",
       "      <td>1</td>\n",
       "    </tr>\n",
       "  </tbody>\n",
       "</table>\n",
       "<p>5 rows × 191 columns</p>\n",
       "</div>"
      ],
      "text/plain": [
       "   work_year  experience_level_1  experience_level_2  experience_level_3  \\\n",
       "0       2020                   1                   0                   0   \n",
       "1       2020                   0                   1                   0   \n",
       "2       2020                   0                   1                   0   \n",
       "3       2020                   1                   0                   0   \n",
       "4       2020                   0                   1                   0   \n",
       "\n",
       "   experience_level_4  employment_type_1  employment_type_2  \\\n",
       "0                   0                  1                  0   \n",
       "1                   0                  1                  0   \n",
       "2                   0                  1                  0   \n",
       "3                   0                  1                  0   \n",
       "4                   0                  1                  0   \n",
       "\n",
       "   employment_type_3  employment_type_4  job_title_1  ...  \\\n",
       "0                  0                  0            1  ...   \n",
       "1                  0                  0            0  ...   \n",
       "2                  0                  0            0  ...   \n",
       "3                  0                  0            0  ...   \n",
       "4                  0                  0            0  ...   \n",
       "\n",
       "   company_location_46  company_location_47  company_location_48  \\\n",
       "0                    0                    0                    0   \n",
       "1                    0                    0                    0   \n",
       "2                    0                    0                    0   \n",
       "3                    0                    0                    0   \n",
       "4                    0                    0                    0   \n",
       "\n",
       "   company_location_49  company_location_50  company_size_1  company_size_2  \\\n",
       "0                    0                    0               1               0   \n",
       "1                    0                    0               0               1   \n",
       "2                    0                    0               0               0   \n",
       "3                    0                    0               0               1   \n",
       "4                    0                    0               1               0   \n",
       "\n",
       "   company_size_3  scale_1  scale_2  \n",
       "0               0        1        0  \n",
       "1               0        0        1  \n",
       "2               1        1        0  \n",
       "3               0        1        0  \n",
       "4               0        0        1  \n",
       "\n",
       "[5 rows x 191 columns]"
      ]
     },
     "execution_count": 190,
     "metadata": {},
     "output_type": "execute_result"
    }
   ],
   "source": [
    "# encode categorical variables with one-hot encoding\n",
    "\n",
    "encoder = ce.OneHotEncoder(cols=['experience_level', 'employment_type', 'job_title', 'employee_residence', 'company_location','company_size','salary_currency','scale'])\n",
    "\n",
    "X1 = encoder.fit_transform(df)\n",
    "X1 = pd.DataFrame(X1)\n",
    "X1.head()\n"
   ]
  },
  {
   "cell_type": "markdown",
   "metadata": {},
   "source": [
    "#### 4 Hypothesis Testing\n",
    "According to the previous EDA, it is hypothesized that the average annual salary for data science is higher than $100,000.\n",
    "\n",
    "Step 1 :\n",
    "\n",
    "$H_0: \\mu = 100000$\n",
    "\n",
    "$H_1: \\mu > 100000$"
   ]
  },
  {
   "cell_type": "markdown",
   "metadata": {},
   "source": [
    "Step 2 :\n",
    "Set α = 0.05"
   ]
  },
  {
   "cell_type": "markdown",
   "metadata": {},
   "source": [
    "Step 3 :\n",
    "\n",
    "σ is unknown. So we use t-test. \n",
    "$\n",
    "t = \\frac{\\bar x-\\mu_0}{s_x}         \n",
    "$\n",
    "where\n",
    "$\n",
    "s_x = \\frac{s}{\\sqrt n}\n",
    "$\n",
    "\n"
   ]
  },
  {
   "cell_type": "code",
   "execution_count": 166,
   "metadata": {
    "code_folding": []
   },
   "outputs": [
    {
     "name": "stdout",
     "output_type": "stream",
     "text": [
      "critical value :  1.6473719691883677\n"
     ]
    }
   ],
   "source": [
    "# Perform t-test on one sample sets\n",
    "from scipy.stats import t\n",
    "critical_value = t.ppf(0.95,606) #  degree of freedom is equal sample size minus 1\n",
    "print(\"critical value : \",critical_value)"
   ]
  },
  {
   "cell_type": "code",
   "execution_count": 167,
   "metadata": {
    "scrolled": true
   },
   "outputs": [
    {
     "name": "stdout",
     "output_type": "stream",
     "text": [
      "Ttest_1sampResult(statistic=4.269995376558279, pvalue=2.2688287255787327e-05)\n"
     ]
    }
   ],
   "source": [
    "from scipy import stats\n",
    "t_value = stats.ttest_1samp(df.iloc[:,6],100000)\n",
    "print(t_value)"
   ]
  },
  {
   "cell_type": "markdown",
   "metadata": {},
   "source": [
    "Two ways to interpret:\n",
    "\n",
    "1. The test statistic (4.269995376558279) is larger than the critical value(1.6473719691883677). We reject the null hypothesis meaning that the average annual salary for data science is above $100,000.\n",
    "\n",
    "2. The p-value(2.2688287255787327e-05) is smaller than $\\alpha$ (0.05) . We reject $H_0$, accept $H_1$, same conclusion."
   ]
  },
  {
   "cell_type": "markdown",
   "metadata": {},
   "source": [
    "### 5 Statistical Learning\n",
    "A random forest is is an ensemble learning method for classification. It fits a number of decision tree classifiers on various sub-datasets of the datasets and uses majority voting or estimated class probabilities to classificate. Generally , the predictive result is improved and random forest can controll over-fitting.This classifier can handle data with many features and without doing feature selection, and it can also determine the importance of features and the interaction between different features.\n",
    "\n",
    "In our random forest, we use the Gini coefficient to evaluate the importance of features and thus perform feature selection.\n",
    "\n",
    "$Gini = 1 - \\sum_{C}^{i=1}(p_{i}^2) $\n",
    "\n",
    "Here, $p_i$ represents the relative frequency of the class you are observing in the dataset and $C$ represents the number of classes.\n",
    "\n",
    "Entropy also can be used to determine how nodes branch in a decision tree.\n",
    "\n",
    "$Entropy = \\sum_{C}^{i=1}-p_{i}*log_2(p_i)$"
   ]
  },
  {
   "cell_type": "markdown",
   "metadata": {},
   "source": [
    "#### 5.1 Feature Scaling\n",
    "Since the range of values of raw data varies widely, objective functions will not work properly without normalization.\n",
    "Standardization (Z-score Normalization):\n",
    "$z = (x - \\overline{x})/\\sigma$"
   ]
  },
  {
   "cell_type": "code",
   "execution_count": 191,
   "metadata": {},
   "outputs": [
    {
     "data": {
      "text/plain": [
       "<bound method NDFrame.head of      0    1    2    3    4    5    6    7    8    9    ...  179  180  181  \\\n",
       "0   -2.0  1.0  0.0  0.0  0.0  0.0  0.0  0.0  0.0  1.0  ...  0.0  0.0  0.0   \n",
       "1   -2.0  0.0  1.0  0.0  0.0  0.0  0.0  0.0  0.0  0.0  ...  0.0  0.0  0.0   \n",
       "2   -2.0  0.0  1.0  0.0  0.0  0.0  0.0  0.0  0.0  0.0  ...  0.0  0.0  0.0   \n",
       "3   -2.0  1.0  0.0  0.0  0.0  0.0  0.0  0.0  0.0  0.0  ...  0.0  0.0  0.0   \n",
       "4   -2.0  0.0  1.0  0.0  0.0  0.0  0.0  0.0  0.0  0.0  ...  0.0  0.0  0.0   \n",
       "..   ...  ...  ...  ...  ...  ...  ...  ...  ...  ...  ...  ...  ...  ...   \n",
       "602  0.0  0.0  1.0  0.0  0.0  0.0  0.0  0.0  0.0  0.0  ...  0.0  0.0  0.0   \n",
       "603  0.0  0.0  1.0  0.0  0.0  0.0  0.0  0.0  0.0  0.0  ...  0.0  0.0  0.0   \n",
       "604  0.0  0.0  1.0  0.0  0.0  0.0  0.0  0.0  0.0  0.0  ...  0.0  0.0  0.0   \n",
       "605  0.0  0.0  1.0  0.0  0.0  0.0  0.0  0.0  0.0  0.0  ...  0.0  0.0  0.0   \n",
       "606  0.0  1.0  0.0  0.0  0.0  0.0  0.0  0.0  0.0  0.0  ...  0.0  0.0  0.0   \n",
       "\n",
       "     182  183  184  185  186  187  188  \n",
       "0    0.0  0.0  0.0  0.0  1.0  0.0 -1.0  \n",
       "1    0.0  0.0  0.0  0.0  0.0  1.0 -1.0  \n",
       "2    0.0  0.0  0.0  0.0  0.0  0.0  0.0  \n",
       "3    0.0  0.0  0.0  0.0  0.0  1.0 -1.0  \n",
       "4    0.0  0.0  0.0  0.0  1.0  0.0 -1.0  \n",
       "..   ...  ...  ...  ...  ...  ...  ...  \n",
       "602  0.0  0.0  0.0  0.0  0.0  0.0  0.0  \n",
       "603  0.0  0.0  0.0  0.0  0.0  0.0  0.0  \n",
       "604  0.0  0.0  0.0  0.0  0.0  0.0  0.0  \n",
       "605  0.0  0.0  0.0  0.0  0.0  0.0  0.0  \n",
       "606  0.0  0.0  0.0  0.0  1.0  0.0 -1.0  \n",
       "\n",
       "[607 rows x 189 columns]>"
      ]
     },
     "execution_count": 191,
     "metadata": {},
     "output_type": "execute_result"
    }
   ],
   "source": [
    "#apply standardization (Z-score Normalization)\n",
    "X1 = X1.drop(columns = ['scale_2','scale_1'])\n",
    "columns = X1.columns\n",
    "scaler = RobustScaler()\n",
    "X2 = scaler.fit_transform(X1)\n",
    "X = pd.DataFrame(X2)\n",
    "X.head"
   ]
  },
  {
   "cell_type": "markdown",
   "metadata": {},
   "source": [
    "#### 5.2 Dataset Split\n",
    "\n",
    "X from feature extraction and y from the response variable 'scale'，split the data into random subsets X_train, X_test, y_train, y_test using *train_test_split* method.\n",
    "\n",
    "Training and test sets are in the ratio of 8:2."
   ]
  },
  {
   "cell_type": "code",
   "execution_count": 239,
   "metadata": {},
   "outputs": [
    {
     "data": {
      "text/plain": [
       "<bound method NDFrame.head of      0    1    2    3    4    5    6    7    8    9    ...  179  180  181  \\\n",
       "34  -2.0  1.0  0.0  0.0  0.0  0.0  0.0  0.0  0.0  0.0  ...  0.0  0.0  0.0   \n",
       "330  0.0  0.0  1.0  0.0  0.0  0.0  0.0  0.0  0.0  0.0  ...  0.0  0.0  0.0   \n",
       "33  -2.0  1.0  0.0  0.0  0.0  0.0  0.0  0.0  0.0  0.0  ...  0.0  0.0  0.0   \n",
       "190 -1.0  0.0  1.0  0.0  0.0  0.0  0.0  0.0  0.0  0.0  ...  0.0  0.0  0.0   \n",
       "338  0.0  0.0  1.0  0.0  0.0  0.0  0.0  0.0  0.0  0.0  ...  0.0  0.0  0.0   \n",
       "..   ...  ...  ...  ...  ...  ...  ...  ...  ...  ...  ...  ...  ...  ...   \n",
       "98  -1.0  0.0  0.0  1.0  0.0  0.0  0.0  0.0  0.0  0.0  ...  0.0  0.0  0.0   \n",
       "322  0.0  0.0  1.0  0.0  0.0  0.0  0.0  0.0  0.0  0.0  ...  0.0  0.0  0.0   \n",
       "382  0.0  0.0  1.0  0.0  0.0  0.0  0.0  0.0  0.0  0.0  ...  0.0  0.0  0.0   \n",
       "365  0.0  0.0  1.0  0.0  0.0  0.0  0.0  0.0  0.0  1.0  ...  0.0  0.0  0.0   \n",
       "510  0.0  0.0  0.0  1.0  0.0  0.0  0.0  0.0  0.0  0.0  ...  0.0  0.0  0.0   \n",
       "\n",
       "     182  183  184  185  186  187  188  \n",
       "34   0.0  0.0  0.0  0.0  1.0  0.0 -1.0  \n",
       "330  0.0  0.0  0.0  0.0  0.0  0.0  0.0  \n",
       "33   0.0  0.0  0.0  0.0  0.0  0.0  0.0  \n",
       "190  0.0  0.0  0.0  0.0  1.0  0.0 -1.0  \n",
       "338  0.0  0.0  0.0  0.0  0.0  0.0  0.0  \n",
       "..   ...  ...  ...  ...  ...  ...  ...  \n",
       "98   0.0  0.0  0.0  0.0  0.0  0.0  0.0  \n",
       "322  0.0  0.0  0.0  0.0  0.0  0.0  0.0  \n",
       "382  0.0  0.0  0.0  0.0  0.0  0.0  0.0  \n",
       "365  0.0  0.0  0.0  0.0  0.0  0.0  0.0  \n",
       "510  0.0  0.0  1.0  0.0  0.0  1.0 -1.0  \n",
       "\n",
       "[485 rows x 189 columns]>"
      ]
     },
     "execution_count": 239,
     "metadata": {},
     "output_type": "execute_result"
    }
   ],
   "source": [
    "#get y from 'scale' column\n",
    "y = df_removed.iloc[:,-1]\n",
    "#split X dataset \n",
    "X_train, X_test, y_train, y_test = train_test_split(X,y,test_size = 0.2, random_state= 123)\n",
    "X_train.head"
   ]
  },
  {
   "cell_type": "code",
   "execution_count": 227,
   "metadata": {},
   "outputs": [
    {
     "data": {
      "text/plain": [
       "<bound method NDFrame.head of 34      low\n",
       "330    high\n",
       "33     high\n",
       "190    high\n",
       "338    high\n",
       "       ... \n",
       "98      low\n",
       "322    high\n",
       "382    high\n",
       "365    high\n",
       "510    high\n",
       "Name: scale, Length: 485, dtype: object>"
      ]
     },
     "execution_count": 227,
     "metadata": {},
     "output_type": "execute_result"
    }
   ],
   "source": [
    "y_train.head"
   ]
  },
  {
   "cell_type": "markdown",
   "metadata": {},
   "source": [
    "#### 5.3 Models Training\n",
    "By changing the hyperparameter number of decision trees, check its effect on accuracy."
   ]
  },
  {
   "cell_type": "code",
   "execution_count": 247,
   "metadata": {},
   "outputs": [
    {
     "name": "stdout",
     "output_type": "stream",
     "text": [
      "Fold:  1,Accuracy: 0.959\n",
      "Fold:  2,Accuracy: 0.938\n",
      "Fold:  3,Accuracy: 0.959\n",
      "Fold:  4,Accuracy: 0.907\n",
      "Fold:  5,Accuracy: 0.979\n",
      "\n",
      "\n",
      "The accuracy of the model under cross-validation is: 0.948 +/- 0.024\n"
     ]
    }
   ],
   "source": [
    "#create an object for the random forest classifier and start training the model.\n",
    "# The size of this dataset is small. Therefore, we decide to use k-folder cross validation to train.  \n",
    "\n",
    "from sklearn.preprocessing import StandardScaler\n",
    "from sklearn.model_selection import KFold\n",
    "from sklearn import metrics\n",
    "\n",
    "pipeline = make_pipeline(StandardScaler(), RandomForestClassifier(n_estimators=10, max_depth=4,criterion=\"gini\"))\n",
    "kf = KFold(n_splits=5, shuffle=True,random_state= 123) # k value\n",
    "kfold = kf.split(X_train, y_train)\n",
    "acc = []\n",
    "for k, (train, test) in enumerate(kfold):\n",
    "    pipeline.fit(X_train.iloc[train, :], y_train.iloc[train])\n",
    "    score = pipeline.score(X_train.iloc[test, :], y_train.iloc[test])\n",
    "    acc.append(score)\n",
    "    print('Fold: %2d,Accuracy: %.3f' % (k+1, score))\n",
    "print('\\n\\nThe accuracy of the model under cross-validation is: %.3f +/- %.3f' %(np.mean(acc), np.std(acc)))"
   ]
  },
  {
   "cell_type": "markdown",
   "metadata": {},
   "source": [
    "### 6 Reference"
   ]
  },
  {
   "cell_type": "markdown",
   "metadata": {},
   "source": [
    "[1] dataset come from: https://www.kaggle.com/datasets/ruchi798/data-science-job-salaries\n",
    "[2] https://zhuanlan.zhihu.com/p/450460227\n",
    "[3] https://www.kaggle.com/prashant111/random-forest-classifier-feature-importance \n",
    "[4] https://medium.com/capital-one-tech/random-forest-algorithm-for-machine-learning-c4b2c8cc9feb\n",
    "[5] https://en.wikipedia.org/wiki/Random_forest \n",
    "[6] https://www.kaggle.com/lodetomasi1995/income-classification  \n",
    "[7] official document about "
   ]
  }
 ],
 "metadata": {
  "kernelspec": {
   "display_name": "Python 3.9.12 ('base': conda)",
   "language": "python",
   "name": "python3"
  },
  "language_info": {
   "codemirror_mode": {
    "name": "ipython",
    "version": 3
   },
   "file_extension": ".py",
   "mimetype": "text/x-python",
   "name": "python",
   "nbconvert_exporter": "python",
   "pygments_lexer": "ipython3",
   "version": "3.9.12"
  },
  "vscode": {
   "interpreter": {
    "hash": "abd64200868f9e73f990c562c3cd8842cabb3a2c6522eca07c5901be79e4e069"
   }
  }
 },
 "nbformat": 4,
 "nbformat_minor": 4
}
