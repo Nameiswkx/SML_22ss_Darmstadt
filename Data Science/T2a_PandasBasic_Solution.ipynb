{
 "cells": [
  {
   "cell_type": "markdown",
   "metadata": {
    "id": "5HZXHG0zAkqh"
   },
   "source": [
    "# Data Science I Topic 2"
   ]
  },
  {
   "cell_type": "markdown",
   "metadata": {
    "id": "6zt2d-muAkqn"
   },
   "source": [
    "## DataFrames"
   ]
  },
  {
   "cell_type": "markdown",
   "metadata": {
    "id": "yx58W_pqAkqo"
   },
   "source": [
    "### From a dictionary"
   ]
  },
  {
   "cell_type": "markdown",
   "metadata": {
    "id": "ahHY5qGeAkqo"
   },
   "source": [
    "<u>In T0-TupleListDictionary, you've seen the following dictionary. Run the cell.</u>"
   ]
  },
  {
   "cell_type": "code",
   "execution_count": 1,
   "metadata": {
    "id": "y7e5JKdyAkqp"
   },
   "outputs": [],
   "source": [
    "movie_ratings = {'Toy Story':{'rating':4.0, 'genre':'Animation'},\n",
    "                          'Jumanji':{'rating':4.0, 'genre':'Adventure'},\n",
    "                          'Grumpier Old Men':{'rating':4.0, 'genre':'Comedy'},\n",
    "                          'Waiting to Exhale':{'rating':4.0, 'genre':'Comedy'}\n",
    "                         }"
   ]
  },
  {
   "cell_type": "markdown",
   "metadata": {
    "id": "W4lnjeHMAkqp"
   },
   "source": [
    "<u>Let's now create a simple DataFrame from this dictionary using [Pandas](https://pandas.pydata.org/) package. Follow the instructions below.</u>"
   ]
  },
  {
   "cell_type": "code",
   "execution_count": 2,
   "metadata": {
    "executionInfo": {
     "elapsed": 1281,
     "status": "ok",
     "timestamp": 1618330441952,
     "user": {
      "displayName": "Pertami Kunz",
      "photoUrl": "https://lh3.googleusercontent.com/a-/AOh14GiA1B6yXr0YIq_Xohdjl9Zb15l2foFW4E0lIxsHpQ=s64",
      "userId": "04678566523836785999"
     },
     "user_tz": -120
    },
    "id": "YTQqBoyFAkqq"
   },
   "outputs": [],
   "source": [
    "# import pandas package with the alias pd\n",
    "import pandas as pd"
   ]
  },
  {
   "cell_type": "code",
   "execution_count": 3,
   "metadata": {
    "id": "MeDMlhwLAkqq",
    "outputId": "57387cc1-e42c-4831-cd57-74ef57bc4f56",
    "scrolled": true
   },
   "outputs": [
    {
     "name": "stdout",
     "output_type": "stream",
     "text": [
      "        Toy Story    Jumanji Grumpier Old Men Waiting to Exhale\n",
      "rating        4.0        4.0              4.0               4.0\n",
      "genre   Animation  Adventure           Comedy            Comedy\n"
     ]
    }
   ],
   "source": [
    "ratings_df = pd.DataFrame(movie_ratings)\n",
    "\n",
    "# display ratings_df#\n",
    "print(ratings_df)"
   ]
  },
  {
   "cell_type": "markdown",
   "metadata": {
    "id": "pLHBXDz3Akqr"
   },
   "source": [
    "### Transposing a DataFrame"
   ]
  },
  {
   "cell_type": "markdown",
   "metadata": {
    "id": "sc69LYGMAkqr"
   },
   "source": [
    "<u>With this simple DataFrame, let's say we want the rating and genre to be the **columns/variables**.</u>"
   ]
  },
  {
   "cell_type": "code",
   "execution_count": 4,
   "metadata": {
    "id": "om0LBKyRAkqr",
    "outputId": "d7653c41-7c5d-407e-d398-e7c51aca9264"
   },
   "outputs": [
    {
     "name": "stdout",
     "output_type": "stream",
     "text": [
      "                  rating      genre\n",
      "Toy Story            4.0  Animation\n",
      "Jumanji              4.0  Adventure\n",
      "Grumpier Old Men     4.0     Comedy\n",
      "Waiting to Exhale    4.0     Comedy\n"
     ]
    }
   ],
   "source": [
    "# How to use transpose() on a DataFrame? overwrite ratings_df with its transpose\n",
    "ratings_df = ratings_df.transpose()\n",
    "\n",
    "# print ratings_df\n",
    "print(ratings_df)"
   ]
  },
  {
   "cell_type": "markdown",
   "metadata": {
    "id": "5xP1ulMQAkqs"
   },
   "source": [
    "<u>The title of the movies became the **index** of the DataFrame.</u>"
   ]
  },
  {
   "cell_type": "markdown",
   "metadata": {
    "id": "P_XR6daZAkqs"
   },
   "source": [
    "### Using `reset_index` and  `set_index`"
   ]
  },
  {
   "cell_type": "markdown",
   "metadata": {
    "id": "Lw7bwsjGAkqs"
   },
   "source": [
    "<u>What if we don't want the title to be the indices, instead contained in a column?<br>The current index has no name, and we want the contents to be under the column `title`. So we'll first rename it, before using `reset_index`.</u>"
   ]
  },
  {
   "cell_type": "code",
   "execution_count": 5,
   "metadata": {
    "id": "ZcelxcEqAkqs",
    "outputId": "3b18c719-01fa-415b-91a8-7fccc2a90f4b",
    "scrolled": false
   },
   "outputs": [
    {
     "name": "stdout",
     "output_type": "stream",
     "text": [
      "               title rating      genre\n",
      "0          Toy Story    4.0  Animation\n",
      "1            Jumanji    4.0  Adventure\n",
      "2   Grumpier Old Men    4.0     Comedy\n",
      "3  Waiting to Exhale    4.0     Comedy\n"
     ]
    }
   ],
   "source": [
    "ratings_df = ratings_df.rename_axis('title').reset_index()\n",
    "\n",
    "# print ratings_df\n",
    "print(ratings_df)"
   ]
  },
  {
   "cell_type": "markdown",
   "metadata": {
    "id": "jhxjLPNQAkqt"
   },
   "source": [
    "<u>You can simply use `.set_index('title')` on ratings_df to reverse this.<br>We will see later, when using a bigger DataFrame, how `index` and `columns` can be useful.</u>"
   ]
  },
  {
   "cell_type": "markdown",
   "metadata": {
    "id": "ZtBNWq6HAkqt"
   },
   "source": [
    "***"
   ]
  },
  {
   "cell_type": "markdown",
   "metadata": {
    "id": "2BYPo0MbAkqt"
   },
   "source": [
    "## Reading csv files"
   ]
  },
  {
   "cell_type": "markdown",
   "metadata": {
    "id": "qwB8akaeAkqt"
   },
   "source": [
    "<u>We will use the [MovieLens Latest Datasets](https://grouplens.org/datasets/movielens/latest/). Download ml-latest-small.zip and extract the zip file. There are four csv files (`links.csv`, `movies.csv`, `ratings.csv`, and `tags.csv`). Take some time to read the README file.<br>We'll first look at `ratings.csv`</u>"
   ]
  },
  {
   "cell_type": "code",
   "execution_count": 6,
   "metadata": {
    "colab": {
     "base_uri": "https://localhost:8080/"
    },
    "executionInfo": {
     "elapsed": 59415,
     "status": "ok",
     "timestamp": 1618330994193,
     "user": {
      "displayName": "Pertami Kunz",
      "photoUrl": "https://lh3.googleusercontent.com/a-/AOh14GiA1B6yXr0YIq_Xohdjl9Zb15l2foFW4E0lIxsHpQ=s64",
      "userId": "04678566523836785999"
     },
     "user_tz": -120
    },
    "id": "zTAWlztIBVjp",
    "outputId": "6744b389-2e45-4735-8395-37d58e33d470"
   },
   "outputs": [],
   "source": [
    "# ONLY IF YOU'RE USING GOOGLE COLAB AND WANT TO MOUNT YOUR DRIVE TO ACCESS YOUR FILES,\n",
    "# uncomment these two lines:\n",
    "# from google.colab import drive\n",
    "# drive.mount('/content/drive')\n",
    "\n",
    "# Once you're done:\n",
    "#drive.flush_and_unmount()\n",
    "\n",
    "# ALTERNATIVE: Upload the file to the session storage (will be deleted once your session ends). \n",
    "# Click on the folder icon, then the icon with the up arrow symbol."
   ]
  },
  {
   "cell_type": "code",
   "execution_count": 7,
   "metadata": {
    "executionInfo": {
     "elapsed": 1107,
     "status": "ok",
     "timestamp": 1618331313688,
     "user": {
      "displayName": "Pertami Kunz",
      "photoUrl": "https://lh3.googleusercontent.com/a-/AOh14GiA1B6yXr0YIq_Xohdjl9Zb15l2foFW4E0lIxsHpQ=s64",
      "userId": "04678566523836785999"
     },
     "user_tz": -120
    },
    "id": "kfP7zmQ3Akqu"
   },
   "outputs": [],
   "source": [
    "# Change the path if necessary\n",
    "ratings_df = pd.read_csv('ml-latest-small/ratings.csv')"
   ]
  },
  {
   "cell_type": "markdown",
   "metadata": {
    "id": "4xvgr9vGAkqu"
   },
   "source": [
    "<u>Read the rest of the csv files.</u>"
   ]
  },
  {
   "cell_type": "code",
   "execution_count": 8,
   "metadata": {
    "executionInfo": {
     "elapsed": 401,
     "status": "ok",
     "timestamp": 1618331322789,
     "user": {
      "displayName": "Pertami Kunz",
      "photoUrl": "https://lh3.googleusercontent.com/a-/AOh14GiA1B6yXr0YIq_Xohdjl9Zb15l2foFW4E0lIxsHpQ=s64",
      "userId": "04678566523836785999"
     },
     "user_tz": -120
    },
    "id": "0rRGlpnEAkqu"
   },
   "outputs": [],
   "source": [
    "movies_df = pd.read_csv('ml-latest-small/movies.csv')\n",
    "links_df = pd.read_csv('ml-latest-small/links.csv')\n",
    "tags_df = pd.read_csv('ml-latest-small/tags.csv')"
   ]
  },
  {
   "cell_type": "markdown",
   "metadata": {
    "id": "v_daP2k4Akqu"
   },
   "source": [
    "***"
   ]
  },
  {
   "cell_type": "markdown",
   "metadata": {
    "id": "YlzQK-MTAkqu"
   },
   "source": [
    "## Exploring DataFrames"
   ]
  },
  {
   "cell_type": "markdown",
   "metadata": {
    "id": "drfCUmllAkqu"
   },
   "source": [
    "<u>Run the cells below, follow the instructions and inspect the outputs.</u>"
   ]
  },
  {
   "cell_type": "code",
   "execution_count": 9,
   "metadata": {
    "id": "uCOvozkZAkqv",
    "outputId": "aedbff5f-8022-4940-b645-55ad55b5a99e"
   },
   "outputs": [
    {
     "data": {
      "text/html": [
       "<div>\n",
       "<style scoped>\n",
       "    .dataframe tbody tr th:only-of-type {\n",
       "        vertical-align: middle;\n",
       "    }\n",
       "\n",
       "    .dataframe tbody tr th {\n",
       "        vertical-align: top;\n",
       "    }\n",
       "\n",
       "    .dataframe thead th {\n",
       "        text-align: right;\n",
       "    }\n",
       "</style>\n",
       "<table border=\"1\" class=\"dataframe\">\n",
       "  <thead>\n",
       "    <tr style=\"text-align: right;\">\n",
       "      <th></th>\n",
       "      <th>userId</th>\n",
       "      <th>movieId</th>\n",
       "      <th>rating</th>\n",
       "      <th>timestamp</th>\n",
       "    </tr>\n",
       "  </thead>\n",
       "  <tbody>\n",
       "    <tr>\n",
       "      <th>0</th>\n",
       "      <td>1</td>\n",
       "      <td>1</td>\n",
       "      <td>4.0</td>\n",
       "      <td>964982703</td>\n",
       "    </tr>\n",
       "    <tr>\n",
       "      <th>1</th>\n",
       "      <td>1</td>\n",
       "      <td>3</td>\n",
       "      <td>4.0</td>\n",
       "      <td>964981247</td>\n",
       "    </tr>\n",
       "    <tr>\n",
       "      <th>2</th>\n",
       "      <td>1</td>\n",
       "      <td>6</td>\n",
       "      <td>4.0</td>\n",
       "      <td>964982224</td>\n",
       "    </tr>\n",
       "  </tbody>\n",
       "</table>\n",
       "</div>"
      ],
      "text/plain": [
       "   userId  movieId  rating  timestamp\n",
       "0       1        1     4.0  964982703\n",
       "1       1        3     4.0  964981247\n",
       "2       1        6     4.0  964982224"
      ]
     },
     "execution_count": 9,
     "metadata": {},
     "output_type": "execute_result"
    }
   ],
   "source": [
    "ratings_df.head(3) # without number specification, the default of 5 entries will be printed"
   ]
  },
  {
   "cell_type": "markdown",
   "metadata": {
    "id": "iyK5ErmuAkqv"
   },
   "source": [
    "<u>We want the timestamp column to be more readable and easier to deal with. Let's change it to DateTime format.</u>"
   ]
  },
  {
   "cell_type": "code",
   "execution_count": 10,
   "metadata": {
    "id": "RrpqrvkIAkqv"
   },
   "outputs": [],
   "source": [
    "ratings_df[\"time\"] = pd.to_datetime(ratings_df.timestamp, unit='s')\n",
    "ratings_df = ratings_df.drop(columns=\"timestamp\")"
   ]
  },
  {
   "cell_type": "code",
   "execution_count": 11,
   "metadata": {
    "id": "wBrqknA5Akqv",
    "outputId": "f84c3168-dab8-46bf-91dc-a5713a34cf45"
   },
   "outputs": [
    {
     "data": {
      "text/html": [
       "<div>\n",
       "<style scoped>\n",
       "    .dataframe tbody tr th:only-of-type {\n",
       "        vertical-align: middle;\n",
       "    }\n",
       "\n",
       "    .dataframe tbody tr th {\n",
       "        vertical-align: top;\n",
       "    }\n",
       "\n",
       "    .dataframe thead th {\n",
       "        text-align: right;\n",
       "    }\n",
       "</style>\n",
       "<table border=\"1\" class=\"dataframe\">\n",
       "  <thead>\n",
       "    <tr style=\"text-align: right;\">\n",
       "      <th></th>\n",
       "      <th>userId</th>\n",
       "      <th>movieId</th>\n",
       "      <th>rating</th>\n",
       "      <th>time</th>\n",
       "    </tr>\n",
       "  </thead>\n",
       "  <tbody>\n",
       "    <tr>\n",
       "      <th>100833</th>\n",
       "      <td>610</td>\n",
       "      <td>168250</td>\n",
       "      <td>5.0</td>\n",
       "      <td>2017-05-08 19:50:47</td>\n",
       "    </tr>\n",
       "    <tr>\n",
       "      <th>100834</th>\n",
       "      <td>610</td>\n",
       "      <td>168252</td>\n",
       "      <td>5.0</td>\n",
       "      <td>2017-05-03 21:19:12</td>\n",
       "    </tr>\n",
       "    <tr>\n",
       "      <th>100835</th>\n",
       "      <td>610</td>\n",
       "      <td>170875</td>\n",
       "      <td>3.0</td>\n",
       "      <td>2017-05-03 21:20:15</td>\n",
       "    </tr>\n",
       "  </tbody>\n",
       "</table>\n",
       "</div>"
      ],
      "text/plain": [
       "        userId  movieId  rating                time\n",
       "100833     610   168250     5.0 2017-05-08 19:50:47\n",
       "100834     610   168252     5.0 2017-05-03 21:19:12\n",
       "100835     610   170875     3.0 2017-05-03 21:20:15"
      ]
     },
     "execution_count": 11,
     "metadata": {},
     "output_type": "execute_result"
    }
   ],
   "source": [
    "# .tail() will print the last few entries.\n",
    "# show the last 3 entries of ratings_df\n",
    "ratings_df.tail(3)"
   ]
  },
  {
   "cell_type": "code",
   "execution_count": 12,
   "metadata": {
    "id": "g3ItAIZKAkqw",
    "outputId": "7de1a685-52d1-4c34-c6fa-1c3e709feb44",
    "scrolled": true
   },
   "outputs": [
    {
     "data": {
      "text/html": [
       "<div>\n",
       "<style scoped>\n",
       "    .dataframe tbody tr th:only-of-type {\n",
       "        vertical-align: middle;\n",
       "    }\n",
       "\n",
       "    .dataframe tbody tr th {\n",
       "        vertical-align: top;\n",
       "    }\n",
       "\n",
       "    .dataframe thead th {\n",
       "        text-align: right;\n",
       "    }\n",
       "</style>\n",
       "<table border=\"1\" class=\"dataframe\">\n",
       "  <thead>\n",
       "    <tr style=\"text-align: right;\">\n",
       "      <th></th>\n",
       "      <th>movieId</th>\n",
       "      <th>title</th>\n",
       "      <th>genres</th>\n",
       "    </tr>\n",
       "  </thead>\n",
       "  <tbody>\n",
       "    <tr>\n",
       "      <th>0</th>\n",
       "      <td>1</td>\n",
       "      <td>Toy Story (1995)</td>\n",
       "      <td>Adventure|Animation|Children|Comedy|Fantasy</td>\n",
       "    </tr>\n",
       "    <tr>\n",
       "      <th>1</th>\n",
       "      <td>2</td>\n",
       "      <td>Jumanji (1995)</td>\n",
       "      <td>Adventure|Children|Fantasy</td>\n",
       "    </tr>\n",
       "    <tr>\n",
       "      <th>2</th>\n",
       "      <td>3</td>\n",
       "      <td>Grumpier Old Men (1995)</td>\n",
       "      <td>Comedy|Romance</td>\n",
       "    </tr>\n",
       "  </tbody>\n",
       "</table>\n",
       "</div>"
      ],
      "text/plain": [
       "   movieId                    title  \\\n",
       "0        1         Toy Story (1995)   \n",
       "1        2           Jumanji (1995)   \n",
       "2        3  Grumpier Old Men (1995)   \n",
       "\n",
       "                                        genres  \n",
       "0  Adventure|Animation|Children|Comedy|Fantasy  \n",
       "1                   Adventure|Children|Fantasy  \n",
       "2                               Comedy|Romance  "
      ]
     },
     "execution_count": 12,
     "metadata": {},
     "output_type": "execute_result"
    }
   ],
   "source": [
    "# show the first few entries of movies_df\n",
    "movies_df.head(3)"
   ]
  },
  {
   "cell_type": "code",
   "execution_count": 13,
   "metadata": {
    "id": "1niC0MvVAkqw",
    "outputId": "6bc56430-f1e6-4f33-8db2-5ecfac9d8893",
    "scrolled": true
   },
   "outputs": [
    {
     "data": {
      "text/html": [
       "<div>\n",
       "<style scoped>\n",
       "    .dataframe tbody tr th:only-of-type {\n",
       "        vertical-align: middle;\n",
       "    }\n",
       "\n",
       "    .dataframe tbody tr th {\n",
       "        vertical-align: top;\n",
       "    }\n",
       "\n",
       "    .dataframe thead th {\n",
       "        text-align: right;\n",
       "    }\n",
       "</style>\n",
       "<table border=\"1\" class=\"dataframe\">\n",
       "  <thead>\n",
       "    <tr style=\"text-align: right;\">\n",
       "      <th></th>\n",
       "      <th>movieId</th>\n",
       "      <th>imdbId</th>\n",
       "      <th>tmdbId</th>\n",
       "    </tr>\n",
       "  </thead>\n",
       "  <tbody>\n",
       "    <tr>\n",
       "      <th>0</th>\n",
       "      <td>1</td>\n",
       "      <td>114709</td>\n",
       "      <td>862.0</td>\n",
       "    </tr>\n",
       "    <tr>\n",
       "      <th>1</th>\n",
       "      <td>2</td>\n",
       "      <td>113497</td>\n",
       "      <td>8844.0</td>\n",
       "    </tr>\n",
       "    <tr>\n",
       "      <th>2</th>\n",
       "      <td>3</td>\n",
       "      <td>113228</td>\n",
       "      <td>15602.0</td>\n",
       "    </tr>\n",
       "  </tbody>\n",
       "</table>\n",
       "</div>"
      ],
      "text/plain": [
       "   movieId  imdbId   tmdbId\n",
       "0        1  114709    862.0\n",
       "1        2  113497   8844.0\n",
       "2        3  113228  15602.0"
      ]
     },
     "execution_count": 13,
     "metadata": {},
     "output_type": "execute_result"
    }
   ],
   "source": [
    "# show the first few entries of links_df\n",
    "links_df.head(3)"
   ]
  },
  {
   "cell_type": "code",
   "execution_count": 14,
   "metadata": {
    "id": "s3TIb1hhAkqw",
    "outputId": "2ad12f9c-628d-47f2-9037-fa0a0023955f",
    "scrolled": false
   },
   "outputs": [
    {
     "data": {
      "text/html": [
       "<div>\n",
       "<style scoped>\n",
       "    .dataframe tbody tr th:only-of-type {\n",
       "        vertical-align: middle;\n",
       "    }\n",
       "\n",
       "    .dataframe tbody tr th {\n",
       "        vertical-align: top;\n",
       "    }\n",
       "\n",
       "    .dataframe thead th {\n",
       "        text-align: right;\n",
       "    }\n",
       "</style>\n",
       "<table border=\"1\" class=\"dataframe\">\n",
       "  <thead>\n",
       "    <tr style=\"text-align: right;\">\n",
       "      <th></th>\n",
       "      <th>userId</th>\n",
       "      <th>movieId</th>\n",
       "      <th>tag</th>\n",
       "      <th>time</th>\n",
       "    </tr>\n",
       "  </thead>\n",
       "  <tbody>\n",
       "    <tr>\n",
       "      <th>0</th>\n",
       "      <td>2</td>\n",
       "      <td>60756</td>\n",
       "      <td>funny</td>\n",
       "      <td>2015-10-24 19:29:54</td>\n",
       "    </tr>\n",
       "    <tr>\n",
       "      <th>1</th>\n",
       "      <td>2</td>\n",
       "      <td>60756</td>\n",
       "      <td>Highly quotable</td>\n",
       "      <td>2015-10-24 19:29:56</td>\n",
       "    </tr>\n",
       "    <tr>\n",
       "      <th>2</th>\n",
       "      <td>2</td>\n",
       "      <td>60756</td>\n",
       "      <td>will ferrell</td>\n",
       "      <td>2015-10-24 19:29:52</td>\n",
       "    </tr>\n",
       "  </tbody>\n",
       "</table>\n",
       "</div>"
      ],
      "text/plain": [
       "   userId  movieId              tag                time\n",
       "0       2    60756            funny 2015-10-24 19:29:54\n",
       "1       2    60756  Highly quotable 2015-10-24 19:29:56\n",
       "2       2    60756     will ferrell 2015-10-24 19:29:52"
      ]
     },
     "execution_count": 14,
     "metadata": {},
     "output_type": "execute_result"
    }
   ],
   "source": [
    "# tags_df also contains a Unix timestamp, \"timestamp\", column\n",
    "\n",
    "# add a column \"time\" that contains the DateTime format of \"timestamp\"\n",
    "tags_df[\"time\"] = pd.to_datetime(tags_df.timestamp, unit='s')\n",
    "\n",
    "# drop the column \"timestamp\"\n",
    "tags_df = tags_df.drop(columns=\"timestamp\")\n",
    "\n",
    "# show the first few entries of tags_df\n",
    "tags_df.head(3)"
   ]
  },
  {
   "cell_type": "markdown",
   "metadata": {
    "id": "NcIsSJjNAkqx"
   },
   "source": [
    "<u>Run the following cells and inspect the outputs. How many entries are there in `ratings_df`? Are there any empty (null) entries?</u>"
   ]
  },
  {
   "cell_type": "code",
   "execution_count": 15,
   "metadata": {
    "id": "ani8IhpoAkqx",
    "outputId": "755d26d1-2289-4352-e64a-f417b1fa4c8f"
   },
   "outputs": [
    {
     "data": {
      "text/plain": [
       "(100836, 4)"
      ]
     },
     "execution_count": 15,
     "metadata": {},
     "output_type": "execute_result"
    }
   ],
   "source": [
    "# Print the size \n",
    "ratings_df.shape"
   ]
  },
  {
   "cell_type": "code",
   "execution_count": 16,
   "metadata": {
    "id": "-mPzgcQ2Akqx",
    "outputId": "048b957a-5b74-4b1c-f4ad-c8a9a90904e2",
    "scrolled": true
   },
   "outputs": [
    {
     "name": "stdout",
     "output_type": "stream",
     "text": [
      "<class 'pandas.core.frame.DataFrame'>\n",
      "RangeIndex: 100836 entries, 0 to 100835\n",
      "Data columns (total 4 columns):\n",
      " #   Column   Non-Null Count   Dtype         \n",
      "---  ------   --------------   -----         \n",
      " 0   userId   100836 non-null  int64         \n",
      " 1   movieId  100836 non-null  int64         \n",
      " 2   rating   100836 non-null  float64       \n",
      " 3   time     100836 non-null  datetime64[ns]\n",
      "dtypes: datetime64[ns](1), float64(1), int64(2)\n",
      "memory usage: 3.1 MB\n"
     ]
    }
   ],
   "source": [
    "# Print the information about ratings_df\n",
    "ratings_df.info()"
   ]
  },
  {
   "cell_type": "code",
   "execution_count": 17,
   "metadata": {
    "id": "ZN46fxX_Akqx",
    "outputId": "01c2e9ac-dcee-4c4a-db02-a1641da8ba43",
    "scrolled": true
   },
   "outputs": [
    {
     "data": {
      "text/html": [
       "<div>\n",
       "<style scoped>\n",
       "    .dataframe tbody tr th:only-of-type {\n",
       "        vertical-align: middle;\n",
       "    }\n",
       "\n",
       "    .dataframe tbody tr th {\n",
       "        vertical-align: top;\n",
       "    }\n",
       "\n",
       "    .dataframe thead th {\n",
       "        text-align: right;\n",
       "    }\n",
       "</style>\n",
       "<table border=\"1\" class=\"dataframe\">\n",
       "  <thead>\n",
       "    <tr style=\"text-align: right;\">\n",
       "      <th></th>\n",
       "      <th>userId</th>\n",
       "      <th>movieId</th>\n",
       "      <th>rating</th>\n",
       "    </tr>\n",
       "  </thead>\n",
       "  <tbody>\n",
       "    <tr>\n",
       "      <th>count</th>\n",
       "      <td>100836.000000</td>\n",
       "      <td>100836.000000</td>\n",
       "      <td>100836.000000</td>\n",
       "    </tr>\n",
       "    <tr>\n",
       "      <th>mean</th>\n",
       "      <td>326.127564</td>\n",
       "      <td>19435.295718</td>\n",
       "      <td>3.501557</td>\n",
       "    </tr>\n",
       "    <tr>\n",
       "      <th>std</th>\n",
       "      <td>182.618491</td>\n",
       "      <td>35530.987199</td>\n",
       "      <td>1.042529</td>\n",
       "    </tr>\n",
       "    <tr>\n",
       "      <th>min</th>\n",
       "      <td>1.000000</td>\n",
       "      <td>1.000000</td>\n",
       "      <td>0.500000</td>\n",
       "    </tr>\n",
       "    <tr>\n",
       "      <th>25%</th>\n",
       "      <td>177.000000</td>\n",
       "      <td>1199.000000</td>\n",
       "      <td>3.000000</td>\n",
       "    </tr>\n",
       "    <tr>\n",
       "      <th>50%</th>\n",
       "      <td>325.000000</td>\n",
       "      <td>2991.000000</td>\n",
       "      <td>3.500000</td>\n",
       "    </tr>\n",
       "    <tr>\n",
       "      <th>75%</th>\n",
       "      <td>477.000000</td>\n",
       "      <td>8122.000000</td>\n",
       "      <td>4.000000</td>\n",
       "    </tr>\n",
       "    <tr>\n",
       "      <th>max</th>\n",
       "      <td>610.000000</td>\n",
       "      <td>193609.000000</td>\n",
       "      <td>5.000000</td>\n",
       "    </tr>\n",
       "  </tbody>\n",
       "</table>\n",
       "</div>"
      ],
      "text/plain": [
       "              userId        movieId         rating\n",
       "count  100836.000000  100836.000000  100836.000000\n",
       "mean      326.127564   19435.295718       3.501557\n",
       "std       182.618491   35530.987199       1.042529\n",
       "min         1.000000       1.000000       0.500000\n",
       "25%       177.000000    1199.000000       3.000000\n",
       "50%       325.000000    2991.000000       3.500000\n",
       "75%       477.000000    8122.000000       4.000000\n",
       "max       610.000000  193609.000000       5.000000"
      ]
     },
     "execution_count": 17,
     "metadata": {},
     "output_type": "execute_result"
    }
   ],
   "source": [
    "# Print the description \n",
    "ratings_df.describe()"
   ]
  },
  {
   "cell_type": "markdown",
   "metadata": {
    "id": "vKRyYA03Akqy"
   },
   "source": [
    "<u>Now the userId and movieId are still numerical. We can use .astype(str) or .astype('category')) or pd.Category(...) to change them. But we'll leave them be for now.</u>"
   ]
  },
  {
   "cell_type": "code",
   "execution_count": 18,
   "metadata": {
    "id": "T1VzT_VCAkqy",
    "outputId": "d6e49ea8-2877-4cbb-bcb8-ce320695d7d2"
   },
   "outputs": [
    {
     "data": {
      "text/plain": [
       "Index(['userId', 'movieId', 'rating', 'time'], dtype='object')"
      ]
     },
     "execution_count": 18,
     "metadata": {},
     "output_type": "execute_result"
    }
   ],
   "source": [
    "# Print the column names\n",
    "ratings_df.columns"
   ]
  },
  {
   "cell_type": "code",
   "execution_count": 19,
   "metadata": {
    "id": "fisO0LFDAkqy",
    "outputId": "1d96fb8c-eb81-48ae-fa73-adcbb563d9d5"
   },
   "outputs": [
    {
     "data": {
      "text/plain": [
       "RangeIndex(start=0, stop=100836, step=1)"
      ]
     },
     "execution_count": 19,
     "metadata": {},
     "output_type": "execute_result"
    }
   ],
   "source": [
    "# Print the indices\n",
    "ratings_df.index"
   ]
  },
  {
   "cell_type": "code",
   "execution_count": 20,
   "metadata": {},
   "outputs": [
    {
     "data": {
      "text/html": [
       "<div>\n",
       "<style scoped>\n",
       "    .dataframe tbody tr th:only-of-type {\n",
       "        vertical-align: middle;\n",
       "    }\n",
       "\n",
       "    .dataframe tbody tr th {\n",
       "        vertical-align: top;\n",
       "    }\n",
       "\n",
       "    .dataframe thead th {\n",
       "        text-align: right;\n",
       "    }\n",
       "</style>\n",
       "<table border=\"1\" class=\"dataframe\">\n",
       "  <thead>\n",
       "    <tr style=\"text-align: right;\">\n",
       "      <th></th>\n",
       "      <th>userId</th>\n",
       "      <th>movieId</th>\n",
       "      <th>rating</th>\n",
       "      <th>time</th>\n",
       "    </tr>\n",
       "  </thead>\n",
       "  <tbody>\n",
       "    <tr>\n",
       "      <th>100834</th>\n",
       "      <td>610</td>\n",
       "      <td>168252</td>\n",
       "      <td>5.0</td>\n",
       "      <td>2017-05-03 21:19:12</td>\n",
       "    </tr>\n",
       "    <tr>\n",
       "      <th>100835</th>\n",
       "      <td>610</td>\n",
       "      <td>170875</td>\n",
       "      <td>3.0</td>\n",
       "      <td>2017-05-03 21:20:15</td>\n",
       "    </tr>\n",
       "  </tbody>\n",
       "</table>\n",
       "</div>"
      ],
      "text/plain": [
       "        userId  movieId  rating                time\n",
       "100834     610   168252     5.0 2017-05-03 21:19:12\n",
       "100835     610   170875     3.0 2017-05-03 21:20:15"
      ]
     },
     "execution_count": 20,
     "metadata": {},
     "output_type": "execute_result"
    }
   ],
   "source": [
    "ratings_df.tail(2)"
   ]
  },
  {
   "cell_type": "code",
   "execution_count": 21,
   "metadata": {},
   "outputs": [
    {
     "data": {
      "text/plain": [
       "userId                     610\n",
       "movieId                 170875\n",
       "rating                     3.0\n",
       "time       2017-05-03 21:20:15\n",
       "Name: 100835, dtype: object"
      ]
     },
     "execution_count": 21,
     "metadata": {},
     "output_type": "execute_result"
    }
   ],
   "source": [
    "ratings_df.iloc[100835,:]"
   ]
  },
  {
   "cell_type": "markdown",
   "metadata": {
    "id": "qXKbeEh3Akqy"
   },
   "source": [
    "**Ans**: 100836 entries, there's no null entries."
   ]
  },
  {
   "cell_type": "markdown",
   "metadata": {
    "id": "dqAD3yNtAkqy"
   },
   "source": [
    "<u>Questions:</u>\n",
    "1. "
   ]
  },
  {
   "cell_type": "markdown",
   "metadata": {
    "id": "Ss-hAhkSAkqz"
   },
   "source": [
    "***"
   ]
  },
  {
   "cell_type": "markdown",
   "metadata": {
    "id": "-ez8dHeGAkqz"
   },
   "source": [
    "## Subsetting and Sorting"
   ]
  },
  {
   "cell_type": "markdown",
   "metadata": {
    "id": "pAqLuYDNAkqz"
   },
   "source": [
    "### Subsetting columns"
   ]
  },
  {
   "cell_type": "markdown",
   "metadata": {
    "id": "XF9394JhAkqz"
   },
   "source": [
    "<u>Run the cells below.</u>"
   ]
  },
  {
   "cell_type": "code",
   "execution_count": 22,
   "metadata": {
    "id": "au3dG6QbAkqz",
    "scrolled": true
   },
   "outputs": [],
   "source": [
    "only_ratings = ratings_df[\"rating\"]"
   ]
  },
  {
   "cell_type": "markdown",
   "metadata": {
    "id": "33TzqqqSAkqz"
   },
   "source": [
    "<u>Q: What is the data type?</u>"
   ]
  },
  {
   "cell_type": "code",
   "execution_count": 23,
   "metadata": {},
   "outputs": [
    {
     "data": {
      "text/plain": [
       "dtype('float64')"
      ]
     },
     "execution_count": 23,
     "metadata": {},
     "output_type": "execute_result"
    }
   ],
   "source": [
    "only_ratings.dtype"
   ]
  },
  {
   "cell_type": "code",
   "execution_count": 24,
   "metadata": {
    "id": "VIT_5k6eAkq0",
    "outputId": "37534bf4-713f-43a8-ab01-cb93cf20b8ff"
   },
   "outputs": [
    {
     "name": "stdout",
     "output_type": "stream",
     "text": [
      "<class 'pandas.core.series.Series'>\n"
     ]
    }
   ],
   "source": [
    "# print the data type of only_ratings\n",
    "print(type(only_ratings))"
   ]
  },
  {
   "cell_type": "markdown",
   "metadata": {
    "id": "iCfFi6Z0Akq0"
   },
   "source": [
    "<u>We can subset multiple columns by passing the column names as a list.</u>"
   ]
  },
  {
   "cell_type": "code",
   "execution_count": 25,
   "metadata": {
    "id": "PHWqHIj4Akq0",
    "outputId": "4bc556bc-9b0c-4b6a-a4b6-2fa7ef659c17"
   },
   "outputs": [
    {
     "name": "stdout",
     "output_type": "stream",
     "text": [
      "        movieId  rating\n",
      "0             1     4.0\n",
      "1             3     4.0\n",
      "2             6     4.0\n",
      "3            47     5.0\n",
      "4            50     5.0\n",
      "...         ...     ...\n",
      "100831   166534     4.0\n",
      "100832   168248     5.0\n",
      "100833   168250     5.0\n",
      "100834   168252     5.0\n",
      "100835   170875     3.0\n",
      "\n",
      "[100836 rows x 2 columns]\n",
      "<class 'pandas.core.frame.DataFrame'>\n"
     ]
    }
   ],
   "source": [
    "# Select columns \"movieId\" and \"rating\"\n",
    "print(ratings_df[[\"movieId\", \"rating\"]])\n",
    "print(type(ratings_df))"
   ]
  },
  {
   "cell_type": "code",
   "execution_count": 26,
   "metadata": {
    "id": "jEmMQBdYAkq0",
    "outputId": "6bf33a9e-9d66-4388-b449-abfffd361b53"
   },
   "outputs": [
    {
     "data": {
      "text/html": [
       "<div>\n",
       "<style scoped>\n",
       "    .dataframe tbody tr th:only-of-type {\n",
       "        vertical-align: middle;\n",
       "    }\n",
       "\n",
       "    .dataframe tbody tr th {\n",
       "        vertical-align: top;\n",
       "    }\n",
       "\n",
       "    .dataframe thead th {\n",
       "        text-align: right;\n",
       "    }\n",
       "</style>\n",
       "<table border=\"1\" class=\"dataframe\">\n",
       "  <thead>\n",
       "    <tr style=\"text-align: right;\">\n",
       "      <th></th>\n",
       "      <th>movieId</th>\n",
       "      <th>rating</th>\n",
       "    </tr>\n",
       "  </thead>\n",
       "  <tbody>\n",
       "    <tr>\n",
       "      <th>0</th>\n",
       "      <td>1</td>\n",
       "      <td>4.0</td>\n",
       "    </tr>\n",
       "    <tr>\n",
       "      <th>1</th>\n",
       "      <td>3</td>\n",
       "      <td>4.0</td>\n",
       "    </tr>\n",
       "    <tr>\n",
       "      <th>2</th>\n",
       "      <td>6</td>\n",
       "      <td>4.0</td>\n",
       "    </tr>\n",
       "    <tr>\n",
       "      <th>3</th>\n",
       "      <td>47</td>\n",
       "      <td>5.0</td>\n",
       "    </tr>\n",
       "    <tr>\n",
       "      <th>4</th>\n",
       "      <td>50</td>\n",
       "      <td>5.0</td>\n",
       "    </tr>\n",
       "  </tbody>\n",
       "</table>\n",
       "</div>"
      ],
      "text/plain": [
       "   movieId  rating\n",
       "0        1     4.0\n",
       "1        3     4.0\n",
       "2        6     4.0\n",
       "3       47     5.0\n",
       "4       50     5.0"
      ]
     },
     "execution_count": 26,
     "metadata": {},
     "output_type": "execute_result"
    }
   ],
   "source": [
    "ratings_df[[\"movieId\", \"rating\"]].head()"
   ]
  },
  {
   "cell_type": "markdown",
   "metadata": {
    "id": "UbUyuN38Akq0"
   },
   "source": [
    "### Sorting rows"
   ]
  },
  {
   "cell_type": "markdown",
   "metadata": {
    "id": "9I63CsgjAkq1"
   },
   "source": [
    "<u>Let's sort the movie based on their ratings.</u>"
   ]
  },
  {
   "cell_type": "code",
   "execution_count": 27,
   "metadata": {
    "id": "TDzWrH4mAkq1",
    "outputId": "1ffacaa9-1b34-421a-8f01-bcf901e051f7"
   },
   "outputs": [
    {
     "data": {
      "text/html": [
       "<div>\n",
       "<style scoped>\n",
       "    .dataframe tbody tr th:only-of-type {\n",
       "        vertical-align: middle;\n",
       "    }\n",
       "\n",
       "    .dataframe tbody tr th {\n",
       "        vertical-align: top;\n",
       "    }\n",
       "\n",
       "    .dataframe thead th {\n",
       "        text-align: right;\n",
       "    }\n",
       "</style>\n",
       "<table border=\"1\" class=\"dataframe\">\n",
       "  <thead>\n",
       "    <tr style=\"text-align: right;\">\n",
       "      <th></th>\n",
       "      <th>userId</th>\n",
       "      <th>movieId</th>\n",
       "      <th>rating</th>\n",
       "      <th>time</th>\n",
       "    </tr>\n",
       "  </thead>\n",
       "  <tbody>\n",
       "    <tr>\n",
       "      <th>3752</th>\n",
       "      <td>22</td>\n",
       "      <td>53519</td>\n",
       "      <td>0.5</td>\n",
       "      <td>2010-03-16 08:12:17</td>\n",
       "    </tr>\n",
       "    <tr>\n",
       "      <th>60861</th>\n",
       "      <td>393</td>\n",
       "      <td>5445</td>\n",
       "      <td>0.5</td>\n",
       "      <td>2015-05-01 18:57:16</td>\n",
       "    </tr>\n",
       "    <tr>\n",
       "      <th>47025</th>\n",
       "      <td>307</td>\n",
       "      <td>2017</td>\n",
       "      <td>0.5</td>\n",
       "      <td>2007-08-03 20:40:39</td>\n",
       "    </tr>\n",
       "    <tr>\n",
       "      <th>22446</th>\n",
       "      <td>153</td>\n",
       "      <td>1198</td>\n",
       "      <td>0.5</td>\n",
       "      <td>2018-05-05 19:24:24</td>\n",
       "    </tr>\n",
       "    <tr>\n",
       "      <th>60865</th>\n",
       "      <td>393</td>\n",
       "      <td>5902</td>\n",
       "      <td>0.5</td>\n",
       "      <td>2015-05-01 19:11:49</td>\n",
       "    </tr>\n",
       "    <tr>\n",
       "      <th>...</th>\n",
       "      <td>...</td>\n",
       "      <td>...</td>\n",
       "      <td>...</td>\n",
       "      <td>...</td>\n",
       "    </tr>\n",
       "    <tr>\n",
       "      <th>90260</th>\n",
       "      <td>587</td>\n",
       "      <td>50</td>\n",
       "      <td>5.0</td>\n",
       "      <td>2000-03-15 17:29:26</td>\n",
       "    </tr>\n",
       "    <tr>\n",
       "      <th>90261</th>\n",
       "      <td>587</td>\n",
       "      <td>58</td>\n",
       "      <td>5.0</td>\n",
       "      <td>2000-03-15 17:33:12</td>\n",
       "    </tr>\n",
       "    <tr>\n",
       "      <th>17061</th>\n",
       "      <td>108</td>\n",
       "      <td>5303</td>\n",
       "      <td>5.0</td>\n",
       "      <td>2003-01-17 21:41:59</td>\n",
       "    </tr>\n",
       "    <tr>\n",
       "      <th>90266</th>\n",
       "      <td>587</td>\n",
       "      <td>236</td>\n",
       "      <td>5.0</td>\n",
       "      <td>2000-03-15 16:59:01</td>\n",
       "    </tr>\n",
       "    <tr>\n",
       "      <th>81530</th>\n",
       "      <td>516</td>\n",
       "      <td>4429</td>\n",
       "      <td>5.0</td>\n",
       "      <td>2001-07-08 20:48:19</td>\n",
       "    </tr>\n",
       "  </tbody>\n",
       "</table>\n",
       "<p>100836 rows × 4 columns</p>\n",
       "</div>"
      ],
      "text/plain": [
       "       userId  movieId  rating                time\n",
       "3752       22    53519     0.5 2010-03-16 08:12:17\n",
       "60861     393     5445     0.5 2015-05-01 18:57:16\n",
       "47025     307     2017     0.5 2007-08-03 20:40:39\n",
       "22446     153     1198     0.5 2018-05-05 19:24:24\n",
       "60865     393     5902     0.5 2015-05-01 19:11:49\n",
       "...       ...      ...     ...                 ...\n",
       "90260     587       50     5.0 2000-03-15 17:29:26\n",
       "90261     587       58     5.0 2000-03-15 17:33:12\n",
       "17061     108     5303     5.0 2003-01-17 21:41:59\n",
       "90266     587      236     5.0 2000-03-15 16:59:01\n",
       "81530     516     4429     5.0 2001-07-08 20:48:19\n",
       "\n",
       "[100836 rows x 4 columns]"
      ]
     },
     "execution_count": 27,
     "metadata": {},
     "output_type": "execute_result"
    }
   ],
   "source": [
    "ratings_df.sort_values(\"rating\")"
   ]
  },
  {
   "cell_type": "markdown",
   "metadata": {
    "id": "ZAJqQCCVAkq1"
   },
   "source": [
    "<u>How to get the highest rating movies on the top?</u>"
   ]
  },
  {
   "cell_type": "code",
   "execution_count": 28,
   "metadata": {
    "id": "_b4hHdvpAkq1",
    "outputId": "ad7ede5e-0237-41c4-8cef-e74327e725cf",
    "scrolled": false
   },
   "outputs": [
    {
     "data": {
      "text/html": [
       "<div>\n",
       "<style scoped>\n",
       "    .dataframe tbody tr th:only-of-type {\n",
       "        vertical-align: middle;\n",
       "    }\n",
       "\n",
       "    .dataframe tbody tr th {\n",
       "        vertical-align: top;\n",
       "    }\n",
       "\n",
       "    .dataframe thead th {\n",
       "        text-align: right;\n",
       "    }\n",
       "</style>\n",
       "<table border=\"1\" class=\"dataframe\">\n",
       "  <thead>\n",
       "    <tr style=\"text-align: right;\">\n",
       "      <th></th>\n",
       "      <th>userId</th>\n",
       "      <th>movieId</th>\n",
       "      <th>rating</th>\n",
       "      <th>time</th>\n",
       "    </tr>\n",
       "  </thead>\n",
       "  <tbody>\n",
       "    <tr>\n",
       "      <th>34031</th>\n",
       "      <td>232</td>\n",
       "      <td>3147</td>\n",
       "      <td>5.0</td>\n",
       "      <td>2008-08-08 03:08:23</td>\n",
       "    </tr>\n",
       "    <tr>\n",
       "      <th>50717</th>\n",
       "      <td>328</td>\n",
       "      <td>1080</td>\n",
       "      <td>5.0</td>\n",
       "      <td>2017-05-08 02:27:30</td>\n",
       "    </tr>\n",
       "    <tr>\n",
       "      <th>18166</th>\n",
       "      <td>115</td>\n",
       "      <td>487</td>\n",
       "      <td>5.0</td>\n",
       "      <td>1999-12-11 22:29:38</td>\n",
       "    </tr>\n",
       "    <tr>\n",
       "      <th>18165</th>\n",
       "      <td>115</td>\n",
       "      <td>480</td>\n",
       "      <td>5.0</td>\n",
       "      <td>1999-12-11 23:08:53</td>\n",
       "    </tr>\n",
       "    <tr>\n",
       "      <th>76157</th>\n",
       "      <td>479</td>\n",
       "      <td>3308</td>\n",
       "      <td>5.0</td>\n",
       "      <td>2002-12-08 15:49:18</td>\n",
       "    </tr>\n",
       "    <tr>\n",
       "      <th>...</th>\n",
       "      <td>...</td>\n",
       "      <td>...</td>\n",
       "      <td>...</td>\n",
       "      <td>...</td>\n",
       "    </tr>\n",
       "    <tr>\n",
       "      <th>99278</th>\n",
       "      <td>608</td>\n",
       "      <td>4679</td>\n",
       "      <td>0.5</td>\n",
       "      <td>2005-05-31 02:30:42</td>\n",
       "    </tr>\n",
       "    <tr>\n",
       "      <th>99277</th>\n",
       "      <td>608</td>\n",
       "      <td>4678</td>\n",
       "      <td>0.5</td>\n",
       "      <td>2005-05-31 02:23:22</td>\n",
       "    </tr>\n",
       "    <tr>\n",
       "      <th>95668</th>\n",
       "      <td>600</td>\n",
       "      <td>4744</td>\n",
       "      <td>0.5</td>\n",
       "      <td>2009-03-22 09:33:26</td>\n",
       "    </tr>\n",
       "    <tr>\n",
       "      <th>99269</th>\n",
       "      <td>608</td>\n",
       "      <td>4621</td>\n",
       "      <td>0.5</td>\n",
       "      <td>2005-05-31 02:35:16</td>\n",
       "    </tr>\n",
       "    <tr>\n",
       "      <th>78499</th>\n",
       "      <td>489</td>\n",
       "      <td>168</td>\n",
       "      <td>0.5</td>\n",
       "      <td>2012-03-26 15:11:53</td>\n",
       "    </tr>\n",
       "  </tbody>\n",
       "</table>\n",
       "<p>100836 rows × 4 columns</p>\n",
       "</div>"
      ],
      "text/plain": [
       "       userId  movieId  rating                time\n",
       "34031     232     3147     5.0 2008-08-08 03:08:23\n",
       "50717     328     1080     5.0 2017-05-08 02:27:30\n",
       "18166     115      487     5.0 1999-12-11 22:29:38\n",
       "18165     115      480     5.0 1999-12-11 23:08:53\n",
       "76157     479     3308     5.0 2002-12-08 15:49:18\n",
       "...       ...      ...     ...                 ...\n",
       "99278     608     4679     0.5 2005-05-31 02:30:42\n",
       "99277     608     4678     0.5 2005-05-31 02:23:22\n",
       "95668     600     4744     0.5 2009-03-22 09:33:26\n",
       "99269     608     4621     0.5 2005-05-31 02:35:16\n",
       "78499     489      168     0.5 2012-03-26 15:11:53\n",
       "\n",
       "[100836 rows x 4 columns]"
      ]
     },
     "execution_count": 28,
     "metadata": {},
     "output_type": "execute_result"
    }
   ],
   "source": [
    "# Try it: pass the argument ascending=False\n",
    "ratings_df.sort_values(\"rating\", ascending=False)"
   ]
  },
  {
   "cell_type": "markdown",
   "metadata": {
    "id": "LqQbLvQEAkq1"
   },
   "source": [
    "### Sorting rows based on multiple columns"
   ]
  },
  {
   "cell_type": "markdown",
   "metadata": {
    "id": "IkiQQxe6Akq2"
   },
   "source": [
    "<u>To sort the rows based on multiple columns, pass the column names and the `ascending` argument as lists.</u>"
   ]
  },
  {
   "cell_type": "code",
   "execution_count": 29,
   "metadata": {
    "id": "brl2d0-9Akq2",
    "outputId": "a166d439-c488-4175-9f73-a3a50458c465"
   },
   "outputs": [
    {
     "data": {
      "text/html": [
       "<div>\n",
       "<style scoped>\n",
       "    .dataframe tbody tr th:only-of-type {\n",
       "        vertical-align: middle;\n",
       "    }\n",
       "\n",
       "    .dataframe tbody tr th {\n",
       "        vertical-align: top;\n",
       "    }\n",
       "\n",
       "    .dataframe thead th {\n",
       "        text-align: right;\n",
       "    }\n",
       "</style>\n",
       "<table border=\"1\" class=\"dataframe\">\n",
       "  <thead>\n",
       "    <tr style=\"text-align: right;\">\n",
       "      <th></th>\n",
       "      <th>userId</th>\n",
       "      <th>movieId</th>\n",
       "      <th>rating</th>\n",
       "      <th>time</th>\n",
       "    </tr>\n",
       "  </thead>\n",
       "  <tbody>\n",
       "    <tr>\n",
       "      <th>66665</th>\n",
       "      <td>429</td>\n",
       "      <td>150</td>\n",
       "      <td>5.0</td>\n",
       "      <td>1996-03-29 18:36:55</td>\n",
       "    </tr>\n",
       "    <tr>\n",
       "      <th>66667</th>\n",
       "      <td>429</td>\n",
       "      <td>161</td>\n",
       "      <td>5.0</td>\n",
       "      <td>1996-03-29 18:36:55</td>\n",
       "    </tr>\n",
       "    <tr>\n",
       "      <th>66716</th>\n",
       "      <td>429</td>\n",
       "      <td>588</td>\n",
       "      <td>5.0</td>\n",
       "      <td>1996-03-29 18:36:55</td>\n",
       "    </tr>\n",
       "    <tr>\n",
       "      <th>66717</th>\n",
       "      <td>429</td>\n",
       "      <td>590</td>\n",
       "      <td>5.0</td>\n",
       "      <td>1996-03-29 18:36:55</td>\n",
       "    </tr>\n",
       "    <tr>\n",
       "      <th>66718</th>\n",
       "      <td>429</td>\n",
       "      <td>592</td>\n",
       "      <td>5.0</td>\n",
       "      <td>1996-03-29 18:36:55</td>\n",
       "    </tr>\n",
       "    <tr>\n",
       "      <th>...</th>\n",
       "      <td>...</td>\n",
       "      <td>...</td>\n",
       "      <td>...</td>\n",
       "      <td>...</td>\n",
       "    </tr>\n",
       "    <tr>\n",
       "      <th>81446</th>\n",
       "      <td>514</td>\n",
       "      <td>141994</td>\n",
       "      <td>0.5</td>\n",
       "      <td>2018-09-08 04:35:03</td>\n",
       "    </tr>\n",
       "    <tr>\n",
       "      <th>58089</th>\n",
       "      <td>380</td>\n",
       "      <td>179819</td>\n",
       "      <td>0.5</td>\n",
       "      <td>2018-09-13 21:05:21</td>\n",
       "    </tr>\n",
       "    <tr>\n",
       "      <th>27248</th>\n",
       "      <td>184</td>\n",
       "      <td>184641</td>\n",
       "      <td>0.5</td>\n",
       "      <td>2018-09-16 10:46:48</td>\n",
       "    </tr>\n",
       "    <tr>\n",
       "      <th>27232</th>\n",
       "      <td>184</td>\n",
       "      <td>175475</td>\n",
       "      <td>0.5</td>\n",
       "      <td>2018-09-16 14:52:50</td>\n",
       "    </tr>\n",
       "    <tr>\n",
       "      <th>51251</th>\n",
       "      <td>331</td>\n",
       "      <td>6534</td>\n",
       "      <td>0.5</td>\n",
       "      <td>2018-09-17 04:26:18</td>\n",
       "    </tr>\n",
       "  </tbody>\n",
       "</table>\n",
       "<p>100836 rows × 4 columns</p>\n",
       "</div>"
      ],
      "text/plain": [
       "       userId  movieId  rating                time\n",
       "66665     429      150     5.0 1996-03-29 18:36:55\n",
       "66667     429      161     5.0 1996-03-29 18:36:55\n",
       "66716     429      588     5.0 1996-03-29 18:36:55\n",
       "66717     429      590     5.0 1996-03-29 18:36:55\n",
       "66718     429      592     5.0 1996-03-29 18:36:55\n",
       "...       ...      ...     ...                 ...\n",
       "81446     514   141994     0.5 2018-09-08 04:35:03\n",
       "58089     380   179819     0.5 2018-09-13 21:05:21\n",
       "27248     184   184641     0.5 2018-09-16 10:46:48\n",
       "27232     184   175475     0.5 2018-09-16 14:52:50\n",
       "51251     331     6534     0.5 2018-09-17 04:26:18\n",
       "\n",
       "[100836 rows x 4 columns]"
      ]
     },
     "execution_count": 29,
     "metadata": {},
     "output_type": "execute_result"
    }
   ],
   "source": [
    "# Try it: with descending rating and ascending time\n",
    "ratings_df.sort_values([\"rating\", \"time\"], ascending=[False, True])"
   ]
  },
  {
   "cell_type": "markdown",
   "metadata": {
    "id": "CRrMA0EkAkq2"
   },
   "source": [
    "### Subsetting rows using a Boolean series"
   ]
  },
  {
   "cell_type": "markdown",
   "metadata": {
    "id": "kCsNRSuPAkq2"
   },
   "source": [
    "<u>Run the cells below.</u>"
   ]
  },
  {
   "cell_type": "code",
   "execution_count": 30,
   "metadata": {
    "id": "cbWC-yOsAkq2",
    "outputId": "e2ed8843-67fe-4f8e-9665-0b32e23b2096"
   },
   "outputs": [
    {
     "data": {
      "text/plain": [
       "0          True\n",
       "1          True\n",
       "2          True\n",
       "3          True\n",
       "4          True\n",
       "          ...  \n",
       "100831    False\n",
       "100832    False\n",
       "100833    False\n",
       "100834    False\n",
       "100835    False\n",
       "Name: userId, Length: 100836, dtype: bool"
      ]
     },
     "execution_count": 30,
     "metadata": {},
     "output_type": "execute_result"
    }
   ],
   "source": [
    "# This will result in a Boolean series\n",
    "ratings_df[\"userId\"] == 1 "
   ]
  },
  {
   "cell_type": "code",
   "execution_count": 31,
   "metadata": {
    "id": "Tc42MsseAkq2",
    "outputId": "f8c64dab-0b7e-401c-c466-797d3a1f60e5"
   },
   "outputs": [
    {
     "data": {
      "text/html": [
       "<div>\n",
       "<style scoped>\n",
       "    .dataframe tbody tr th:only-of-type {\n",
       "        vertical-align: middle;\n",
       "    }\n",
       "\n",
       "    .dataframe tbody tr th {\n",
       "        vertical-align: top;\n",
       "    }\n",
       "\n",
       "    .dataframe thead th {\n",
       "        text-align: right;\n",
       "    }\n",
       "</style>\n",
       "<table border=\"1\" class=\"dataframe\">\n",
       "  <thead>\n",
       "    <tr style=\"text-align: right;\">\n",
       "      <th></th>\n",
       "      <th>userId</th>\n",
       "      <th>movieId</th>\n",
       "      <th>rating</th>\n",
       "      <th>time</th>\n",
       "    </tr>\n",
       "  </thead>\n",
       "  <tbody>\n",
       "    <tr>\n",
       "      <th>0</th>\n",
       "      <td>1</td>\n",
       "      <td>1</td>\n",
       "      <td>4.0</td>\n",
       "      <td>2000-07-30 18:45:03</td>\n",
       "    </tr>\n",
       "    <tr>\n",
       "      <th>1</th>\n",
       "      <td>1</td>\n",
       "      <td>3</td>\n",
       "      <td>4.0</td>\n",
       "      <td>2000-07-30 18:20:47</td>\n",
       "    </tr>\n",
       "    <tr>\n",
       "      <th>2</th>\n",
       "      <td>1</td>\n",
       "      <td>6</td>\n",
       "      <td>4.0</td>\n",
       "      <td>2000-07-30 18:37:04</td>\n",
       "    </tr>\n",
       "    <tr>\n",
       "      <th>3</th>\n",
       "      <td>1</td>\n",
       "      <td>47</td>\n",
       "      <td>5.0</td>\n",
       "      <td>2000-07-30 19:03:35</td>\n",
       "    </tr>\n",
       "    <tr>\n",
       "      <th>4</th>\n",
       "      <td>1</td>\n",
       "      <td>50</td>\n",
       "      <td>5.0</td>\n",
       "      <td>2000-07-30 18:48:51</td>\n",
       "    </tr>\n",
       "    <tr>\n",
       "      <th>...</th>\n",
       "      <td>...</td>\n",
       "      <td>...</td>\n",
       "      <td>...</td>\n",
       "      <td>...</td>\n",
       "    </tr>\n",
       "    <tr>\n",
       "      <th>227</th>\n",
       "      <td>1</td>\n",
       "      <td>3744</td>\n",
       "      <td>4.0</td>\n",
       "      <td>2000-07-30 18:11:34</td>\n",
       "    </tr>\n",
       "    <tr>\n",
       "      <th>228</th>\n",
       "      <td>1</td>\n",
       "      <td>3793</td>\n",
       "      <td>5.0</td>\n",
       "      <td>2000-07-30 18:30:55</td>\n",
       "    </tr>\n",
       "    <tr>\n",
       "      <th>229</th>\n",
       "      <td>1</td>\n",
       "      <td>3809</td>\n",
       "      <td>4.0</td>\n",
       "      <td>2000-07-30 18:20:20</td>\n",
       "    </tr>\n",
       "    <tr>\n",
       "      <th>230</th>\n",
       "      <td>1</td>\n",
       "      <td>4006</td>\n",
       "      <td>4.0</td>\n",
       "      <td>2000-07-30 18:48:23</td>\n",
       "    </tr>\n",
       "    <tr>\n",
       "      <th>231</th>\n",
       "      <td>1</td>\n",
       "      <td>5060</td>\n",
       "      <td>5.0</td>\n",
       "      <td>2000-07-30 19:06:42</td>\n",
       "    </tr>\n",
       "  </tbody>\n",
       "</table>\n",
       "<p>232 rows × 4 columns</p>\n",
       "</div>"
      ],
      "text/plain": [
       "     userId  movieId  rating                time\n",
       "0         1        1     4.0 2000-07-30 18:45:03\n",
       "1         1        3     4.0 2000-07-30 18:20:47\n",
       "2         1        6     4.0 2000-07-30 18:37:04\n",
       "3         1       47     5.0 2000-07-30 19:03:35\n",
       "4         1       50     5.0 2000-07-30 18:48:51\n",
       "..      ...      ...     ...                 ...\n",
       "227       1     3744     4.0 2000-07-30 18:11:34\n",
       "228       1     3793     5.0 2000-07-30 18:30:55\n",
       "229       1     3809     4.0 2000-07-30 18:20:20\n",
       "230       1     4006     4.0 2000-07-30 18:48:23\n",
       "231       1     5060     5.0 2000-07-30 19:06:42\n",
       "\n",
       "[232 rows x 4 columns]"
      ]
     },
     "execution_count": 31,
     "metadata": {},
     "output_type": "execute_result"
    }
   ],
   "source": [
    "# Filtering for rows where userId=1\n",
    "ratings_df[ratings_df[\"userId\"]==1]"
   ]
  },
  {
   "cell_type": "markdown",
   "metadata": {
    "id": "9PHZkNhbAkq3"
   },
   "source": [
    "<u>Now create a DataFrame called `high_ratings_df` where it only contains the entries with rating=5.0.</u>"
   ]
  },
  {
   "cell_type": "code",
   "execution_count": 32,
   "metadata": {
    "id": "GI_KfT5KAkq3",
    "outputId": "ea319a2d-40eb-4f0c-959e-5453f5cfcfc5"
   },
   "outputs": [
    {
     "name": "stdout",
     "output_type": "stream",
     "text": [
      "        userId  movieId  rating                time\n",
      "3            1       47     5.0 2000-07-30 19:03:35\n",
      "4            1       50     5.0 2000-07-30 18:48:51\n",
      "6            1      101     5.0 2000-07-30 18:14:28\n",
      "8            1      151     5.0 2000-07-30 19:07:21\n",
      "9            1      157     5.0 2000-07-30 19:08:20\n",
      "...        ...      ...     ...                 ...\n",
      "100814     610   158238     5.0 2016-11-19 08:46:59\n",
      "100829     610   164179     5.0 2017-05-03 21:07:11\n",
      "100832     610   168248     5.0 2017-05-03 22:21:31\n",
      "100833     610   168250     5.0 2017-05-08 19:50:47\n",
      "100834     610   168252     5.0 2017-05-03 21:19:12\n",
      "\n",
      "[13211 rows x 4 columns]\n"
     ]
    }
   ],
   "source": [
    "# Filtering for rows where rating=5.0\n",
    "high_ratings_df = ratings_df[ratings_df[\"rating\"]==5.0]\n",
    "\n",
    "# Print high_ratings_df\n",
    "print(high_ratings_df)"
   ]
  },
  {
   "cell_type": "markdown",
   "metadata": {
    "id": "_bNBkpV7Akq3"
   },
   "source": [
    "### Subsetting rows with multiple conditions"
   ]
  },
  {
   "cell_type": "markdown",
   "metadata": {
    "id": "GMUvcfzmAkq3"
   },
   "source": [
    "<u>Which movieId did user 1 give 5.0 rating to?</u>"
   ]
  },
  {
   "cell_type": "code",
   "execution_count": 33,
   "metadata": {
    "id": "f_mIYb71Akq3",
    "outputId": "f9208cf0-b917-4f40-d1a3-b0b2fb1fc0a5",
    "scrolled": false
   },
   "outputs": [
    {
     "data": {
      "text/html": [
       "<div>\n",
       "<style scoped>\n",
       "    .dataframe tbody tr th:only-of-type {\n",
       "        vertical-align: middle;\n",
       "    }\n",
       "\n",
       "    .dataframe tbody tr th {\n",
       "        vertical-align: top;\n",
       "    }\n",
       "\n",
       "    .dataframe thead th {\n",
       "        text-align: right;\n",
       "    }\n",
       "</style>\n",
       "<table border=\"1\" class=\"dataframe\">\n",
       "  <thead>\n",
       "    <tr style=\"text-align: right;\">\n",
       "      <th></th>\n",
       "      <th>userId</th>\n",
       "      <th>movieId</th>\n",
       "      <th>rating</th>\n",
       "      <th>time</th>\n",
       "    </tr>\n",
       "  </thead>\n",
       "  <tbody>\n",
       "    <tr>\n",
       "      <th>3</th>\n",
       "      <td>1</td>\n",
       "      <td>47</td>\n",
       "      <td>5.0</td>\n",
       "      <td>2000-07-30 19:03:35</td>\n",
       "    </tr>\n",
       "    <tr>\n",
       "      <th>4</th>\n",
       "      <td>1</td>\n",
       "      <td>50</td>\n",
       "      <td>5.0</td>\n",
       "      <td>2000-07-30 18:48:51</td>\n",
       "    </tr>\n",
       "    <tr>\n",
       "      <th>6</th>\n",
       "      <td>1</td>\n",
       "      <td>101</td>\n",
       "      <td>5.0</td>\n",
       "      <td>2000-07-30 18:14:28</td>\n",
       "    </tr>\n",
       "    <tr>\n",
       "      <th>8</th>\n",
       "      <td>1</td>\n",
       "      <td>151</td>\n",
       "      <td>5.0</td>\n",
       "      <td>2000-07-30 19:07:21</td>\n",
       "    </tr>\n",
       "    <tr>\n",
       "      <th>9</th>\n",
       "      <td>1</td>\n",
       "      <td>157</td>\n",
       "      <td>5.0</td>\n",
       "      <td>2000-07-30 19:08:20</td>\n",
       "    </tr>\n",
       "    <tr>\n",
       "      <th>...</th>\n",
       "      <td>...</td>\n",
       "      <td>...</td>\n",
       "      <td>...</td>\n",
       "      <td>...</td>\n",
       "    </tr>\n",
       "    <tr>\n",
       "      <th>223</th>\n",
       "      <td>1</td>\n",
       "      <td>3702</td>\n",
       "      <td>5.0</td>\n",
       "      <td>2000-07-30 19:02:17</td>\n",
       "    </tr>\n",
       "    <tr>\n",
       "      <th>224</th>\n",
       "      <td>1</td>\n",
       "      <td>3703</td>\n",
       "      <td>5.0</td>\n",
       "      <td>2000-07-30 18:31:49</td>\n",
       "    </tr>\n",
       "    <tr>\n",
       "      <th>225</th>\n",
       "      <td>1</td>\n",
       "      <td>3729</td>\n",
       "      <td>5.0</td>\n",
       "      <td>2000-07-30 18:39:23</td>\n",
       "    </tr>\n",
       "    <tr>\n",
       "      <th>228</th>\n",
       "      <td>1</td>\n",
       "      <td>3793</td>\n",
       "      <td>5.0</td>\n",
       "      <td>2000-07-30 18:30:55</td>\n",
       "    </tr>\n",
       "    <tr>\n",
       "      <th>231</th>\n",
       "      <td>1</td>\n",
       "      <td>5060</td>\n",
       "      <td>5.0</td>\n",
       "      <td>2000-07-30 19:06:42</td>\n",
       "    </tr>\n",
       "  </tbody>\n",
       "</table>\n",
       "<p>124 rows × 4 columns</p>\n",
       "</div>"
      ],
      "text/plain": [
       "     userId  movieId  rating                time\n",
       "3         1       47     5.0 2000-07-30 19:03:35\n",
       "4         1       50     5.0 2000-07-30 18:48:51\n",
       "6         1      101     5.0 2000-07-30 18:14:28\n",
       "8         1      151     5.0 2000-07-30 19:07:21\n",
       "9         1      157     5.0 2000-07-30 19:08:20\n",
       "..      ...      ...     ...                 ...\n",
       "223       1     3702     5.0 2000-07-30 19:02:17\n",
       "224       1     3703     5.0 2000-07-30 18:31:49\n",
       "225       1     3729     5.0 2000-07-30 18:39:23\n",
       "228       1     3793     5.0 2000-07-30 18:30:55\n",
       "231       1     5060     5.0 2000-07-30 19:06:42\n",
       "\n",
       "[124 rows x 4 columns]"
      ]
     },
     "execution_count": 33,
     "metadata": {},
     "output_type": "execute_result"
    }
   ],
   "source": [
    "# Construct the Boolean series\n",
    "is_user1 = ratings_df[\"userId\"] == 1\n",
    "is_rating5 = ratings_df[\"rating\"] == 5.0\n",
    "\n",
    "# Try it: Use both Boolean series to subset ratings_df. Which logical operator do you need?\n",
    "ratings_df[is_user1 & is_rating5]"
   ]
  },
  {
   "cell_type": "markdown",
   "metadata": {},
   "source": [
    "numpy arrays and pandas series use the bitwise operators rather than logical as you are comparing every element in the array/series with another"
   ]
  },
  {
   "cell_type": "markdown",
   "metadata": {
    "id": "TGoPG_tnAkq4"
   },
   "source": [
    "### Subsetting using `.isin()`"
   ]
  },
  {
   "cell_type": "markdown",
   "metadata": {
    "id": "5Kn0qIiAAkq4"
   },
   "source": [
    "<u>Say we want to subset the ratings based on more than two conditions, checking the conditions one by one can get quite tedious. In this case, it's better to use `.isin()`.<br>Run the cell below.</u>"
   ]
  },
  {
   "cell_type": "code",
   "execution_count": 34,
   "metadata": {
    "id": "qob7q3rmAkq4",
    "outputId": "f06b37aa-9318-46dd-9c71-3eabae4d25a2"
   },
   "outputs": [
    {
     "data": {
      "text/html": [
       "<div>\n",
       "<style scoped>\n",
       "    .dataframe tbody tr th:only-of-type {\n",
       "        vertical-align: middle;\n",
       "    }\n",
       "\n",
       "    .dataframe tbody tr th {\n",
       "        vertical-align: top;\n",
       "    }\n",
       "\n",
       "    .dataframe thead th {\n",
       "        text-align: right;\n",
       "    }\n",
       "</style>\n",
       "<table border=\"1\" class=\"dataframe\">\n",
       "  <thead>\n",
       "    <tr style=\"text-align: right;\">\n",
       "      <th></th>\n",
       "      <th>userId</th>\n",
       "      <th>movieId</th>\n",
       "      <th>rating</th>\n",
       "      <th>time</th>\n",
       "    </tr>\n",
       "  </thead>\n",
       "  <tbody>\n",
       "    <tr>\n",
       "      <th>0</th>\n",
       "      <td>1</td>\n",
       "      <td>1</td>\n",
       "      <td>4.0</td>\n",
       "      <td>2000-07-30 18:45:03</td>\n",
       "    </tr>\n",
       "    <tr>\n",
       "      <th>1</th>\n",
       "      <td>1</td>\n",
       "      <td>3</td>\n",
       "      <td>4.0</td>\n",
       "      <td>2000-07-30 18:20:47</td>\n",
       "    </tr>\n",
       "    <tr>\n",
       "      <th>516</th>\n",
       "      <td>5</td>\n",
       "      <td>1</td>\n",
       "      <td>4.0</td>\n",
       "      <td>1996-11-08 06:36:02</td>\n",
       "    </tr>\n",
       "    <tr>\n",
       "      <th>560</th>\n",
       "      <td>6</td>\n",
       "      <td>2</td>\n",
       "      <td>4.0</td>\n",
       "      <td>1996-10-17 11:58:42</td>\n",
       "    </tr>\n",
       "    <tr>\n",
       "      <th>561</th>\n",
       "      <td>6</td>\n",
       "      <td>3</td>\n",
       "      <td>5.0</td>\n",
       "      <td>1996-10-17 12:11:36</td>\n",
       "    </tr>\n",
       "    <tr>\n",
       "      <th>...</th>\n",
       "      <td>...</td>\n",
       "      <td>...</td>\n",
       "      <td>...</td>\n",
       "      <td>...</td>\n",
       "    </tr>\n",
       "    <tr>\n",
       "      <th>98666</th>\n",
       "      <td>608</td>\n",
       "      <td>1</td>\n",
       "      <td>2.5</td>\n",
       "      <td>2005-05-29 23:11:07</td>\n",
       "    </tr>\n",
       "    <tr>\n",
       "      <th>98667</th>\n",
       "      <td>608</td>\n",
       "      <td>2</td>\n",
       "      <td>2.0</td>\n",
       "      <td>2005-05-30 22:06:26</td>\n",
       "    </tr>\n",
       "    <tr>\n",
       "      <th>98668</th>\n",
       "      <td>608</td>\n",
       "      <td>3</td>\n",
       "      <td>2.0</td>\n",
       "      <td>2005-05-31 01:53:33</td>\n",
       "    </tr>\n",
       "    <tr>\n",
       "      <th>99497</th>\n",
       "      <td>609</td>\n",
       "      <td>1</td>\n",
       "      <td>3.0</td>\n",
       "      <td>1996-11-05 19:10:25</td>\n",
       "    </tr>\n",
       "    <tr>\n",
       "      <th>99534</th>\n",
       "      <td>610</td>\n",
       "      <td>1</td>\n",
       "      <td>5.0</td>\n",
       "      <td>2016-11-19 08:08:20</td>\n",
       "    </tr>\n",
       "  </tbody>\n",
       "</table>\n",
       "<p>377 rows × 4 columns</p>\n",
       "</div>"
      ],
      "text/plain": [
       "       userId  movieId  rating                time\n",
       "0           1        1     4.0 2000-07-30 18:45:03\n",
       "1           1        3     4.0 2000-07-30 18:20:47\n",
       "516         5        1     4.0 1996-11-08 06:36:02\n",
       "560         6        2     4.0 1996-10-17 11:58:42\n",
       "561         6        3     5.0 1996-10-17 12:11:36\n",
       "...       ...      ...     ...                 ...\n",
       "98666     608        1     2.5 2005-05-29 23:11:07\n",
       "98667     608        2     2.0 2005-05-30 22:06:26\n",
       "98668     608        3     2.0 2005-05-31 01:53:33\n",
       "99497     609        1     3.0 1996-11-05 19:10:25\n",
       "99534     610        1     5.0 2016-11-19 08:08:20\n",
       "\n",
       "[377 rows x 4 columns]"
      ]
     },
     "execution_count": 34,
     "metadata": {},
     "output_type": "execute_result"
    }
   ],
   "source": [
    "# also results in Boolean series\n",
    "is_movie123 = ratings_df['movieId'].isin([1, 2, 3])\n",
    "\n",
    "#subset ratings_df with is_movie123\n",
    "ratings_df[is_movie123]"
   ]
  },
  {
   "cell_type": "markdown",
   "metadata": {
    "id": "0AwvN8CmAkq5"
   },
   "source": [
    "### Hierarchical indices"
   ]
  },
  {
   "cell_type": "markdown",
   "metadata": {
    "id": "JVxjEgpMAkq5"
   },
   "source": [
    "<u>We've seen how to use `.set_index()` and `.reset_index()`before, now let's try setting multiple indices.</u>"
   ]
  },
  {
   "cell_type": "code",
   "execution_count": 35,
   "metadata": {
    "id": "2AGosXxbAkq5",
    "outputId": "eb64d19b-1cdf-43ba-f026-fdf6dcd4d535"
   },
   "outputs": [
    {
     "data": {
      "text/html": [
       "<div>\n",
       "<style scoped>\n",
       "    .dataframe tbody tr th:only-of-type {\n",
       "        vertical-align: middle;\n",
       "    }\n",
       "\n",
       "    .dataframe tbody tr th {\n",
       "        vertical-align: top;\n",
       "    }\n",
       "\n",
       "    .dataframe thead th {\n",
       "        text-align: right;\n",
       "    }\n",
       "</style>\n",
       "<table border=\"1\" class=\"dataframe\">\n",
       "  <thead>\n",
       "    <tr style=\"text-align: right;\">\n",
       "      <th></th>\n",
       "      <th></th>\n",
       "      <th>rating</th>\n",
       "      <th>time</th>\n",
       "    </tr>\n",
       "    <tr>\n",
       "      <th>userId</th>\n",
       "      <th>movieId</th>\n",
       "      <th></th>\n",
       "      <th></th>\n",
       "    </tr>\n",
       "  </thead>\n",
       "  <tbody>\n",
       "    <tr>\n",
       "      <th rowspan=\"5\" valign=\"top\">1</th>\n",
       "      <th>1</th>\n",
       "      <td>4.0</td>\n",
       "      <td>2000-07-30 18:45:03</td>\n",
       "    </tr>\n",
       "    <tr>\n",
       "      <th>3</th>\n",
       "      <td>4.0</td>\n",
       "      <td>2000-07-30 18:20:47</td>\n",
       "    </tr>\n",
       "    <tr>\n",
       "      <th>6</th>\n",
       "      <td>4.0</td>\n",
       "      <td>2000-07-30 18:37:04</td>\n",
       "    </tr>\n",
       "    <tr>\n",
       "      <th>47</th>\n",
       "      <td>5.0</td>\n",
       "      <td>2000-07-30 19:03:35</td>\n",
       "    </tr>\n",
       "    <tr>\n",
       "      <th>50</th>\n",
       "      <td>5.0</td>\n",
       "      <td>2000-07-30 18:48:51</td>\n",
       "    </tr>\n",
       "    <tr>\n",
       "      <th>...</th>\n",
       "      <th>...</th>\n",
       "      <td>...</td>\n",
       "      <td>...</td>\n",
       "    </tr>\n",
       "    <tr>\n",
       "      <th rowspan=\"5\" valign=\"top\">610</th>\n",
       "      <th>166534</th>\n",
       "      <td>4.0</td>\n",
       "      <td>2017-05-03 21:53:22</td>\n",
       "    </tr>\n",
       "    <tr>\n",
       "      <th>168248</th>\n",
       "      <td>5.0</td>\n",
       "      <td>2017-05-03 22:21:31</td>\n",
       "    </tr>\n",
       "    <tr>\n",
       "      <th>168250</th>\n",
       "      <td>5.0</td>\n",
       "      <td>2017-05-08 19:50:47</td>\n",
       "    </tr>\n",
       "    <tr>\n",
       "      <th>168252</th>\n",
       "      <td>5.0</td>\n",
       "      <td>2017-05-03 21:19:12</td>\n",
       "    </tr>\n",
       "    <tr>\n",
       "      <th>170875</th>\n",
       "      <td>3.0</td>\n",
       "      <td>2017-05-03 21:20:15</td>\n",
       "    </tr>\n",
       "  </tbody>\n",
       "</table>\n",
       "<p>100836 rows × 2 columns</p>\n",
       "</div>"
      ],
      "text/plain": [
       "                rating                time\n",
       "userId movieId                            \n",
       "1      1           4.0 2000-07-30 18:45:03\n",
       "       3           4.0 2000-07-30 18:20:47\n",
       "       6           4.0 2000-07-30 18:37:04\n",
       "       47          5.0 2000-07-30 19:03:35\n",
       "       50          5.0 2000-07-30 18:48:51\n",
       "...                ...                 ...\n",
       "610    166534      4.0 2017-05-03 21:53:22\n",
       "       168248      5.0 2017-05-03 22:21:31\n",
       "       168250      5.0 2017-05-08 19:50:47\n",
       "       168252      5.0 2017-05-03 21:19:12\n",
       "       170875      3.0 2017-05-03 21:20:15\n",
       "\n",
       "[100836 rows x 2 columns]"
      ]
     },
     "execution_count": 35,
     "metadata": {},
     "output_type": "execute_result"
    }
   ],
   "source": [
    "# create a list of the column names to set as indices\n",
    "indices = [\"userId\", \"movieId\"]\n",
    "\n",
    "# use .set_index() on ratings_df and pass the indices as the argument\n",
    "ratings_multindex = ratings_df.set_index(indices)\n",
    "\n",
    "# print ratings_multindex\n",
    "ratings_multindex"
   ]
  },
  {
   "cell_type": "markdown",
   "metadata": {
    "id": "nGZvqBpoAkq6"
   },
   "source": [
    "### Subsetting with indices"
   ]
  },
  {
   "cell_type": "markdown",
   "metadata": {
    "id": "5oeZNmOSAkq6"
   },
   "source": [
    "<u>Here we'll learn how to use `loc` and `iloc` to subset a DataFrame using its indices.\n",
    "We'll use `tags_df`.\n",
    "</u>"
   ]
  },
  {
   "cell_type": "markdown",
   "metadata": {
    "id": "LKbpyRDhAkq6"
   },
   "source": [
    "#### Outer index level"
   ]
  },
  {
   "cell_type": "code",
   "execution_count": 36,
   "metadata": {
    "id": "mzI1e4heAkq7",
    "outputId": "ab9a07a2-170d-4f34-d9c5-74f52b0e0dc9"
   },
   "outputs": [
    {
     "name": "stdout",
     "output_type": "stream",
     "text": [
      "   userId  movieId              tag                time\n",
      "0       2    60756            funny 2015-10-24 19:29:54\n",
      "1       2    60756  Highly quotable 2015-10-24 19:29:56\n"
     ]
    },
    {
     "data": {
      "text/html": [
       "<div>\n",
       "<style scoped>\n",
       "    .dataframe tbody tr th:only-of-type {\n",
       "        vertical-align: middle;\n",
       "    }\n",
       "\n",
       "    .dataframe tbody tr th {\n",
       "        vertical-align: top;\n",
       "    }\n",
       "\n",
       "    .dataframe thead th {\n",
       "        text-align: right;\n",
       "    }\n",
       "</style>\n",
       "<table border=\"1\" class=\"dataframe\">\n",
       "  <thead>\n",
       "    <tr style=\"text-align: right;\">\n",
       "      <th></th>\n",
       "      <th>userId</th>\n",
       "      <th>movieId</th>\n",
       "      <th>time</th>\n",
       "    </tr>\n",
       "    <tr>\n",
       "      <th>tag</th>\n",
       "      <th></th>\n",
       "      <th></th>\n",
       "      <th></th>\n",
       "    </tr>\n",
       "  </thead>\n",
       "  <tbody>\n",
       "    <tr>\n",
       "      <th>funny</th>\n",
       "      <td>2</td>\n",
       "      <td>60756</td>\n",
       "      <td>2015-10-24 19:29:54</td>\n",
       "    </tr>\n",
       "    <tr>\n",
       "      <th>Highly quotable</th>\n",
       "      <td>2</td>\n",
       "      <td>60756</td>\n",
       "      <td>2015-10-24 19:29:56</td>\n",
       "    </tr>\n",
       "    <tr>\n",
       "      <th>will ferrell</th>\n",
       "      <td>2</td>\n",
       "      <td>60756</td>\n",
       "      <td>2015-10-24 19:29:52</td>\n",
       "    </tr>\n",
       "    <tr>\n",
       "      <th>Boxing story</th>\n",
       "      <td>2</td>\n",
       "      <td>89774</td>\n",
       "      <td>2015-10-24 19:33:27</td>\n",
       "    </tr>\n",
       "    <tr>\n",
       "      <th>MMA</th>\n",
       "      <td>2</td>\n",
       "      <td>89774</td>\n",
       "      <td>2015-10-24 19:33:20</td>\n",
       "    </tr>\n",
       "  </tbody>\n",
       "</table>\n",
       "</div>"
      ],
      "text/plain": [
       "                 userId  movieId                time\n",
       "tag                                                 \n",
       "funny                 2    60756 2015-10-24 19:29:54\n",
       "Highly quotable       2    60756 2015-10-24 19:29:56\n",
       "will ferrell          2    60756 2015-10-24 19:29:52\n",
       "Boxing story          2    89774 2015-10-24 19:33:27\n",
       "MMA                   2    89774 2015-10-24 19:33:20"
      ]
     },
     "execution_count": 36,
     "metadata": {},
     "output_type": "execute_result"
    }
   ],
   "source": [
    "print(tags_df.head(2))\n",
    "\n",
    "# Set tag as the index\n",
    "tags_1idx = tags_df.set_index('tag')\n",
    "tags_1idx.head()"
   ]
  },
  {
   "cell_type": "code",
   "execution_count": 37,
   "metadata": {
    "id": "Wnkk98FYAkq7",
    "outputId": "e0e9b235-146d-429d-8e33-18c701ff3c5c"
   },
   "outputs": [
    {
     "data": {
      "text/plain": [
       "Index(['funny', 'Highly quotable', 'will ferrell', 'Boxing story', 'MMA',\n",
       "       'Tom Hardy', 'drugs', 'Leonardo DiCaprio', 'Martin Scorsese',\n",
       "       'way too long',\n",
       "       ...\n",
       "       'music', 'British', 'Romans', '70mm', 'World War II', 'for katie',\n",
       "       'austere', 'gun fu', 'heroic bloodshed', 'Heroic Bloodshed'],\n",
       "      dtype='object', name='tag', length=3683)"
      ]
     },
     "execution_count": 37,
     "metadata": {},
     "output_type": "execute_result"
    }
   ],
   "source": [
    "# print out all indices\n",
    "tags_1idx.index"
   ]
  },
  {
   "cell_type": "markdown",
   "metadata": {
    "id": "-MpbhAILAkq7"
   },
   "source": [
    "<u> You've seen the following examples in the lecture</u>"
   ]
  },
  {
   "cell_type": "code",
   "execution_count": 38,
   "metadata": {
    "id": "B6Fbk8LLAkq7",
    "outputId": "9574be68-7dfc-4ccc-9947-33dd595fbb3a"
   },
   "outputs": [
    {
     "data": {
      "text/html": [
       "<div>\n",
       "<style scoped>\n",
       "    .dataframe tbody tr th:only-of-type {\n",
       "        vertical-align: middle;\n",
       "    }\n",
       "\n",
       "    .dataframe tbody tr th {\n",
       "        vertical-align: top;\n",
       "    }\n",
       "\n",
       "    .dataframe thead th {\n",
       "        text-align: right;\n",
       "    }\n",
       "</style>\n",
       "<table border=\"1\" class=\"dataframe\">\n",
       "  <thead>\n",
       "    <tr style=\"text-align: right;\">\n",
       "      <th></th>\n",
       "      <th>userId</th>\n",
       "      <th>movieId</th>\n",
       "      <th>time</th>\n",
       "    </tr>\n",
       "    <tr>\n",
       "      <th>tag</th>\n",
       "      <th></th>\n",
       "      <th></th>\n",
       "      <th></th>\n",
       "    </tr>\n",
       "  </thead>\n",
       "  <tbody>\n",
       "    <tr>\n",
       "      <th>will ferrell</th>\n",
       "      <td>2</td>\n",
       "      <td>60756</td>\n",
       "      <td>2015-10-24 19:29:52</td>\n",
       "    </tr>\n",
       "    <tr>\n",
       "      <th>funny</th>\n",
       "      <td>2</td>\n",
       "      <td>60756</td>\n",
       "      <td>2015-10-24 19:29:54</td>\n",
       "    </tr>\n",
       "  </tbody>\n",
       "</table>\n",
       "</div>"
      ],
      "text/plain": [
       "              userId  movieId                time\n",
       "tag                                              \n",
       "will ferrell       2    60756 2015-10-24 19:29:52\n",
       "funny              2    60756 2015-10-24 19:29:54"
      ]
     },
     "execution_count": 38,
     "metadata": {},
     "output_type": "execute_result"
    }
   ],
   "source": [
    "# iloc: by the integer position(s)\n",
    "tags_1idx.iloc[[2,0]]"
   ]
  },
  {
   "cell_type": "code",
   "execution_count": 39,
   "metadata": {
    "id": "7tgnQDuZAkq7",
    "outputId": "0671cd8d-a3fb-435b-fe25-e14813784f49"
   },
   "outputs": [
    {
     "data": {
      "text/html": [
       "<div>\n",
       "<style scoped>\n",
       "    .dataframe tbody tr th:only-of-type {\n",
       "        vertical-align: middle;\n",
       "    }\n",
       "\n",
       "    .dataframe tbody tr th {\n",
       "        vertical-align: top;\n",
       "    }\n",
       "\n",
       "    .dataframe thead th {\n",
       "        text-align: right;\n",
       "    }\n",
       "</style>\n",
       "<table border=\"1\" class=\"dataframe\">\n",
       "  <thead>\n",
       "    <tr style=\"text-align: right;\">\n",
       "      <th></th>\n",
       "      <th>userId</th>\n",
       "      <th>movieId</th>\n",
       "      <th>time</th>\n",
       "    </tr>\n",
       "    <tr>\n",
       "      <th>tag</th>\n",
       "      <th></th>\n",
       "      <th></th>\n",
       "      <th></th>\n",
       "    </tr>\n",
       "  </thead>\n",
       "  <tbody>\n",
       "    <tr>\n",
       "      <th>funny</th>\n",
       "      <td>599</td>\n",
       "      <td>1732</td>\n",
       "      <td>2017-06-26 05:51:31</td>\n",
       "    </tr>\n",
       "    <tr>\n",
       "      <th>will ferrell</th>\n",
       "      <td>2</td>\n",
       "      <td>60756</td>\n",
       "      <td>2015-10-24 19:29:52</td>\n",
       "    </tr>\n",
       "    <tr>\n",
       "      <th>will ferrell</th>\n",
       "      <td>62</td>\n",
       "      <td>60756</td>\n",
       "      <td>2018-06-13 23:59:39</td>\n",
       "    </tr>\n",
       "    <tr>\n",
       "      <th>will ferrell</th>\n",
       "      <td>62</td>\n",
       "      <td>107348</td>\n",
       "      <td>2018-06-14 00:10:02</td>\n",
       "    </tr>\n",
       "    <tr>\n",
       "      <th>will ferrell</th>\n",
       "      <td>424</td>\n",
       "      <td>60756</td>\n",
       "      <td>2016-03-13 05:15:29</td>\n",
       "    </tr>\n",
       "  </tbody>\n",
       "</table>\n",
       "</div>"
      ],
      "text/plain": [
       "              userId  movieId                time\n",
       "tag                                              \n",
       "funny            599     1732 2017-06-26 05:51:31\n",
       "will ferrell       2    60756 2015-10-24 19:29:52\n",
       "will ferrell      62    60756 2018-06-13 23:59:39\n",
       "will ferrell      62   107348 2018-06-14 00:10:02\n",
       "will ferrell     424    60756 2016-03-13 05:15:29"
      ]
     },
     "execution_count": 39,
     "metadata": {},
     "output_type": "execute_result"
    }
   ],
   "source": [
    "# loc: by the label(s)\n",
    "tags_1idx.loc[['funny', 'will ferrell']].tail()"
   ]
  },
  {
   "cell_type": "markdown",
   "metadata": {
    "id": "ZQubFChAAkq8"
   },
   "source": [
    "#### Inner index level\n",
    "\n",
    "<u>We'll set a second index based on the year of ratings.</u>"
   ]
  },
  {
   "cell_type": "code",
   "execution_count": 40,
   "metadata": {
    "id": "RrXiNp4rAkq8",
    "outputId": "e53f68be-8838-4d7b-da9e-945d353b6590"
   },
   "outputs": [
    {
     "data": {
      "text/html": [
       "<div>\n",
       "<style scoped>\n",
       "    .dataframe tbody tr th:only-of-type {\n",
       "        vertical-align: middle;\n",
       "    }\n",
       "\n",
       "    .dataframe tbody tr th {\n",
       "        vertical-align: top;\n",
       "    }\n",
       "\n",
       "    .dataframe thead th {\n",
       "        text-align: right;\n",
       "    }\n",
       "</style>\n",
       "<table border=\"1\" class=\"dataframe\">\n",
       "  <thead>\n",
       "    <tr style=\"text-align: right;\">\n",
       "      <th></th>\n",
       "      <th></th>\n",
       "      <th>userId</th>\n",
       "      <th>movieId</th>\n",
       "      <th>time</th>\n",
       "    </tr>\n",
       "    <tr>\n",
       "      <th>tag</th>\n",
       "      <th>year</th>\n",
       "      <th></th>\n",
       "      <th></th>\n",
       "      <th></th>\n",
       "    </tr>\n",
       "  </thead>\n",
       "  <tbody>\n",
       "    <tr>\n",
       "      <th>\"artsy\"</th>\n",
       "      <th>2018</th>\n",
       "      <td>567</td>\n",
       "      <td>4552</td>\n",
       "      <td>2018-05-02 18:31:18</td>\n",
       "    </tr>\n",
       "    <tr>\n",
       "      <th rowspan=\"3\" valign=\"top\">06 Oscar Nominated Best Movie - Animation</th>\n",
       "      <th>2006</th>\n",
       "      <td>474</td>\n",
       "      <td>31658</td>\n",
       "      <td>2006-04-19 13:04:16</td>\n",
       "    </tr>\n",
       "    <tr>\n",
       "      <th>2006</th>\n",
       "      <td>474</td>\n",
       "      <td>37729</td>\n",
       "      <td>2006-02-04 13:32:18</td>\n",
       "    </tr>\n",
       "    <tr>\n",
       "      <th>2006</th>\n",
       "      <td>474</td>\n",
       "      <td>38038</td>\n",
       "      <td>2006-02-11 13:23:10</td>\n",
       "    </tr>\n",
       "    <tr>\n",
       "      <th>1900s</th>\n",
       "      <th>2006</th>\n",
       "      <td>474</td>\n",
       "      <td>918</td>\n",
       "      <td>2006-01-24 21:25:49</td>\n",
       "    </tr>\n",
       "    <tr>\n",
       "      <th rowspan=\"2\" valign=\"top\">1920s</th>\n",
       "      <th>2006</th>\n",
       "      <td>474</td>\n",
       "      <td>1084</td>\n",
       "      <td>2006-01-24 21:24:04</td>\n",
       "    </tr>\n",
       "    <tr>\n",
       "      <th>2006</th>\n",
       "      <td>474</td>\n",
       "      <td>3548</td>\n",
       "      <td>2006-01-14 02:22:11</td>\n",
       "    </tr>\n",
       "    <tr>\n",
       "      <th rowspan=\"2\" valign=\"top\">1950s</th>\n",
       "      <th>2006</th>\n",
       "      <td>474</td>\n",
       "      <td>1103</td>\n",
       "      <td>2006-01-14 02:51:28</td>\n",
       "    </tr>\n",
       "    <tr>\n",
       "      <th>2006</th>\n",
       "      <td>474</td>\n",
       "      <td>2664</td>\n",
       "      <td>2006-01-23 16:00:17</td>\n",
       "    </tr>\n",
       "    <tr>\n",
       "      <th>1960s</th>\n",
       "      <th>2006</th>\n",
       "      <td>474</td>\n",
       "      <td>1093</td>\n",
       "      <td>2006-01-16 01:42:16</td>\n",
       "    </tr>\n",
       "  </tbody>\n",
       "</table>\n",
       "</div>"
      ],
      "text/plain": [
       "                                                userId  movieId  \\\n",
       "tag                                       year                    \n",
       "\"artsy\"                                   2018     567     4552   \n",
       "06 Oscar Nominated Best Movie - Animation 2006     474    31658   \n",
       "                                          2006     474    37729   \n",
       "                                          2006     474    38038   \n",
       "1900s                                     2006     474      918   \n",
       "1920s                                     2006     474     1084   \n",
       "                                          2006     474     3548   \n",
       "1950s                                     2006     474     1103   \n",
       "                                          2006     474     2664   \n",
       "1960s                                     2006     474     1093   \n",
       "\n",
       "                                                              time  \n",
       "tag                                       year                      \n",
       "\"artsy\"                                   2018 2018-05-02 18:31:18  \n",
       "06 Oscar Nominated Best Movie - Animation 2006 2006-04-19 13:04:16  \n",
       "                                          2006 2006-02-04 13:32:18  \n",
       "                                          2006 2006-02-11 13:23:10  \n",
       "1900s                                     2006 2006-01-24 21:25:49  \n",
       "1920s                                     2006 2006-01-24 21:24:04  \n",
       "                                          2006 2006-01-14 02:22:11  \n",
       "1950s                                     2006 2006-01-14 02:51:28  \n",
       "                                          2006 2006-01-23 16:00:17  \n",
       "1960s                                     2006 2006-01-16 01:42:16  "
      ]
     },
     "execution_count": 40,
     "metadata": {},
     "output_type": "execute_result"
    }
   ],
   "source": [
    "tags_df[\"year\"] = tags_df.time.dt.year\n",
    "\n",
    "tags_2idx = tags_df.set_index(['tag', 'year']).sort_index()\n",
    "tags_2idx.head(10)"
   ]
  },
  {
   "cell_type": "code",
   "execution_count": 41,
   "metadata": {
    "id": "ricvSpPIAkq8",
    "outputId": "f9adf407-4dc5-4719-d103-edb161bcb590"
   },
   "outputs": [
    {
     "data": {
      "text/html": [
       "<div>\n",
       "<style scoped>\n",
       "    .dataframe tbody tr th:only-of-type {\n",
       "        vertical-align: middle;\n",
       "    }\n",
       "\n",
       "    .dataframe tbody tr th {\n",
       "        vertical-align: top;\n",
       "    }\n",
       "\n",
       "    .dataframe thead th {\n",
       "        text-align: right;\n",
       "    }\n",
       "</style>\n",
       "<table border=\"1\" class=\"dataframe\">\n",
       "  <thead>\n",
       "    <tr style=\"text-align: right;\">\n",
       "      <th></th>\n",
       "      <th></th>\n",
       "      <th>userId</th>\n",
       "      <th>movieId</th>\n",
       "      <th>time</th>\n",
       "    </tr>\n",
       "    <tr>\n",
       "      <th>tag</th>\n",
       "      <th>year</th>\n",
       "      <th></th>\n",
       "      <th></th>\n",
       "      <th></th>\n",
       "    </tr>\n",
       "  </thead>\n",
       "  <tbody>\n",
       "    <tr>\n",
       "      <th rowspan=\"4\" valign=\"top\">funny</th>\n",
       "      <th>2015</th>\n",
       "      <td>2</td>\n",
       "      <td>60756</td>\n",
       "      <td>2015-10-24 19:29:54</td>\n",
       "    </tr>\n",
       "    <tr>\n",
       "      <th>2015</th>\n",
       "      <td>119</td>\n",
       "      <td>101142</td>\n",
       "      <td>2015-07-10 21:17:47</td>\n",
       "    </tr>\n",
       "    <tr>\n",
       "      <th>2015</th>\n",
       "      <td>256</td>\n",
       "      <td>126548</td>\n",
       "      <td>2015-11-14 20:23:12</td>\n",
       "    </tr>\n",
       "    <tr>\n",
       "      <th>2015</th>\n",
       "      <td>537</td>\n",
       "      <td>69122</td>\n",
       "      <td>2015-02-17 02:31:57</td>\n",
       "    </tr>\n",
       "  </tbody>\n",
       "</table>\n",
       "</div>"
      ],
      "text/plain": [
       "            userId  movieId                time\n",
       "tag   year                                     \n",
       "funny 2015       2    60756 2015-10-24 19:29:54\n",
       "      2015     119   101142 2015-07-10 21:17:47\n",
       "      2015     256   126548 2015-11-14 20:23:12\n",
       "      2015     537    69122 2015-02-17 02:31:57"
      ]
     },
     "execution_count": 41,
     "metadata": {},
     "output_type": "execute_result"
    }
   ],
   "source": [
    "# Try it: Pass a tag and a year to .loc[]\n",
    "tags_2idx.loc[\"funny\", 2015]"
   ]
  },
  {
   "cell_type": "markdown",
   "metadata": {
    "id": "qNVDznOlAkq8"
   },
   "source": [
    "<u> Run the cells and inspect the results</u>"
   ]
  },
  {
   "cell_type": "code",
   "execution_count": 42,
   "metadata": {
    "id": "w-Y_0hWeAkq8",
    "outputId": "a344de2c-5ec8-47f6-c7aa-f22ef00b5509"
   },
   "outputs": [
    {
     "name": "stdout",
     "output_type": "stream",
     "text": [
      "            userId  movieId                time\n",
      "tag   year                                     \n",
      "funny 2015       2    60756 2015-10-24 19:29:54\n",
      "      2015     119   101142 2015-07-10 21:17:47\n",
      "      2015     256   126548 2015-11-14 20:23:12\n",
      "      2015     537    69122 2015-02-17 02:31:57\n",
      "      2016     424    60756 2016-03-13 05:15:27\n",
      "      2017     599      296 2017-06-26 05:53:03\n",
      "      2017     599     1732 2017-06-26 05:51:31\n",
      "---------------------\n",
      "                   userId  movieId                time\n",
      "tag          year                                     \n",
      "will ferrell 2015       2    60756 2015-10-24 19:29:52\n",
      "             2018      62    60756 2018-06-13 23:59:39\n",
      "             2018      62   107348 2018-06-14 00:10:02\n"
     ]
    }
   ],
   "source": [
    "# Slicing based on multiple indices\n",
    "print(tags_2idx.loc[(\"funny\",2015):(\"funny\",2017)])\n",
    "print(\"---------------------\")\n",
    "print(tags_2idx.loc[(\"will ferrell\",(2015,2018)),])"
   ]
  },
  {
   "cell_type": "code",
   "execution_count": 43,
   "metadata": {
    "id": "qx8JmbZuAkq9",
    "outputId": "2a04d2a8-24f4-471b-b666-05d68e2abdb0"
   },
   "outputs": [
    {
     "name": "stdout",
     "output_type": "stream",
     "text": [
      "                       userId  movieId                time\n",
      "tag              year                                     \n",
      "Al Pacino        2016      18      431 2016-05-01 21:39:25\n",
      "                 2016      18     1221 2016-04-26 19:35:06\n",
      "                 2016     424     4262 2016-03-13 20:29:25\n",
      "                 2018      62     2023 2018-05-06 19:58:48\n",
      "                 2018      62     5388 2018-06-29 22:20:09\n",
      "Alcatraz         2006     474      733 2006-01-14 02:40:18\n",
      "Alfred Hitchcock 2009     477      903 2009-05-17 16:18:45\n",
      "                 2009     477      908 2009-05-17 16:18:17\n",
      "                 2009     477     1219 2009-05-17 16:19:13\n",
      "                 2016     424     1219 2016-03-13 20:54:15\n",
      "Alicia Vikander  2018      62   184471 2018-06-03 11:21:54\n",
      "---------------------\n",
      "                      userId  movieId\n",
      "tag             year                 \n",
      "Al Pacino       2018      62     2023\n",
      "                2018      62     5388\n",
      "Alicia Vikander 2018      62   184471\n"
     ]
    }
   ],
   "source": [
    "# Inspect the results\n",
    "print(tags_2idx.loc[\"Al Pacino\":\"Alicia Vikander\"])\n",
    "print(\"---------------------\")\n",
    "print(tags_2idx.loc[[(\"Al Pacino\",2018),(\"Alicia Vikander\",2018)], [\"userId\", \"movieId\"]])"
   ]
  },
  {
   "cell_type": "markdown",
   "metadata": {
    "id": "dDTTFXU6Akq9"
   },
   "source": [
    "### Subsetting in both directions"
   ]
  },
  {
   "cell_type": "markdown",
   "metadata": {
    "id": "1p3c1qp7Akq9"
   },
   "source": [
    "<u>This is especially useful if your DataFrame has many columns (variables).</u>"
   ]
  },
  {
   "cell_type": "code",
   "execution_count": 44,
   "metadata": {
    "id": "SlqyOoV6Akq9",
    "outputId": "baf914e7-6754-4cc6-82d4-671f457b6790",
    "scrolled": true
   },
   "outputs": [
    {
     "name": "stdout",
     "output_type": "stream",
     "text": [
      "            userId  movieId\n",
      "tag   year                 \n",
      "funny 2016     424    60756\n",
      "      2017     599      296\n",
      "      2017     599     1732\n",
      "      2018      62     2953\n",
      "      2018      62     3114\n",
      "      2018      62    60756\n",
      "      2018      62    68848\n",
      "      2018      62    71535\n",
      "      2018      62    88405\n",
      "      2018      62    99114\n",
      "      2018      62   119141\n",
      "      2018      62   179401\n",
      "      2018      62   183611\n",
      "      2018     567   106766\n",
      "      2018     567   112852\n",
      "      2018     567   134170\n",
      "      2018     567   148626\n",
      "      2018     567   167746\n"
     ]
    }
   ],
   "source": [
    "# Try it: display the columns \"userId\" and \"movieId\" \n",
    "# for movies with tag \"funny\" between years 2016-2018\n",
    "# Pass the columns as a tuple\n",
    "print( tags_2idx.loc[(\"funny\",2016):(\"funny\",2018), \n",
    "                     (\"userId\", \"movieId\")] )"
   ]
  },
  {
   "cell_type": "markdown",
   "metadata": {
    "id": "C_SxpNiMAkq-"
   },
   "source": [
    "### Slicing by (partial) dates"
   ]
  },
  {
   "cell_type": "markdown",
   "metadata": {
    "id": "WrWHk241Akq-"
   },
   "source": [
    "<u>Say we want to see only the ratings made in 2018 only.</u>"
   ]
  },
  {
   "cell_type": "code",
   "execution_count": 45,
   "metadata": {
    "id": "grdvHd_-Akq-",
    "outputId": "776f34b2-c991-4a90-efd0-55c67583c6ea"
   },
   "outputs": [
    {
     "data": {
      "text/html": [
       "<div>\n",
       "<style scoped>\n",
       "    .dataframe tbody tr th:only-of-type {\n",
       "        vertical-align: middle;\n",
       "    }\n",
       "\n",
       "    .dataframe tbody tr th {\n",
       "        vertical-align: top;\n",
       "    }\n",
       "\n",
       "    .dataframe thead th {\n",
       "        text-align: right;\n",
       "    }\n",
       "</style>\n",
       "<table border=\"1\" class=\"dataframe\">\n",
       "  <thead>\n",
       "    <tr style=\"text-align: right;\">\n",
       "      <th></th>\n",
       "      <th>userId</th>\n",
       "      <th>movieId</th>\n",
       "      <th>rating</th>\n",
       "      <th>time</th>\n",
       "    </tr>\n",
       "  </thead>\n",
       "  <tbody>\n",
       "    <tr>\n",
       "      <th>1839</th>\n",
       "      <td>18</td>\n",
       "      <td>913</td>\n",
       "      <td>4.0</td>\n",
       "      <td>2018-02-01 22:57:29</td>\n",
       "    </tr>\n",
       "    <tr>\n",
       "      <th>1852</th>\n",
       "      <td>18</td>\n",
       "      <td>1193</td>\n",
       "      <td>4.5</td>\n",
       "      <td>2018-02-03 19:27:05</td>\n",
       "    </tr>\n",
       "    <tr>\n",
       "      <th>1980</th>\n",
       "      <td>18</td>\n",
       "      <td>5120</td>\n",
       "      <td>4.5</td>\n",
       "      <td>2018-01-15 22:08:35</td>\n",
       "    </tr>\n",
       "    <tr>\n",
       "      <th>2012</th>\n",
       "      <td>18</td>\n",
       "      <td>6787</td>\n",
       "      <td>4.0</td>\n",
       "      <td>2018-08-11 20:54:56</td>\n",
       "    </tr>\n",
       "    <tr>\n",
       "      <th>2053</th>\n",
       "      <td>18</td>\n",
       "      <td>27878</td>\n",
       "      <td>4.5</td>\n",
       "      <td>2018-05-12 21:18:13</td>\n",
       "    </tr>\n",
       "    <tr>\n",
       "      <th>...</th>\n",
       "      <td>...</td>\n",
       "      <td>...</td>\n",
       "      <td>...</td>\n",
       "      <td>...</td>\n",
       "    </tr>\n",
       "    <tr>\n",
       "      <th>95960</th>\n",
       "      <td>601</td>\n",
       "      <td>170705</td>\n",
       "      <td>5.0</td>\n",
       "      <td>2018-03-18 18:26:36</td>\n",
       "    </tr>\n",
       "    <tr>\n",
       "      <th>95961</th>\n",
       "      <td>601</td>\n",
       "      <td>172591</td>\n",
       "      <td>4.5</td>\n",
       "      <td>2018-03-19 13:56:59</td>\n",
       "    </tr>\n",
       "    <tr>\n",
       "      <th>95962</th>\n",
       "      <td>601</td>\n",
       "      <td>174055</td>\n",
       "      <td>4.0</td>\n",
       "      <td>2018-03-18 18:28:59</td>\n",
       "    </tr>\n",
       "    <tr>\n",
       "      <th>95963</th>\n",
       "      <td>601</td>\n",
       "      <td>176371</td>\n",
       "      <td>4.0</td>\n",
       "      <td>2018-03-18 18:27:03</td>\n",
       "    </tr>\n",
       "    <tr>\n",
       "      <th>95964</th>\n",
       "      <td>601</td>\n",
       "      <td>177765</td>\n",
       "      <td>4.5</td>\n",
       "      <td>2018-03-18 18:27:01</td>\n",
       "    </tr>\n",
       "  </tbody>\n",
       "</table>\n",
       "<p>6418 rows × 4 columns</p>\n",
       "</div>"
      ],
      "text/plain": [
       "       userId  movieId  rating                time\n",
       "1839       18      913     4.0 2018-02-01 22:57:29\n",
       "1852       18     1193     4.5 2018-02-03 19:27:05\n",
       "1980       18     5120     4.5 2018-01-15 22:08:35\n",
       "2012       18     6787     4.0 2018-08-11 20:54:56\n",
       "2053       18    27878     4.5 2018-05-12 21:18:13\n",
       "...       ...      ...     ...                 ...\n",
       "95960     601   170705     5.0 2018-03-18 18:26:36\n",
       "95961     601   172591     4.5 2018-03-19 13:56:59\n",
       "95962     601   174055     4.0 2018-03-18 18:28:59\n",
       "95963     601   176371     4.0 2018-03-18 18:27:03\n",
       "95964     601   177765     4.5 2018-03-18 18:27:01\n",
       "\n",
       "[6418 rows x 4 columns]"
      ]
     },
     "execution_count": 45,
     "metadata": {},
     "output_type": "execute_result"
    }
   ],
   "source": [
    "# Try it: get the Boolean series using logical operator/s on ratings_df[\"time\"]\n",
    "is_year2018 = (ratings_df[\"time\"]>=\"2018\") & (ratings_df[\"time\"]<\"2019\")\n",
    "\n",
    "# ratings made in 2018\n",
    "ratings_df[is_year2018]"
   ]
  },
  {
   "cell_type": "code",
   "execution_count": 46,
   "metadata": {
    "id": "ZSbwgvgBAkq-",
    "outputId": "8a59f252-e5d1-431c-dbd7-caacdbd0f838"
   },
   "outputs": [
    {
     "data": {
      "text/html": [
       "<div>\n",
       "<style scoped>\n",
       "    .dataframe tbody tr th:only-of-type {\n",
       "        vertical-align: middle;\n",
       "    }\n",
       "\n",
       "    .dataframe tbody tr th {\n",
       "        vertical-align: top;\n",
       "    }\n",
       "\n",
       "    .dataframe thead th {\n",
       "        text-align: right;\n",
       "    }\n",
       "</style>\n",
       "<table border=\"1\" class=\"dataframe\">\n",
       "  <thead>\n",
       "    <tr style=\"text-align: right;\">\n",
       "      <th></th>\n",
       "      <th>userId</th>\n",
       "      <th>movieId</th>\n",
       "      <th>rating</th>\n",
       "      <th>time</th>\n",
       "    </tr>\n",
       "  </thead>\n",
       "  <tbody>\n",
       "    <tr>\n",
       "      <th>1839</th>\n",
       "      <td>18</td>\n",
       "      <td>913</td>\n",
       "      <td>4.0</td>\n",
       "      <td>2018-02-01 22:57:29</td>\n",
       "    </tr>\n",
       "    <tr>\n",
       "      <th>1852</th>\n",
       "      <td>18</td>\n",
       "      <td>1193</td>\n",
       "      <td>4.5</td>\n",
       "      <td>2018-02-03 19:27:05</td>\n",
       "    </tr>\n",
       "    <tr>\n",
       "      <th>1980</th>\n",
       "      <td>18</td>\n",
       "      <td>5120</td>\n",
       "      <td>4.5</td>\n",
       "      <td>2018-01-15 22:08:35</td>\n",
       "    </tr>\n",
       "    <tr>\n",
       "      <th>2012</th>\n",
       "      <td>18</td>\n",
       "      <td>6787</td>\n",
       "      <td>4.0</td>\n",
       "      <td>2018-08-11 20:54:56</td>\n",
       "    </tr>\n",
       "    <tr>\n",
       "      <th>2053</th>\n",
       "      <td>18</td>\n",
       "      <td>27878</td>\n",
       "      <td>4.5</td>\n",
       "      <td>2018-05-12 21:18:13</td>\n",
       "    </tr>\n",
       "    <tr>\n",
       "      <th>...</th>\n",
       "      <td>...</td>\n",
       "      <td>...</td>\n",
       "      <td>...</td>\n",
       "      <td>...</td>\n",
       "    </tr>\n",
       "    <tr>\n",
       "      <th>95960</th>\n",
       "      <td>601</td>\n",
       "      <td>170705</td>\n",
       "      <td>5.0</td>\n",
       "      <td>2018-03-18 18:26:36</td>\n",
       "    </tr>\n",
       "    <tr>\n",
       "      <th>95961</th>\n",
       "      <td>601</td>\n",
       "      <td>172591</td>\n",
       "      <td>4.5</td>\n",
       "      <td>2018-03-19 13:56:59</td>\n",
       "    </tr>\n",
       "    <tr>\n",
       "      <th>95962</th>\n",
       "      <td>601</td>\n",
       "      <td>174055</td>\n",
       "      <td>4.0</td>\n",
       "      <td>2018-03-18 18:28:59</td>\n",
       "    </tr>\n",
       "    <tr>\n",
       "      <th>95963</th>\n",
       "      <td>601</td>\n",
       "      <td>176371</td>\n",
       "      <td>4.0</td>\n",
       "      <td>2018-03-18 18:27:03</td>\n",
       "    </tr>\n",
       "    <tr>\n",
       "      <th>95964</th>\n",
       "      <td>601</td>\n",
       "      <td>177765</td>\n",
       "      <td>4.5</td>\n",
       "      <td>2018-03-18 18:27:01</td>\n",
       "    </tr>\n",
       "  </tbody>\n",
       "</table>\n",
       "<p>6418 rows × 4 columns</p>\n",
       "</div>"
      ],
      "text/plain": [
       "       userId  movieId  rating                time\n",
       "1839       18      913     4.0 2018-02-01 22:57:29\n",
       "1852       18     1193     4.5 2018-02-03 19:27:05\n",
       "1980       18     5120     4.5 2018-01-15 22:08:35\n",
       "2012       18     6787     4.0 2018-08-11 20:54:56\n",
       "2053       18    27878     4.5 2018-05-12 21:18:13\n",
       "...       ...      ...     ...                 ...\n",
       "95960     601   170705     5.0 2018-03-18 18:26:36\n",
       "95961     601   172591     4.5 2018-03-19 13:56:59\n",
       "95962     601   174055     4.0 2018-03-18 18:28:59\n",
       "95963     601   176371     4.0 2018-03-18 18:27:03\n",
       "95964     601   177765     4.5 2018-03-18 18:27:01\n",
       "\n",
       "[6418 rows x 4 columns]"
      ]
     },
     "execution_count": 46,
     "metadata": {},
     "output_type": "execute_result"
    }
   ],
   "source": [
    "# Alternative: use .dt.year\n",
    "# Get the Boolean series\n",
    "is_year2018 = ratings_df[\"time\"].dt.year==2018\n",
    "\n",
    "# ratings made in 2018\n",
    "ratings_df[is_year2018]"
   ]
  },
  {
   "cell_type": "code",
   "execution_count": 47,
   "metadata": {
    "id": "mM63zDOPAkq-",
    "outputId": "f860136d-e556-4e29-d371-159905ea4927"
   },
   "outputs": [
    {
     "data": {
      "text/html": [
       "<div>\n",
       "<style scoped>\n",
       "    .dataframe tbody tr th:only-of-type {\n",
       "        vertical-align: middle;\n",
       "    }\n",
       "\n",
       "    .dataframe tbody tr th {\n",
       "        vertical-align: top;\n",
       "    }\n",
       "\n",
       "    .dataframe thead th {\n",
       "        text-align: right;\n",
       "    }\n",
       "</style>\n",
       "<table border=\"1\" class=\"dataframe\">\n",
       "  <thead>\n",
       "    <tr style=\"text-align: right;\">\n",
       "      <th></th>\n",
       "      <th>userId</th>\n",
       "      <th>movieId</th>\n",
       "      <th>rating</th>\n",
       "      <th>time</th>\n",
       "    </tr>\n",
       "  </thead>\n",
       "  <tbody>\n",
       "    <tr>\n",
       "      <th>0</th>\n",
       "      <td>1</td>\n",
       "      <td>1</td>\n",
       "      <td>4.0</td>\n",
       "      <td>2000-07-30 18:45:03</td>\n",
       "    </tr>\n",
       "    <tr>\n",
       "      <th>1</th>\n",
       "      <td>1</td>\n",
       "      <td>3</td>\n",
       "      <td>4.0</td>\n",
       "      <td>2000-07-30 18:20:47</td>\n",
       "    </tr>\n",
       "    <tr>\n",
       "      <th>2</th>\n",
       "      <td>1</td>\n",
       "      <td>6</td>\n",
       "      <td>4.0</td>\n",
       "      <td>2000-07-30 18:37:04</td>\n",
       "    </tr>\n",
       "    <tr>\n",
       "      <th>3</th>\n",
       "      <td>1</td>\n",
       "      <td>47</td>\n",
       "      <td>5.0</td>\n",
       "      <td>2000-07-30 19:03:35</td>\n",
       "    </tr>\n",
       "    <tr>\n",
       "      <th>4</th>\n",
       "      <td>1</td>\n",
       "      <td>50</td>\n",
       "      <td>5.0</td>\n",
       "      <td>2000-07-30 18:48:51</td>\n",
       "    </tr>\n",
       "    <tr>\n",
       "      <th>...</th>\n",
       "      <td>...</td>\n",
       "      <td>...</td>\n",
       "      <td>...</td>\n",
       "      <td>...</td>\n",
       "    </tr>\n",
       "    <tr>\n",
       "      <th>98661</th>\n",
       "      <td>607</td>\n",
       "      <td>4022</td>\n",
       "      <td>4.0</td>\n",
       "      <td>2001-08-15 03:46:13</td>\n",
       "    </tr>\n",
       "    <tr>\n",
       "      <th>98662</th>\n",
       "      <td>607</td>\n",
       "      <td>4023</td>\n",
       "      <td>3.0</td>\n",
       "      <td>2001-08-15 03:46:13</td>\n",
       "    </tr>\n",
       "    <tr>\n",
       "      <th>98663</th>\n",
       "      <td>607</td>\n",
       "      <td>4054</td>\n",
       "      <td>3.0</td>\n",
       "      <td>2001-08-15 03:46:13</td>\n",
       "    </tr>\n",
       "    <tr>\n",
       "      <th>98664</th>\n",
       "      <td>607</td>\n",
       "      <td>4069</td>\n",
       "      <td>3.0</td>\n",
       "      <td>2001-08-15 03:46:43</td>\n",
       "    </tr>\n",
       "    <tr>\n",
       "      <th>98665</th>\n",
       "      <td>607</td>\n",
       "      <td>5060</td>\n",
       "      <td>3.0</td>\n",
       "      <td>2000-07-08 17:58:51</td>\n",
       "    </tr>\n",
       "  </tbody>\n",
       "</table>\n",
       "<p>13983 rows × 4 columns</p>\n",
       "</div>"
      ],
      "text/plain": [
       "       userId  movieId  rating                time\n",
       "0           1        1     4.0 2000-07-30 18:45:03\n",
       "1           1        3     4.0 2000-07-30 18:20:47\n",
       "2           1        6     4.0 2000-07-30 18:37:04\n",
       "3           1       47     5.0 2000-07-30 19:03:35\n",
       "4           1       50     5.0 2000-07-30 18:48:51\n",
       "...       ...      ...     ...                 ...\n",
       "98661     607     4022     4.0 2001-08-15 03:46:13\n",
       "98662     607     4023     3.0 2001-08-15 03:46:13\n",
       "98663     607     4054     3.0 2001-08-15 03:46:13\n",
       "98664     607     4069     3.0 2001-08-15 03:46:43\n",
       "98665     607     5060     3.0 2000-07-08 17:58:51\n",
       "\n",
       "[13983 rows x 4 columns]"
      ]
     },
     "execution_count": 47,
     "metadata": {},
     "output_type": "execute_result"
    }
   ],
   "source": [
    "# Try it: Get the ratings made in years 2000 and 2001.\n",
    "is_interval = (ratings_df[\"time\"].dt.year==2000) | (ratings_df[\"time\"].dt.year==2001)\n",
    "\n",
    "ratings_df[is_interval]"
   ]
  },
  {
   "cell_type": "markdown",
   "metadata": {
    "id": "38wuXRF0Akq_"
   },
   "source": [
    "## Merging and Pivoting"
   ]
  },
  {
   "cell_type": "markdown",
   "metadata": {
    "id": "TsZuWc1JAkq_"
   },
   "source": [
    "<u>In the lecture we have seen the example of merging and pivoting using `tags_df` and `ratings_df`.</u>"
   ]
  },
  {
   "cell_type": "code",
   "execution_count": 48,
   "metadata": {
    "id": "OyisPgmuAkq_",
    "outputId": "58a5257b-7ed4-4eec-cedc-4536283b8fd5"
   },
   "outputs": [
    {
     "name": "stdout",
     "output_type": "stream",
     "text": [
      "   userId  movieId              tag                time  year\n",
      "0       2    60756            funny 2015-10-24 19:29:54  2015\n",
      "1       2    60756  Highly quotable 2015-10-24 19:29:56  2015\n",
      "   userId  movieId  rating                time\n",
      "0       1        1     4.0 2000-07-30 18:45:03\n",
      "1       1        3     4.0 2000-07-30 18:20:47\n"
     ]
    }
   ],
   "source": [
    "# Print a few lines from tags_df and ratings_df to remind ourselves how they look like.\n",
    "print(tags_df.head(2))\n",
    "print(ratings_df.head(2))"
   ]
  },
  {
   "cell_type": "code",
   "execution_count": 49,
   "metadata": {
    "id": "15QqJGQeAkq_",
    "outputId": "d5eace30-152c-4671-b3e1-590cf9db103c"
   },
   "outputs": [
    {
     "data": {
      "text/html": [
       "<div>\n",
       "<style scoped>\n",
       "    .dataframe tbody tr th:only-of-type {\n",
       "        vertical-align: middle;\n",
       "    }\n",
       "\n",
       "    .dataframe tbody tr th {\n",
       "        vertical-align: top;\n",
       "    }\n",
       "\n",
       "    .dataframe thead th {\n",
       "        text-align: right;\n",
       "    }\n",
       "</style>\n",
       "<table border=\"1\" class=\"dataframe\">\n",
       "  <thead>\n",
       "    <tr style=\"text-align: right;\">\n",
       "      <th></th>\n",
       "      <th>userId</th>\n",
       "      <th>movieId</th>\n",
       "      <th>tag</th>\n",
       "      <th>time</th>\n",
       "      <th>year</th>\n",
       "      <th>rating</th>\n",
       "    </tr>\n",
       "  </thead>\n",
       "  <tbody>\n",
       "    <tr>\n",
       "      <th>0</th>\n",
       "      <td>2</td>\n",
       "      <td>60756</td>\n",
       "      <td>funny</td>\n",
       "      <td>2015-10-24 19:29:54</td>\n",
       "      <td>2015</td>\n",
       "      <td>5.0</td>\n",
       "    </tr>\n",
       "    <tr>\n",
       "      <th>1</th>\n",
       "      <td>2</td>\n",
       "      <td>60756</td>\n",
       "      <td>Highly quotable</td>\n",
       "      <td>2015-10-24 19:29:56</td>\n",
       "      <td>2015</td>\n",
       "      <td>5.0</td>\n",
       "    </tr>\n",
       "    <tr>\n",
       "      <th>2</th>\n",
       "      <td>2</td>\n",
       "      <td>60756</td>\n",
       "      <td>will ferrell</td>\n",
       "      <td>2015-10-24 19:29:52</td>\n",
       "      <td>2015</td>\n",
       "      <td>5.0</td>\n",
       "    </tr>\n",
       "    <tr>\n",
       "      <th>3</th>\n",
       "      <td>2</td>\n",
       "      <td>89774</td>\n",
       "      <td>Boxing story</td>\n",
       "      <td>2015-10-24 19:33:27</td>\n",
       "      <td>2015</td>\n",
       "      <td>5.0</td>\n",
       "    </tr>\n",
       "    <tr>\n",
       "      <th>4</th>\n",
       "      <td>2</td>\n",
       "      <td>89774</td>\n",
       "      <td>MMA</td>\n",
       "      <td>2015-10-24 19:33:20</td>\n",
       "      <td>2015</td>\n",
       "      <td>5.0</td>\n",
       "    </tr>\n",
       "    <tr>\n",
       "      <th>...</th>\n",
       "      <td>...</td>\n",
       "      <td>...</td>\n",
       "      <td>...</td>\n",
       "      <td>...</td>\n",
       "      <td>...</td>\n",
       "      <td>...</td>\n",
       "    </tr>\n",
       "    <tr>\n",
       "      <th>3471</th>\n",
       "      <td>606</td>\n",
       "      <td>6107</td>\n",
       "      <td>World War II</td>\n",
       "      <td>2007-05-06 17:49:07</td>\n",
       "      <td>2007</td>\n",
       "      <td>4.0</td>\n",
       "    </tr>\n",
       "    <tr>\n",
       "      <th>3472</th>\n",
       "      <td>606</td>\n",
       "      <td>7382</td>\n",
       "      <td>for katie</td>\n",
       "      <td>2007-02-11 22:46:59</td>\n",
       "      <td>2007</td>\n",
       "      <td>4.5</td>\n",
       "    </tr>\n",
       "    <tr>\n",
       "      <th>3473</th>\n",
       "      <td>610</td>\n",
       "      <td>3265</td>\n",
       "      <td>gun fu</td>\n",
       "      <td>2017-05-03 20:39:44</td>\n",
       "      <td>2017</td>\n",
       "      <td>5.0</td>\n",
       "    </tr>\n",
       "    <tr>\n",
       "      <th>3474</th>\n",
       "      <td>610</td>\n",
       "      <td>3265</td>\n",
       "      <td>heroic bloodshed</td>\n",
       "      <td>2017-05-03 20:39:38</td>\n",
       "      <td>2017</td>\n",
       "      <td>5.0</td>\n",
       "    </tr>\n",
       "    <tr>\n",
       "      <th>3475</th>\n",
       "      <td>610</td>\n",
       "      <td>168248</td>\n",
       "      <td>Heroic Bloodshed</td>\n",
       "      <td>2017-05-03 20:44:30</td>\n",
       "      <td>2017</td>\n",
       "      <td>5.0</td>\n",
       "    </tr>\n",
       "  </tbody>\n",
       "</table>\n",
       "<p>3476 rows × 6 columns</p>\n",
       "</div>"
      ],
      "text/plain": [
       "      userId  movieId               tag                time  year  rating\n",
       "0          2    60756             funny 2015-10-24 19:29:54  2015     5.0\n",
       "1          2    60756   Highly quotable 2015-10-24 19:29:56  2015     5.0\n",
       "2          2    60756      will ferrell 2015-10-24 19:29:52  2015     5.0\n",
       "3          2    89774      Boxing story 2015-10-24 19:33:27  2015     5.0\n",
       "4          2    89774               MMA 2015-10-24 19:33:20  2015     5.0\n",
       "...      ...      ...               ...                 ...   ...     ...\n",
       "3471     606     6107      World War II 2007-05-06 17:49:07  2007     4.0\n",
       "3472     606     7382         for katie 2007-02-11 22:46:59  2007     4.5\n",
       "3473     610     3265            gun fu 2017-05-03 20:39:44  2017     5.0\n",
       "3474     610     3265  heroic bloodshed 2017-05-03 20:39:38  2017     5.0\n",
       "3475     610   168248  Heroic Bloodshed 2017-05-03 20:44:30  2017     5.0\n",
       "\n",
       "[3476 rows x 6 columns]"
      ]
     },
     "execution_count": 49,
     "metadata": {},
     "output_type": "execute_result"
    }
   ],
   "source": [
    "# Merge the two DataFrames on two columns, \"userId\" and \"movieId\",\n",
    "# by first dropping the time stamp on ratings_df\n",
    "tags_ratings_df = tags_df.merge(ratings_df.drop(columns=[\"time\"]), \n",
    "                                on=[\"userId\", \"movieId\"])\n",
    "\n",
    "tags_ratings_df"
   ]
  },
  {
   "cell_type": "markdown",
   "metadata": {
    "id": "8EfEuCb6AkrA"
   },
   "source": [
    "<u>Read the description in the cell below and run it.</u>"
   ]
  },
  {
   "cell_type": "code",
   "execution_count": 52,
   "metadata": {
    "id": "Uz_-fhSGAkrA",
    "outputId": "9e05faee-2fc8-4c78-ffb7-49ead7bb5cb7",
    "scrolled": true
   },
   "outputs": [
    {
     "data": {
      "text/html": [
       "<div>\n",
       "<style scoped>\n",
       "    .dataframe tbody tr th:only-of-type {\n",
       "        vertical-align: middle;\n",
       "    }\n",
       "\n",
       "    .dataframe tbody tr th {\n",
       "        vertical-align: top;\n",
       "    }\n",
       "\n",
       "    .dataframe thead th {\n",
       "        text-align: right;\n",
       "    }\n",
       "</style>\n",
       "<table border=\"1\" class=\"dataframe\">\n",
       "  <thead>\n",
       "    <tr style=\"text-align: right;\">\n",
       "      <th>year</th>\n",
       "      <th>2006</th>\n",
       "      <th>2007</th>\n",
       "      <th>2008</th>\n",
       "      <th>2009</th>\n",
       "      <th>2010</th>\n",
       "      <th>2011</th>\n",
       "      <th>2012</th>\n",
       "      <th>2013</th>\n",
       "      <th>2014</th>\n",
       "      <th>2015</th>\n",
       "      <th>2016</th>\n",
       "      <th>2017</th>\n",
       "      <th>2018</th>\n",
       "    </tr>\n",
       "    <tr>\n",
       "      <th>tag</th>\n",
       "      <th></th>\n",
       "      <th></th>\n",
       "      <th></th>\n",
       "      <th></th>\n",
       "      <th></th>\n",
       "      <th></th>\n",
       "      <th></th>\n",
       "      <th></th>\n",
       "      <th></th>\n",
       "      <th></th>\n",
       "      <th></th>\n",
       "      <th></th>\n",
       "      <th></th>\n",
       "    </tr>\n",
       "  </thead>\n",
       "  <tbody>\n",
       "    <tr>\n",
       "      <th>music</th>\n",
       "      <td>3.785714</td>\n",
       "      <td>4.0</td>\n",
       "      <td>-</td>\n",
       "      <td>4.333333</td>\n",
       "      <td>5.0</td>\n",
       "      <td>-</td>\n",
       "      <td>-</td>\n",
       "      <td>-</td>\n",
       "      <td>-</td>\n",
       "      <td>4.25</td>\n",
       "      <td>3.0</td>\n",
       "      <td>5.0</td>\n",
       "      <td>-</td>\n",
       "    </tr>\n",
       "    <tr>\n",
       "      <th>psychology</th>\n",
       "      <td>3.916667</td>\n",
       "      <td>-</td>\n",
       "      <td>-</td>\n",
       "      <td>4.666667</td>\n",
       "      <td>-</td>\n",
       "      <td>-</td>\n",
       "      <td>-</td>\n",
       "      <td>5.0</td>\n",
       "      <td>-</td>\n",
       "      <td>5.0</td>\n",
       "      <td>4.416667</td>\n",
       "      <td>5.0</td>\n",
       "      <td>4.75</td>\n",
       "    </tr>\n",
       "    <tr>\n",
       "      <th>dark comedy</th>\n",
       "      <td>-</td>\n",
       "      <td>-</td>\n",
       "      <td>5.0</td>\n",
       "      <td>5.0</td>\n",
       "      <td>4.5</td>\n",
       "      <td>-</td>\n",
       "      <td>-</td>\n",
       "      <td>5.0</td>\n",
       "      <td>-</td>\n",
       "      <td>-</td>\n",
       "      <td>4.125</td>\n",
       "      <td>5.0</td>\n",
       "      <td>4.142857</td>\n",
       "    </tr>\n",
       "    <tr>\n",
       "      <th>mindfuck</th>\n",
       "      <td>-</td>\n",
       "      <td>-</td>\n",
       "      <td>-</td>\n",
       "      <td>4.75</td>\n",
       "      <td>5.0</td>\n",
       "      <td>-</td>\n",
       "      <td>5.0</td>\n",
       "      <td>-</td>\n",
       "      <td>-</td>\n",
       "      <td>5.0</td>\n",
       "      <td>4.6</td>\n",
       "      <td>5.0</td>\n",
       "      <td>4.166667</td>\n",
       "    </tr>\n",
       "    <tr>\n",
       "      <th>atmospheric</th>\n",
       "      <td>-</td>\n",
       "      <td>-</td>\n",
       "      <td>-</td>\n",
       "      <td>5.0</td>\n",
       "      <td>5.0</td>\n",
       "      <td>5.0</td>\n",
       "      <td>-</td>\n",
       "      <td>-</td>\n",
       "      <td>-</td>\n",
       "      <td>4.5</td>\n",
       "      <td>4.4</td>\n",
       "      <td>5.0</td>\n",
       "      <td>3.954545</td>\n",
       "    </tr>\n",
       "    <tr>\n",
       "      <th>suspense</th>\n",
       "      <td>-</td>\n",
       "      <td>-</td>\n",
       "      <td>-</td>\n",
       "      <td>4.5</td>\n",
       "      <td>-</td>\n",
       "      <td>-</td>\n",
       "      <td>4.0</td>\n",
       "      <td>-</td>\n",
       "      <td>-</td>\n",
       "      <td>4.5</td>\n",
       "      <td>4.75</td>\n",
       "      <td>5.0</td>\n",
       "      <td>3.166667</td>\n",
       "    </tr>\n",
       "    <tr>\n",
       "      <th>surreal</th>\n",
       "      <td>-</td>\n",
       "      <td>-</td>\n",
       "      <td>-</td>\n",
       "      <td>4.5</td>\n",
       "      <td>4.75</td>\n",
       "      <td>-</td>\n",
       "      <td>-</td>\n",
       "      <td>-</td>\n",
       "      <td>-</td>\n",
       "      <td>3.833333</td>\n",
       "      <td>3.5</td>\n",
       "      <td>5.0</td>\n",
       "      <td>4.192308</td>\n",
       "    </tr>\n",
       "    <tr>\n",
       "      <th>twist ending</th>\n",
       "      <td>4.0</td>\n",
       "      <td>-</td>\n",
       "      <td>-</td>\n",
       "      <td>4.25</td>\n",
       "      <td>-</td>\n",
       "      <td>-</td>\n",
       "      <td>4.5</td>\n",
       "      <td>-</td>\n",
       "      <td>-</td>\n",
       "      <td>-</td>\n",
       "      <td>4.666667</td>\n",
       "      <td>5.0</td>\n",
       "      <td>5.0</td>\n",
       "    </tr>\n",
       "    <tr>\n",
       "      <th>black comedy</th>\n",
       "      <td>-</td>\n",
       "      <td>-</td>\n",
       "      <td>-</td>\n",
       "      <td>5.0</td>\n",
       "      <td>5.0</td>\n",
       "      <td>-</td>\n",
       "      <td>-</td>\n",
       "      <td>-</td>\n",
       "      <td>-</td>\n",
       "      <td>-</td>\n",
       "      <td>4.5</td>\n",
       "      <td>5.0</td>\n",
       "      <td>4.444444</td>\n",
       "    </tr>\n",
       "    <tr>\n",
       "      <th>sci-fi</th>\n",
       "      <td>-</td>\n",
       "      <td>-</td>\n",
       "      <td>-</td>\n",
       "      <td>-</td>\n",
       "      <td>4.3</td>\n",
       "      <td>-</td>\n",
       "      <td>-</td>\n",
       "      <td>-</td>\n",
       "      <td>-</td>\n",
       "      <td>4.0</td>\n",
       "      <td>2.875</td>\n",
       "      <td>4.75</td>\n",
       "      <td>4.333333</td>\n",
       "    </tr>\n",
       "  </tbody>\n",
       "</table>\n",
       "</div>"
      ],
      "text/plain": [
       "year              2006 2007 2008      2009  2010 2011 2012 2013 2014  \\\n",
       "tag                                                                    \n",
       "music         3.785714  4.0    -  4.333333   5.0    -    -    -    -   \n",
       "psychology    3.916667    -    -  4.666667     -    -    -  5.0    -   \n",
       "dark comedy          -    -  5.0       5.0   4.5    -    -  5.0    -   \n",
       "mindfuck             -    -    -      4.75   5.0    -  5.0    -    -   \n",
       "atmospheric          -    -    -       5.0   5.0  5.0    -    -    -   \n",
       "suspense             -    -    -       4.5     -    -  4.0    -    -   \n",
       "surreal              -    -    -       4.5  4.75    -    -    -    -   \n",
       "twist ending       4.0    -    -      4.25     -    -  4.5    -    -   \n",
       "black comedy         -    -    -       5.0   5.0    -    -    -    -   \n",
       "sci-fi               -    -    -         -   4.3    -    -    -    -   \n",
       "\n",
       "year              2015      2016  2017      2018  \n",
       "tag                                               \n",
       "music             4.25       3.0   5.0         -  \n",
       "psychology         5.0  4.416667   5.0      4.75  \n",
       "dark comedy          -     4.125   5.0  4.142857  \n",
       "mindfuck           5.0       4.6   5.0  4.166667  \n",
       "atmospheric        4.5       4.4   5.0  3.954545  \n",
       "suspense           4.5      4.75   5.0  3.166667  \n",
       "surreal       3.833333       3.5   5.0  4.192308  \n",
       "twist ending         -  4.666667   5.0       5.0  \n",
       "black comedy         -       4.5   5.0  4.444444  \n",
       "sci-fi             4.0     2.875  4.75  4.333333  "
      ]
     },
     "execution_count": 52,
     "metadata": {},
     "output_type": "execute_result"
    }
   ],
   "source": [
    "# Pivot table by year and aggregate the ratings with their average\n",
    "mean_yearly_rating = tags_ratings_df.pivot_table(index=\"tag\", columns=\"year\", \n",
    "                                         values=\"rating\", aggfunc=\"mean\")\n",
    "\n",
    "# This line of code sorts the pivot table by the least occurrence of NAs, \n",
    "# because not each year has data, and replace NAs by \"-\"\n",
    "mean_yearly_rating.iloc[mean_yearly_rating.isnull().sum(axis=1).argsort()].fillna(\"-\").head(10)"
   ]
  },
  {
   "cell_type": "code",
   "execution_count": 53,
   "metadata": {
    "id": "T7dvNEtDAkrA",
    "outputId": "2042c9b2-46c2-4399-fc2c-e328df9b5520",
    "scrolled": true
   },
   "outputs": [
    {
     "data": {
      "text/html": [
       "<div>\n",
       "<style scoped>\n",
       "    .dataframe tbody tr th:only-of-type {\n",
       "        vertical-align: middle;\n",
       "    }\n",
       "\n",
       "    .dataframe tbody tr th {\n",
       "        vertical-align: top;\n",
       "    }\n",
       "\n",
       "    .dataframe thead th {\n",
       "        text-align: right;\n",
       "    }\n",
       "</style>\n",
       "<table border=\"1\" class=\"dataframe\">\n",
       "  <thead>\n",
       "    <tr style=\"text-align: right;\">\n",
       "      <th>year</th>\n",
       "      <th>2010</th>\n",
       "      <th>2011</th>\n",
       "      <th>2012</th>\n",
       "      <th>2013</th>\n",
       "      <th>2014</th>\n",
       "      <th>2015</th>\n",
       "      <th>2016</th>\n",
       "      <th>2017</th>\n",
       "      <th>2018</th>\n",
       "    </tr>\n",
       "    <tr>\n",
       "      <th>tag</th>\n",
       "      <th></th>\n",
       "      <th></th>\n",
       "      <th></th>\n",
       "      <th></th>\n",
       "      <th></th>\n",
       "      <th></th>\n",
       "      <th></th>\n",
       "      <th></th>\n",
       "      <th></th>\n",
       "    </tr>\n",
       "  </thead>\n",
       "  <tbody>\n",
       "    <tr>\n",
       "      <th>mindfuck</th>\n",
       "      <td>5.0</td>\n",
       "      <td></td>\n",
       "      <td>5.0</td>\n",
       "      <td></td>\n",
       "      <td></td>\n",
       "      <td>5.0</td>\n",
       "      <td>5.0</td>\n",
       "      <td>5.0</td>\n",
       "      <td>4.0</td>\n",
       "    </tr>\n",
       "    <tr>\n",
       "      <th>atmospheric</th>\n",
       "      <td>5.0</td>\n",
       "      <td>5.0</td>\n",
       "      <td></td>\n",
       "      <td></td>\n",
       "      <td></td>\n",
       "      <td>4.5</td>\n",
       "      <td>4.5</td>\n",
       "      <td>5.0</td>\n",
       "      <td>3.75</td>\n",
       "    </tr>\n",
       "    <tr>\n",
       "      <th>psychology</th>\n",
       "      <td></td>\n",
       "      <td></td>\n",
       "      <td></td>\n",
       "      <td>5.0</td>\n",
       "      <td></td>\n",
       "      <td>5.0</td>\n",
       "      <td>4.5</td>\n",
       "      <td>5.0</td>\n",
       "      <td>4.75</td>\n",
       "    </tr>\n",
       "    <tr>\n",
       "      <th>surreal</th>\n",
       "      <td>4.75</td>\n",
       "      <td></td>\n",
       "      <td></td>\n",
       "      <td></td>\n",
       "      <td></td>\n",
       "      <td>4.0</td>\n",
       "      <td>3.5</td>\n",
       "      <td>5.0</td>\n",
       "      <td>4.0</td>\n",
       "    </tr>\n",
       "    <tr>\n",
       "      <th>dark comedy</th>\n",
       "      <td>4.5</td>\n",
       "      <td></td>\n",
       "      <td></td>\n",
       "      <td>5.0</td>\n",
       "      <td></td>\n",
       "      <td></td>\n",
       "      <td>4.25</td>\n",
       "      <td>5.0</td>\n",
       "      <td>4.0</td>\n",
       "    </tr>\n",
       "    <tr>\n",
       "      <th>stylized</th>\n",
       "      <td>5.0</td>\n",
       "      <td></td>\n",
       "      <td>5.0</td>\n",
       "      <td></td>\n",
       "      <td></td>\n",
       "      <td></td>\n",
       "      <td>3.75</td>\n",
       "      <td>5.0</td>\n",
       "      <td>4.5</td>\n",
       "    </tr>\n",
       "    <tr>\n",
       "      <th>clever</th>\n",
       "      <td></td>\n",
       "      <td></td>\n",
       "      <td>4.5</td>\n",
       "      <td></td>\n",
       "      <td></td>\n",
       "      <td>5.0</td>\n",
       "      <td>5.0</td>\n",
       "      <td>5.0</td>\n",
       "      <td>4.0</td>\n",
       "    </tr>\n",
       "    <tr>\n",
       "      <th>funny</th>\n",
       "      <td></td>\n",
       "      <td></td>\n",
       "      <td>4.5</td>\n",
       "      <td></td>\n",
       "      <td></td>\n",
       "      <td>4.25</td>\n",
       "      <td>4.0</td>\n",
       "      <td>5.0</td>\n",
       "      <td>3.5</td>\n",
       "    </tr>\n",
       "    <tr>\n",
       "      <th>sci-fi</th>\n",
       "      <td>4.0</td>\n",
       "      <td></td>\n",
       "      <td></td>\n",
       "      <td></td>\n",
       "      <td></td>\n",
       "      <td>4.0</td>\n",
       "      <td>2.25</td>\n",
       "      <td>4.75</td>\n",
       "      <td>4.5</td>\n",
       "    </tr>\n",
       "    <tr>\n",
       "      <th>comedy</th>\n",
       "      <td>3.5</td>\n",
       "      <td></td>\n",
       "      <td></td>\n",
       "      <td></td>\n",
       "      <td></td>\n",
       "      <td>4.0</td>\n",
       "      <td>4.5</td>\n",
       "      <td>5.0</td>\n",
       "      <td>3.5</td>\n",
       "    </tr>\n",
       "  </tbody>\n",
       "</table>\n",
       "</div>"
      ],
      "text/plain": [
       "year         2010 2011 2012 2013 2014  2015  2016  2017  2018\n",
       "tag                                                          \n",
       "mindfuck      5.0       5.0             5.0   5.0   5.0   4.0\n",
       "atmospheric   5.0  5.0                  4.5   4.5   5.0  3.75\n",
       "psychology                   5.0        5.0   4.5   5.0  4.75\n",
       "surreal      4.75                       4.0   3.5   5.0   4.0\n",
       "dark comedy   4.5            5.0             4.25   5.0   4.0\n",
       "stylized      5.0       5.0                  3.75   5.0   4.5\n",
       "clever                  4.5             5.0   5.0   5.0   4.0\n",
       "funny                   4.5            4.25   4.0   5.0   3.5\n",
       "sci-fi        4.0                       4.0  2.25  4.75   4.5\n",
       "comedy        3.5                       4.0   4.5   5.0   3.5"
      ]
     },
     "execution_count": 53,
     "metadata": {},
     "output_type": "execute_result"
    }
   ],
   "source": [
    "# Try it: Create the table of the median rating per year from 2010 onwards,\n",
    "# set the tag as the index and years as the columns\n",
    "# display 10 lines, sort based on the number the least number of NAs like before, and \n",
    "# replace NAs by blanks (\"\")\n",
    "\n",
    "median_yearly_rating = tags_ratings_df[tags_ratings_df.year>=2010].pivot_table(index=\"tag\", columns=\"year\", \n",
    "                                         values=\"rating\", aggfunc=\"median\")\n",
    "median_yearly_rating.iloc[median_yearly_rating.isnull().sum(axis=1).argsort()].fillna(\"\").head(10)"
   ]
  },
  {
   "cell_type": "code",
   "execution_count": 54,
   "metadata": {
    "id": "BHMDxoQJAkrA",
    "outputId": "18ec6c00-b32e-44cc-c504-1361bfe54dc4"
   },
   "outputs": [
    {
     "data": {
      "text/html": [
       "<div>\n",
       "<style scoped>\n",
       "    .dataframe tbody tr th:only-of-type {\n",
       "        vertical-align: middle;\n",
       "    }\n",
       "\n",
       "    .dataframe tbody tr th {\n",
       "        vertical-align: top;\n",
       "    }\n",
       "\n",
       "    .dataframe thead th {\n",
       "        text-align: right;\n",
       "    }\n",
       "</style>\n",
       "<table border=\"1\" class=\"dataframe\">\n",
       "  <thead>\n",
       "    <tr style=\"text-align: right;\">\n",
       "      <th>tag</th>\n",
       "      <th>coma</th>\n",
       "      <th>comedy</th>\n",
       "      <th>comic book</th>\n",
       "      <th>comics</th>\n",
       "      <th>complicated</th>\n",
       "      <th>computer</th>\n",
       "      <th>computer animation</th>\n",
       "      <th>computers</th>\n",
       "    </tr>\n",
       "    <tr>\n",
       "      <th>year</th>\n",
       "      <th></th>\n",
       "      <th></th>\n",
       "      <th></th>\n",
       "      <th></th>\n",
       "      <th></th>\n",
       "      <th></th>\n",
       "      <th></th>\n",
       "      <th></th>\n",
       "    </tr>\n",
       "  </thead>\n",
       "  <tbody>\n",
       "    <tr>\n",
       "      <th>2006</th>\n",
       "      <td>2.0</td>\n",
       "      <td>-</td>\n",
       "      <td>-</td>\n",
       "      <td>-</td>\n",
       "      <td>-</td>\n",
       "      <td>-</td>\n",
       "      <td>-</td>\n",
       "      <td>1.0</td>\n",
       "    </tr>\n",
       "    <tr>\n",
       "      <th>2008</th>\n",
       "      <td>-</td>\n",
       "      <td>-</td>\n",
       "      <td>1.0</td>\n",
       "      <td>-</td>\n",
       "      <td>-</td>\n",
       "      <td>-</td>\n",
       "      <td>-</td>\n",
       "      <td>-</td>\n",
       "    </tr>\n",
       "    <tr>\n",
       "      <th>2009</th>\n",
       "      <td>-</td>\n",
       "      <td>-</td>\n",
       "      <td>3.0</td>\n",
       "      <td>1.0</td>\n",
       "      <td>-</td>\n",
       "      <td>-</td>\n",
       "      <td>-</td>\n",
       "      <td>-</td>\n",
       "    </tr>\n",
       "    <tr>\n",
       "      <th>2010</th>\n",
       "      <td>-</td>\n",
       "      <td>1.0</td>\n",
       "      <td>-</td>\n",
       "      <td>-</td>\n",
       "      <td>-</td>\n",
       "      <td>-</td>\n",
       "      <td>1.0</td>\n",
       "      <td>-</td>\n",
       "    </tr>\n",
       "    <tr>\n",
       "      <th>2012</th>\n",
       "      <td>-</td>\n",
       "      <td>-</td>\n",
       "      <td>1.0</td>\n",
       "      <td>-</td>\n",
       "      <td>-</td>\n",
       "      <td>-</td>\n",
       "      <td>-</td>\n",
       "      <td>-</td>\n",
       "    </tr>\n",
       "    <tr>\n",
       "      <th>2015</th>\n",
       "      <td>-</td>\n",
       "      <td>1.0</td>\n",
       "      <td>-</td>\n",
       "      <td>-</td>\n",
       "      <td>1.0</td>\n",
       "      <td>-</td>\n",
       "      <td>-</td>\n",
       "      <td>-</td>\n",
       "    </tr>\n",
       "    <tr>\n",
       "      <th>2016</th>\n",
       "      <td>-</td>\n",
       "      <td>4.0</td>\n",
       "      <td>-</td>\n",
       "      <td>-</td>\n",
       "      <td>-</td>\n",
       "      <td>-</td>\n",
       "      <td>-</td>\n",
       "      <td>-</td>\n",
       "    </tr>\n",
       "    <tr>\n",
       "      <th>2017</th>\n",
       "      <td>-</td>\n",
       "      <td>2.0</td>\n",
       "      <td>-</td>\n",
       "      <td>-</td>\n",
       "      <td>1.0</td>\n",
       "      <td>1.0</td>\n",
       "      <td>-</td>\n",
       "      <td>-</td>\n",
       "    </tr>\n",
       "    <tr>\n",
       "      <th>2018</th>\n",
       "      <td>-</td>\n",
       "      <td>7.0</td>\n",
       "      <td>6.0</td>\n",
       "      <td>-</td>\n",
       "      <td>-</td>\n",
       "      <td>-</td>\n",
       "      <td>-</td>\n",
       "      <td>-</td>\n",
       "    </tr>\n",
       "  </tbody>\n",
       "</table>\n",
       "</div>"
      ],
      "text/plain": [
       "tag  coma comedy comic book comics complicated computer computer animation  \\\n",
       "year                                                                         \n",
       "2006  2.0      -          -      -           -        -                  -   \n",
       "2008    -      -        1.0      -           -        -                  -   \n",
       "2009    -      -        3.0    1.0           -        -                  -   \n",
       "2010    -    1.0          -      -           -        -                1.0   \n",
       "2012    -      -        1.0      -           -        -                  -   \n",
       "2015    -    1.0          -      -         1.0        -                  -   \n",
       "2016    -    4.0          -      -           -        -                  -   \n",
       "2017    -    2.0          -      -         1.0      1.0                  -   \n",
       "2018    -    7.0        6.0      -           -        -                  -   \n",
       "\n",
       "tag  computers  \n",
       "year            \n",
       "2006       1.0  \n",
       "2008         -  \n",
       "2009         -  \n",
       "2010         -  \n",
       "2012         -  \n",
       "2015         -  \n",
       "2016         -  \n",
       "2017         -  \n",
       "2018         -  "
      ]
     },
     "execution_count": 54,
     "metadata": {},
     "output_type": "execute_result"
    }
   ],
   "source": [
    "# Try it: Create the table of the count of ratings\n",
    "# We're only interested with the tags that start with 'com', e.g. 'comic', 'computer', etc\n",
    "# set the year as the index and tags as the columns\n",
    "# display all lines sorted by year\n",
    "# replace NAs by \"-\"\n",
    "count_yearly_rating = tags_ratings_df[tags_ratings_df.tag.str[0:3]=='com'].pivot_table(columns=\"tag\", index=\"year\", \n",
    "                                         values=\"rating\", aggfunc=\"count\")\n",
    "count_yearly_rating.sort_index().fillna(\"-\")"
   ]
  }
 ],
 "metadata": {
  "colab": {
   "collapsed_sections": [
    "pAqLuYDNAkqz",
    "UbUyuN38Akq0",
    "LqQbLvQEAkq1",
    "CRrMA0EkAkq2",
    "_bNBkpV7Akq3",
    "TGoPG_tnAkq4",
    "0AwvN8CmAkq5",
    "nGZvqBpoAkq6",
    "LKbpyRDhAkq6",
    "ZQubFChAAkq8",
    "dDTTFXU6Akq9",
    "C_SxpNiMAkq-"
   ],
   "name": "T2_PandasBasic_Solution.ipynb",
   "provenance": []
  },
  "kernelspec": {
   "display_name": "Python 3 (ipykernel)",
   "language": "python",
   "name": "python3"
  },
  "language_info": {
   "codemirror_mode": {
    "name": "ipython",
    "version": 3
   },
   "file_extension": ".py",
   "mimetype": "text/x-python",
   "name": "python",
   "nbconvert_exporter": "python",
   "pygments_lexer": "ipython3",
   "version": "3.9.7"
  },
  "toc": {
   "base_numbering": 1,
   "nav_menu": {},
   "number_sections": true,
   "sideBar": true,
   "skip_h1_title": false,
   "title_cell": "Table of Contents",
   "title_sidebar": "Contents",
   "toc_cell": false,
   "toc_position": {
    "height": "calc(100% - 180px)",
    "left": "10px",
    "top": "150px",
    "width": "336px"
   },
   "toc_section_display": true,
   "toc_window_display": false
  }
 },
 "nbformat": 4,
 "nbformat_minor": 1
}
