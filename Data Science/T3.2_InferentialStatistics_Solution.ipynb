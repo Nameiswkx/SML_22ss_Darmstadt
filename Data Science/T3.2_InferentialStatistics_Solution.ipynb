{
 "cells": [
  {
   "cell_type": "markdown",
   "metadata": {},
   "source": [
    "# Data Science I Topic 3.2 - Inferential Statistics"
   ]
  },
  {
   "cell_type": "markdown",
   "metadata": {},
   "source": [
    "Answer the following questions. Please search the necessary distribution tables or calculators yourselves. In the exam you are not expected to perform double summations so feel free to use nested loops or list comprehensions in the code cells whenever you think it's appropriate."
   ]
  },
  {
   "cell_type": "markdown",
   "metadata": {},
   "source": [
    "**Q1**\n",
    "\n",
    "Explain briefly with your own words:\n",
    "\n",
    "1. Type I and Type II errors\n",
    "* Level of significance $\\alpha$\n",
    "* Region of rejection\n",
    "* $p$-value"
   ]
  },
  {
   "cell_type": "markdown",
   "metadata": {},
   "source": [
    "**Ans**\n",
    "\n",
    "1. Type I error, a.k.a. false positive, is rejecting null hypothesis when it is true. <br> Type II error, a.k.a false negative, is not rejecting a null hypothesis when the alternative is true.\n",
    "* Level of significance ($\\alpha$) is the proportion of the area in a sampling distribution that equal the probability of Type I error. \n",
    "* Region of rejection is the area of the sampling distribution that represents those values of the test statistic that are improbable when the null hypothesis is true.\n",
    "* $p$-value is the degree of plausibility of the null hypothesis after the data have been observed. We accept the null hypothesis if the significance level is less than the $p$-value."
   ]
  },
  {
   "cell_type": "markdown",
   "metadata": {},
   "source": [
    "***\n",
    "\n",
    "**Q2**\n",
    "The weights of salmon grown at a commercial hatchery are normally distributed with a standard deviation of 0.6 kg. The hatchery claims that the mean weight of this year’s crop is **at least** 3.8 kg. Suppose a random sample of 16 fish yielded an average weight of 3.6 kg. Is this strong enough evidence to reject the hatchery’s claims at the 1 percent level of significance? What is the $p$-value?"
   ]
  },
  {
   "cell_type": "markdown",
   "metadata": {},
   "source": [
    "**Ans**\n",
    "\n",
    "$z$-test\n",
    "\n",
    "$\\sigma_W = 0.6$, $n=16$, $\\bar{W}=3.6$ kg\n",
    "\n",
    "Claim: mean weight is 3.8kg or more, so we can test the null hypothesis that the mean weight equal to 3.8kg, against the alternative that the mean weight is less than 3.8kg.\n",
    "\n",
    "**Step 1** - state the hypotheses:\n",
    "\n",
    "$H_0$ : $\\mu_W = 3.8$ kg\n",
    "\n",
    "$H_1$ : $\\mu_W < 3.8$ kg\n",
    "\n",
    "**Step 2** - find the critical value\n",
    "\n",
    "$\\alpha = 0.01$\n",
    "\n",
    "$z_{\\alpha} = -2.32$\n",
    "\n",
    "**Step 3** - find the test statistic\n",
    "\n",
    "$$ z= \\frac{3.6 - 3.8}{0.6/\\sqrt{16}} = -1.33$$\n",
    "\n",
    "**Step 4** - conclude\n",
    "\n",
    "Since -1.33>-2.33, we do not reject the null hypothesis, and therefore we accept the claim of the hatchery.\n",
    "\n",
    "The $p$-value is .09176, which is >0.01, so the alternative hypothesis is not significant to reject the null hypothesis."
   ]
  },
  {
   "cell_type": "markdown",
   "metadata": {},
   "source": [
    "***\n",
    "\n",
    "**Q3**\n",
    "The following data summary was obtained from a comparison of the lead content of human hair removed from adult individuals that had died between 1880 and 1920 with the lead content of present-day adults. The data are in units of micrograms, equal to one-millionth of a gram.\n",
    "\n",
    "||1880–1920|Today|\n",
    "|:-|:-:|:-:|\n",
    "Sample size: | 30 | 100\n",
    "Sample mean: | 48.5 | 26.6\n",
    "Sample standard deviation: | 14.5 | 12.3\n",
    "\n",
    "Do the above data establish, at the 1 percent level of significance, that the\n",
    "mean lead content of human hair is less today than it was in the years between 1880 and 1920? "
   ]
  },
  {
   "cell_type": "markdown",
   "metadata": {},
   "source": [
    "**Ans**\n",
    "\n",
    "We are not given the variance relationship between the two populations, so we need to first test the equality of the variance => First $F$-test."
   ]
  },
  {
   "cell_type": "markdown",
   "metadata": {},
   "source": [
    "$X$ : lead content of human hair between 1880-1920\n",
    "$Y$ : lead content of human hair of today\n",
    "\n",
    "$\\bar{X} = 48.5$, $\\bar{Y}=26.6$\n",
    "$s_X=14.5$, $s_Y=12.3$\n",
    "$n=30$, $m=100$\n",
    "\n",
    "$F$-test hypotheses:\n",
    "\n",
    "$H_0$: $\\sigma_X^2=\\sigma_Y^2$\n",
    "\n",
    "$H_1$: $\\sigma_X^2 \\neq \\sigma_Y^2$\n",
    "\n",
    "Test statistic:\n",
    "\n",
    "$$F = \\frac{s_X^2}{s_Y^2} = \\frac{14.5^2}{12.3^2} \\approx 1.39$$\n",
    "\n",
    "Critical values\n",
    "$F_{0.005, 29, 99}=0.42$\n",
    "$F_{0.995, 29, 99}=2.04$\n",
    "\n",
    "Accept that the two population variances are equal, since 1.39 is between 0.42 and 2.04"
   ]
  },
  {
   "cell_type": "markdown",
   "metadata": {},
   "source": [
    "So now we can test our main hypothesis.\n",
    "\n",
    "Hypotheses:\n",
    "\n",
    "$H_0$: $\\mu_X = \\mu_Y$\n",
    "\n",
    "$H_1$: $\\mu_X > \\mu_Y$\n",
    "\n",
    "Test statistic $$t=\\frac{\\left(\\bar{x}-\\bar{y}\\right)}{s_{\\bar{x}-\\bar{y}}},$$\n",
    "\n",
    "where $$s_{\\bar{x}-\\bar{y}}=\\sqrt{s^{2}\\left(\\frac{1}{n}+\\frac{1}{m}\\right)}$$\n",
    "\n",
    "and $$s^{2}=\\frac{\\left(n-1\\right)s_{x}^{2}+\\left(m-1\\right)s_{y}^{2}}{n+m-2}$$"
   ]
  },
  {
   "cell_type": "code",
   "execution_count": 1,
   "metadata": {},
   "outputs": [
    {
     "data": {
      "text/plain": [
       "8.198882667599849"
      ]
     },
     "execution_count": 1,
     "metadata": {},
     "output_type": "execute_result"
    }
   ],
   "source": [
    "s2 = (29*14.5**2 + 99*12.3**2)/128\n",
    "s_xy = (s2 * (1/30 + 1/100))**0.5\n",
    "t = (48.5 - 26.6)/s_xy\n",
    "t"
   ]
  },
  {
   "cell_type": "markdown",
   "metadata": {},
   "source": [
    "dof = 128"
   ]
  },
  {
   "cell_type": "markdown",
   "metadata": {},
   "source": [
    "Test statistic $t \\approx 8.2$\n",
    "At $\\alpha=0.01$, the critical value is 2.32. So we reject the null hypothesis and accept the claim that the lead content of human hair in 1880-1920 is higher than that of today."
   ]
  },
  {
   "cell_type": "markdown",
   "metadata": {},
   "source": [
    "***\n",
    "\n",
    "**Q4** \n",
    "\n",
    "The table contains a simplified dataset containing samples from 5 different methods. Can you conclude that different method may give different outcomes?\n",
    "<img src=\"T3_2_Lp45.png\" width=\"200\">"
   ]
  },
  {
   "cell_type": "markdown",
   "metadata": {},
   "source": [
    "$\\sigma^2_1=\\ldots=\\sigma^2_m$"
   ]
  },
  {
   "cell_type": "markdown",
   "metadata": {},
   "source": [
    "**Ans**\n",
    "\n",
    "We use Anova with unequal sample sizes.\n",
    "\n",
    "Hypotheses:\n",
    "\n",
    "$H_0: \\mu_1=\\mu_2=\\ldots=\\mu_5$\n",
    "\n",
    "$H_1$: not all the means are equal.\n",
    "\n",
    "The test statistic is the $F$-statistic, $\\mathrm{MS}_b / \\mathrm{MS}_w$"
   ]
  },
  {
   "cell_type": "code",
   "execution_count": 2,
   "metadata": {},
   "outputs": [
    {
     "data": {
      "text/plain": [
       "[array([1, 4, 3, 2, 5, 1, 6]),\n",
       " array([8, 6, 7, 4, 3, 5]),\n",
       " array([7, 6, 4, 9, 8, 5, 7, 5]),\n",
       " array([ 9, 10,  8,  6,  5]),\n",
       " array([10, 12,  9, 11,  8])]"
      ]
     },
     "execution_count": 2,
     "metadata": {},
     "output_type": "execute_result"
    }
   ],
   "source": [
    "import numpy as np\n",
    "X1 = np.array([1,4,3,2,5,1,6])\n",
    "X2 = np.array([8,6,7,4,3,5])\n",
    "X3 = np.array([7,6,4,9,8,5,7,5])\n",
    "X4 = np.array([9,10,8,6,5])\n",
    "X5 = np.array([10,12,9,11,8])\n",
    "X = [X1, X2, X3, X4, X5]\n",
    "X"
   ]
  },
  {
   "cell_type": "markdown",
   "metadata": {},
   "source": [
    "We need the quantities $$\\bar{x}_{\\cdot\\cdot}=\\frac{\\sum_{i=1}^{m}\\sum_{j=1}^{n_{i}}x_{ij}}{\\sum_{i=1}^{m}n_{i}}$$\n",
    "\n",
    "$$\\bar{x}_{i\\cdot}=\\sum_{j=1}^{n_{i}}x_{ij}/n_{i}$$"
   ]
  },
  {
   "cell_type": "code",
   "execution_count": 3,
   "metadata": {},
   "outputs": [
    {
     "name": "stdout",
     "output_type": "stream",
     "text": [
      "[3.142857142857143, 5.5, 6.375, 7.6, 10.0]\n",
      "6.258064516129032\n"
     ]
    }
   ],
   "source": [
    "# _ indicates . \n",
    "xi_ = [sum(x)/len(x) for x in X] \n",
    "\n",
    "from pandas.core.common import flatten\n",
    "x__ = np.mean(list(flatten(X)))\n",
    "\n",
    "print(xi_)\n",
    "print(x__)"
   ]
  },
  {
   "cell_type": "markdown",
   "metadata": {},
   "source": [
    "Sum of squares between: $$\\mathrm{SS}_{\\mathrm{b}}=\\sum_{i=1}^{m}n_{i}\\left(\\bar{x}_{i\\cdot}-\\bar{x}_{..}\\right)^{2}$$"
   ]
  },
  {
   "cell_type": "code",
   "execution_count": 4,
   "metadata": {},
   "outputs": [
    {
     "data": {
      "text/plain": [
       "150.50334101382487"
      ]
     },
     "execution_count": 4,
     "metadata": {},
     "output_type": "execute_result"
    }
   ],
   "source": [
    "ni = [len(x) for x in X]\n",
    "ssb = sum( [nii*(xii-x__)**2 for nii, xii in zip(ni, xi_)] )\n",
    "ssb"
   ]
  },
  {
   "cell_type": "markdown",
   "metadata": {},
   "source": [
    "Sum of squares within: $$\\mathrm{SS}_{\\mathrm{w}}=\\sum_{i=1}^{m} \\sum_{j=1}^{n_i} \\left(x_{ij}-\\bar{x}_{i.}\\right)^{2}$$"
   ]
  },
  {
   "cell_type": "code",
   "execution_count": 5,
   "metadata": {},
   "outputs": [
    {
     "data": {
      "text/plain": [
       "87.43214285714285"
      ]
     },
     "execution_count": 5,
     "metadata": {},
     "output_type": "execute_result"
    }
   ],
   "source": [
    "m = 5\n",
    "ssw = 0\n",
    "for i in range(m):\n",
    "    for j in range(ni[i]):\n",
    "        ssw += (X[i][j] - xi_[i])**2\n",
    "\n",
    "ssw"
   ]
  },
  {
   "cell_type": "markdown",
   "metadata": {},
   "source": [
    "Mean square between $$\\mathrm{MS}_{\\mathrm{b}}=\\mathrm{SS}_{\\mathrm{b}}/\\left(m-1\\right)$$\n",
    "\n",
    "Mean square within $$\\mathrm{MS}_{\\mathrm{w}}=\\mathrm{SS}_{\\mathrm{w}}/N, $$\n",
    "\n",
    "where $N=\\sum_{i}n_{i}-m$"
   ]
  },
  {
   "cell_type": "code",
   "execution_count": 6,
   "metadata": {},
   "outputs": [
    {
     "name": "stdout",
     "output_type": "stream",
     "text": [
      "37.625835253456216\n",
      "3.362774725274725\n"
     ]
    }
   ],
   "source": [
    "# Mean square between\n",
    "msb = ssb/(m-1)\n",
    "\n",
    "N = sum(ni) - m\n",
    "# Mean square within\n",
    "msw = ssw/N\n",
    "\n",
    "print(msb)\n",
    "print(msw)"
   ]
  },
  {
   "cell_type": "code",
   "execution_count": 7,
   "metadata": {},
   "outputs": [
    {
     "data": {
      "text/plain": [
       "11.188925315353183"
      ]
     },
     "execution_count": 7,
     "metadata": {},
     "output_type": "execute_result"
    }
   ],
   "source": [
    "msb/msw"
   ]
  },
  {
   "cell_type": "markdown",
   "metadata": {},
   "source": [
    "$F_{0.05,4,26}$\n",
    "Threshold: 2.74"
   ]
  },
  {
   "cell_type": "markdown",
   "metadata": {},
   "source": [
    "Conclusion: different method may give different outcomes"
   ]
  },
  {
   "cell_type": "markdown",
   "metadata": {},
   "source": [
    "***\n",
    "**Q5**\n",
    "\n",
    "We want to test whether material, temperature, or the combination of a certain material and temperature affects the generator lifetime. The table below shows the generator lifetime (in months) for given materials and operational temperatures.\n",
    "<img src=\"T3_2_Lp49.png\" width=\"320\">"
   ]
  },
  {
   "cell_type": "markdown",
   "metadata": {},
   "source": [
    "We use two-way Anova\n",
    "\n",
    "* $i$: row index (different materials), $i=1,\\ldots,m$, where $m=3$\n",
    "* $j$: column index (different temperature), $j=1, \\ldots, n$, where $n=2$\n",
    "* $k$: sample index, $k=1,\\ldots, l$, where $l=4$\n",
    "* $N: nm(l-1)$"
   ]
  },
  {
   "cell_type": "code",
   "execution_count": 8,
   "metadata": {},
   "outputs": [
    {
     "data": {
      "text/plain": [
       "array([[[135, 150, 176,  85],\n",
       "        [ 50,  55,  64,  38]],\n",
       "\n",
       "       [[150, 162, 171, 120],\n",
       "        [ 76,  88,  91,  57]],\n",
       "\n",
       "       [[138, 111, 140, 106],\n",
       "        [ 68,  60,  74,  51]]])"
      ]
     },
     "execution_count": 8,
     "metadata": {},
     "output_type": "execute_result"
    }
   ],
   "source": [
    "m,n,l = 3,2,4\n",
    "N = n*m*(l-1)\n",
    "\n",
    "X = np.array([135, 150, 176, 85, 50, 55, 64, 38,\n",
    "            150, 162, 171, 120, 76, 88, 91, 57, \n",
    "            138, 111, 140, 106, 68, 60, 74, 51]).reshape(m,n,l)\n",
    "X"
   ]
  },
  {
   "cell_type": "code",
   "execution_count": 9,
   "metadata": {},
   "outputs": [
    {
     "data": {
      "text/plain": [
       "100.66666666666667"
      ]
     },
     "execution_count": 9,
     "metadata": {},
     "output_type": "execute_result"
    }
   ],
   "source": [
    "# _ indicates .\n",
    "x___ = np.mean(X) # x...\n",
    "x___"
   ]
  },
  {
   "cell_type": "code",
   "execution_count": 10,
   "metadata": {},
   "outputs": [
    {
     "data": {
      "text/plain": [
       "array([ 94.125, 114.375,  93.5  ])"
      ]
     },
     "execution_count": 10,
     "metadata": {},
     "output_type": "execute_result"
    }
   ],
   "source": [
    "xi__ = np.mean(X, (1,2)) #xi..\n",
    "xi__"
   ]
  },
  {
   "cell_type": "code",
   "execution_count": 11,
   "metadata": {},
   "outputs": [
    {
     "data": {
      "text/plain": [
       "array([137.        ,  64.33333333])"
      ]
     },
     "execution_count": 11,
     "metadata": {},
     "output_type": "execute_result"
    }
   ],
   "source": [
    "x_j_ = np.mean(X, (0,2)) #x.j.\n",
    "x_j_"
   ]
  },
  {
   "cell_type": "markdown",
   "metadata": {},
   "source": [
    "$$\\mathrm{SS}_{r}=l\\cdot n\\cdot\\sum_{i=1}^{m}\\left(\\bar{x}_{i\\cdot\\cdot}-\\bar{x}_{\\cdots}\\right)^{2}$$"
   ]
  },
  {
   "cell_type": "code",
   "execution_count": 12,
   "metadata": {},
   "outputs": [
    {
     "data": {
      "text/plain": [
       "2256.5833333333335"
      ]
     },
     "execution_count": 12,
     "metadata": {},
     "output_type": "execute_result"
    }
   ],
   "source": [
    "ssr = l*n*np.sum((xi__ - x___)**2)\n",
    "ssr"
   ]
  },
  {
   "cell_type": "markdown",
   "metadata": {},
   "source": [
    "$$\\mathrm{SS}_{c}=l\\cdot m\\cdot\\sum_{j=1}^{n}\\left(\\bar{x}_{\\cdot j\\cdot}-\\bar{x}_{\\cdots}\\right)^{2}$$"
   ]
  },
  {
   "cell_type": "code",
   "execution_count": 13,
   "metadata": {},
   "outputs": [
    {
     "data": {
      "text/plain": [
       "31682.66666666667"
      ]
     },
     "execution_count": 13,
     "metadata": {},
     "output_type": "execute_result"
    }
   ],
   "source": [
    "ssc = l*m*np.sum((x_j_ - x___)**2)\n",
    "ssc"
   ]
  },
  {
   "cell_type": "code",
   "execution_count": 14,
   "metadata": {},
   "outputs": [
    {
     "data": {
      "text/plain": [
       "array([[136.5 ,  51.75],\n",
       "       [150.75,  78.  ],\n",
       "       [123.75,  63.25]])"
      ]
     },
     "execution_count": 14,
     "metadata": {},
     "output_type": "execute_result"
    }
   ],
   "source": [
    "xij_ = np.mean(X, 2)\n",
    "xij_"
   ]
  },
  {
   "cell_type": "markdown",
   "metadata": {},
   "source": [
    "$$\\mathrm{SS}_{\\text{int}}=l\\cdot\\sum_{j=1}^{n}\\sum_{i=1}^{m}\\left(\\bar{x}_{ij\\cdot}-\\bar{x}_{i\\cdot\\cdot}-\\bar{x}_{\\cdot j\\cdot}+\\bar{x}_{\\cdots}\\right)^{2}$$"
   ]
  },
  {
   "cell_type": "code",
   "execution_count": 15,
   "metadata": {},
   "outputs": [
    {
     "data": {
      "text/plain": [
       "588.0833333333333"
      ]
     },
     "execution_count": 15,
     "metadata": {},
     "output_type": "execute_result"
    }
   ],
   "source": [
    "ssint = 0\n",
    "for j in range(n):\n",
    "    for i in range(m): # 0 to 2  python indexing, 1 to 3 math notation\n",
    "        ssint += (xij_[i,j] - xi__[i] - x_j_[j] + x___)**2\n",
    "ssint = l*ssint\n",
    "ssint"
   ]
  },
  {
   "cell_type": "markdown",
   "metadata": {},
   "source": [
    "$$\\mathrm{SS}_{e}=\\sum_{k=1}^{l}\\sum_{j=1}^{n}\\sum_{i=1}^{m}\\left(X_{ijk}-X_{ij\\cdot}\\right)^{2}$$"
   ]
  },
  {
   "cell_type": "code",
   "execution_count": 16,
   "metadata": {},
   "outputs": [
    {
     "data": {
      "text/plain": [
       "8190.0"
      ]
     },
     "execution_count": 16,
     "metadata": {},
     "output_type": "execute_result"
    }
   ],
   "source": [
    "sse = 0\n",
    "for k in range(l):\n",
    "    for j in range(n):\n",
    "        for i in range(m):\n",
    "            sse += (X[i,j,k] - xij_[i,j])**2\n",
    "sse"
   ]
  },
  {
   "cell_type": "markdown",
   "metadata": {},
   "source": [
    "$$F_{r}=\\frac{\\mathrm{SS}_{r}/\\left(m-1\\right)}{\\mathrm{SS}_{e}/N}$$"
   ]
  },
  {
   "cell_type": "code",
   "execution_count": 17,
   "metadata": {},
   "outputs": [
    {
     "data": {
      "text/plain": [
       "2.4797619047619053"
      ]
     },
     "execution_count": 17,
     "metadata": {},
     "output_type": "execute_result"
    }
   ],
   "source": [
    "Fr = ssr/sse/(m-1)*N\n",
    "Fr"
   ]
  },
  {
   "cell_type": "markdown",
   "metadata": {},
   "source": [
    "$$F_{c}=\\frac{\\mathrm{SS}_{c}/\\left(n-1\\right)}{\\mathrm{SS}_{e}/N}$$"
   ]
  },
  {
   "cell_type": "code",
   "execution_count": 18,
   "metadata": {},
   "outputs": [
    {
     "data": {
      "text/plain": [
       "69.63223443223444"
      ]
     },
     "execution_count": 18,
     "metadata": {},
     "output_type": "execute_result"
    }
   ],
   "source": [
    "Fc = ssc/sse/(n-1)*N\n",
    "Fc"
   ]
  },
  {
   "cell_type": "markdown",
   "metadata": {},
   "source": [
    "$$F_{\\text{int}}=\\frac{\\mathrm{SS}_{\\text{int}}/\\left(m-1\\right)\\left(n-1\\right)}{\\mathrm{SS}_{e}/N}$$"
   ]
  },
  {
   "cell_type": "code",
   "execution_count": 19,
   "metadata": {},
   "outputs": [
    {
     "data": {
      "text/plain": [
       "0.6462454212454212"
      ]
     },
     "execution_count": 19,
     "metadata": {},
     "output_type": "execute_result"
    }
   ],
   "source": [
    "Fint = ssint/sse/(m-1)/(n-1)*N\n",
    "Fint"
   ]
  },
  {
   "cell_type": "code",
   "execution_count": 20,
   "metadata": {},
   "outputs": [
    {
     "data": {
      "text/plain": [
       "(3, 2, 18)"
      ]
     },
     "execution_count": 20,
     "metadata": {},
     "output_type": "execute_result"
    }
   ],
   "source": [
    "m,n,N"
   ]
  },
  {
   "cell_type": "markdown",
   "metadata": {},
   "source": [
    "$F_{0.05,2,18}$ row critical val 3.55\n",
    "\n",
    "$F_{0.05,1,18}$ column critical val 4.41\n",
    "\n",
    "$F_{0.05,2,18}$ interaction 3.55"
   ]
  },
  {
   "cell_type": "markdown",
   "metadata": {},
   "source": [
    "Temperature affects the generator lifetime. "
   ]
  },
  {
   "cell_type": "markdown",
   "metadata": {},
   "source": [
    "***\n",
    "**Q6**\n",
    "\n",
    "Given the weekly number of accidents over a stretch of an Autobahn over a 30-week period:\n",
    "\n",
    "8, 0, 0, 1, 3, 4, 0, 2, 12, 5, 1, 8, 0, 2, 0, 1, 9, 3, 4, 5, 3, 3, 4, 7, 4, 0, 1, 2, 1, 2\n",
    "\n",
    "Test the hypothesis that the number of accidents in a week has a Poisson distribution. Let $Y$ be the random variable representing the weekly number of accidents, break up the possible values into $k$=5 regions as follow:\n",
    "(1) $Y$=0, (2) $Y$=1, (3) $Y$=2 \"or\" 3, (4) $Y$=4 \"or\" 5, (5) $Y$>5."
   ]
  },
  {
   "cell_type": "code",
   "execution_count": 21,
   "metadata": {},
   "outputs": [
    {
     "data": {
      "text/plain": [
       "30"
      ]
     },
     "execution_count": 21,
     "metadata": {},
     "output_type": "execute_result"
    }
   ],
   "source": [
    "Y = [8, 0, 0, 1, 3, 4, 0, 2, 12, 5, 1, 8, 0, 2, 0, 1, 9, 3, 4, 5, 3, 3, 4, 7, 4, 0, 1, 2, 1, 2]\n",
    "n = len(Y)\n",
    "n"
   ]
  },
  {
   "cell_type": "code",
   "execution_count": 22,
   "metadata": {
    "scrolled": true
   },
   "outputs": [
    {
     "name": "stdout",
     "output_type": "stream",
     "text": [
      "outcome, #\n"
     ]
    },
    {
     "data": {
      "text/plain": [
       "[[0, 6],\n",
       " [1, 5],\n",
       " [2, 4],\n",
       " [3, 4],\n",
       " [4, 4],\n",
       " [5, 2],\n",
       " [7, 1],\n",
       " [8, 2],\n",
       " [9, 1],\n",
       " [12, 1]]"
      ]
     },
     "execution_count": 22,
     "metadata": {},
     "output_type": "execute_result"
    }
   ],
   "source": [
    "# count occurences of the outcomes\n",
    "print(\"outcome, #\")\n",
    "[[y, Y.count(y)] for y in set(Y)]"
   ]
  },
  {
   "cell_type": "markdown",
   "metadata": {},
   "source": [
    "Testing against a Poisson distribution"
   ]
  },
  {
   "cell_type": "code",
   "execution_count": 23,
   "metadata": {},
   "outputs": [
    {
     "data": {
      "text/plain": [
       "3.1666666666666665"
      ]
     },
     "execution_count": 23,
     "metadata": {},
     "output_type": "execute_result"
    }
   ],
   "source": [
    "# ML estimate lambda\n",
    "lmb = np.mean(Y)\n",
    "lmb"
   ]
  },
  {
   "cell_type": "code",
   "execution_count": 24,
   "metadata": {},
   "outputs": [
    {
     "data": {
      "text/plain": [
       "(0.042143843509276406,\n",
       " 0.13345550444604193,\n",
       " 0.4343482390072567,\n",
       " 0.28840788287535146,\n",
       " 0.10164453016207353)"
      ]
     },
     "execution_count": 24,
     "metadata": {},
     "output_type": "execute_result"
    }
   ],
   "source": [
    "from scipy.stats import poisson\n",
    "# Calculate the pmf estimates\n",
    "# subscript shows the region number\n",
    "p1 = poisson.pmf(0,lmb) #or apply Poisson pmf formula\n",
    "p2 = poisson.pmf(1,lmb)\n",
    "p3 = poisson.pmf(2,lmb)+poisson.pmf(3,lmb)\n",
    "p4 = poisson.pmf(4,lmb)+poisson.pmf(5,lmb)\n",
    "p5 = 1-(p1+p2+p3+p4)\n",
    "\n",
    "p = (p1,p2,p3,p4,p5)\n",
    "p"
   ]
  },
  {
   "cell_type": "markdown",
   "metadata": {},
   "source": [
    "$$T=\\sum_{i}\\frac{\\left(X_{i}-n\\hat{p}_{i}\\right)^{2}}{n\\hat{p}_{i}}$$"
   ]
  },
  {
   "cell_type": "code",
   "execution_count": 25,
   "metadata": {},
   "outputs": [
    {
     "data": {
      "text/plain": [
       "21.989042229344893"
      ]
     },
     "execution_count": 25,
     "metadata": {},
     "output_type": "execute_result"
    }
   ],
   "source": [
    "X = [6,5,8,6,5]\n",
    "sum([ (xi-n*pi)**2/(n*pi) for xi,pi in zip(X,p)])"
   ]
  },
  {
   "cell_type": "markdown",
   "metadata": {},
   "source": [
    "$H_0$: the number of accidents in a week in an autobahn follows a Poisson distribution\n",
    "k=5, m=1\n",
    "k-1-1\n",
    "critical value 7.8\n",
    "\n",
    "Conclusion: Reject $H_0$ $\\Rightarrow$ the number of accidents in a week in an autobahn does not follow a Poisson distribution"
   ]
  }
 ],
 "metadata": {
  "kernelspec": {
   "display_name": "Python 3 (ipykernel)",
   "language": "python",
   "name": "python3"
  },
  "language_info": {
   "codemirror_mode": {
    "name": "ipython",
    "version": 3
   },
   "file_extension": ".py",
   "mimetype": "text/x-python",
   "name": "python",
   "nbconvert_exporter": "python",
   "pygments_lexer": "ipython3",
   "version": "3.9.7"
  },
  "toc": {
   "base_numbering": 1,
   "nav_menu": {},
   "number_sections": true,
   "sideBar": true,
   "skip_h1_title": true,
   "title_cell": "Table of Contents",
   "title_sidebar": "Contents",
   "toc_cell": false,
   "toc_position": {
    "height": "467.2px",
    "left": "55px",
    "top": "110.8px",
    "width": "165px"
   },
   "toc_section_display": true,
   "toc_window_display": false
  }
 },
 "nbformat": 4,
 "nbformat_minor": 2
}
